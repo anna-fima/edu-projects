{
 "cells": [
  {
   "cell_type": "markdown",
   "id": "0116a82e",
   "metadata": {
    "toc": true
   },
   "source": [
    "<h1>Содержание<span class=\"tocSkip\"></span></h1>\n",
    "<div class=\"toc\"><ul class=\"toc-item\"><li><span><a href=\"#Описание-проекта\" data-toc-modified-id=\"Описание-проекта-1\"><span class=\"toc-item-num\">1&nbsp;&nbsp;</span>Описание проекта</a></span></li><li><span><a href=\"#Описание-данных\" data-toc-modified-id=\"Описание-данных-2\"><span class=\"toc-item-num\">2&nbsp;&nbsp;</span>Описание данных</a></span></li><li><span><a href=\"#Шаг-1.-Обзор-данных\" data-toc-modified-id=\"Шаг-1.-Обзор-данных-3\"><span class=\"toc-item-num\">3&nbsp;&nbsp;</span>Шаг 1. Обзор данных</a></span></li><li><span><a href=\"#Шаг-2.1-Заполнение-пропусков\" data-toc-modified-id=\"Шаг-2.1-Заполнение-пропусков-4\"><span class=\"toc-item-num\">4&nbsp;&nbsp;</span>Шаг 2.1 Заполнение пропусков</a></span></li><li><span><a href=\"#Шаг-2.2-Проверка-данных-на-аномалии-и-исправления.\" data-toc-modified-id=\"Шаг-2.2-Проверка-данных-на-аномалии-и-исправления.-5\"><span class=\"toc-item-num\">5&nbsp;&nbsp;</span>Шаг 2.2 Проверка данных на аномалии и исправления.</a></span></li><li><span><a href=\"#Шаг-2.3.-Изменение-типов-данных.\" data-toc-modified-id=\"Шаг-2.3.-Изменение-типов-данных.-6\"><span class=\"toc-item-num\">6&nbsp;&nbsp;</span>Шаг 2.3. Изменение типов данных.</a></span></li><li><span><a href=\"#Шаг-2.4.-Удаление-дубликатов.\" data-toc-modified-id=\"Шаг-2.4.-Удаление-дубликатов.-7\"><span class=\"toc-item-num\">7&nbsp;&nbsp;</span>Шаг 2.4. Удаление дубликатов.</a></span></li><li><span><a href=\"#Шаг-2.5.-Формирование-дополнительных-датафреймов-словарей,-декомпозиция-исходного-датафрейма.\" data-toc-modified-id=\"Шаг-2.5.-Формирование-дополнительных-датафреймов-словарей,-декомпозиция-исходного-датафрейма.-8\"><span class=\"toc-item-num\">8&nbsp;&nbsp;</span>Шаг 2.5. Формирование дополнительных датафреймов словарей, декомпозиция исходного датафрейма.</a></span></li><li><span><a href=\"#Шаг-2.6.-Категоризация-дохода.\" data-toc-modified-id=\"Шаг-2.6.-Категоризация-дохода.-9\"><span class=\"toc-item-num\">9&nbsp;&nbsp;</span>Шаг 2.6. Категоризация дохода.</a></span></li><li><span><a href=\"#Шаг-2.7.-Категоризация-целей-кредита.\" data-toc-modified-id=\"Шаг-2.7.-Категоризация-целей-кредита.-10\"><span class=\"toc-item-num\">10&nbsp;&nbsp;</span>Шаг 2.7. Категоризация целей кредита.</a></span></li><li><span><a href=\"#Шаг-3.-Ответы-на-вопросы.\" data-toc-modified-id=\"Шаг-3.-Ответы-на-вопросы.-11\"><span class=\"toc-item-num\">11&nbsp;&nbsp;</span>Шаг 3. Ответы на вопросы.</a></span><ul class=\"toc-item\"><li><ul class=\"toc-item\"><li><span><a href=\"#Вопрос-1:\" data-toc-modified-id=\"Вопрос-1:-11.0.1\"><span class=\"toc-item-num\">11.0.1&nbsp;&nbsp;</span>Вопрос 1:</a></span></li><li><span><a href=\"#Вывод-1:\" data-toc-modified-id=\"Вывод-1:-11.0.2\"><span class=\"toc-item-num\">11.0.2&nbsp;&nbsp;</span>Вывод 1:</a></span></li><li><span><a href=\"#Вопрос-2:\" data-toc-modified-id=\"Вопрос-2:-11.0.3\"><span class=\"toc-item-num\">11.0.3&nbsp;&nbsp;</span>Вопрос 2:</a></span></li><li><span><a href=\"#Вывод-2:\" data-toc-modified-id=\"Вывод-2:-11.0.4\"><span class=\"toc-item-num\">11.0.4&nbsp;&nbsp;</span>Вывод 2:</a></span></li><li><span><a href=\"#Вопрос-3:\" data-toc-modified-id=\"Вопрос-3:-11.0.5\"><span class=\"toc-item-num\">11.0.5&nbsp;&nbsp;</span>Вопрос 3:</a></span></li><li><span><a href=\"#Вывод-3:\" data-toc-modified-id=\"Вывод-3:-11.0.6\"><span class=\"toc-item-num\">11.0.6&nbsp;&nbsp;</span>Вывод 3:</a></span></li><li><span><a href=\"#Вопрос-4:\" data-toc-modified-id=\"Вопрос-4:-11.0.7\"><span class=\"toc-item-num\">11.0.7&nbsp;&nbsp;</span>Вопрос 4:</a></span></li><li><span><a href=\"#Вывод-4:\" data-toc-modified-id=\"Вывод-4:-11.0.8\"><span class=\"toc-item-num\">11.0.8&nbsp;&nbsp;</span>Вывод 4:</a></span></li></ul></li></ul></li><li><span><a href=\"#Шаг-4.-Общий-вывод:\" data-toc-modified-id=\"Шаг-4.-Общий-вывод:-12\"><span class=\"toc-item-num\">12&nbsp;&nbsp;</span>Шаг 4. Общий вывод:</a></span></li></ul></div>"
   ]
  },
  {
   "cell_type": "markdown",
   "id": "3ae4cf42",
   "metadata": {},
   "source": [
    "# Исследование надежности заемщиков."
   ]
  },
  {
   "cell_type": "markdown",
   "id": "eff5481d",
   "metadata": {},
   "source": [
    "### Описание проекта\n",
    "Заказчик — кредитный отдел банка. Нужно разобраться, влияет ли семейное положение и количество детей клиента на факт погашения кредита в срок. Входные данные от банка — статистика о платёжеспособности клиентов.\n",
    "Результаты исследования будут учтены при построении модели кредитного скоринга — специальной системы, которая оценивает способность потенциального заёмщика вернуть кредит банку.\n",
    "\n",
    "**Цель исследования** — проверить четыре гипотезы:\n",
    "- Есть ли зависимость между количеством детей и возвратом кредита в срок?\n",
    "- Есть ли зависимость между семейным положением и возвратом кредита в срок?\n",
    "- Есть ли зависимость между уровнем дохода и возвратом кредита в срок?\n",
    "- Как разные цели кредита влияют на его возврат в срок?"
   ]
  },
  {
   "cell_type": "markdown",
   "id": "02a2db0c",
   "metadata": {},
   "source": [
    "### Описание данных\n",
    "\n",
    "- children — количество детей в семье\n",
    "- days_employed — общий трудовой стаж в днях\n",
    "- dob_years — возраст клиента в годах\n",
    "- education — уровень образования клиента\n",
    "- education_id — идентификатор уровня образования\n",
    "- family_status — семейное положение\n",
    "- family_status_id — идентификатор семейного положения\n",
    "- gender — пол клиента\n",
    "- income_type — тип занятости\n",
    "- debt — имел ли задолженность по возврату кредитов\n",
    "- total_income — ежемесячный доход\n",
    "- purpose — цель получения кредита"
   ]
  },
  {
   "cell_type": "markdown",
   "id": "2f8aa356",
   "metadata": {},
   "source": [
    "### Шаг 1. Обзор данных"
   ]
  },
  {
   "cell_type": "code",
   "execution_count": 1,
   "id": "16063929",
   "metadata": {
    "scrolled": true
   },
   "outputs": [
    {
     "name": "stdout",
     "output_type": "stream",
     "text": [
      "<class 'pandas.core.frame.DataFrame'>\n",
      "RangeIndex: 21525 entries, 0 to 21524\n",
      "Data columns (total 12 columns):\n",
      " #   Column            Non-Null Count  Dtype  \n",
      "---  ------            --------------  -----  \n",
      " 0   children          21525 non-null  int64  \n",
      " 1   days_employed     19351 non-null  float64\n",
      " 2   dob_years         21525 non-null  int64  \n",
      " 3   education         21525 non-null  object \n",
      " 4   education_id      21525 non-null  int64  \n",
      " 5   family_status     21525 non-null  object \n",
      " 6   family_status_id  21525 non-null  int64  \n",
      " 7   gender            21525 non-null  object \n",
      " 8   income_type       21525 non-null  object \n",
      " 9   debt              21525 non-null  int64  \n",
      " 10  total_income      19351 non-null  float64\n",
      " 11  purpose           21525 non-null  object \n",
      "dtypes: float64(2), int64(5), object(5)\n",
      "memory usage: 2.0+ MB\n"
     ]
    },
    {
     "data": {
      "text/html": [
       "<div>\n",
       "<style scoped>\n",
       "    .dataframe tbody tr th:only-of-type {\n",
       "        vertical-align: middle;\n",
       "    }\n",
       "\n",
       "    .dataframe tbody tr th {\n",
       "        vertical-align: top;\n",
       "    }\n",
       "\n",
       "    .dataframe thead th {\n",
       "        text-align: right;\n",
       "    }\n",
       "</style>\n",
       "<table border=\"1\" class=\"dataframe\">\n",
       "  <thead>\n",
       "    <tr style=\"text-align: right;\">\n",
       "      <th></th>\n",
       "      <th>children</th>\n",
       "      <th>days_employed</th>\n",
       "      <th>dob_years</th>\n",
       "      <th>education</th>\n",
       "      <th>education_id</th>\n",
       "      <th>family_status</th>\n",
       "      <th>family_status_id</th>\n",
       "      <th>gender</th>\n",
       "      <th>income_type</th>\n",
       "      <th>debt</th>\n",
       "      <th>total_income</th>\n",
       "      <th>purpose</th>\n",
       "    </tr>\n",
       "  </thead>\n",
       "  <tbody>\n",
       "    <tr>\n",
       "      <th>0</th>\n",
       "      <td>1</td>\n",
       "      <td>-8437.673028</td>\n",
       "      <td>42</td>\n",
       "      <td>высшее</td>\n",
       "      <td>0</td>\n",
       "      <td>женат / замужем</td>\n",
       "      <td>0</td>\n",
       "      <td>F</td>\n",
       "      <td>сотрудник</td>\n",
       "      <td>0</td>\n",
       "      <td>253875.639453</td>\n",
       "      <td>покупка жилья</td>\n",
       "    </tr>\n",
       "    <tr>\n",
       "      <th>1</th>\n",
       "      <td>1</td>\n",
       "      <td>-4024.803754</td>\n",
       "      <td>36</td>\n",
       "      <td>среднее</td>\n",
       "      <td>1</td>\n",
       "      <td>женат / замужем</td>\n",
       "      <td>0</td>\n",
       "      <td>F</td>\n",
       "      <td>сотрудник</td>\n",
       "      <td>0</td>\n",
       "      <td>112080.014102</td>\n",
       "      <td>приобретение автомобиля</td>\n",
       "    </tr>\n",
       "    <tr>\n",
       "      <th>2</th>\n",
       "      <td>0</td>\n",
       "      <td>-5623.422610</td>\n",
       "      <td>33</td>\n",
       "      <td>Среднее</td>\n",
       "      <td>1</td>\n",
       "      <td>женат / замужем</td>\n",
       "      <td>0</td>\n",
       "      <td>M</td>\n",
       "      <td>сотрудник</td>\n",
       "      <td>0</td>\n",
       "      <td>145885.952297</td>\n",
       "      <td>покупка жилья</td>\n",
       "    </tr>\n",
       "    <tr>\n",
       "      <th>3</th>\n",
       "      <td>3</td>\n",
       "      <td>-4124.747207</td>\n",
       "      <td>32</td>\n",
       "      <td>среднее</td>\n",
       "      <td>1</td>\n",
       "      <td>женат / замужем</td>\n",
       "      <td>0</td>\n",
       "      <td>M</td>\n",
       "      <td>сотрудник</td>\n",
       "      <td>0</td>\n",
       "      <td>267628.550329</td>\n",
       "      <td>дополнительное образование</td>\n",
       "    </tr>\n",
       "    <tr>\n",
       "      <th>4</th>\n",
       "      <td>0</td>\n",
       "      <td>340266.072047</td>\n",
       "      <td>53</td>\n",
       "      <td>среднее</td>\n",
       "      <td>1</td>\n",
       "      <td>гражданский брак</td>\n",
       "      <td>1</td>\n",
       "      <td>F</td>\n",
       "      <td>пенсионер</td>\n",
       "      <td>0</td>\n",
       "      <td>158616.077870</td>\n",
       "      <td>сыграть свадьбу</td>\n",
       "    </tr>\n",
       "    <tr>\n",
       "      <th>5</th>\n",
       "      <td>0</td>\n",
       "      <td>-926.185831</td>\n",
       "      <td>27</td>\n",
       "      <td>высшее</td>\n",
       "      <td>0</td>\n",
       "      <td>гражданский брак</td>\n",
       "      <td>1</td>\n",
       "      <td>M</td>\n",
       "      <td>компаньон</td>\n",
       "      <td>0</td>\n",
       "      <td>255763.565419</td>\n",
       "      <td>покупка жилья</td>\n",
       "    </tr>\n",
       "    <tr>\n",
       "      <th>6</th>\n",
       "      <td>0</td>\n",
       "      <td>-2879.202052</td>\n",
       "      <td>43</td>\n",
       "      <td>высшее</td>\n",
       "      <td>0</td>\n",
       "      <td>женат / замужем</td>\n",
       "      <td>0</td>\n",
       "      <td>F</td>\n",
       "      <td>компаньон</td>\n",
       "      <td>0</td>\n",
       "      <td>240525.971920</td>\n",
       "      <td>операции с жильем</td>\n",
       "    </tr>\n",
       "    <tr>\n",
       "      <th>7</th>\n",
       "      <td>0</td>\n",
       "      <td>-152.779569</td>\n",
       "      <td>50</td>\n",
       "      <td>СРЕДНЕЕ</td>\n",
       "      <td>1</td>\n",
       "      <td>женат / замужем</td>\n",
       "      <td>0</td>\n",
       "      <td>M</td>\n",
       "      <td>сотрудник</td>\n",
       "      <td>0</td>\n",
       "      <td>135823.934197</td>\n",
       "      <td>образование</td>\n",
       "    </tr>\n",
       "    <tr>\n",
       "      <th>8</th>\n",
       "      <td>2</td>\n",
       "      <td>-6929.865299</td>\n",
       "      <td>35</td>\n",
       "      <td>ВЫСШЕЕ</td>\n",
       "      <td>0</td>\n",
       "      <td>гражданский брак</td>\n",
       "      <td>1</td>\n",
       "      <td>F</td>\n",
       "      <td>сотрудник</td>\n",
       "      <td>0</td>\n",
       "      <td>95856.832424</td>\n",
       "      <td>на проведение свадьбы</td>\n",
       "    </tr>\n",
       "    <tr>\n",
       "      <th>9</th>\n",
       "      <td>0</td>\n",
       "      <td>-2188.756445</td>\n",
       "      <td>41</td>\n",
       "      <td>среднее</td>\n",
       "      <td>1</td>\n",
       "      <td>женат / замужем</td>\n",
       "      <td>0</td>\n",
       "      <td>M</td>\n",
       "      <td>сотрудник</td>\n",
       "      <td>0</td>\n",
       "      <td>144425.938277</td>\n",
       "      <td>покупка жилья для семьи</td>\n",
       "    </tr>\n",
       "  </tbody>\n",
       "</table>\n",
       "</div>"
      ],
      "text/plain": [
       "   children  days_employed  dob_years education  education_id  \\\n",
       "0         1   -8437.673028         42    высшее             0   \n",
       "1         1   -4024.803754         36   среднее             1   \n",
       "2         0   -5623.422610         33   Среднее             1   \n",
       "3         3   -4124.747207         32   среднее             1   \n",
       "4         0  340266.072047         53   среднее             1   \n",
       "5         0    -926.185831         27    высшее             0   \n",
       "6         0   -2879.202052         43    высшее             0   \n",
       "7         0    -152.779569         50   СРЕДНЕЕ             1   \n",
       "8         2   -6929.865299         35    ВЫСШЕЕ             0   \n",
       "9         0   -2188.756445         41   среднее             1   \n",
       "\n",
       "      family_status  family_status_id gender income_type  debt   total_income  \\\n",
       "0   женат / замужем                 0      F   сотрудник     0  253875.639453   \n",
       "1   женат / замужем                 0      F   сотрудник     0  112080.014102   \n",
       "2   женат / замужем                 0      M   сотрудник     0  145885.952297   \n",
       "3   женат / замужем                 0      M   сотрудник     0  267628.550329   \n",
       "4  гражданский брак                 1      F   пенсионер     0  158616.077870   \n",
       "5  гражданский брак                 1      M   компаньон     0  255763.565419   \n",
       "6   женат / замужем                 0      F   компаньон     0  240525.971920   \n",
       "7   женат / замужем                 0      M   сотрудник     0  135823.934197   \n",
       "8  гражданский брак                 1      F   сотрудник     0   95856.832424   \n",
       "9   женат / замужем                 0      M   сотрудник     0  144425.938277   \n",
       "\n",
       "                      purpose  \n",
       "0               покупка жилья  \n",
       "1     приобретение автомобиля  \n",
       "2               покупка жилья  \n",
       "3  дополнительное образование  \n",
       "4             сыграть свадьбу  \n",
       "5               покупка жилья  \n",
       "6           операции с жильем  \n",
       "7                 образование  \n",
       "8       на проведение свадьбы  \n",
       "9     покупка жилья для семьи  "
      ]
     },
     "execution_count": 1,
     "metadata": {},
     "output_type": "execute_result"
    }
   ],
   "source": [
    "import pandas as pd\n",
    "\n",
    "import warnings\n",
    "warnings.filterwarnings(\"ignore\")\n",
    "\n",
    "data = pd.read_csv('/datasets/data.csv') # читаем файл с данными \n",
    "\n",
    "data.info() # получаем общую информацию о данных\n",
    "\n",
    "data.head(10) # посмотрим на первые десять строк датафрейма"
   ]
  },
  {
   "cell_type": "markdown",
   "id": "14ee23c6",
   "metadata": {},
   "source": [
    "### Шаг 2.1 Заполнение пропусков"
   ]
  },
  {
   "cell_type": "code",
   "execution_count": 2,
   "id": "c37f1a59",
   "metadata": {},
   "outputs": [
    {
     "data": {
      "text/plain": [
       "children               0\n",
       "days_employed       2174\n",
       "dob_years              0\n",
       "education              0\n",
       "education_id           0\n",
       "family_status          0\n",
       "family_status_id       0\n",
       "gender                 0\n",
       "income_type            0\n",
       "debt                   0\n",
       "total_income        2174\n",
       "purpose                0\n",
       "dtype: int64"
      ]
     },
     "execution_count": 2,
     "metadata": {},
     "output_type": "execute_result"
    }
   ],
   "source": [
    "data.isna().sum() # посчитаем количество пропусков в датафрейме"
   ]
  },
  {
   "cell_type": "markdown",
   "id": "da5868a3",
   "metadata": {},
   "source": [
    "В столбцах 'days_employed' и 'total_income' обнаружены пропущенные значения."
   ]
  },
  {
   "cell_type": "code",
   "execution_count": 3,
   "id": "53c3e62d",
   "metadata": {},
   "outputs": [
    {
     "data": {
      "text/html": [
       "<div>\n",
       "<style scoped>\n",
       "    .dataframe tbody tr th:only-of-type {\n",
       "        vertical-align: middle;\n",
       "    }\n",
       "\n",
       "    .dataframe tbody tr th {\n",
       "        vertical-align: top;\n",
       "    }\n",
       "\n",
       "    .dataframe thead th {\n",
       "        text-align: right;\n",
       "    }\n",
       "</style>\n",
       "<table border=\"1\" class=\"dataframe\">\n",
       "  <thead>\n",
       "    <tr style=\"text-align: right;\">\n",
       "      <th></th>\n",
       "      <th>children</th>\n",
       "      <th>days_employed</th>\n",
       "      <th>dob_years</th>\n",
       "      <th>education</th>\n",
       "      <th>education_id</th>\n",
       "      <th>family_status</th>\n",
       "      <th>family_status_id</th>\n",
       "      <th>gender</th>\n",
       "      <th>income_type</th>\n",
       "      <th>debt</th>\n",
       "      <th>total_income</th>\n",
       "      <th>purpose</th>\n",
       "    </tr>\n",
       "  </thead>\n",
       "  <tbody>\n",
       "    <tr>\n",
       "      <th>12</th>\n",
       "      <td>0</td>\n",
       "      <td>NaN</td>\n",
       "      <td>65</td>\n",
       "      <td>среднее</td>\n",
       "      <td>1</td>\n",
       "      <td>гражданский брак</td>\n",
       "      <td>1</td>\n",
       "      <td>M</td>\n",
       "      <td>пенсионер</td>\n",
       "      <td>0</td>\n",
       "      <td>NaN</td>\n",
       "      <td>сыграть свадьбу</td>\n",
       "    </tr>\n",
       "    <tr>\n",
       "      <th>26</th>\n",
       "      <td>0</td>\n",
       "      <td>NaN</td>\n",
       "      <td>41</td>\n",
       "      <td>среднее</td>\n",
       "      <td>1</td>\n",
       "      <td>женат / замужем</td>\n",
       "      <td>0</td>\n",
       "      <td>M</td>\n",
       "      <td>госслужащий</td>\n",
       "      <td>0</td>\n",
       "      <td>NaN</td>\n",
       "      <td>образование</td>\n",
       "    </tr>\n",
       "    <tr>\n",
       "      <th>29</th>\n",
       "      <td>0</td>\n",
       "      <td>NaN</td>\n",
       "      <td>63</td>\n",
       "      <td>среднее</td>\n",
       "      <td>1</td>\n",
       "      <td>Не женат / не замужем</td>\n",
       "      <td>4</td>\n",
       "      <td>F</td>\n",
       "      <td>пенсионер</td>\n",
       "      <td>0</td>\n",
       "      <td>NaN</td>\n",
       "      <td>строительство жилой недвижимости</td>\n",
       "    </tr>\n",
       "    <tr>\n",
       "      <th>41</th>\n",
       "      <td>0</td>\n",
       "      <td>NaN</td>\n",
       "      <td>50</td>\n",
       "      <td>среднее</td>\n",
       "      <td>1</td>\n",
       "      <td>женат / замужем</td>\n",
       "      <td>0</td>\n",
       "      <td>F</td>\n",
       "      <td>госслужащий</td>\n",
       "      <td>0</td>\n",
       "      <td>NaN</td>\n",
       "      <td>сделка с подержанным автомобилем</td>\n",
       "    </tr>\n",
       "    <tr>\n",
       "      <th>55</th>\n",
       "      <td>0</td>\n",
       "      <td>NaN</td>\n",
       "      <td>54</td>\n",
       "      <td>среднее</td>\n",
       "      <td>1</td>\n",
       "      <td>гражданский брак</td>\n",
       "      <td>1</td>\n",
       "      <td>F</td>\n",
       "      <td>пенсионер</td>\n",
       "      <td>1</td>\n",
       "      <td>NaN</td>\n",
       "      <td>сыграть свадьбу</td>\n",
       "    </tr>\n",
       "  </tbody>\n",
       "</table>\n",
       "</div>"
      ],
      "text/plain": [
       "    children  days_employed  dob_years education  education_id  \\\n",
       "12         0            NaN         65   среднее             1   \n",
       "26         0            NaN         41   среднее             1   \n",
       "29         0            NaN         63   среднее             1   \n",
       "41         0            NaN         50   среднее             1   \n",
       "55         0            NaN         54   среднее             1   \n",
       "\n",
       "            family_status  family_status_id gender  income_type  debt  \\\n",
       "12       гражданский брак                 1      M    пенсионер     0   \n",
       "26        женат / замужем                 0      M  госслужащий     0   \n",
       "29  Не женат / не замужем                 4      F    пенсионер     0   \n",
       "41        женат / замужем                 0      F  госслужащий     0   \n",
       "55       гражданский брак                 1      F    пенсионер     1   \n",
       "\n",
       "    total_income                           purpose  \n",
       "12           NaN                   сыграть свадьбу  \n",
       "26           NaN                       образование  \n",
       "29           NaN  строительство жилой недвижимости  \n",
       "41           NaN  сделка с подержанным автомобилем  \n",
       "55           NaN                   сыграть свадьбу  "
      ]
     },
     "execution_count": 3,
     "metadata": {},
     "output_type": "execute_result"
    }
   ],
   "source": [
    "data[data['days_employed'].isna()].head() # выведем  на экран первые пять строк с пропущенными значениями в столбце со стажем"
   ]
  },
  {
   "cell_type": "code",
   "execution_count": 4,
   "id": "49dc6cf4",
   "metadata": {},
   "outputs": [
    {
     "data": {
      "text/plain": [
       "0.10099883855981417"
      ]
     },
     "execution_count": 4,
     "metadata": {},
     "output_type": "execute_result"
    }
   ],
   "source": [
    "# найдем долю пропущенных значений в столбце с трудовым стажем\n",
    "share_days_employed = data['days_employed'].isna().sum()/len(data['days_employed'])\n",
    "share_days_employed"
   ]
  },
  {
   "cell_type": "code",
   "execution_count": 5,
   "id": "2979528a",
   "metadata": {},
   "outputs": [
    {
     "data": {
      "text/plain": [
       "0.10099883855981417"
      ]
     },
     "execution_count": 5,
     "metadata": {},
     "output_type": "execute_result"
    }
   ],
   "source": [
    "# найдем долю пропущенных значений в столбце с ежемесячным доходом\n",
    "share_total_income = data['total_income'].isna().sum()/len(data['total_income'])\n",
    "share_total_income"
   ]
  },
  {
   "cell_type": "markdown",
   "id": "a0a8352b",
   "metadata": {},
   "source": [
    "Доля пропущенных значений в каждом столбце составляет около 10%. Удаление такой доли строк может повлиять на результаты и выводы исследования, поэтому удалять их не стоит. Пропуски в данных появляются разными путями. Например, пользователь не указал свой доход, или автоматизированная система сбора информации дала сбой.Тем не менее, пропуски нельзя оставлять без внимания: группировка данных с NaN может привести к некорректным результатам анализа."
   ]
  },
  {
   "cell_type": "markdown",
   "id": "3f8caa8a",
   "metadata": {},
   "source": [
    "Заменим пропуски медианным значением для каждого столбца в зависимости от типа занятости клиента и уровня его образования.\n",
    "Но для начала избавимся от отрицательных значение в столбце days_employed"
   ]
  },
  {
   "cell_type": "code",
   "execution_count": 6,
   "id": "8440b877",
   "metadata": {},
   "outputs": [],
   "source": [
    "data['days_employed'] = abs(data['days_employed']) # перезапишем значения стажа по модулю"
   ]
  },
  {
   "cell_type": "markdown",
   "id": "1eda0f6b",
   "metadata": {},
   "source": [
    "Избавимся от аномально большого стажа. Но сначала надо проверить возраст на аномальные значения."
   ]
  },
  {
   "cell_type": "code",
   "execution_count": 7,
   "id": "2f9f26f2",
   "metadata": {},
   "outputs": [
    {
     "data": {
      "text/plain": [
       "0    101\n",
       "Name: dob_years, dtype: int64"
      ]
     },
     "execution_count": 7,
     "metadata": {},
     "output_type": "execute_result"
    }
   ],
   "source": [
    " # посмотрим на уникальные значения в столбце с возрастом клиентов\n",
    "data[(data['dob_years'] < 16) | (data['dob_years'] > 90)]['dob_years'].value_counts()"
   ]
  },
  {
   "cell_type": "code",
   "execution_count": 8,
   "id": "80d98f70",
   "metadata": {},
   "outputs": [
    {
     "data": {
      "text/plain": [
       "array(['пенсионер', 'сотрудник', 'компаньон', 'госслужащий'], dtype=object)"
      ]
     },
     "execution_count": 8,
     "metadata": {},
     "output_type": "execute_result"
    }
   ],
   "source": [
    "# посмотрим на категории клиентов с возрастом 0\n",
    "data[data['dob_years'] == 0]['income_type'].unique() "
   ]
  },
  {
   "cell_type": "code",
   "execution_count": 9,
   "id": "e1590457",
   "metadata": {},
   "outputs": [],
   "source": [
    "# заменим нулевые значения в столбце возраста на медианные значения возраста для каждой категории соответственно\n",
    "data.loc[(data['dob_years'] == 0) & (data['income_type'] == 'пенсионер'), 'dob_years'] = data[data['income_type'] == 'пенсионер']['dob_years'].median()\n",
    "data.loc[(data['dob_years'] == 0) & (data['income_type'] == 'сотрудник'), 'dob_years'] = data[data['income_type'] == 'сотрудник']['dob_years'].median()\n",
    "data.loc[(data['dob_years'] == 0) & (data['income_type'] == 'компаньон'), 'dob_years'] = data[data['income_type'] == 'компаньон']['dob_years'].median()\n",
    "data.loc[(data['dob_years'] == 0) & (data['income_type'] == 'госслужащий'), 'dob_years'] = data[data['income_type'] == 'госслужащий']['dob_years'].median()"
   ]
  },
  {
   "cell_type": "code",
   "execution_count": 10,
   "id": "b2b7079a",
   "metadata": {},
   "outputs": [],
   "source": [
    "# функция проверки стажа на аномальность\n",
    "def days_empl(row):\n",
    "    age_days = (row['dob_years']-16)*365\n",
    "    if row['days_employed'] > age_days:\n",
    "        return age_days\n",
    "    return row['days_employed']\n",
    "\n",
    "data['days_employed'] = data.apply(days_empl, axis=1)"
   ]
  },
  {
   "cell_type": "code",
   "execution_count": 11,
   "id": "4360c6cc",
   "metadata": {},
   "outputs": [],
   "source": [
    "# заменим пропуски медианным значением для каждого столбца\n",
    "data['days_employed'] = data.groupby(['income_type', 'education'])['days_employed'].transform(lambda x: x.fillna(x.median()))\n",
    "data['total_income'] = data.groupby(['income_type', 'education'])['total_income'].transform(lambda x: x.fillna(x.median()))"
   ]
  },
  {
   "cell_type": "code",
   "execution_count": 12,
   "id": "8db6d250",
   "metadata": {},
   "outputs": [
    {
     "data": {
      "text/plain": [
       "children            0\n",
       "days_employed       0\n",
       "dob_years           0\n",
       "education           0\n",
       "education_id        0\n",
       "family_status       0\n",
       "family_status_id    0\n",
       "gender              0\n",
       "income_type         0\n",
       "debt                0\n",
       "total_income        0\n",
       "purpose             0\n",
       "dtype: int64"
      ]
     },
     "execution_count": 12,
     "metadata": {},
     "output_type": "execute_result"
    }
   ],
   "source": [
    "data.isna().sum() # проверим теперь количество пропусков в датафрейме"
   ]
  },
  {
   "cell_type": "markdown",
   "id": "ea3f73af",
   "metadata": {},
   "source": [
    "Мы заменили все пропуски на медианные значения общего трудового стажа и ежемесячного дохода для каждого столбца соответственно.\n",
    "Стаж и доход — количественные переменные. Пропуски в таких переменных заполняют характерными значениями. Это значения, характеризующие состояние выборки, — набора данных, выбранных для проведения исследования. Чтобы примерно оценить типичные значения выборки, подходит медиана.Среднее значение некорректно характеризует данные, когда некоторые значения сильно выделяются среди большинства. А в столбце со стажем есть такие значения."
   ]
  },
  {
   "cell_type": "markdown",
   "id": "665433fc",
   "metadata": {},
   "source": [
    "### Шаг 2.2 Проверка данных на аномалии и исправления."
   ]
  },
  {
   "cell_type": "code",
   "execution_count": 13,
   "id": "28895a1e",
   "metadata": {},
   "outputs": [
    {
     "data": {
      "text/plain": [
       " 0     14149\n",
       " 1      4818\n",
       " 2      2055\n",
       " 3       330\n",
       " 20       76\n",
       "-1        47\n",
       " 4        41\n",
       " 5         9\n",
       "Name: children, dtype: int64"
      ]
     },
     "execution_count": 13,
     "metadata": {},
     "output_type": "execute_result"
    }
   ],
   "source": [
    "data['children'].value_counts() # посмотрим на количество уникальных значений в столбце 'children'"
   ]
  },
  {
   "cell_type": "markdown",
   "id": "ee76d880",
   "metadata": {},
   "source": [
    "Мы видим, что в этом столбце встречаются аномальные значения для количества детей, а именно -1 и 20. Надо заменить эти значения на наиболее близкие по смыслу."
   ]
  },
  {
   "cell_type": "code",
   "execution_count": 14,
   "id": "81c7a804",
   "metadata": {},
   "outputs": [
    {
     "data": {
      "text/plain": [
       "0    14149\n",
       "1     4865\n",
       "2     2131\n",
       "3      330\n",
       "4       41\n",
       "5        9\n",
       "Name: children, dtype: int64"
      ]
     },
     "execution_count": 14,
     "metadata": {},
     "output_type": "execute_result"
    }
   ],
   "source": [
    "# присвоим ячейкам с аномальными значениями верные значения и проверим еще раз уникальные значения в этом столбце\n",
    "data.loc[data['children'] == -1, 'children'] = 1 \n",
    "data.loc[data['children'] == 20, 'children'] = 2 \n",
    "data['children'].value_counts() "
   ]
  },
  {
   "cell_type": "code",
   "execution_count": 15,
   "id": "6c2ed608",
   "metadata": {},
   "outputs": [
    {
     "data": {
      "text/plain": [
       "1607.383724     755\n",
       "16060.000000    661\n",
       "1645.331963     274\n",
       "15695.000000    260\n",
       "16790.000000    240\n",
       "               ... \n",
       "1320.841444       1\n",
       "2585.402858       1\n",
       "1683.013673       1\n",
       "595.521199        1\n",
       "1636.419775       1\n",
       "Name: days_employed, Length: 15889, dtype: int64"
      ]
     },
     "execution_count": 15,
     "metadata": {},
     "output_type": "execute_result"
    }
   ],
   "source": [
    "data['days_employed'].value_counts() # посмотрим на количество уникальных значений в столбце 'days_employed'"
   ]
  },
  {
   "cell_type": "markdown",
   "id": "ecfe42c6",
   "metadata": {},
   "source": [
    "Здесь мы уже почистили аномалии."
   ]
  },
  {
   "cell_type": "code",
   "execution_count": 16,
   "id": "98c48e82",
   "metadata": {
    "scrolled": false
   },
   "outputs": [
    {
     "data": {
      "text/plain": [
       "<AxesSubplot:>"
      ]
     },
     "execution_count": 16,
     "metadata": {},
     "output_type": "execute_result"
    },
    {
     "data": {
      "image/png": "[encoded data removed]",
      "text/plain": [
       "<Figure size 432x288 with 1 Axes>"
      ]
     },
     "metadata": {
      "needs_background": "light"
     },
     "output_type": "display_data"
    }
   ],
   "source": [
    "data['days_employed'].hist() "
   ]
  },
  {
   "cell_type": "code",
   "execution_count": 17,
   "id": "8a92a790",
   "metadata": {},
   "outputs": [
    {
     "data": {
      "text/plain": [
       "39.0    648\n",
       "35.0    617\n",
       "40.0    615\n",
       "41.0    607\n",
       "34.0    603\n",
       "38.0    598\n",
       "42.0    597\n",
       "33.0    581\n",
       "31.0    560\n",
       "36.0    555\n",
       "44.0    547\n",
       "29.0    545\n",
       "30.0    540\n",
       "48.0    538\n",
       "37.0    537\n",
       "50.0    514\n",
       "43.0    513\n",
       "32.0    510\n",
       "49.0    508\n",
       "28.0    503\n",
       "45.0    497\n",
       "27.0    493\n",
       "56.0    487\n",
       "52.0    484\n",
       "47.0    480\n",
       "54.0    479\n",
       "46.0    475\n",
       "58.0    461\n",
       "57.0    460\n",
       "53.0    459\n",
       "51.0    448\n",
       "59.0    444\n",
       "55.0    443\n",
       "26.0    408\n",
       "60.0    397\n",
       "25.0    357\n",
       "61.0    355\n",
       "62.0    352\n",
       "63.0    269\n",
       "64.0    265\n",
       "24.0    264\n",
       "23.0    254\n",
       "65.0    194\n",
       "66.0    183\n",
       "22.0    183\n",
       "67.0    167\n",
       "21.0    111\n",
       "68.0     99\n",
       "69.0     85\n",
       "70.0     65\n",
       "71.0     58\n",
       "20.0     51\n",
       "72.0     33\n",
       "19.0     14\n",
       "73.0      8\n",
       "74.0      6\n",
       "75.0      1\n",
       "Name: dob_years, dtype: int64"
      ]
     },
     "execution_count": 17,
     "metadata": {},
     "output_type": "execute_result"
    }
   ],
   "source": [
    "data['dob_years'].value_counts() # посмотрим на уникальные значения в столбце с возрастом клиентов"
   ]
  },
  {
   "cell_type": "markdown",
   "id": "6ace4064",
   "metadata": {},
   "source": [
    "В этом столбце аномалии также обработаны."
   ]
  },
  {
   "cell_type": "code",
   "execution_count": 18,
   "id": "0fbc87c5",
   "metadata": {},
   "outputs": [
    {
     "data": {
      "text/plain": [
       "F      14236\n",
       "M       7288\n",
       "XNA        1\n",
       "Name: gender, dtype: int64"
      ]
     },
     "execution_count": 18,
     "metadata": {},
     "output_type": "execute_result"
    }
   ],
   "source": [
    "data['gender'].value_counts() # проверим уникальные значения в столбце 'gender'"
   ]
  },
  {
   "cell_type": "markdown",
   "id": "05dfe7b4",
   "metadata": {},
   "source": [
    "В столбце 'gender' встречается одно аномальное значение 'XNA'. Его можно удалить, так как оно всего одно либо заменить на любое верное значение пола, так как это не принципиально для анализа данных. "
   ]
  },
  {
   "cell_type": "code",
   "execution_count": 19,
   "id": "92b72f8a",
   "metadata": {},
   "outputs": [],
   "source": [
    "data.loc[data['gender'] == 'XNA', 'gender'] = 'F' # заменим аномальное значение на 'F'"
   ]
  },
  {
   "cell_type": "code",
   "execution_count": 20,
   "id": "ed347635",
   "metadata": {},
   "outputs": [
    {
     "data": {
      "text/plain": [
       "F    14237\n",
       "M     7288\n",
       "Name: gender, dtype: int64"
      ]
     },
     "execution_count": 20,
     "metadata": {},
     "output_type": "execute_result"
    }
   ],
   "source": [
    "data['gender'].value_counts() "
   ]
  },
  {
   "cell_type": "markdown",
   "id": "4181c9af",
   "metadata": {},
   "source": [
    "На данном шаге мы обработали значения в столбцах с аномалиями. Эти ошибки могли быть вызваны человеческим фактором (например, опечатка в количестве детей 20 вместо 2 и -1 вместо 1). Либо это могли быть технологические ошибки, которые возникают при копировании, считывании, смене формата (как например отрицательный трудовой стаж). "
   ]
  },
  {
   "cell_type": "markdown",
   "id": "edaa3f3f",
   "metadata": {},
   "source": [
    "### Шаг 2.3. Изменение типов данных."
   ]
  },
  {
   "cell_type": "code",
   "execution_count": 21,
   "id": "674a486d",
   "metadata": {
    "scrolled": false
   },
   "outputs": [
    {
     "data": {
      "text/plain": [
       "0    253875\n",
       "1    112080\n",
       "2    145885\n",
       "3    267628\n",
       "4    158616\n",
       "Name: total_income, dtype: int64"
      ]
     },
     "execution_count": 21,
     "metadata": {},
     "output_type": "execute_result"
    }
   ],
   "source": [
    "data['total_income']=data['total_income'].astype('int') # поменяем вещественный тип данных в столбце с доходом на целочисленный\n",
    "data['total_income'].head()"
   ]
  },
  {
   "cell_type": "markdown",
   "id": "65488539",
   "metadata": {},
   "source": [
    ">**<span style=\"color:green\">Здесь все окей, молодец!</span>**\n"
   ]
  },
  {
   "cell_type": "markdown",
   "id": "8b5208d7",
   "metadata": {},
   "source": [
    "### Шаг 2.4. Удаление дубликатов."
   ]
  },
  {
   "cell_type": "code",
   "execution_count": 22,
   "id": "7ddced83",
   "metadata": {},
   "outputs": [
    {
     "data": {
      "text/plain": [
       "54"
      ]
     },
     "execution_count": 22,
     "metadata": {},
     "output_type": "execute_result"
    }
   ],
   "source": [
    "data.duplicated().sum() # посчитаем количество явных дубликатов"
   ]
  },
  {
   "cell_type": "code",
   "execution_count": 23,
   "id": "294c6352",
   "metadata": {},
   "outputs": [
    {
     "data": {
      "text/plain": [
       "0"
      ]
     },
     "execution_count": 23,
     "metadata": {},
     "output_type": "execute_result"
    }
   ],
   "source": [
    "data = data.drop_duplicates().reset_index(drop=True) # удалим явные дубликаты, удаляя старые индексы и заменяя их на новые\n",
    "data.duplicated().sum() # посчитаем количество явных дубликатов теперь"
   ]
  },
  {
   "cell_type": "code",
   "execution_count": 24,
   "id": "f1a004be",
   "metadata": {},
   "outputs": [
    {
     "data": {
      "text/plain": [
       "среднее                13705\n",
       "высшее                  4710\n",
       "СРЕДНЕЕ                  772\n",
       "Среднее                  711\n",
       "неоконченное высшее      668\n",
       "ВЫСШЕЕ                   273\n",
       "Высшее                   268\n",
       "начальное                250\n",
       "Неоконченное высшее       47\n",
       "НЕОКОНЧЕННОЕ ВЫСШЕЕ       29\n",
       "НАЧАЛЬНОЕ                 17\n",
       "Начальное                 15\n",
       "ученая степень             4\n",
       "УЧЕНАЯ СТЕПЕНЬ             1\n",
       "Ученая степень             1\n",
       "Name: education, dtype: int64"
      ]
     },
     "execution_count": 24,
     "metadata": {},
     "output_type": "execute_result"
    }
   ],
   "source": [
    "# проверим столбец 'education' на неявные дубликаты, для этого выведем список уникальных значений\n",
    "data['education'].value_counts()  "
   ]
  },
  {
   "cell_type": "code",
   "execution_count": 25,
   "id": "c2a7f815",
   "metadata": {},
   "outputs": [
    {
     "data": {
      "text/plain": [
       "0"
      ]
     },
     "execution_count": 25,
     "metadata": {},
     "output_type": "execute_result"
    }
   ],
   "source": [
    "data['education'] = data['education'].str.lower() # приведем все строки в столбце 'education' к нижнему регистру\n",
    "data.duplicated().sum() # посчитаем снова дубликаты"
   ]
  },
  {
   "cell_type": "code",
   "execution_count": 26,
   "id": "e01125b2",
   "metadata": {},
   "outputs": [
    {
     "data": {
      "text/plain": [
       "сотрудник          11091\n",
       "компаньон           5080\n",
       "пенсионер           3837\n",
       "госслужащий         1457\n",
       "безработный            2\n",
       "предприниматель        2\n",
       "студент                1\n",
       "в декрете              1\n",
       "Name: income_type, dtype: int64"
      ]
     },
     "execution_count": 26,
     "metadata": {},
     "output_type": "execute_result"
    }
   ],
   "source": [
    "data['income_type'].value_counts() # проверим столбец 'income_type' на неявные дубликаты"
   ]
  },
  {
   "cell_type": "code",
   "execution_count": 27,
   "id": "728c3381",
   "metadata": {},
   "outputs": [
    {
     "data": {
      "text/plain": [
       "женат / замужем          12344\n",
       "гражданский брак          4163\n",
       "Не женат / не замужем     2810\n",
       "в разводе                 1195\n",
       "вдовец / вдова             959\n",
       "Name: family_status, dtype: int64"
      ]
     },
     "execution_count": 27,
     "metadata": {},
     "output_type": "execute_result"
    }
   ],
   "source": [
    "data['family_status'].value_counts() # проверим столбец 'family_status' на неявные дубликаты"
   ]
  },
  {
   "cell_type": "markdown",
   "id": "64acaee3",
   "metadata": {},
   "source": [
    "В данном датафрейме мы столкнулись с явными дубликатами в количестве 54 строки, которые удалили методом `drop_duplicates()` последовательно применяя `reset_index(drop=True)` для изменения индексации. А также проверили на неявные дубликаты в столбце 'education'. Причинами дубликатов могут опять же выступать, как технологические ошибки, так и человеческий фактор. Возможно явные дубликаты произошли при техническом сбое, а неявные - это клиенты по разному заносили данные о полученном образовании."
   ]
  },
  {
   "cell_type": "markdown",
   "id": "ec17d012",
   "metadata": {},
   "source": [
    "### Шаг 2.5. Формирование дополнительных датафреймов словарей, декомпозиция исходного датафрейма."
   ]
  },
  {
   "cell_type": "code",
   "execution_count": 28,
   "id": "8645c932",
   "metadata": {},
   "outputs": [
    {
     "data": {
      "text/html": [
       "<div>\n",
       "<style scoped>\n",
       "    .dataframe tbody tr th:only-of-type {\n",
       "        vertical-align: middle;\n",
       "    }\n",
       "\n",
       "    .dataframe tbody tr th {\n",
       "        vertical-align: top;\n",
       "    }\n",
       "\n",
       "    .dataframe thead th {\n",
       "        text-align: right;\n",
       "    }\n",
       "</style>\n",
       "<table border=\"1\" class=\"dataframe\">\n",
       "  <thead>\n",
       "    <tr style=\"text-align: right;\">\n",
       "      <th></th>\n",
       "      <th>children</th>\n",
       "      <th>days_employed</th>\n",
       "      <th>dob_years</th>\n",
       "      <th>education_id</th>\n",
       "      <th>family_status_id</th>\n",
       "      <th>gender</th>\n",
       "      <th>income_type</th>\n",
       "      <th>debt</th>\n",
       "      <th>total_income</th>\n",
       "      <th>purpose</th>\n",
       "    </tr>\n",
       "  </thead>\n",
       "  <tbody>\n",
       "    <tr>\n",
       "      <th>0</th>\n",
       "      <td>1</td>\n",
       "      <td>8437.673028</td>\n",
       "      <td>42.0</td>\n",
       "      <td>0</td>\n",
       "      <td>0</td>\n",
       "      <td>F</td>\n",
       "      <td>сотрудник</td>\n",
       "      <td>0</td>\n",
       "      <td>253875</td>\n",
       "      <td>покупка жилья</td>\n",
       "    </tr>\n",
       "    <tr>\n",
       "      <th>1</th>\n",
       "      <td>1</td>\n",
       "      <td>4024.803754</td>\n",
       "      <td>36.0</td>\n",
       "      <td>1</td>\n",
       "      <td>0</td>\n",
       "      <td>F</td>\n",
       "      <td>сотрудник</td>\n",
       "      <td>0</td>\n",
       "      <td>112080</td>\n",
       "      <td>приобретение автомобиля</td>\n",
       "    </tr>\n",
       "    <tr>\n",
       "      <th>2</th>\n",
       "      <td>0</td>\n",
       "      <td>5623.422610</td>\n",
       "      <td>33.0</td>\n",
       "      <td>1</td>\n",
       "      <td>0</td>\n",
       "      <td>M</td>\n",
       "      <td>сотрудник</td>\n",
       "      <td>0</td>\n",
       "      <td>145885</td>\n",
       "      <td>покупка жилья</td>\n",
       "    </tr>\n",
       "    <tr>\n",
       "      <th>3</th>\n",
       "      <td>3</td>\n",
       "      <td>4124.747207</td>\n",
       "      <td>32.0</td>\n",
       "      <td>1</td>\n",
       "      <td>0</td>\n",
       "      <td>M</td>\n",
       "      <td>сотрудник</td>\n",
       "      <td>0</td>\n",
       "      <td>267628</td>\n",
       "      <td>дополнительное образование</td>\n",
       "    </tr>\n",
       "    <tr>\n",
       "      <th>4</th>\n",
       "      <td>0</td>\n",
       "      <td>13505.000000</td>\n",
       "      <td>53.0</td>\n",
       "      <td>1</td>\n",
       "      <td>1</td>\n",
       "      <td>F</td>\n",
       "      <td>пенсионер</td>\n",
       "      <td>0</td>\n",
       "      <td>158616</td>\n",
       "      <td>сыграть свадьбу</td>\n",
       "    </tr>\n",
       "  </tbody>\n",
       "</table>\n",
       "</div>"
      ],
      "text/plain": [
       "   children  days_employed  dob_years  education_id  family_status_id gender  \\\n",
       "0         1    8437.673028       42.0             0                 0      F   \n",
       "1         1    4024.803754       36.0             1                 0      F   \n",
       "2         0    5623.422610       33.0             1                 0      M   \n",
       "3         3    4124.747207       32.0             1                 0      M   \n",
       "4         0   13505.000000       53.0             1                 1      F   \n",
       "\n",
       "  income_type  debt  total_income                     purpose  \n",
       "0   сотрудник     0        253875               покупка жилья  \n",
       "1   сотрудник     0        112080     приобретение автомобиля  \n",
       "2   сотрудник     0        145885               покупка жилья  \n",
       "3   сотрудник     0        267628  дополнительное образование  \n",
       "4   пенсионер     0        158616             сыграть свадьбу  "
      ]
     },
     "execution_count": 28,
     "metadata": {},
     "output_type": "execute_result"
    }
   ],
   "source": [
    "# создадим два новых датафрейма\n",
    "\n",
    "data_edu = data[['education_id','education']]\n",
    "\n",
    "data_fam = data[['family_status_id','family_status']]\n",
    "\n",
    "data = data.drop(columns = ['education','family_status']) # удаляем столбцы education и family_status\n",
    "\n",
    "data.head()\n"
   ]
  },
  {
   "cell_type": "code",
   "execution_count": 29,
   "id": "b2c057c8",
   "metadata": {},
   "outputs": [
    {
     "data": {
      "text/html": [
       "<div>\n",
       "<style scoped>\n",
       "    .dataframe tbody tr th:only-of-type {\n",
       "        vertical-align: middle;\n",
       "    }\n",
       "\n",
       "    .dataframe tbody tr th {\n",
       "        vertical-align: top;\n",
       "    }\n",
       "\n",
       "    .dataframe thead th {\n",
       "        text-align: right;\n",
       "    }\n",
       "</style>\n",
       "<table border=\"1\" class=\"dataframe\">\n",
       "  <thead>\n",
       "    <tr style=\"text-align: right;\">\n",
       "      <th></th>\n",
       "      <th>education_id</th>\n",
       "      <th>education</th>\n",
       "    </tr>\n",
       "  </thead>\n",
       "  <tbody>\n",
       "    <tr>\n",
       "      <th>0</th>\n",
       "      <td>0</td>\n",
       "      <td>высшее</td>\n",
       "    </tr>\n",
       "    <tr>\n",
       "      <th>1</th>\n",
       "      <td>1</td>\n",
       "      <td>среднее</td>\n",
       "    </tr>\n",
       "    <tr>\n",
       "      <th>2</th>\n",
       "      <td>2</td>\n",
       "      <td>неоконченное высшее</td>\n",
       "    </tr>\n",
       "    <tr>\n",
       "      <th>3</th>\n",
       "      <td>3</td>\n",
       "      <td>начальное</td>\n",
       "    </tr>\n",
       "    <tr>\n",
       "      <th>4</th>\n",
       "      <td>4</td>\n",
       "      <td>ученая степень</td>\n",
       "    </tr>\n",
       "  </tbody>\n",
       "</table>\n",
       "</div>"
      ],
      "text/plain": [
       "   education_id            education\n",
       "0             0               высшее\n",
       "1             1              среднее\n",
       "2             2  неоконченное высшее\n",
       "3             3            начальное\n",
       "4             4       ученая степень"
      ]
     },
     "execution_count": 29,
     "metadata": {},
     "output_type": "execute_result"
    }
   ],
   "source": [
    "data_edu = data_edu.drop_duplicates().reset_index(drop=True) # удаляем дубликаты в \"словаре\" с категориями образования\n",
    "data_edu"
   ]
  },
  {
   "cell_type": "code",
   "execution_count": 30,
   "id": "640d75c3",
   "metadata": {},
   "outputs": [
    {
     "data": {
      "text/html": [
       "<div>\n",
       "<style scoped>\n",
       "    .dataframe tbody tr th:only-of-type {\n",
       "        vertical-align: middle;\n",
       "    }\n",
       "\n",
       "    .dataframe tbody tr th {\n",
       "        vertical-align: top;\n",
       "    }\n",
       "\n",
       "    .dataframe thead th {\n",
       "        text-align: right;\n",
       "    }\n",
       "</style>\n",
       "<table border=\"1\" class=\"dataframe\">\n",
       "  <thead>\n",
       "    <tr style=\"text-align: right;\">\n",
       "      <th></th>\n",
       "      <th>family_status_id</th>\n",
       "      <th>family_status</th>\n",
       "    </tr>\n",
       "  </thead>\n",
       "  <tbody>\n",
       "    <tr>\n",
       "      <th>0</th>\n",
       "      <td>0</td>\n",
       "      <td>женат / замужем</td>\n",
       "    </tr>\n",
       "    <tr>\n",
       "      <th>1</th>\n",
       "      <td>1</td>\n",
       "      <td>гражданский брак</td>\n",
       "    </tr>\n",
       "    <tr>\n",
       "      <th>2</th>\n",
       "      <td>2</td>\n",
       "      <td>вдовец / вдова</td>\n",
       "    </tr>\n",
       "    <tr>\n",
       "      <th>3</th>\n",
       "      <td>3</td>\n",
       "      <td>в разводе</td>\n",
       "    </tr>\n",
       "    <tr>\n",
       "      <th>4</th>\n",
       "      <td>4</td>\n",
       "      <td>Не женат / не замужем</td>\n",
       "    </tr>\n",
       "  </tbody>\n",
       "</table>\n",
       "</div>"
      ],
      "text/plain": [
       "   family_status_id          family_status\n",
       "0                 0        женат / замужем\n",
       "1                 1       гражданский брак\n",
       "2                 2         вдовец / вдова\n",
       "3                 3              в разводе\n",
       "4                 4  Не женат / не замужем"
      ]
     },
     "execution_count": 30,
     "metadata": {},
     "output_type": "execute_result"
    }
   ],
   "source": [
    "data_fam = data_fam.drop_duplicates().reset_index(drop=True) # удаляем дубликаты в \"словаре\" с категориями семейного положения\n",
    "data_fam"
   ]
  },
  {
   "cell_type": "markdown",
   "id": "752bdd2b",
   "metadata": {},
   "source": [
    "### Шаг 2.6. Категоризация дохода."
   ]
  },
  {
   "cell_type": "code",
   "execution_count": 31,
   "id": "fa8258cd",
   "metadata": {},
   "outputs": [],
   "source": [
    "# создадим функцию, которая будет определять, какую категорию назначить кредитополучателю с доходом, \n",
    "# передаваемым в качестве параметра функции\n",
    "\n",
    "def total_income_category(income):\n",
    "    if income <= 30000:\n",
    "        return 'E'\n",
    "    if income <= 50000:\n",
    "        return 'D'\n",
    "    if income <= 200000:\n",
    "        return 'C'\n",
    "    if income <= 1000000:\n",
    "        return 'B'\n",
    "    return 'A'\n"
   ]
  },
  {
   "cell_type": "code",
   "execution_count": 32,
   "id": "afa04514",
   "metadata": {},
   "outputs": [
    {
     "data": {
      "text/html": [
       "<div>\n",
       "<style scoped>\n",
       "    .dataframe tbody tr th:only-of-type {\n",
       "        vertical-align: middle;\n",
       "    }\n",
       "\n",
       "    .dataframe tbody tr th {\n",
       "        vertical-align: top;\n",
       "    }\n",
       "\n",
       "    .dataframe thead th {\n",
       "        text-align: right;\n",
       "    }\n",
       "</style>\n",
       "<table border=\"1\" class=\"dataframe\">\n",
       "  <thead>\n",
       "    <tr style=\"text-align: right;\">\n",
       "      <th></th>\n",
       "      <th>children</th>\n",
       "      <th>days_employed</th>\n",
       "      <th>dob_years</th>\n",
       "      <th>education_id</th>\n",
       "      <th>family_status_id</th>\n",
       "      <th>gender</th>\n",
       "      <th>income_type</th>\n",
       "      <th>debt</th>\n",
       "      <th>total_income</th>\n",
       "      <th>purpose</th>\n",
       "      <th>total_income_category</th>\n",
       "    </tr>\n",
       "  </thead>\n",
       "  <tbody>\n",
       "    <tr>\n",
       "      <th>0</th>\n",
       "      <td>1</td>\n",
       "      <td>8437.673028</td>\n",
       "      <td>42.0</td>\n",
       "      <td>0</td>\n",
       "      <td>0</td>\n",
       "      <td>F</td>\n",
       "      <td>сотрудник</td>\n",
       "      <td>0</td>\n",
       "      <td>253875</td>\n",
       "      <td>покупка жилья</td>\n",
       "      <td>B</td>\n",
       "    </tr>\n",
       "    <tr>\n",
       "      <th>1</th>\n",
       "      <td>1</td>\n",
       "      <td>4024.803754</td>\n",
       "      <td>36.0</td>\n",
       "      <td>1</td>\n",
       "      <td>0</td>\n",
       "      <td>F</td>\n",
       "      <td>сотрудник</td>\n",
       "      <td>0</td>\n",
       "      <td>112080</td>\n",
       "      <td>приобретение автомобиля</td>\n",
       "      <td>C</td>\n",
       "    </tr>\n",
       "    <tr>\n",
       "      <th>2</th>\n",
       "      <td>0</td>\n",
       "      <td>5623.422610</td>\n",
       "      <td>33.0</td>\n",
       "      <td>1</td>\n",
       "      <td>0</td>\n",
       "      <td>M</td>\n",
       "      <td>сотрудник</td>\n",
       "      <td>0</td>\n",
       "      <td>145885</td>\n",
       "      <td>покупка жилья</td>\n",
       "      <td>C</td>\n",
       "    </tr>\n",
       "    <tr>\n",
       "      <th>3</th>\n",
       "      <td>3</td>\n",
       "      <td>4124.747207</td>\n",
       "      <td>32.0</td>\n",
       "      <td>1</td>\n",
       "      <td>0</td>\n",
       "      <td>M</td>\n",
       "      <td>сотрудник</td>\n",
       "      <td>0</td>\n",
       "      <td>267628</td>\n",
       "      <td>дополнительное образование</td>\n",
       "      <td>B</td>\n",
       "    </tr>\n",
       "    <tr>\n",
       "      <th>4</th>\n",
       "      <td>0</td>\n",
       "      <td>13505.000000</td>\n",
       "      <td>53.0</td>\n",
       "      <td>1</td>\n",
       "      <td>1</td>\n",
       "      <td>F</td>\n",
       "      <td>пенсионер</td>\n",
       "      <td>0</td>\n",
       "      <td>158616</td>\n",
       "      <td>сыграть свадьбу</td>\n",
       "      <td>C</td>\n",
       "    </tr>\n",
       "    <tr>\n",
       "      <th>5</th>\n",
       "      <td>0</td>\n",
       "      <td>926.185831</td>\n",
       "      <td>27.0</td>\n",
       "      <td>0</td>\n",
       "      <td>1</td>\n",
       "      <td>M</td>\n",
       "      <td>компаньон</td>\n",
       "      <td>0</td>\n",
       "      <td>255763</td>\n",
       "      <td>покупка жилья</td>\n",
       "      <td>B</td>\n",
       "    </tr>\n",
       "    <tr>\n",
       "      <th>6</th>\n",
       "      <td>0</td>\n",
       "      <td>2879.202052</td>\n",
       "      <td>43.0</td>\n",
       "      <td>0</td>\n",
       "      <td>0</td>\n",
       "      <td>F</td>\n",
       "      <td>компаньон</td>\n",
       "      <td>0</td>\n",
       "      <td>240525</td>\n",
       "      <td>операции с жильем</td>\n",
       "      <td>B</td>\n",
       "    </tr>\n",
       "    <tr>\n",
       "      <th>7</th>\n",
       "      <td>0</td>\n",
       "      <td>152.779569</td>\n",
       "      <td>50.0</td>\n",
       "      <td>1</td>\n",
       "      <td>0</td>\n",
       "      <td>M</td>\n",
       "      <td>сотрудник</td>\n",
       "      <td>0</td>\n",
       "      <td>135823</td>\n",
       "      <td>образование</td>\n",
       "      <td>C</td>\n",
       "    </tr>\n",
       "    <tr>\n",
       "      <th>8</th>\n",
       "      <td>2</td>\n",
       "      <td>6929.865299</td>\n",
       "      <td>35.0</td>\n",
       "      <td>0</td>\n",
       "      <td>1</td>\n",
       "      <td>F</td>\n",
       "      <td>сотрудник</td>\n",
       "      <td>0</td>\n",
       "      <td>95856</td>\n",
       "      <td>на проведение свадьбы</td>\n",
       "      <td>C</td>\n",
       "    </tr>\n",
       "    <tr>\n",
       "      <th>9</th>\n",
       "      <td>0</td>\n",
       "      <td>2188.756445</td>\n",
       "      <td>41.0</td>\n",
       "      <td>1</td>\n",
       "      <td>0</td>\n",
       "      <td>M</td>\n",
       "      <td>сотрудник</td>\n",
       "      <td>0</td>\n",
       "      <td>144425</td>\n",
       "      <td>покупка жилья для семьи</td>\n",
       "      <td>C</td>\n",
       "    </tr>\n",
       "  </tbody>\n",
       "</table>\n",
       "</div>"
      ],
      "text/plain": [
       "   children  days_employed  dob_years  education_id  family_status_id gender  \\\n",
       "0         1    8437.673028       42.0             0                 0      F   \n",
       "1         1    4024.803754       36.0             1                 0      F   \n",
       "2         0    5623.422610       33.0             1                 0      M   \n",
       "3         3    4124.747207       32.0             1                 0      M   \n",
       "4         0   13505.000000       53.0             1                 1      F   \n",
       "5         0     926.185831       27.0             0                 1      M   \n",
       "6         0    2879.202052       43.0             0                 0      F   \n",
       "7         0     152.779569       50.0             1                 0      M   \n",
       "8         2    6929.865299       35.0             0                 1      F   \n",
       "9         0    2188.756445       41.0             1                 0      M   \n",
       "\n",
       "  income_type  debt  total_income                     purpose  \\\n",
       "0   сотрудник     0        253875               покупка жилья   \n",
       "1   сотрудник     0        112080     приобретение автомобиля   \n",
       "2   сотрудник     0        145885               покупка жилья   \n",
       "3   сотрудник     0        267628  дополнительное образование   \n",
       "4   пенсионер     0        158616             сыграть свадьбу   \n",
       "5   компаньон     0        255763               покупка жилья   \n",
       "6   компаньон     0        240525           операции с жильем   \n",
       "7   сотрудник     0        135823                 образование   \n",
       "8   сотрудник     0         95856       на проведение свадьбы   \n",
       "9   сотрудник     0        144425     покупка жилья для семьи   \n",
       "\n",
       "  total_income_category  \n",
       "0                     B  \n",
       "1                     C  \n",
       "2                     C  \n",
       "3                     B  \n",
       "4                     C  \n",
       "5                     B  \n",
       "6                     B  \n",
       "7                     C  \n",
       "8                     C  \n",
       "9                     C  "
      ]
     },
     "execution_count": 32,
     "metadata": {},
     "output_type": "execute_result"
    }
   ],
   "source": [
    "# применяем функцию к столбцу 'total_income' и создаем новый столбец 'total_income_category' с категориями дохода\n",
    "data['total_income_category'] = data['total_income'].apply(total_income_category) \n",
    "data.head(10)"
   ]
  },
  {
   "cell_type": "markdown",
   "id": "98551c30",
   "metadata": {},
   "source": [
    "### Шаг 2.7. Категоризация целей кредита."
   ]
  },
  {
   "cell_type": "code",
   "execution_count": 33,
   "id": "2751f313",
   "metadata": {},
   "outputs": [
    {
     "data": {
      "text/plain": [
       "свадьба                                   793\n",
       "на проведение свадьбы                     773\n",
       "сыграть свадьбу                           769\n",
       "операции с недвижимостью                  675\n",
       "покупка коммерческой недвижимости         662\n",
       "операции с жильем                         652\n",
       "покупка жилья для сдачи                   652\n",
       "операции с коммерческой недвижимостью     650\n",
       "покупка жилья                             646\n",
       "жилье                                     646\n",
       "покупка жилья для семьи                   638\n",
       "строительство собственной недвижимости    635\n",
       "недвижимость                              633\n",
       "операции со своей недвижимостью           627\n",
       "строительство жилой недвижимости          625\n",
       "покупка недвижимости                      621\n",
       "покупка своего жилья                      620\n",
       "строительство недвижимости                619\n",
       "ремонт жилью                              607\n",
       "покупка жилой недвижимости                606\n",
       "на покупку своего автомобиля              505\n",
       "заняться высшим образованием              496\n",
       "автомобиль                                494\n",
       "сделка с подержанным автомобилем          486\n",
       "свой автомобиль                           479\n",
       "автомобили                                478\n",
       "на покупку подержанного автомобиля        478\n",
       "на покупку автомобиля                     472\n",
       "приобретение автомобиля                   461\n",
       "дополнительное образование                460\n",
       "сделка с автомобилем                      455\n",
       "высшее образование                        452\n",
       "образование                               447\n",
       "получение дополнительного образования     447\n",
       "получение образования                     442\n",
       "профильное образование                    436\n",
       "получение высшего образования             426\n",
       "заняться образованием                     408\n",
       "Name: purpose, dtype: int64"
      ]
     },
     "execution_count": 33,
     "metadata": {},
     "output_type": "execute_result"
    }
   ],
   "source": [
    "data['purpose'].value_counts() # посмотрим количество уникальных значение в столбце 'purpose'"
   ]
  },
  {
   "cell_type": "code",
   "execution_count": 34,
   "id": "570cfb36",
   "metadata": {
    "scrolled": true
   },
   "outputs": [],
   "source": [
    "# найдем наиболее часто встречаемые слова в столбце 'purpose' с помощью лемматизации\n",
    "from pymystem3 import Mystem\n",
    "m = Mystem()"
   ]
  },
  {
   "cell_type": "code",
   "execution_count": 35,
   "id": "a57a12ea",
   "metadata": {},
   "outputs": [
    {
     "data": {
      "text/plain": [
       "Counter({'покупка': 5900,\n",
       "         ' ': 55066,\n",
       "         'жилье': 4461,\n",
       "         'приобретение': 461,\n",
       "         'автомобиль': 4308,\n",
       "         'дополнительный': 907,\n",
       "         'образование': 4014,\n",
       "         'сыграть': 769,\n",
       "         'свадьба': 2335,\n",
       "         'операция': 2604,\n",
       "         'с': 2918,\n",
       "         'на': 2228,\n",
       "         'проведение': 773,\n",
       "         'для': 1290,\n",
       "         'семья': 638,\n",
       "         'недвижимость': 6353,\n",
       "         'коммерческий': 1312,\n",
       "         'жилой': 1231,\n",
       "         'строительство': 1879,\n",
       "         'собственный': 635,\n",
       "         'подержать': 853,\n",
       "         'свой': 2231,\n",
       "         'со': 627,\n",
       "         'заниматься': 904,\n",
       "         'сделка': 941,\n",
       "         'получение': 1315,\n",
       "         'высокий': 1374,\n",
       "         'подержанный': 111,\n",
       "         'профильный': 436,\n",
       "         'сдача': 652,\n",
       "         'ремонт': 607,\n",
       "         '\\n': 1})"
      ]
     },
     "execution_count": 35,
     "metadata": {},
     "output_type": "execute_result"
    }
   ],
   "source": [
    "from collections import Counter\n",
    "\n",
    "text = ' '.join(data['purpose'])\n",
    "lemmas = m.lemmatize(text)\n",
    "Counter(lemmas)"
   ]
  },
  {
   "cell_type": "code",
   "execution_count": 36,
   "id": "062f9bb5",
   "metadata": {},
   "outputs": [],
   "source": [
    "# создадим словарь с категориями целей в качестве ключей и наиболее часто упоминаемыми словами в качестве значений\n",
    "cat_dict = {'операции с автомобилем':['автомобиль'], 'операции с недвижимостью':['недвижимость', 'жилье'], 'проведение свадьбы': ['свадьба'], 'получение образования': ['образование']}\n",
    "\n",
    "# напишем функцию, которая трансформирует этот словарь в новый словарь, где каждое слово является ключом, а категория - значением\n",
    "def transform_dict(cat_dict):\n",
    "    new_cat_dict = {}\n",
    "    for cat, words in cat_dict.items():\n",
    "        for word in words:\n",
    "            new_cat_dict[word] = cat\n",
    "    return new_cat_dict\n",
    "\n",
    "new_cat_dict = transform_dict(cat_dict) # применим функцию к нашему исходному словарю и сохраним в новую переменную"
   ]
  },
  {
   "cell_type": "code",
   "execution_count": 37,
   "id": "85a79b5b",
   "metadata": {
    "scrolled": true
   },
   "outputs": [
    {
     "data": {
      "text/html": [
       "<div>\n",
       "<style scoped>\n",
       "    .dataframe tbody tr th:only-of-type {\n",
       "        vertical-align: middle;\n",
       "    }\n",
       "\n",
       "    .dataframe tbody tr th {\n",
       "        vertical-align: top;\n",
       "    }\n",
       "\n",
       "    .dataframe thead th {\n",
       "        text-align: right;\n",
       "    }\n",
       "</style>\n",
       "<table border=\"1\" class=\"dataframe\">\n",
       "  <thead>\n",
       "    <tr style=\"text-align: right;\">\n",
       "      <th></th>\n",
       "      <th>children</th>\n",
       "      <th>days_employed</th>\n",
       "      <th>dob_years</th>\n",
       "      <th>education_id</th>\n",
       "      <th>family_status_id</th>\n",
       "      <th>gender</th>\n",
       "      <th>income_type</th>\n",
       "      <th>debt</th>\n",
       "      <th>total_income</th>\n",
       "      <th>purpose</th>\n",
       "      <th>total_income_category</th>\n",
       "      <th>purpose_category</th>\n",
       "    </tr>\n",
       "  </thead>\n",
       "  <tbody>\n",
       "    <tr>\n",
       "      <th>0</th>\n",
       "      <td>1</td>\n",
       "      <td>8437.673028</td>\n",
       "      <td>42.0</td>\n",
       "      <td>0</td>\n",
       "      <td>0</td>\n",
       "      <td>F</td>\n",
       "      <td>сотрудник</td>\n",
       "      <td>0</td>\n",
       "      <td>253875</td>\n",
       "      <td>покупка жилья</td>\n",
       "      <td>B</td>\n",
       "      <td>операции с недвижимостью</td>\n",
       "    </tr>\n",
       "    <tr>\n",
       "      <th>1</th>\n",
       "      <td>1</td>\n",
       "      <td>4024.803754</td>\n",
       "      <td>36.0</td>\n",
       "      <td>1</td>\n",
       "      <td>0</td>\n",
       "      <td>F</td>\n",
       "      <td>сотрудник</td>\n",
       "      <td>0</td>\n",
       "      <td>112080</td>\n",
       "      <td>приобретение автомобиля</td>\n",
       "      <td>C</td>\n",
       "      <td>операции с автомобилем</td>\n",
       "    </tr>\n",
       "    <tr>\n",
       "      <th>2</th>\n",
       "      <td>0</td>\n",
       "      <td>5623.422610</td>\n",
       "      <td>33.0</td>\n",
       "      <td>1</td>\n",
       "      <td>0</td>\n",
       "      <td>M</td>\n",
       "      <td>сотрудник</td>\n",
       "      <td>0</td>\n",
       "      <td>145885</td>\n",
       "      <td>покупка жилья</td>\n",
       "      <td>C</td>\n",
       "      <td>операции с недвижимостью</td>\n",
       "    </tr>\n",
       "    <tr>\n",
       "      <th>3</th>\n",
       "      <td>3</td>\n",
       "      <td>4124.747207</td>\n",
       "      <td>32.0</td>\n",
       "      <td>1</td>\n",
       "      <td>0</td>\n",
       "      <td>M</td>\n",
       "      <td>сотрудник</td>\n",
       "      <td>0</td>\n",
       "      <td>267628</td>\n",
       "      <td>дополнительное образование</td>\n",
       "      <td>B</td>\n",
       "      <td>получение образования</td>\n",
       "    </tr>\n",
       "    <tr>\n",
       "      <th>4</th>\n",
       "      <td>0</td>\n",
       "      <td>13505.000000</td>\n",
       "      <td>53.0</td>\n",
       "      <td>1</td>\n",
       "      <td>1</td>\n",
       "      <td>F</td>\n",
       "      <td>пенсионер</td>\n",
       "      <td>0</td>\n",
       "      <td>158616</td>\n",
       "      <td>сыграть свадьбу</td>\n",
       "      <td>C</td>\n",
       "      <td>проведение свадьбы</td>\n",
       "    </tr>\n",
       "    <tr>\n",
       "      <th>5</th>\n",
       "      <td>0</td>\n",
       "      <td>926.185831</td>\n",
       "      <td>27.0</td>\n",
       "      <td>0</td>\n",
       "      <td>1</td>\n",
       "      <td>M</td>\n",
       "      <td>компаньон</td>\n",
       "      <td>0</td>\n",
       "      <td>255763</td>\n",
       "      <td>покупка жилья</td>\n",
       "      <td>B</td>\n",
       "      <td>операции с недвижимостью</td>\n",
       "    </tr>\n",
       "    <tr>\n",
       "      <th>6</th>\n",
       "      <td>0</td>\n",
       "      <td>2879.202052</td>\n",
       "      <td>43.0</td>\n",
       "      <td>0</td>\n",
       "      <td>0</td>\n",
       "      <td>F</td>\n",
       "      <td>компаньон</td>\n",
       "      <td>0</td>\n",
       "      <td>240525</td>\n",
       "      <td>операции с жильем</td>\n",
       "      <td>B</td>\n",
       "      <td>операции с недвижимостью</td>\n",
       "    </tr>\n",
       "    <tr>\n",
       "      <th>7</th>\n",
       "      <td>0</td>\n",
       "      <td>152.779569</td>\n",
       "      <td>50.0</td>\n",
       "      <td>1</td>\n",
       "      <td>0</td>\n",
       "      <td>M</td>\n",
       "      <td>сотрудник</td>\n",
       "      <td>0</td>\n",
       "      <td>135823</td>\n",
       "      <td>образование</td>\n",
       "      <td>C</td>\n",
       "      <td>получение образования</td>\n",
       "    </tr>\n",
       "    <tr>\n",
       "      <th>8</th>\n",
       "      <td>2</td>\n",
       "      <td>6929.865299</td>\n",
       "      <td>35.0</td>\n",
       "      <td>0</td>\n",
       "      <td>1</td>\n",
       "      <td>F</td>\n",
       "      <td>сотрудник</td>\n",
       "      <td>0</td>\n",
       "      <td>95856</td>\n",
       "      <td>на проведение свадьбы</td>\n",
       "      <td>C</td>\n",
       "      <td>проведение свадьбы</td>\n",
       "    </tr>\n",
       "    <tr>\n",
       "      <th>9</th>\n",
       "      <td>0</td>\n",
       "      <td>2188.756445</td>\n",
       "      <td>41.0</td>\n",
       "      <td>1</td>\n",
       "      <td>0</td>\n",
       "      <td>M</td>\n",
       "      <td>сотрудник</td>\n",
       "      <td>0</td>\n",
       "      <td>144425</td>\n",
       "      <td>покупка жилья для семьи</td>\n",
       "      <td>C</td>\n",
       "      <td>операции с недвижимостью</td>\n",
       "    </tr>\n",
       "  </tbody>\n",
       "</table>\n",
       "</div>"
      ],
      "text/plain": [
       "   children  days_employed  dob_years  education_id  family_status_id gender  \\\n",
       "0         1    8437.673028       42.0             0                 0      F   \n",
       "1         1    4024.803754       36.0             1                 0      F   \n",
       "2         0    5623.422610       33.0             1                 0      M   \n",
       "3         3    4124.747207       32.0             1                 0      M   \n",
       "4         0   13505.000000       53.0             1                 1      F   \n",
       "5         0     926.185831       27.0             0                 1      M   \n",
       "6         0    2879.202052       43.0             0                 0      F   \n",
       "7         0     152.779569       50.0             1                 0      M   \n",
       "8         2    6929.865299       35.0             0                 1      F   \n",
       "9         0    2188.756445       41.0             1                 0      M   \n",
       "\n",
       "  income_type  debt  total_income                     purpose  \\\n",
       "0   сотрудник     0        253875               покупка жилья   \n",
       "1   сотрудник     0        112080     приобретение автомобиля   \n",
       "2   сотрудник     0        145885               покупка жилья   \n",
       "3   сотрудник     0        267628  дополнительное образование   \n",
       "4   пенсионер     0        158616             сыграть свадьбу   \n",
       "5   компаньон     0        255763               покупка жилья   \n",
       "6   компаньон     0        240525           операции с жильем   \n",
       "7   сотрудник     0        135823                 образование   \n",
       "8   сотрудник     0         95856       на проведение свадьбы   \n",
       "9   сотрудник     0        144425     покупка жилья для семьи   \n",
       "\n",
       "  total_income_category          purpose_category  \n",
       "0                     B  операции с недвижимостью  \n",
       "1                     C    операции с автомобилем  \n",
       "2                     C  операции с недвижимостью  \n",
       "3                     B     получение образования  \n",
       "4                     C        проведение свадьбы  \n",
       "5                     B  операции с недвижимостью  \n",
       "6                     B  операции с недвижимостью  \n",
       "7                     C     получение образования  \n",
       "8                     C        проведение свадьбы  \n",
       "9                     C  операции с недвижимостью  "
      ]
     },
     "execution_count": 37,
     "metadata": {},
     "output_type": "execute_result"
    }
   ],
   "source": [
    "# создадим функцию, которая будет лемматизировать каждую ячейку в столбце purpose и проверять, \n",
    "# к какой категории операций ее отнести\n",
    "def purpose_category(row):\n",
    "    lemma = m.lemmatize(row)\n",
    "    for word in lemma:\n",
    "        if word in new_cat_dict:\n",
    "            return new_cat_dict[word]\n",
    "    return 'другое'\n",
    "\n",
    "# применим функцию к столбцу 'purpose' для создания нового столбца 'purpose_category'\n",
    "data['purpose_category'] = data['purpose'].apply(purpose_category) \n",
    "data.head(10)"
   ]
  },
  {
   "cell_type": "markdown",
   "id": "50a2e48b",
   "metadata": {},
   "source": [
    "### Шаг 3. Ответы на вопросы."
   ]
  },
  {
   "cell_type": "markdown",
   "id": "dceaf8b3",
   "metadata": {},
   "source": [
    "##### Вопрос 1:  \n",
    "Есть ли зависимость между количеством детей и возвратом кредита в срок?"
   ]
  },
  {
   "cell_type": "code",
   "execution_count": 38,
   "id": "b783ef0f",
   "metadata": {
    "scrolled": true
   },
   "outputs": [
    {
     "data": {
      "text/html": [
       "<div>\n",
       "<style scoped>\n",
       "    .dataframe tbody tr th:only-of-type {\n",
       "        vertical-align: middle;\n",
       "    }\n",
       "\n",
       "    .dataframe tbody tr th {\n",
       "        vertical-align: top;\n",
       "    }\n",
       "\n",
       "    .dataframe thead tr th {\n",
       "        text-align: left;\n",
       "    }\n",
       "\n",
       "    .dataframe thead tr:last-of-type th {\n",
       "        text-align: right;\n",
       "    }\n",
       "</style>\n",
       "<table border=\"1\" class=\"dataframe\">\n",
       "  <thead>\n",
       "    <tr>\n",
       "      <th></th>\n",
       "      <th colspan=\"2\" halign=\"left\">debt</th>\n",
       "    </tr>\n",
       "    <tr>\n",
       "      <th></th>\n",
       "      <th>count</th>\n",
       "      <th>mean</th>\n",
       "    </tr>\n",
       "    <tr>\n",
       "      <th>children</th>\n",
       "      <th></th>\n",
       "      <th></th>\n",
       "    </tr>\n",
       "  </thead>\n",
       "  <tbody>\n",
       "    <tr>\n",
       "      <th>0</th>\n",
       "      <td>14107</td>\n",
       "      <td>0.075353</td>\n",
       "    </tr>\n",
       "    <tr>\n",
       "      <th>1</th>\n",
       "      <td>4856</td>\n",
       "      <td>0.091639</td>\n",
       "    </tr>\n",
       "    <tr>\n",
       "      <th>2</th>\n",
       "      <td>2128</td>\n",
       "      <td>0.094925</td>\n",
       "    </tr>\n",
       "    <tr>\n",
       "      <th>3</th>\n",
       "      <td>330</td>\n",
       "      <td>0.081818</td>\n",
       "    </tr>\n",
       "    <tr>\n",
       "      <th>4</th>\n",
       "      <td>41</td>\n",
       "      <td>0.097561</td>\n",
       "    </tr>\n",
       "    <tr>\n",
       "      <th>5</th>\n",
       "      <td>9</td>\n",
       "      <td>0.000000</td>\n",
       "    </tr>\n",
       "  </tbody>\n",
       "</table>\n",
       "</div>"
      ],
      "text/plain": [
       "           debt          \n",
       "          count      mean\n",
       "children                 \n",
       "0         14107  0.075353\n",
       "1          4856  0.091639\n",
       "2          2128  0.094925\n",
       "3           330  0.081818\n",
       "4            41  0.097561\n",
       "5             9  0.000000"
      ]
     },
     "execution_count": 38,
     "metadata": {},
     "output_type": "execute_result"
    }
   ],
   "source": [
    "data.groupby('children').agg({'debt':['count', 'mean']}) # сгруппируем данные по количеству детей и посчитаем долю тех клиентов, кто имел задолженность по возврату кредита"
   ]
  },
  {
   "cell_type": "markdown",
   "id": "a701edd3",
   "metadata": {},
   "source": [
    "##### Вывод 1: \n",
    "Разница между долей клиентов с задолженностями в зависимости от количества детей незначительная, около 1-2%. Можно обратить внимание на большую разницу между клиентами с 5 детьми и остальными клиентами (порядка 10%), но я считаю, что ее не стоит принимать во внимание, так как эта доля рассчитана по маленькой выборке клиентов (всего 9 человек), что непоказательно. Можно сделать вывод, что клиенты без детей лучше возвращают кредит, чем клиенты с детьми. Возможной причиной такой разницы может быть тот факт, что у клиентов с детьми больший объем расходов, чем у клиентов без детей, и могут возникнуть непредвиденные расходы, что может повлиять на возврат кредита в срок. Поэтому следут учитывать этот фактор при построении модели кредитного скоринга."
   ]
  },
  {
   "cell_type": "markdown",
   "id": "7031d64b",
   "metadata": {},
   "source": [
    "##### Вопрос 2:  \n",
    "Есть ли зависимость между семейным положением и возвратом кредита в срок?"
   ]
  },
  {
   "cell_type": "code",
   "execution_count": 39,
   "id": "12d54546",
   "metadata": {},
   "outputs": [
    {
     "data": {
      "text/html": [
       "<div>\n",
       "<style scoped>\n",
       "    .dataframe tbody tr th:only-of-type {\n",
       "        vertical-align: middle;\n",
       "    }\n",
       "\n",
       "    .dataframe tbody tr th {\n",
       "        vertical-align: top;\n",
       "    }\n",
       "\n",
       "    .dataframe thead th {\n",
       "        text-align: right;\n",
       "    }\n",
       "</style>\n",
       "<table border=\"1\" class=\"dataframe\">\n",
       "  <thead>\n",
       "    <tr style=\"text-align: right;\">\n",
       "      <th></th>\n",
       "      <th>family_status_id</th>\n",
       "      <th>(debt, count)</th>\n",
       "      <th>(debt, mean)</th>\n",
       "      <th>family_status</th>\n",
       "    </tr>\n",
       "  </thead>\n",
       "  <tbody>\n",
       "    <tr>\n",
       "      <th>0</th>\n",
       "      <td>0</td>\n",
       "      <td>12344</td>\n",
       "      <td>0.075421</td>\n",
       "      <td>женат / замужем</td>\n",
       "    </tr>\n",
       "    <tr>\n",
       "      <th>1</th>\n",
       "      <td>1</td>\n",
       "      <td>4163</td>\n",
       "      <td>0.093202</td>\n",
       "      <td>гражданский брак</td>\n",
       "    </tr>\n",
       "    <tr>\n",
       "      <th>2</th>\n",
       "      <td>2</td>\n",
       "      <td>959</td>\n",
       "      <td>0.065693</td>\n",
       "      <td>вдовец / вдова</td>\n",
       "    </tr>\n",
       "    <tr>\n",
       "      <th>3</th>\n",
       "      <td>3</td>\n",
       "      <td>1195</td>\n",
       "      <td>0.071130</td>\n",
       "      <td>в разводе</td>\n",
       "    </tr>\n",
       "    <tr>\n",
       "      <th>4</th>\n",
       "      <td>4</td>\n",
       "      <td>2810</td>\n",
       "      <td>0.097509</td>\n",
       "      <td>Не женат / не замужем</td>\n",
       "    </tr>\n",
       "  </tbody>\n",
       "</table>\n",
       "</div>"
      ],
      "text/plain": [
       "   family_status_id  (debt, count)  (debt, mean)          family_status\n",
       "0                 0          12344      0.075421        женат / замужем\n",
       "1                 1           4163      0.093202       гражданский брак\n",
       "2                 2            959      0.065693         вдовец / вдова\n",
       "3                 3           1195      0.071130              в разводе\n",
       "4                 4           2810      0.097509  Не женат / не замужем"
      ]
     },
     "execution_count": 39,
     "metadata": {},
     "output_type": "execute_result"
    }
   ],
   "source": [
    "# сгруппируем данные по столбцу 'family_status_id', найдем долю клиентов, которые имели задолженности \n",
    "# и соединим эту таблицу с таблицей-\"словарем\" по семейному положению для наглядности\n",
    "\n",
    "data.groupby('family_status_id').agg({'debt':['count','mean']}).merge(data_fam, on='family_status_id', how='left')"
   ]
  },
  {
   "cell_type": "markdown",
   "id": "9db68d3b",
   "metadata": {},
   "source": [
    "##### Вывод 2:\n",
    "Здесь также мы видим, что разница между долей клиентов с задолженностями в зависимости от семейного положения невелика. Но можно сделать выводы, что женатые/замужние клиенты, вдовцы/вдовы и клиенты в разводе лучше возвращают кредит, чем не женатые/не замужние и клиенты в гражданском браке. Можно предположить, что не женатые/не замужние клиенты и клиенты в гражданском браке - это молодые люди, которые имеют ниже уровень доходов (недавно начали свой карьерный путь), поэтому имеют трудности с погашением кредита. А также возможно среди этих категорий чаще встречаются менее ответственные люди, которые не торопятся гасить кредиты, не отслеживают сроки либо менее опытные в распоряжении своими доходами и расходами. Здесь скорее всего есть прямая взаимосвязь с возрастом клиента: чем старше клиент, тем более ответственно он подходит к взятым на себя обязательствам (и, как правило, располагает более высоким и стабильным уровнем доходов); и тем более вероятно что такой клиент уже состоит/состоял в официальном браке."
   ]
  },
  {
   "cell_type": "markdown",
   "id": "7959f434",
   "metadata": {},
   "source": [
    "##### Вопрос 3: \n",
    "Есть ли зависимость между уровнем дохода и возвратом кредита в срок?"
   ]
  },
  {
   "cell_type": "code",
   "execution_count": 40,
   "id": "a80751bc",
   "metadata": {
    "scrolled": true
   },
   "outputs": [
    {
     "data": {
      "text/html": [
       "<div>\n",
       "<style scoped>\n",
       "    .dataframe tbody tr th:only-of-type {\n",
       "        vertical-align: middle;\n",
       "    }\n",
       "\n",
       "    .dataframe tbody tr th {\n",
       "        vertical-align: top;\n",
       "    }\n",
       "\n",
       "    .dataframe thead tr th {\n",
       "        text-align: left;\n",
       "    }\n",
       "\n",
       "    .dataframe thead tr:last-of-type th {\n",
       "        text-align: right;\n",
       "    }\n",
       "</style>\n",
       "<table border=\"1\" class=\"dataframe\">\n",
       "  <thead>\n",
       "    <tr>\n",
       "      <th></th>\n",
       "      <th colspan=\"2\" halign=\"left\">debt</th>\n",
       "    </tr>\n",
       "    <tr>\n",
       "      <th></th>\n",
       "      <th>count</th>\n",
       "      <th>mean</th>\n",
       "    </tr>\n",
       "    <tr>\n",
       "      <th>total_income_category</th>\n",
       "      <th></th>\n",
       "      <th></th>\n",
       "    </tr>\n",
       "  </thead>\n",
       "  <tbody>\n",
       "    <tr>\n",
       "      <th>A</th>\n",
       "      <td>25</td>\n",
       "      <td>0.080000</td>\n",
       "    </tr>\n",
       "    <tr>\n",
       "      <th>B</th>\n",
       "      <td>5224</td>\n",
       "      <td>0.069678</td>\n",
       "    </tr>\n",
       "    <tr>\n",
       "      <th>C</th>\n",
       "      <td>15850</td>\n",
       "      <td>0.085300</td>\n",
       "    </tr>\n",
       "    <tr>\n",
       "      <th>D</th>\n",
       "      <td>350</td>\n",
       "      <td>0.060000</td>\n",
       "    </tr>\n",
       "    <tr>\n",
       "      <th>E</th>\n",
       "      <td>22</td>\n",
       "      <td>0.090909</td>\n",
       "    </tr>\n",
       "  </tbody>\n",
       "</table>\n",
       "</div>"
      ],
      "text/plain": [
       "                        debt          \n",
       "                       count      mean\n",
       "total_income_category                 \n",
       "A                         25  0.080000\n",
       "B                       5224  0.069678\n",
       "C                      15850  0.085300\n",
       "D                        350  0.060000\n",
       "E                         22  0.090909"
      ]
     },
     "execution_count": 40,
     "metadata": {},
     "output_type": "execute_result"
    }
   ],
   "source": [
    "data.groupby('total_income_category').agg({'debt': ['count','mean']}) # сгруппируем данные по столбцу 'total_income_category', найдем долю клиентов, которые имели задолженности по возврату кредита "
   ]
  },
  {
   "cell_type": "markdown",
   "id": "69db70d0",
   "metadata": {},
   "source": [
    "##### Вывод 3: \n",
    "Здесь мы видим, что клиенты с категорией дохода \"Е\"(т.е. с низким уровнем дохода) хуже возвращают кредит, чем остальные заемщики, но выборка по этим клиентам мала (22 человека) и это влияет на точность выводов. Клиенты с категориями дохода \"В\" и \"D\" имеют лучшие показатели по возврату кредита в срок, но выборка у клиентов с категорией дохода \"D\" мала для выводов. Можно предположить, что клиенты с низким уровнем дохода не рассчитывают свои финансовые возможности и поэтому не могут погасить кредит в срок. У клиентов со средним уровнем дохода (категория С) показатели выплаты кредита тоже хуже, чем у остальных клиентов. Есть вероятность, что это происходит, потому что разброс в доходах этой категории большой и он включает разные категории клиентов. Возможно лучше разбить эту категорию на подкатегории. Для категории B показатели по задолженностям лучше, это может быть, потому что в этой категории включены клиенты с доходами выше среднего и они могут использовать кредиты для инвестиций (например, покупка недвижимости)."
   ]
  },
  {
   "cell_type": "markdown",
   "id": "6898b9c3",
   "metadata": {},
   "source": [
    "##### Вопрос 4: \n",
    "Проверим как разные цели кредита влияют на его возврат в срок."
   ]
  },
  {
   "cell_type": "code",
   "execution_count": 41,
   "id": "da6af2bd",
   "metadata": {},
   "outputs": [
    {
     "data": {
      "text/html": [
       "<div>\n",
       "<style scoped>\n",
       "    .dataframe tbody tr th:only-of-type {\n",
       "        vertical-align: middle;\n",
       "    }\n",
       "\n",
       "    .dataframe tbody tr th {\n",
       "        vertical-align: top;\n",
       "    }\n",
       "\n",
       "    .dataframe thead tr th {\n",
       "        text-align: left;\n",
       "    }\n",
       "\n",
       "    .dataframe thead tr:last-of-type th {\n",
       "        text-align: right;\n",
       "    }\n",
       "</style>\n",
       "<table border=\"1\" class=\"dataframe\">\n",
       "  <thead>\n",
       "    <tr>\n",
       "      <th></th>\n",
       "      <th>count</th>\n",
       "      <th>mean</th>\n",
       "    </tr>\n",
       "    <tr>\n",
       "      <th></th>\n",
       "      <th>debt</th>\n",
       "      <th>debt</th>\n",
       "    </tr>\n",
       "    <tr>\n",
       "      <th>purpose_category</th>\n",
       "      <th></th>\n",
       "      <th></th>\n",
       "    </tr>\n",
       "  </thead>\n",
       "  <tbody>\n",
       "    <tr>\n",
       "      <th>операции с автомобилем</th>\n",
       "      <td>4308</td>\n",
       "      <td>0.093547</td>\n",
       "    </tr>\n",
       "    <tr>\n",
       "      <th>операции с недвижимостью</th>\n",
       "      <td>10814</td>\n",
       "      <td>0.072314</td>\n",
       "    </tr>\n",
       "    <tr>\n",
       "      <th>получение образования</th>\n",
       "      <td>4014</td>\n",
       "      <td>0.092177</td>\n",
       "    </tr>\n",
       "    <tr>\n",
       "      <th>проведение свадьбы</th>\n",
       "      <td>2335</td>\n",
       "      <td>0.079657</td>\n",
       "    </tr>\n",
       "  </tbody>\n",
       "</table>\n",
       "</div>"
      ],
      "text/plain": [
       "                          count      mean\n",
       "                           debt      debt\n",
       "purpose_category                         \n",
       "операции с автомобилем     4308  0.093547\n",
       "операции с недвижимостью  10814  0.072314\n",
       "получение образования      4014  0.092177\n",
       "проведение свадьбы         2335  0.079657"
      ]
     },
     "execution_count": 41,
     "metadata": {},
     "output_type": "execute_result"
    }
   ],
   "source": [
    "# построим сводную таблицу с группировкой по столбцу 'purpose_category' и посчитаем число всех клиентов и долю клиентов с задолженностями\n",
    "\n",
    "data.pivot_table(index = 'purpose_category',values  = 'debt', aggfunc = ['count','mean']) "
   ]
  },
  {
   "cell_type": "markdown",
   "id": "f002bca8",
   "metadata": {},
   "source": [
    "##### Вывод 4: \n",
    "На основании этой таблицы мы можем отметить, что кредиты, взятые на операции с недвижимостью и на проведение свадьбы лучше возвращают, чем кредиты на автомобиль и образование. По недвижимости это можно объяснить тем, что это одна из базовых потребностей и клиенты стремятся поскорее погасить задолженности такого типа, чтобы иметь свое жилье или использовать его как дополнительный источник дохода. Размер ежемесячного платежа по кредиту на недвижимость часто сопоставим с арендой недвижимости за месяц и поэтому не создает дополнительной нагрузки на клиента. Кредиты по автомобилю скорее всего не торопятся быстро погасить, потому что нет такой мотивации, как с недвижимостью. Получая кредит на образование, клиент наверное в поисках себя и решает либо сменить профессию либо у него нет работы, поэтому в этот переходный период возникают денежные затруднения, и кредит погашается не вовремя. Кредиты на свадьбу возможно не такие большие, чтобы иметь трудности с их погашением."
   ]
  },
  {
   "cell_type": "markdown",
   "id": "e09687ae",
   "metadata": {},
   "source": [
    "### Шаг 4. Общий вывод:"
   ]
  },
  {
   "cell_type": "markdown",
   "id": "df51ebfc",
   "metadata": {},
   "source": [
    "Мы проверили 4 гипотезы и установили:\n",
    "1.  Нашли зависимость между количеством детей и возвратом кредита в срок. Клиенты без детей лучше возвращают кредит, чем клиенты с детьми. Следовательно, эта гипотеза подтвердилась.\n",
    "2. Женатые/замужние клиенты, вдовцы/вдовы и клиенты в разводе лучше возвращают кредит, чем не женатые/не замужние и клиенты в гражданском браке. Эта гипотеза подтвердилась.\n",
    "3. Клиенты с категорией дохода \"Е\" (т.е. с низким уровнем дохода) хуже возвращают кредит, чем остальные заемщики.Выборки для категорий Е и D малы, поэтому это может влиять на достоверность выводов. Клиенты со средними доходами также чаще имели задолженности, чем остальные клиенты. Гипотеза подтвердилась отчасти.\n",
    "4. Кредиты, взятые на операции с недвижимостью и на проведение свадьбы лучше возвращают, чем кредиты на автомобиль и образование. Данная гипотеза подтвердилась.\n",
    "\n",
    "Соответственно эти факторы могут улучшить скоринговую модель. Более точные предположения можно сделать, если комбинировать эти гипотезы."
   ]
  }
 ],
 "metadata": {
  "ExecuteTimeLog": [
   {
    "duration": 836,
    "start_time": "2022-02-02T21:16:17.374Z"
   },
   {
    "duration": 76,
    "start_time": "2022-02-02T21:16:26.806Z"
   },
   {
    "duration": 829,
    "start_time": "2022-02-03T07:30:44.609Z"
   },
   {
    "duration": 99,
    "start_time": "2022-02-03T07:31:18.915Z"
   },
   {
    "duration": 88,
    "start_time": "2022-02-03T07:31:52.400Z"
   },
   {
    "duration": 17,
    "start_time": "2022-02-03T07:38:03.932Z"
   },
   {
    "duration": 16,
    "start_time": "2022-02-03T07:48:56.463Z"
   },
   {
    "duration": 11,
    "start_time": "2022-02-03T07:48:59.640Z"
   },
   {
    "duration": 15,
    "start_time": "2022-02-03T07:49:09.570Z"
   },
   {
    "duration": 5,
    "start_time": "2022-02-03T07:49:20.234Z"
   },
   {
    "duration": 9,
    "start_time": "2022-02-03T07:49:30.393Z"
   },
   {
    "duration": 9,
    "start_time": "2022-02-03T07:49:50.752Z"
   },
   {
    "duration": 7,
    "start_time": "2022-02-03T07:50:11.995Z"
   },
   {
    "duration": 8,
    "start_time": "2022-02-03T07:51:04.053Z"
   },
   {
    "duration": 32,
    "start_time": "2022-02-03T07:51:58.218Z"
   },
   {
    "duration": 34,
    "start_time": "2022-02-03T07:52:27.119Z"
   },
   {
    "duration": 26,
    "start_time": "2022-02-03T07:54:44.054Z"
   },
   {
    "duration": 29,
    "start_time": "2022-02-03T07:55:23.350Z"
   },
   {
    "duration": 25,
    "start_time": "2022-02-03T07:55:35.856Z"
   },
   {
    "duration": 13,
    "start_time": "2022-02-03T07:56:23.561Z"
   },
   {
    "duration": 20,
    "start_time": "2022-02-03T07:56:32.330Z"
   },
   {
    "duration": 7,
    "start_time": "2022-02-03T07:58:48.174Z"
   },
   {
    "duration": 8,
    "start_time": "2022-02-03T07:59:25.585Z"
   },
   {
    "duration": 13,
    "start_time": "2022-02-03T07:59:52.988Z"
   },
   {
    "duration": 8,
    "start_time": "2022-02-03T08:02:20.378Z"
   },
   {
    "duration": 8,
    "start_time": "2022-02-03T08:02:50.428Z"
   },
   {
    "duration": 7,
    "start_time": "2022-02-03T08:03:07.174Z"
   },
   {
    "duration": 7,
    "start_time": "2022-02-03T08:03:13.979Z"
   },
   {
    "duration": 89,
    "start_time": "2022-02-03T08:03:18.066Z"
   },
   {
    "duration": 14,
    "start_time": "2022-02-03T08:03:21.151Z"
   },
   {
    "duration": 21,
    "start_time": "2022-02-03T08:03:23.800Z"
   },
   {
    "duration": 7,
    "start_time": "2022-02-03T08:03:28.590Z"
   },
   {
    "duration": 7,
    "start_time": "2022-02-03T08:03:30.862Z"
   },
   {
    "duration": 8,
    "start_time": "2022-02-03T08:03:32.920Z"
   },
   {
    "duration": 13,
    "start_time": "2022-02-03T08:03:34.785Z"
   },
   {
    "duration": 309,
    "start_time": "2022-02-03T13:04:40.304Z"
   },
   {
    "duration": 739,
    "start_time": "2022-02-03T13:04:54.206Z"
   },
   {
    "duration": 10,
    "start_time": "2022-02-03T13:04:54.946Z"
   },
   {
    "duration": 23,
    "start_time": "2022-02-03T13:04:54.958Z"
   },
   {
    "duration": 5,
    "start_time": "2022-02-03T13:04:54.983Z"
   },
   {
    "duration": 7,
    "start_time": "2022-02-03T13:04:54.999Z"
   },
   {
    "duration": 9,
    "start_time": "2022-02-03T13:04:55.008Z"
   },
   {
    "duration": 12,
    "start_time": "2022-02-03T13:04:55.019Z"
   },
   {
    "duration": 6,
    "start_time": "2022-02-03T13:04:55.033Z"
   },
   {
    "duration": 1345,
    "start_time": "2022-02-03T13:14:01.499Z"
   },
   {
    "duration": 325,
    "start_time": "2022-02-03T13:14:26.133Z"
   },
   {
    "duration": 24,
    "start_time": "2022-02-03T13:14:39.529Z"
   },
   {
    "duration": 279,
    "start_time": "2022-02-03T13:15:46.299Z"
   },
   {
    "duration": 12,
    "start_time": "2022-02-03T13:16:04.974Z"
   },
   {
    "duration": 15,
    "start_time": "2022-02-03T13:17:02.807Z"
   },
   {
    "duration": 26,
    "start_time": "2022-02-03T13:17:41.042Z"
   },
   {
    "duration": 25,
    "start_time": "2022-02-03T13:41:37.536Z"
   },
   {
    "duration": 10,
    "start_time": "2022-02-03T13:41:46.657Z"
   },
   {
    "duration": 9,
    "start_time": "2022-02-03T13:42:25.902Z"
   },
   {
    "duration": 4,
    "start_time": "2022-02-03T13:44:16.480Z"
   },
   {
    "duration": 54,
    "start_time": "2022-02-03T13:45:52.346Z"
   },
   {
    "duration": 24,
    "start_time": "2022-02-03T13:46:12.274Z"
   },
   {
    "duration": 36,
    "start_time": "2022-02-03T13:47:34.757Z"
   },
   {
    "duration": 19,
    "start_time": "2022-02-03T13:48:32.607Z"
   },
   {
    "duration": 13,
    "start_time": "2022-02-03T13:49:19.162Z"
   },
   {
    "duration": 12,
    "start_time": "2022-02-03T13:52:09.470Z"
   },
   {
    "duration": 9,
    "start_time": "2022-02-03T13:53:04.773Z"
   },
   {
    "duration": 17,
    "start_time": "2022-02-03T13:53:54.754Z"
   },
   {
    "duration": 8,
    "start_time": "2022-02-03T13:54:47.079Z"
   },
   {
    "duration": 15,
    "start_time": "2022-02-03T13:55:48.961Z"
   },
   {
    "duration": 11,
    "start_time": "2022-02-03T13:56:25.949Z"
   },
   {
    "duration": 10,
    "start_time": "2022-02-03T13:56:52.665Z"
   },
   {
    "duration": 11,
    "start_time": "2022-02-03T13:58:29.680Z"
   },
   {
    "duration": 11,
    "start_time": "2022-02-03T13:59:02.655Z"
   },
   {
    "duration": 11,
    "start_time": "2022-02-03T13:59:11.374Z"
   },
   {
    "duration": 12,
    "start_time": "2022-02-03T13:59:39.976Z"
   },
   {
    "duration": 7,
    "start_time": "2022-02-03T14:00:16.650Z"
   },
   {
    "duration": 9,
    "start_time": "2022-02-03T14:01:04.465Z"
   },
   {
    "duration": 10,
    "start_time": "2022-02-03T14:01:13.139Z"
   },
   {
    "duration": 12,
    "start_time": "2022-02-03T14:01:26.798Z"
   },
   {
    "duration": 10,
    "start_time": "2022-02-03T14:01:39.449Z"
   },
   {
    "duration": 8,
    "start_time": "2022-02-03T14:25:40.471Z"
   },
   {
    "duration": 9,
    "start_time": "2022-02-03T14:25:43.993Z"
   },
   {
    "duration": 9,
    "start_time": "2022-02-03T14:26:16.832Z"
   },
   {
    "duration": 6731,
    "start_time": "2022-02-03T14:26:36.485Z"
   },
   {
    "duration": 7,
    "start_time": "2022-02-03T14:27:36.574Z"
   },
   {
    "duration": 9,
    "start_time": "2022-02-03T14:28:19.662Z"
   },
   {
    "duration": 5,
    "start_time": "2022-02-03T14:29:21.300Z"
   },
   {
    "duration": 8,
    "start_time": "2022-02-03T14:29:49.980Z"
   },
   {
    "duration": 30,
    "start_time": "2022-02-03T14:36:19.212Z"
   },
   {
    "duration": 25,
    "start_time": "2022-02-03T14:43:20.637Z"
   },
   {
    "duration": 26,
    "start_time": "2022-02-03T14:44:24.017Z"
   },
   {
    "duration": 11,
    "start_time": "2022-02-03T14:44:32.122Z"
   },
   {
    "duration": 16,
    "start_time": "2022-02-03T14:45:58.203Z"
   },
   {
    "duration": 16,
    "start_time": "2022-02-03T14:46:11.466Z"
   },
   {
    "duration": 16,
    "start_time": "2022-02-03T14:46:26.312Z"
   },
   {
    "duration": 9,
    "start_time": "2022-02-03T14:47:17.163Z"
   },
   {
    "duration": 8,
    "start_time": "2022-02-03T14:49:46.856Z"
   },
   {
    "duration": 97,
    "start_time": "2022-02-03T14:54:16.074Z"
   },
   {
    "duration": 20,
    "start_time": "2022-02-03T14:54:25.543Z"
   },
   {
    "duration": 86,
    "start_time": "2022-02-03T14:54:50.894Z"
   },
   {
    "duration": 1015,
    "start_time": "2022-02-03T14:55:25.588Z"
   },
   {
    "duration": 1046,
    "start_time": "2022-02-03T14:57:10.203Z"
   },
   {
    "duration": 985,
    "start_time": "2022-02-03T14:57:36.883Z"
   },
   {
    "duration": 322,
    "start_time": "2022-02-03T14:57:50.772Z"
   },
   {
    "duration": 265,
    "start_time": "2022-02-03T14:58:00.696Z"
   },
   {
    "duration": 71,
    "start_time": "2022-02-03T14:58:29.547Z"
   },
   {
    "duration": 10,
    "start_time": "2022-02-03T14:58:29.620Z"
   },
   {
    "duration": 15,
    "start_time": "2022-02-03T14:58:29.633Z"
   },
   {
    "duration": 5,
    "start_time": "2022-02-03T14:58:29.650Z"
   },
   {
    "duration": 6,
    "start_time": "2022-02-03T14:58:29.657Z"
   },
   {
    "duration": 39,
    "start_time": "2022-02-03T14:58:29.664Z"
   },
   {
    "duration": 10,
    "start_time": "2022-02-03T14:58:29.705Z"
   },
   {
    "duration": 6,
    "start_time": "2022-02-03T14:58:29.718Z"
   },
   {
    "duration": 20,
    "start_time": "2022-02-03T14:58:29.726Z"
   },
   {
    "duration": 10,
    "start_time": "2022-02-03T14:58:29.747Z"
   },
   {
    "duration": 9,
    "start_time": "2022-02-03T14:58:29.759Z"
   },
   {
    "duration": 9,
    "start_time": "2022-02-03T14:58:29.798Z"
   },
   {
    "duration": 10,
    "start_time": "2022-02-03T15:00:12.971Z"
   },
   {
    "duration": 10,
    "start_time": "2022-02-03T15:01:26.016Z"
   },
   {
    "duration": 10,
    "start_time": "2022-02-03T15:01:31.970Z"
   },
   {
    "duration": 15,
    "start_time": "2022-02-03T15:14:55.788Z"
   },
   {
    "duration": 15,
    "start_time": "2022-02-03T15:15:35.458Z"
   },
   {
    "duration": 92,
    "start_time": "2022-02-03T15:20:24.546Z"
   },
   {
    "duration": 11,
    "start_time": "2022-02-03T15:22:36.683Z"
   },
   {
    "duration": 13,
    "start_time": "2022-02-03T15:23:35.578Z"
   },
   {
    "duration": 9,
    "start_time": "2022-02-03T15:23:46.183Z"
   },
   {
    "duration": 9,
    "start_time": "2022-02-03T15:25:35.607Z"
   },
   {
    "duration": 7,
    "start_time": "2022-02-03T15:27:47.930Z"
   },
   {
    "duration": 8,
    "start_time": "2022-02-03T15:28:25.261Z"
   },
   {
    "duration": 10,
    "start_time": "2022-02-03T15:30:26.523Z"
   },
   {
    "duration": 12,
    "start_time": "2022-02-03T15:32:22.747Z"
   },
   {
    "duration": 18,
    "start_time": "2022-02-03T15:32:42.701Z"
   },
   {
    "duration": 7,
    "start_time": "2022-02-03T15:35:20.470Z"
   },
   {
    "duration": 84,
    "start_time": "2022-02-03T15:41:11.507Z"
   },
   {
    "duration": 95,
    "start_time": "2022-02-03T15:41:29.898Z"
   },
   {
    "duration": 15,
    "start_time": "2022-02-03T15:41:40.766Z"
   },
   {
    "duration": 6645,
    "start_time": "2022-02-03T15:44:29.225Z"
   },
   {
    "duration": 10,
    "start_time": "2022-02-03T15:45:21.723Z"
   },
   {
    "duration": 20,
    "start_time": "2022-02-03T15:45:34.712Z"
   },
   {
    "duration": 7,
    "start_time": "2022-02-03T15:46:14.500Z"
   },
   {
    "duration": 8,
    "start_time": "2022-02-03T15:46:38.084Z"
   },
   {
    "duration": 339,
    "start_time": "2022-02-03T15:47:17.308Z"
   },
   {
    "duration": 319,
    "start_time": "2022-02-03T15:47:32.210Z"
   },
   {
    "duration": 260,
    "start_time": "2022-02-03T15:48:10.480Z"
   },
   {
    "duration": 7,
    "start_time": "2022-02-03T15:48:31.922Z"
   },
   {
    "duration": 255,
    "start_time": "2022-02-03T15:49:25.149Z"
   },
   {
    "duration": 6,
    "start_time": "2022-02-03T15:49:34.882Z"
   },
   {
    "duration": 72,
    "start_time": "2022-02-03T15:50:35.788Z"
   },
   {
    "duration": 12,
    "start_time": "2022-02-03T15:51:02.047Z"
   },
   {
    "duration": 11,
    "start_time": "2022-02-03T15:51:22.261Z"
   },
   {
    "duration": 15,
    "start_time": "2022-02-03T15:51:24.327Z"
   },
   {
    "duration": 6,
    "start_time": "2022-02-03T15:51:25.080Z"
   },
   {
    "duration": 6,
    "start_time": "2022-02-03T15:51:31.165Z"
   },
   {
    "duration": 13,
    "start_time": "2022-02-03T15:51:31.174Z"
   },
   {
    "duration": 18,
    "start_time": "2022-02-03T15:51:31.189Z"
   },
   {
    "duration": 10,
    "start_time": "2022-02-03T15:51:31.209Z"
   },
   {
    "duration": 13,
    "start_time": "2022-02-03T15:51:31.221Z"
   },
   {
    "duration": 13,
    "start_time": "2022-02-03T15:51:31.236Z"
   },
   {
    "duration": 9,
    "start_time": "2022-02-03T15:51:31.373Z"
   },
   {
    "duration": 8,
    "start_time": "2022-02-03T15:51:32.614Z"
   },
   {
    "duration": 8,
    "start_time": "2022-02-03T15:51:33.665Z"
   },
   {
    "duration": 16,
    "start_time": "2022-02-03T15:51:34.669Z"
   },
   {
    "duration": 6,
    "start_time": "2022-02-03T15:51:35.626Z"
   },
   {
    "duration": 15,
    "start_time": "2022-02-03T15:51:38.009Z"
   },
   {
    "duration": 25,
    "start_time": "2022-02-03T15:51:39.387Z"
   },
   {
    "duration": 24,
    "start_time": "2022-02-03T15:52:17.828Z"
   },
   {
    "duration": 6,
    "start_time": "2022-02-03T15:55:01.823Z"
   },
   {
    "duration": 260,
    "start_time": "2022-02-03T15:55:27.273Z"
   },
   {
    "duration": 7,
    "start_time": "2022-02-03T15:55:42.574Z"
   },
   {
    "duration": 12,
    "start_time": "2022-02-03T16:12:13.267Z"
   },
   {
    "duration": 35,
    "start_time": "2022-02-03T16:14:07.604Z"
   },
   {
    "duration": 19,
    "start_time": "2022-02-03T16:14:19.193Z"
   },
   {
    "duration": 47,
    "start_time": "2022-02-03T16:14:50.661Z"
   },
   {
    "duration": 33,
    "start_time": "2022-02-03T16:15:13.879Z"
   },
   {
    "duration": 8,
    "start_time": "2022-02-03T16:15:15.074Z"
   },
   {
    "duration": 33,
    "start_time": "2022-02-03T16:15:28.365Z"
   },
   {
    "duration": 7,
    "start_time": "2022-02-03T16:15:29.294Z"
   },
   {
    "duration": 9,
    "start_time": "2022-02-03T16:16:19.785Z"
   },
   {
    "duration": 7,
    "start_time": "2022-02-03T16:16:59.284Z"
   },
   {
    "duration": 10,
    "start_time": "2022-02-03T16:18:13.199Z"
   },
   {
    "duration": 34,
    "start_time": "2022-02-03T16:19:01.648Z"
   },
   {
    "duration": 6,
    "start_time": "2022-02-03T16:19:02.686Z"
   },
   {
    "duration": 35,
    "start_time": "2022-02-03T16:19:13.872Z"
   },
   {
    "duration": 6,
    "start_time": "2022-02-03T16:19:14.945Z"
   },
   {
    "duration": 81,
    "start_time": "2022-02-03T16:19:23.871Z"
   },
   {
    "duration": 11,
    "start_time": "2022-02-03T16:19:23.953Z"
   },
   {
    "duration": 35,
    "start_time": "2022-02-03T16:19:23.966Z"
   },
   {
    "duration": 6,
    "start_time": "2022-02-03T16:19:24.005Z"
   },
   {
    "duration": 15,
    "start_time": "2022-02-03T16:19:24.013Z"
   },
   {
    "duration": 13,
    "start_time": "2022-02-03T16:19:24.029Z"
   },
   {
    "duration": 14,
    "start_time": "2022-02-03T16:19:24.044Z"
   },
   {
    "duration": 6,
    "start_time": "2022-02-03T16:19:24.061Z"
   },
   {
    "duration": 39,
    "start_time": "2022-02-03T16:19:24.069Z"
   },
   {
    "duration": 18,
    "start_time": "2022-02-03T16:19:24.110Z"
   },
   {
    "duration": 11,
    "start_time": "2022-02-03T16:19:24.130Z"
   },
   {
    "duration": 9,
    "start_time": "2022-02-03T16:19:24.143Z"
   },
   {
    "duration": 8,
    "start_time": "2022-02-03T16:19:24.154Z"
   },
   {
    "duration": 57,
    "start_time": "2022-02-03T16:19:24.164Z"
   },
   {
    "duration": 18,
    "start_time": "2022-02-03T16:19:24.223Z"
   },
   {
    "duration": 24,
    "start_time": "2022-02-03T16:19:24.244Z"
   },
   {
    "duration": 55,
    "start_time": "2022-02-03T16:19:24.270Z"
   },
   {
    "duration": 7,
    "start_time": "2022-02-03T16:19:24.327Z"
   },
   {
    "duration": 12,
    "start_time": "2022-02-03T16:19:24.336Z"
   },
   {
    "duration": 52,
    "start_time": "2022-02-03T16:19:24.350Z"
   },
   {
    "duration": 8,
    "start_time": "2022-02-03T16:19:24.404Z"
   },
   {
    "duration": 8,
    "start_time": "2022-02-03T16:19:42.293Z"
   },
   {
    "duration": 8,
    "start_time": "2022-02-03T16:24:58.802Z"
   },
   {
    "duration": 7,
    "start_time": "2022-02-03T16:25:24.253Z"
   },
   {
    "duration": 9,
    "start_time": "2022-02-03T16:25:49.922Z"
   },
   {
    "duration": 8,
    "start_time": "2022-02-03T16:26:10.018Z"
   },
   {
    "duration": 6,
    "start_time": "2022-02-03T16:26:34.935Z"
   },
   {
    "duration": 8,
    "start_time": "2022-02-03T16:27:14.513Z"
   },
   {
    "duration": 14,
    "start_time": "2022-02-03T16:27:45.183Z"
   },
   {
    "duration": 23,
    "start_time": "2022-02-03T16:29:04.516Z"
   },
   {
    "duration": 20,
    "start_time": "2022-02-03T16:29:25.120Z"
   },
   {
    "duration": 9,
    "start_time": "2022-02-03T16:29:30.991Z"
   },
   {
    "duration": 10,
    "start_time": "2022-02-03T16:29:32.295Z"
   },
   {
    "duration": 75,
    "start_time": "2022-02-03T16:29:39.551Z"
   },
   {
    "duration": 9,
    "start_time": "2022-02-03T16:29:39.629Z"
   },
   {
    "duration": 20,
    "start_time": "2022-02-03T16:29:39.640Z"
   },
   {
    "duration": 5,
    "start_time": "2022-02-03T16:29:39.661Z"
   },
   {
    "duration": 32,
    "start_time": "2022-02-03T16:29:39.667Z"
   },
   {
    "duration": 6,
    "start_time": "2022-02-03T16:29:39.701Z"
   },
   {
    "duration": 11,
    "start_time": "2022-02-03T16:29:39.709Z"
   },
   {
    "duration": 6,
    "start_time": "2022-02-03T16:29:39.723Z"
   },
   {
    "duration": 12,
    "start_time": "2022-02-03T16:29:39.731Z"
   },
   {
    "duration": 7,
    "start_time": "2022-02-03T16:29:39.745Z"
   },
   {
    "duration": 51,
    "start_time": "2022-02-03T16:29:39.754Z"
   },
   {
    "duration": 8,
    "start_time": "2022-02-03T16:29:39.807Z"
   },
   {
    "duration": 7,
    "start_time": "2022-02-03T16:29:39.817Z"
   },
   {
    "duration": 16,
    "start_time": "2022-02-03T16:29:39.825Z"
   },
   {
    "duration": 5,
    "start_time": "2022-02-03T16:29:39.843Z"
   },
   {
    "duration": 50,
    "start_time": "2022-02-03T16:29:39.850Z"
   },
   {
    "duration": 36,
    "start_time": "2022-02-03T16:29:39.902Z"
   },
   {
    "duration": 6,
    "start_time": "2022-02-03T16:29:39.940Z"
   },
   {
    "duration": 13,
    "start_time": "2022-02-03T16:29:39.948Z"
   },
   {
    "duration": 44,
    "start_time": "2022-02-03T16:29:39.962Z"
   },
   {
    "duration": 7,
    "start_time": "2022-02-03T16:29:40.007Z"
   },
   {
    "duration": 8,
    "start_time": "2022-02-03T16:29:40.016Z"
   },
   {
    "duration": 15,
    "start_time": "2022-02-03T16:29:40.027Z"
   },
   {
    "duration": 22,
    "start_time": "2022-02-03T16:30:17.276Z"
   },
   {
    "duration": 12,
    "start_time": "2022-02-03T16:30:32.291Z"
   },
   {
    "duration": 8,
    "start_time": "2022-02-03T16:30:51.937Z"
   },
   {
    "duration": 5,
    "start_time": "2022-02-03T16:30:52.900Z"
   },
   {
    "duration": 82,
    "start_time": "2022-02-03T16:30:57.477Z"
   },
   {
    "duration": 12,
    "start_time": "2022-02-03T16:30:57.561Z"
   },
   {
    "duration": 20,
    "start_time": "2022-02-03T16:30:57.601Z"
   },
   {
    "duration": 5,
    "start_time": "2022-02-03T16:30:57.623Z"
   },
   {
    "duration": 9,
    "start_time": "2022-02-03T16:30:57.630Z"
   },
   {
    "duration": 8,
    "start_time": "2022-02-03T16:30:57.640Z"
   },
   {
    "duration": 12,
    "start_time": "2022-02-03T16:30:57.650Z"
   },
   {
    "duration": 55,
    "start_time": "2022-02-03T16:30:57.665Z"
   },
   {
    "duration": 17,
    "start_time": "2022-02-03T16:30:57.722Z"
   },
   {
    "duration": 9,
    "start_time": "2022-02-03T16:30:57.740Z"
   },
   {
    "duration": 13,
    "start_time": "2022-02-03T16:30:57.751Z"
   },
   {
    "duration": 10,
    "start_time": "2022-02-03T16:30:57.766Z"
   },
   {
    "duration": 13,
    "start_time": "2022-02-03T16:30:57.800Z"
   },
   {
    "duration": 23,
    "start_time": "2022-02-03T16:30:57.815Z"
   },
   {
    "duration": 8,
    "start_time": "2022-02-03T16:30:57.839Z"
   },
   {
    "duration": 17,
    "start_time": "2022-02-03T16:30:57.849Z"
   },
   {
    "duration": 57,
    "start_time": "2022-02-03T16:30:57.869Z"
   },
   {
    "duration": 7,
    "start_time": "2022-02-03T16:30:57.927Z"
   },
   {
    "duration": 9,
    "start_time": "2022-02-03T16:30:57.936Z"
   },
   {
    "duration": 61,
    "start_time": "2022-02-03T16:30:57.946Z"
   },
   {
    "duration": 9,
    "start_time": "2022-02-03T16:30:58.010Z"
   },
   {
    "duration": 8,
    "start_time": "2022-02-03T16:30:58.021Z"
   },
   {
    "duration": 8,
    "start_time": "2022-02-03T16:30:58.033Z"
   },
   {
    "duration": 15,
    "start_time": "2022-02-03T16:30:58.043Z"
   },
   {
    "duration": 8,
    "start_time": "2022-02-03T16:31:12.231Z"
   },
   {
    "duration": 8,
    "start_time": "2022-02-03T16:31:53.134Z"
   },
   {
    "duration": 7,
    "start_time": "2022-02-03T16:32:29.794Z"
   },
   {
    "duration": 8,
    "start_time": "2022-02-03T16:32:45.616Z"
   },
   {
    "duration": 9,
    "start_time": "2022-02-03T16:33:17.765Z"
   },
   {
    "duration": 9,
    "start_time": "2022-02-03T16:33:38.050Z"
   },
   {
    "duration": 5,
    "start_time": "2022-02-03T16:36:28.745Z"
   },
   {
    "duration": 6,
    "start_time": "2022-02-03T16:36:51.252Z"
   },
   {
    "duration": 20,
    "start_time": "2022-02-03T16:37:33.421Z"
   },
   {
    "duration": 34,
    "start_time": "2022-02-03T16:38:32.339Z"
   },
   {
    "duration": 36,
    "start_time": "2022-02-03T16:39:27.134Z"
   },
   {
    "duration": 8,
    "start_time": "2022-02-03T16:40:03.871Z"
   },
   {
    "duration": 21,
    "start_time": "2022-02-03T16:43:29.210Z"
   },
   {
    "duration": 30,
    "start_time": "2022-02-03T16:43:44.519Z"
   },
   {
    "duration": 48,
    "start_time": "2022-02-03T16:44:31.774Z"
   },
   {
    "duration": 8,
    "start_time": "2022-02-03T16:45:39.330Z"
   },
   {
    "duration": 8,
    "start_time": "2022-02-03T16:45:55.864Z"
   },
   {
    "duration": 8,
    "start_time": "2022-02-03T16:46:52.047Z"
   },
   {
    "duration": 282,
    "start_time": "2022-02-03T16:47:49.231Z"
   },
   {
    "duration": 250,
    "start_time": "2022-02-03T16:48:20.465Z"
   },
   {
    "duration": 102,
    "start_time": "2022-02-03T16:48:42.521Z"
   },
   {
    "duration": 74,
    "start_time": "2022-02-03T16:49:22.665Z"
   },
   {
    "duration": 10,
    "start_time": "2022-02-03T16:49:22.741Z"
   },
   {
    "duration": 15,
    "start_time": "2022-02-03T16:49:22.753Z"
   },
   {
    "duration": 30,
    "start_time": "2022-02-03T16:49:22.770Z"
   },
   {
    "duration": 6,
    "start_time": "2022-02-03T16:49:22.802Z"
   },
   {
    "duration": 7,
    "start_time": "2022-02-03T16:49:22.810Z"
   },
   {
    "duration": 11,
    "start_time": "2022-02-03T16:49:22.819Z"
   },
   {
    "duration": 6,
    "start_time": "2022-02-03T16:49:22.833Z"
   },
   {
    "duration": 13,
    "start_time": "2022-02-03T16:49:22.841Z"
   },
   {
    "duration": 49,
    "start_time": "2022-02-03T16:49:22.855Z"
   },
   {
    "duration": 9,
    "start_time": "2022-02-03T16:49:22.906Z"
   },
   {
    "duration": 8,
    "start_time": "2022-02-03T16:49:22.917Z"
   },
   {
    "duration": 8,
    "start_time": "2022-02-03T16:49:22.926Z"
   },
   {
    "duration": 15,
    "start_time": "2022-02-03T16:49:22.936Z"
   },
   {
    "duration": 6,
    "start_time": "2022-02-03T16:49:22.952Z"
   },
   {
    "duration": 14,
    "start_time": "2022-02-03T16:49:22.998Z"
   },
   {
    "duration": 21,
    "start_time": "2022-02-03T16:49:23.013Z"
   },
   {
    "duration": 5,
    "start_time": "2022-02-03T16:49:23.036Z"
   },
   {
    "duration": 7,
    "start_time": "2022-02-03T16:49:23.043Z"
   },
   {
    "duration": 70,
    "start_time": "2022-02-03T16:49:23.052Z"
   },
   {
    "duration": 7,
    "start_time": "2022-02-03T16:49:23.123Z"
   },
   {
    "duration": 8,
    "start_time": "2022-02-03T16:49:23.132Z"
   },
   {
    "duration": 7,
    "start_time": "2022-02-03T16:49:23.143Z"
   },
   {
    "duration": 8,
    "start_time": "2022-02-03T16:49:23.152Z"
   },
   {
    "duration": 38,
    "start_time": "2022-02-03T16:49:23.162Z"
   },
   {
    "duration": 17,
    "start_time": "2022-02-03T16:49:23.202Z"
   },
   {
    "duration": 34,
    "start_time": "2022-02-03T16:49:23.221Z"
   },
   {
    "duration": 7,
    "start_time": "2022-02-03T16:49:23.257Z"
   },
   {
    "duration": 121,
    "start_time": "2022-02-03T16:49:23.266Z"
   },
   {
    "duration": -795,
    "start_time": "2022-02-03T16:49:24.183Z"
   },
   {
    "duration": 84,
    "start_time": "2022-02-03T16:49:42.406Z"
   },
   {
    "duration": 73,
    "start_time": "2022-02-03T16:50:13.486Z"
   },
   {
    "duration": 39,
    "start_time": "2022-02-03T16:50:13.561Z"
   },
   {
    "duration": 13,
    "start_time": "2022-02-03T16:50:13.603Z"
   },
   {
    "duration": 20,
    "start_time": "2022-02-03T16:50:13.618Z"
   },
   {
    "duration": 21,
    "start_time": "2022-02-03T16:50:13.641Z"
   },
   {
    "duration": 22,
    "start_time": "2022-02-03T16:50:13.665Z"
   },
   {
    "duration": 27,
    "start_time": "2022-02-03T16:50:13.689Z"
   },
   {
    "duration": 35,
    "start_time": "2022-02-03T16:50:13.718Z"
   },
   {
    "duration": 30,
    "start_time": "2022-02-03T16:50:13.756Z"
   },
   {
    "duration": 23,
    "start_time": "2022-02-03T16:50:13.789Z"
   },
   {
    "duration": 34,
    "start_time": "2022-02-03T16:50:13.814Z"
   },
   {
    "duration": 10,
    "start_time": "2022-02-03T16:50:13.851Z"
   },
   {
    "duration": 20,
    "start_time": "2022-02-03T16:50:13.864Z"
   },
   {
    "duration": 29,
    "start_time": "2022-02-03T16:50:13.887Z"
   },
   {
    "duration": 8,
    "start_time": "2022-02-03T16:50:13.918Z"
   },
   {
    "duration": 39,
    "start_time": "2022-02-03T16:50:13.928Z"
   },
   {
    "duration": 30,
    "start_time": "2022-02-03T16:50:13.969Z"
   },
   {
    "duration": 30,
    "start_time": "2022-02-03T16:50:14.001Z"
   },
   {
    "duration": 13,
    "start_time": "2022-02-03T16:50:14.033Z"
   },
   {
    "duration": 46,
    "start_time": "2022-02-03T16:50:14.048Z"
   },
   {
    "duration": 9,
    "start_time": "2022-02-03T16:50:14.096Z"
   },
   {
    "duration": 22,
    "start_time": "2022-02-03T16:50:14.107Z"
   },
   {
    "duration": 11,
    "start_time": "2022-02-03T16:50:14.132Z"
   },
   {
    "duration": 21,
    "start_time": "2022-02-03T16:50:14.145Z"
   },
   {
    "duration": 35,
    "start_time": "2022-02-03T16:50:14.169Z"
   },
   {
    "duration": 26,
    "start_time": "2022-02-03T16:50:14.206Z"
   },
   {
    "duration": 44,
    "start_time": "2022-02-03T16:50:14.236Z"
   },
   {
    "duration": 8,
    "start_time": "2022-02-03T16:50:14.282Z"
   },
   {
    "duration": 98,
    "start_time": "2022-02-03T16:50:14.292Z"
   },
   {
    "duration": -806,
    "start_time": "2022-02-03T16:50:15.198Z"
   },
   {
    "duration": 72,
    "start_time": "2022-02-03T16:50:30.371Z"
   },
   {
    "duration": 11,
    "start_time": "2022-02-03T16:50:30.446Z"
   },
   {
    "duration": 45,
    "start_time": "2022-02-03T16:50:30.459Z"
   },
   {
    "duration": 5,
    "start_time": "2022-02-03T16:50:30.507Z"
   },
   {
    "duration": 15,
    "start_time": "2022-02-03T16:50:30.514Z"
   },
   {
    "duration": 14,
    "start_time": "2022-02-03T16:50:30.531Z"
   },
   {
    "duration": 14,
    "start_time": "2022-02-03T16:50:30.547Z"
   },
   {
    "duration": 13,
    "start_time": "2022-02-03T16:50:30.564Z"
   },
   {
    "duration": 26,
    "start_time": "2022-02-03T16:50:30.579Z"
   },
   {
    "duration": 7,
    "start_time": "2022-02-03T16:50:30.607Z"
   },
   {
    "duration": 8,
    "start_time": "2022-02-03T16:50:30.616Z"
   },
   {
    "duration": 21,
    "start_time": "2022-02-03T16:50:30.626Z"
   },
   {
    "duration": 8,
    "start_time": "2022-02-03T16:50:30.649Z"
   },
   {
    "duration": 45,
    "start_time": "2022-02-03T16:50:30.659Z"
   },
   {
    "duration": 12,
    "start_time": "2022-02-03T16:50:30.706Z"
   },
   {
    "duration": 15,
    "start_time": "2022-02-03T16:50:30.720Z"
   },
   {
    "duration": 22,
    "start_time": "2022-02-03T16:50:30.737Z"
   },
   {
    "duration": 6,
    "start_time": "2022-02-03T16:50:30.761Z"
   },
   {
    "duration": 33,
    "start_time": "2022-02-03T16:50:30.769Z"
   },
   {
    "duration": 32,
    "start_time": "2022-02-03T16:50:30.804Z"
   },
   {
    "duration": 10,
    "start_time": "2022-02-03T16:50:30.837Z"
   },
   {
    "duration": 26,
    "start_time": "2022-02-03T16:50:30.849Z"
   },
   {
    "duration": 22,
    "start_time": "2022-02-03T16:50:30.878Z"
   },
   {
    "duration": 13,
    "start_time": "2022-02-03T16:50:30.902Z"
   },
   {
    "duration": 21,
    "start_time": "2022-02-03T16:50:30.917Z"
   },
   {
    "duration": 28,
    "start_time": "2022-02-03T16:50:30.939Z"
   },
   {
    "duration": 42,
    "start_time": "2022-02-03T16:50:30.969Z"
   },
   {
    "duration": 9,
    "start_time": "2022-02-03T16:50:31.014Z"
   },
   {
    "duration": 97,
    "start_time": "2022-02-03T16:50:31.025Z"
   },
   {
    "duration": -796,
    "start_time": "2022-02-03T16:50:31.920Z"
   },
   {
    "duration": 78,
    "start_time": "2022-02-03T16:51:03.897Z"
   },
   {
    "duration": 28,
    "start_time": "2022-02-03T16:51:03.977Z"
   },
   {
    "duration": 19,
    "start_time": "2022-02-03T16:51:04.007Z"
   },
   {
    "duration": 5,
    "start_time": "2022-02-03T16:51:04.028Z"
   },
   {
    "duration": 9,
    "start_time": "2022-02-03T16:51:04.034Z"
   },
   {
    "duration": 13,
    "start_time": "2022-02-03T16:51:04.044Z"
   },
   {
    "duration": 13,
    "start_time": "2022-02-03T16:51:04.059Z"
   },
   {
    "duration": 29,
    "start_time": "2022-02-03T16:51:04.075Z"
   },
   {
    "duration": 18,
    "start_time": "2022-02-03T16:51:04.107Z"
   },
   {
    "duration": 12,
    "start_time": "2022-02-03T16:51:04.127Z"
   },
   {
    "duration": 10,
    "start_time": "2022-02-03T16:51:04.141Z"
   },
   {
    "duration": 46,
    "start_time": "2022-02-03T16:51:04.154Z"
   },
   {
    "duration": 8,
    "start_time": "2022-02-03T16:51:04.202Z"
   },
   {
    "duration": 19,
    "start_time": "2022-02-03T16:51:04.212Z"
   },
   {
    "duration": 7,
    "start_time": "2022-02-03T16:51:04.233Z"
   },
   {
    "duration": 18,
    "start_time": "2022-02-03T16:51:04.242Z"
   },
   {
    "duration": 53,
    "start_time": "2022-02-03T16:51:04.262Z"
   },
   {
    "duration": 6,
    "start_time": "2022-02-03T16:51:04.317Z"
   },
   {
    "duration": 8,
    "start_time": "2022-02-03T16:51:04.325Z"
   },
   {
    "duration": 34,
    "start_time": "2022-02-03T16:51:04.335Z"
   },
   {
    "duration": 29,
    "start_time": "2022-02-03T16:51:04.371Z"
   },
   {
    "duration": 8,
    "start_time": "2022-02-03T16:51:04.402Z"
   },
   {
    "duration": 9,
    "start_time": "2022-02-03T16:51:04.414Z"
   },
   {
    "duration": 19,
    "start_time": "2022-02-03T16:51:04.425Z"
   },
   {
    "duration": 11,
    "start_time": "2022-02-03T16:51:04.446Z"
   },
   {
    "duration": 41,
    "start_time": "2022-02-03T16:51:04.459Z"
   },
   {
    "duration": 36,
    "start_time": "2022-02-03T16:51:04.502Z"
   },
   {
    "duration": 8,
    "start_time": "2022-02-03T16:51:04.540Z"
   },
   {
    "duration": 70,
    "start_time": "2022-02-03T16:51:04.550Z"
   },
   {
    "duration": 8,
    "start_time": "2022-02-03T16:51:04.622Z"
   },
   {
    "duration": 658,
    "start_time": "2022-02-03T20:47:07.402Z"
   },
   {
    "duration": 9,
    "start_time": "2022-02-03T20:47:15.106Z"
   },
   {
    "duration": 13,
    "start_time": "2022-02-03T20:47:18.952Z"
   },
   {
    "duration": 4,
    "start_time": "2022-02-03T20:47:20.092Z"
   },
   {
    "duration": 4,
    "start_time": "2022-02-03T20:47:23.896Z"
   },
   {
    "duration": 6,
    "start_time": "2022-02-03T20:47:31.630Z"
   },
   {
    "duration": 10,
    "start_time": "2022-02-03T20:47:34.638Z"
   },
   {
    "duration": 7,
    "start_time": "2022-02-03T20:47:40.080Z"
   },
   {
    "duration": 12,
    "start_time": "2022-02-03T20:47:46.850Z"
   },
   {
    "duration": 7,
    "start_time": "2022-02-03T20:47:54.120Z"
   },
   {
    "duration": 8,
    "start_time": "2022-02-03T20:47:57.047Z"
   },
   {
    "duration": 7,
    "start_time": "2022-02-03T20:48:12.377Z"
   },
   {
    "duration": 7,
    "start_time": "2022-02-03T20:48:24.882Z"
   },
   {
    "duration": 11,
    "start_time": "2022-02-03T20:48:59.694Z"
   },
   {
    "duration": 11,
    "start_time": "2022-02-03T20:49:07.961Z"
   },
   {
    "duration": 11,
    "start_time": "2022-02-03T20:49:18.179Z"
   },
   {
    "duration": 11,
    "start_time": "2022-02-03T20:49:28.765Z"
   },
   {
    "duration": 11,
    "start_time": "2022-02-03T20:49:41.322Z"
   },
   {
    "duration": 11,
    "start_time": "2022-02-03T20:50:14.792Z"
   },
   {
    "duration": 16,
    "start_time": "2022-02-03T20:50:57.887Z"
   },
   {
    "duration": 6,
    "start_time": "2022-02-03T20:51:35.888Z"
   },
   {
    "duration": 14,
    "start_time": "2022-02-03T20:51:55.557Z"
   },
   {
    "duration": 18,
    "start_time": "2022-02-03T20:52:52.450Z"
   },
   {
    "duration": 18,
    "start_time": "2022-02-03T20:53:05.154Z"
   },
   {
    "duration": 18,
    "start_time": "2022-02-03T20:53:12.183Z"
   },
   {
    "duration": 11,
    "start_time": "2022-02-03T20:53:44.241Z"
   },
   {
    "duration": 18,
    "start_time": "2022-02-03T20:53:51.537Z"
   },
   {
    "duration": 31,
    "start_time": "2022-02-03T20:55:31.533Z"
   },
   {
    "duration": 7,
    "start_time": "2022-02-03T20:55:32.934Z"
   },
   {
    "duration": 42,
    "start_time": "2022-02-03T20:56:19.160Z"
   },
   {
    "duration": 8,
    "start_time": "2022-02-03T20:57:58.217Z"
   },
   {
    "duration": 8,
    "start_time": "2022-02-03T20:58:09.405Z"
   },
   {
    "duration": 5,
    "start_time": "2022-02-03T21:02:04.902Z"
   },
   {
    "duration": 33,
    "start_time": "2022-02-03T21:25:34.609Z"
   },
   {
    "duration": 252,
    "start_time": "2022-02-03T21:26:08.662Z"
   },
   {
    "duration": 172,
    "start_time": "2022-02-03T21:26:28.080Z"
   },
   {
    "duration": 291,
    "start_time": "2022-02-03T21:26:32.393Z"
   },
   {
    "duration": 65,
    "start_time": "2022-02-03T21:26:57.897Z"
   },
   {
    "duration": 9,
    "start_time": "2022-02-03T21:26:57.964Z"
   },
   {
    "duration": 41,
    "start_time": "2022-02-03T21:26:57.975Z"
   },
   {
    "duration": 5,
    "start_time": "2022-02-03T21:26:58.018Z"
   },
   {
    "duration": 7,
    "start_time": "2022-02-03T21:26:58.025Z"
   },
   {
    "duration": 10,
    "start_time": "2022-02-03T21:26:58.033Z"
   },
   {
    "duration": 10,
    "start_time": "2022-02-03T21:26:58.044Z"
   },
   {
    "duration": 7,
    "start_time": "2022-02-03T21:26:58.057Z"
   },
   {
    "duration": 11,
    "start_time": "2022-02-03T21:26:58.066Z"
   },
   {
    "duration": 35,
    "start_time": "2022-02-03T21:26:58.078Z"
   },
   {
    "duration": 8,
    "start_time": "2022-02-03T21:26:58.115Z"
   },
   {
    "duration": 7,
    "start_time": "2022-02-03T21:26:58.125Z"
   },
   {
    "duration": 7,
    "start_time": "2022-02-03T21:26:58.133Z"
   },
   {
    "duration": 13,
    "start_time": "2022-02-03T21:26:58.142Z"
   },
   {
    "duration": 6,
    "start_time": "2022-02-03T21:26:58.157Z"
   },
   {
    "duration": 53,
    "start_time": "2022-02-03T21:26:58.164Z"
   },
   {
    "duration": 18,
    "start_time": "2022-02-03T21:26:58.219Z"
   },
   {
    "duration": 5,
    "start_time": "2022-02-03T21:26:58.238Z"
   },
   {
    "duration": 5,
    "start_time": "2022-02-03T21:26:58.245Z"
   },
   {
    "duration": 30,
    "start_time": "2022-02-03T21:26:58.251Z"
   },
   {
    "duration": 31,
    "start_time": "2022-02-03T21:26:58.282Z"
   },
   {
    "duration": 7,
    "start_time": "2022-02-03T21:26:58.314Z"
   },
   {
    "duration": 6,
    "start_time": "2022-02-03T21:26:58.324Z"
   },
   {
    "duration": 8,
    "start_time": "2022-02-03T21:26:58.332Z"
   },
   {
    "duration": 6,
    "start_time": "2022-02-03T21:26:58.342Z"
   },
   {
    "duration": 15,
    "start_time": "2022-02-03T21:26:58.350Z"
   },
   {
    "duration": 68,
    "start_time": "2022-02-03T21:26:58.367Z"
   },
   {
    "duration": 6,
    "start_time": "2022-02-03T21:26:58.436Z"
   },
   {
    "duration": 39,
    "start_time": "2022-02-03T21:26:58.444Z"
   },
   {
    "duration": 6,
    "start_time": "2022-02-03T21:26:58.485Z"
   },
   {
    "duration": 27,
    "start_time": "2022-02-03T21:26:58.492Z"
   },
   {
    "duration": 17,
    "start_time": "2022-02-03T21:26:58.521Z"
   },
   {
    "duration": 7,
    "start_time": "2022-02-03T21:27:23.072Z"
   },
   {
    "duration": 6,
    "start_time": "2022-02-03T21:27:48.975Z"
   },
   {
    "duration": 9,
    "start_time": "2022-02-03T21:28:44.301Z"
   },
   {
    "duration": 6,
    "start_time": "2022-02-03T21:29:08.782Z"
   },
   {
    "duration": 10,
    "start_time": "2022-02-03T21:29:19.054Z"
   },
   {
    "duration": 5,
    "start_time": "2022-02-03T21:39:09.232Z"
   },
   {
    "duration": 5,
    "start_time": "2022-02-03T21:39:25.627Z"
   },
   {
    "duration": 6,
    "start_time": "2022-02-03T21:39:35.239Z"
   },
   {
    "duration": 5,
    "start_time": "2022-02-03T21:39:43.945Z"
   },
   {
    "duration": 5,
    "start_time": "2022-02-03T21:39:58.692Z"
   },
   {
    "duration": 204,
    "start_time": "2022-02-03T21:44:22.388Z"
   },
   {
    "duration": 5,
    "start_time": "2022-02-03T21:45:10.847Z"
   },
   {
    "duration": 18,
    "start_time": "2022-02-03T21:45:12.031Z"
   },
   {
    "duration": 3,
    "start_time": "2022-02-03T21:45:27.535Z"
   },
   {
    "duration": 8,
    "start_time": "2022-02-03T21:49:20.674Z"
   },
   {
    "duration": 208,
    "start_time": "2022-02-03T22:32:56.059Z"
   },
   {
    "duration": 669,
    "start_time": "2022-02-03T22:36:56.666Z"
   },
   {
    "duration": 2545,
    "start_time": "2022-02-03T22:51:51.234Z"
   },
   {
    "duration": 8,
    "start_time": "2022-02-03T23:02:37.467Z"
   },
   {
    "duration": 8,
    "start_time": "2022-02-03T23:03:50.255Z"
   },
   {
    "duration": 8,
    "start_time": "2022-02-03T23:06:00.741Z"
   },
   {
    "duration": 6,
    "start_time": "2022-02-03T23:06:31.926Z"
   },
   {
    "duration": 8,
    "start_time": "2022-02-03T23:08:47.025Z"
   },
   {
    "duration": 5,
    "start_time": "2022-02-03T23:09:40.338Z"
   },
   {
    "duration": 9,
    "start_time": "2022-02-03T23:10:34.193Z"
   },
   {
    "duration": 203,
    "start_time": "2022-02-03T23:13:11.759Z"
   },
   {
    "duration": 9,
    "start_time": "2022-02-03T23:13:33.944Z"
   },
   {
    "duration": 9,
    "start_time": "2022-02-03T23:16:09.163Z"
   },
   {
    "duration": 10,
    "start_time": "2022-02-03T23:17:39.331Z"
   },
   {
    "duration": 29,
    "start_time": "2022-02-03T23:21:23.212Z"
   },
   {
    "duration": 14,
    "start_time": "2022-02-03T23:21:46.200Z"
   },
   {
    "duration": 688,
    "start_time": "2022-02-04T09:16:08.323Z"
   },
   {
    "duration": 6,
    "start_time": "2022-02-04T09:35:51.897Z"
   },
   {
    "duration": 5,
    "start_time": "2022-02-04T09:35:52.581Z"
   },
   {
    "duration": 7,
    "start_time": "2022-02-04T09:44:25.701Z"
   },
   {
    "duration": 11,
    "start_time": "2022-02-04T09:44:26.459Z"
   },
   {
    "duration": 7,
    "start_time": "2022-02-04T09:44:31.417Z"
   },
   {
    "duration": 12,
    "start_time": "2022-02-04T09:49:13.543Z"
   },
   {
    "duration": 9,
    "start_time": "2022-02-04T09:49:16.599Z"
   },
   {
    "duration": 8,
    "start_time": "2022-02-04T09:51:17.771Z"
   },
   {
    "duration": 9,
    "start_time": "2022-02-04T09:52:40.894Z"
   },
   {
    "duration": 9,
    "start_time": "2022-02-04T09:52:46.156Z"
   },
   {
    "duration": 785,
    "start_time": "2022-02-04T09:54:34.783Z"
   },
   {
    "duration": 8,
    "start_time": "2022-02-04T09:54:53.813Z"
   },
   {
    "duration": 8,
    "start_time": "2022-02-04T09:55:02.901Z"
   },
   {
    "duration": 12,
    "start_time": "2022-02-04T09:58:18.096Z"
   },
   {
    "duration": 12,
    "start_time": "2022-02-04T09:59:22.985Z"
   },
   {
    "duration": 8,
    "start_time": "2022-02-04T09:59:29.213Z"
   },
   {
    "duration": 11,
    "start_time": "2022-02-04T09:59:42.531Z"
   },
   {
    "duration": 8,
    "start_time": "2022-02-04T09:59:46.903Z"
   },
   {
    "duration": 288,
    "start_time": "2022-02-04T10:01:17.234Z"
   },
   {
    "duration": 9,
    "start_time": "2022-02-04T10:02:50.415Z"
   },
   {
    "duration": 9,
    "start_time": "2022-02-04T10:05:37.094Z"
   },
   {
    "duration": 11,
    "start_time": "2022-02-04T10:05:40.525Z"
   },
   {
    "duration": 11,
    "start_time": "2022-02-04T10:05:41.484Z"
   },
   {
    "duration": 9,
    "start_time": "2022-02-04T10:05:52.254Z"
   },
   {
    "duration": 9,
    "start_time": "2022-02-04T10:05:55.888Z"
   },
   {
    "duration": 17,
    "start_time": "2022-02-04T10:08:43.905Z"
   },
   {
    "duration": 20,
    "start_time": "2022-02-04T10:13:57.869Z"
   },
   {
    "duration": 7,
    "start_time": "2022-02-04T10:15:38.975Z"
   },
   {
    "duration": 7,
    "start_time": "2022-02-04T10:16:45.644Z"
   },
   {
    "duration": 33,
    "start_time": "2022-02-04T10:20:29.730Z"
   },
   {
    "duration": 9,
    "start_time": "2022-02-04T10:24:09.031Z"
   },
   {
    "duration": 8,
    "start_time": "2022-02-04T10:24:29.615Z"
   },
   {
    "duration": 7,
    "start_time": "2022-02-04T12:09:46.826Z"
   },
   {
    "duration": 21,
    "start_time": "2022-02-04T12:23:53.191Z"
   },
   {
    "duration": 38,
    "start_time": "2022-02-04T12:23:53.971Z"
   },
   {
    "duration": 46,
    "start_time": "2022-02-04T12:27:46.205Z"
   },
   {
    "duration": 626,
    "start_time": "2022-02-04T12:29:09.587Z"
   },
   {
    "duration": 86,
    "start_time": "2022-02-04T12:29:15.003Z"
   },
   {
    "duration": 32,
    "start_time": "2022-02-04T12:31:01.945Z"
   },
   {
    "duration": 35,
    "start_time": "2022-02-04T12:31:46.358Z"
   },
   {
    "duration": 9,
    "start_time": "2022-02-04T12:31:49.283Z"
   },
   {
    "duration": 8,
    "start_time": "2022-02-04T12:32:57.935Z"
   },
   {
    "duration": 261,
    "start_time": "2022-02-04T12:45:05.610Z"
   },
   {
    "duration": 17,
    "start_time": "2022-02-04T12:45:10.717Z"
   },
   {
    "duration": 260,
    "start_time": "2022-02-04T12:45:14.037Z"
   },
   {
    "duration": 255,
    "start_time": "2022-02-04T12:45:30.275Z"
   },
   {
    "duration": 316,
    "start_time": "2022-02-04T12:45:42.431Z"
   },
   {
    "duration": 72,
    "start_time": "2022-02-04T12:45:55.372Z"
   },
   {
    "duration": 11,
    "start_time": "2022-02-04T12:45:55.447Z"
   },
   {
    "duration": 19,
    "start_time": "2022-02-04T12:45:55.460Z"
   },
   {
    "duration": 6,
    "start_time": "2022-02-04T12:45:55.509Z"
   },
   {
    "duration": 10,
    "start_time": "2022-02-04T12:45:55.517Z"
   },
   {
    "duration": 9,
    "start_time": "2022-02-04T12:45:55.529Z"
   },
   {
    "duration": 11,
    "start_time": "2022-02-04T12:45:55.540Z"
   },
   {
    "duration": 7,
    "start_time": "2022-02-04T12:45:55.554Z"
   },
   {
    "duration": 53,
    "start_time": "2022-02-04T12:45:55.563Z"
   },
   {
    "duration": 8,
    "start_time": "2022-02-04T12:45:55.617Z"
   },
   {
    "duration": 9,
    "start_time": "2022-02-04T12:45:55.626Z"
   },
   {
    "duration": 249,
    "start_time": "2022-02-04T12:45:55.637Z"
   },
   {
    "duration": 21,
    "start_time": "2022-02-04T12:45:55.888Z"
   },
   {
    "duration": 9,
    "start_time": "2022-02-04T12:45:55.910Z"
   },
   {
    "duration": 24,
    "start_time": "2022-02-04T12:45:55.921Z"
   },
   {
    "duration": 7,
    "start_time": "2022-02-04T12:45:55.947Z"
   },
   {
    "duration": 17,
    "start_time": "2022-02-04T12:45:55.956Z"
   },
   {
    "duration": 48,
    "start_time": "2022-02-04T12:45:55.975Z"
   },
   {
    "duration": 7,
    "start_time": "2022-02-04T12:45:56.025Z"
   },
   {
    "duration": 15,
    "start_time": "2022-02-04T12:45:56.033Z"
   },
   {
    "duration": 36,
    "start_time": "2022-02-04T12:45:56.050Z"
   },
   {
    "duration": 24,
    "start_time": "2022-02-04T12:45:56.088Z"
   },
   {
    "duration": 8,
    "start_time": "2022-02-04T12:45:56.116Z"
   },
   {
    "duration": 18,
    "start_time": "2022-02-04T12:45:56.127Z"
   },
   {
    "duration": 22,
    "start_time": "2022-02-04T12:45:56.148Z"
   },
   {
    "duration": 8,
    "start_time": "2022-02-04T12:45:56.172Z"
   },
   {
    "duration": 32,
    "start_time": "2022-02-04T12:45:56.182Z"
   },
   {
    "duration": 35,
    "start_time": "2022-02-04T12:45:56.216Z"
   },
   {
    "duration": 8,
    "start_time": "2022-02-04T12:45:56.253Z"
   },
   {
    "duration": 53,
    "start_time": "2022-02-04T12:45:56.263Z"
   },
   {
    "duration": 33,
    "start_time": "2022-02-04T12:45:56.318Z"
   },
   {
    "duration": 8,
    "start_time": "2022-02-04T12:45:56.352Z"
   },
   {
    "duration": 12,
    "start_time": "2022-02-04T12:45:56.361Z"
   },
   {
    "duration": 42,
    "start_time": "2022-02-04T12:45:56.375Z"
   },
   {
    "duration": 248,
    "start_time": "2022-02-04T12:45:56.419Z"
   },
   {
    "duration": -1727,
    "start_time": "2022-02-04T12:45:58.396Z"
   },
   {
    "duration": -1731,
    "start_time": "2022-02-04T12:45:58.401Z"
   },
   {
    "duration": -1737,
    "start_time": "2022-02-04T12:45:58.408Z"
   },
   {
    "duration": -1739,
    "start_time": "2022-02-04T12:45:58.411Z"
   },
   {
    "duration": -1742,
    "start_time": "2022-02-04T12:45:58.414Z"
   },
   {
    "duration": -1745,
    "start_time": "2022-02-04T12:45:58.418Z"
   },
   {
    "duration": -1747,
    "start_time": "2022-02-04T12:45:58.421Z"
   },
   {
    "duration": -1749,
    "start_time": "2022-02-04T12:45:58.425Z"
   },
   {
    "duration": -1751,
    "start_time": "2022-02-04T12:45:58.428Z"
   },
   {
    "duration": -1753,
    "start_time": "2022-02-04T12:45:58.431Z"
   },
   {
    "duration": -1755,
    "start_time": "2022-02-04T12:45:58.434Z"
   },
   {
    "duration": -1757,
    "start_time": "2022-02-04T12:45:58.437Z"
   },
   {
    "duration": -1760,
    "start_time": "2022-02-04T12:45:58.440Z"
   },
   {
    "duration": 10,
    "start_time": "2022-02-04T12:46:36.657Z"
   },
   {
    "duration": 13,
    "start_time": "2022-02-04T12:47:08.653Z"
   },
   {
    "duration": 13,
    "start_time": "2022-02-04T12:47:09.722Z"
   },
   {
    "duration": 4,
    "start_time": "2022-02-04T12:47:37.827Z"
   },
   {
    "duration": 20,
    "start_time": "2022-02-04T12:48:14.176Z"
   },
   {
    "duration": 4,
    "start_time": "2022-02-04T15:52:19.819Z"
   },
   {
    "duration": 373,
    "start_time": "2022-02-04T15:52:27.432Z"
   },
   {
    "duration": 762,
    "start_time": "2022-02-04T15:52:35.680Z"
   },
   {
    "duration": 11,
    "start_time": "2022-02-04T15:52:36.445Z"
   },
   {
    "duration": 15,
    "start_time": "2022-02-04T15:52:36.459Z"
   },
   {
    "duration": 26,
    "start_time": "2022-02-04T15:52:36.476Z"
   },
   {
    "duration": 9,
    "start_time": "2022-02-04T15:52:36.504Z"
   },
   {
    "duration": 8,
    "start_time": "2022-02-04T15:52:36.514Z"
   },
   {
    "duration": 12,
    "start_time": "2022-02-04T15:52:36.524Z"
   },
   {
    "duration": 6,
    "start_time": "2022-02-04T15:52:36.539Z"
   },
   {
    "duration": 13,
    "start_time": "2022-02-04T15:52:36.547Z"
   },
   {
    "duration": 41,
    "start_time": "2022-02-04T15:52:36.562Z"
   },
   {
    "duration": 9,
    "start_time": "2022-02-04T15:52:36.604Z"
   },
   {
    "duration": 316,
    "start_time": "2022-02-04T15:52:36.614Z"
   },
   {
    "duration": 8,
    "start_time": "2022-02-04T15:52:36.933Z"
   },
   {
    "duration": 9,
    "start_time": "2022-02-04T15:52:36.942Z"
   },
   {
    "duration": 18,
    "start_time": "2022-02-04T15:52:36.953Z"
   },
   {
    "duration": 29,
    "start_time": "2022-02-04T15:52:36.973Z"
   },
   {
    "duration": 16,
    "start_time": "2022-02-04T15:52:37.004Z"
   },
   {
    "duration": 22,
    "start_time": "2022-02-04T15:52:37.022Z"
   },
   {
    "duration": 6,
    "start_time": "2022-02-04T15:52:37.046Z"
   },
   {
    "duration": 8,
    "start_time": "2022-02-04T15:52:37.053Z"
   },
   {
    "duration": 68,
    "start_time": "2022-02-04T15:52:37.063Z"
   },
   {
    "duration": 8,
    "start_time": "2022-02-04T15:52:37.133Z"
   },
   {
    "duration": 8,
    "start_time": "2022-02-04T15:52:37.144Z"
   },
   {
    "duration": 9,
    "start_time": "2022-02-04T15:52:37.154Z"
   },
   {
    "duration": 36,
    "start_time": "2022-02-04T15:52:37.165Z"
   },
   {
    "duration": 9,
    "start_time": "2022-02-04T15:52:37.203Z"
   },
   {
    "duration": 19,
    "start_time": "2022-02-04T15:52:37.213Z"
   },
   {
    "duration": 34,
    "start_time": "2022-02-04T15:52:37.234Z"
   },
   {
    "duration": 33,
    "start_time": "2022-02-04T15:52:37.270Z"
   },
   {
    "duration": 32,
    "start_time": "2022-02-04T15:52:37.305Z"
   },
   {
    "duration": 34,
    "start_time": "2022-02-04T15:52:37.339Z"
   },
   {
    "duration": 31,
    "start_time": "2022-02-04T15:52:37.376Z"
   },
   {
    "duration": 11,
    "start_time": "2022-02-04T15:52:37.409Z"
   },
   {
    "duration": 19,
    "start_time": "2022-02-04T15:52:37.423Z"
   },
   {
    "duration": 15,
    "start_time": "2022-02-04T15:52:37.444Z"
   },
   {
    "duration": 45,
    "start_time": "2022-02-04T15:52:37.461Z"
   },
   {
    "duration": 5,
    "start_time": "2022-02-04T15:52:37.508Z"
   },
   {
    "duration": 27,
    "start_time": "2022-02-04T15:52:37.514Z"
   },
   {
    "duration": 12,
    "start_time": "2022-02-04T15:52:37.543Z"
   },
   {
    "duration": 730,
    "start_time": "2022-02-04T15:52:37.557Z"
   },
   {
    "duration": 2972,
    "start_time": "2022-02-04T15:52:38.290Z"
   },
   {
    "duration": 14,
    "start_time": "2022-02-04T15:52:41.264Z"
   },
   {
    "duration": 29,
    "start_time": "2022-02-04T15:52:41.280Z"
   },
   {
    "duration": 11,
    "start_time": "2022-02-04T15:52:41.311Z"
   },
   {
    "duration": 11,
    "start_time": "2022-02-04T15:52:41.324Z"
   },
   {
    "duration": 10,
    "start_time": "2022-02-04T15:52:41.337Z"
   },
   {
    "duration": 57,
    "start_time": "2022-02-04T15:52:41.349Z"
   },
   {
    "duration": 744,
    "start_time": "2022-02-04T15:58:51.296Z"
   },
   {
    "duration": 3,
    "start_time": "2022-02-04T16:07:56.543Z"
   },
   {
    "duration": 500,
    "start_time": "2022-02-04T16:15:14.864Z"
   },
   {
    "duration": 476,
    "start_time": "2022-02-04T16:15:39.091Z"
   },
   {
    "duration": 493,
    "start_time": "2022-02-04T16:16:13.093Z"
   },
   {
    "duration": 5,
    "start_time": "2022-02-04T16:17:18.600Z"
   },
   {
    "duration": 4,
    "start_time": "2022-02-04T16:18:40.457Z"
   },
   {
    "duration": 1157,
    "start_time": "2022-02-04T16:23:24.414Z"
   },
   {
    "duration": 2882,
    "start_time": "2022-02-04T16:24:06.700Z"
   },
   {
    "duration": 209,
    "start_time": "2022-02-04T16:26:12.936Z"
   },
   {
    "duration": 10,
    "start_time": "2022-02-04T16:26:44.265Z"
   },
   {
    "duration": 102,
    "start_time": "2022-02-04T17:18:44.893Z"
   },
   {
    "duration": 8,
    "start_time": "2022-02-04T17:18:49.180Z"
   },
   {
    "duration": 10,
    "start_time": "2022-02-04T17:19:02.147Z"
   },
   {
    "duration": 10,
    "start_time": "2022-02-04T17:20:55.994Z"
   },
   {
    "duration": 55,
    "start_time": "2022-02-04T17:22:28.037Z"
   },
   {
    "duration": 31,
    "start_time": "2022-02-04T17:23:40.879Z"
   },
   {
    "duration": 19,
    "start_time": "2022-02-04T17:23:59.451Z"
   },
   {
    "duration": 32,
    "start_time": "2022-02-04T17:25:47.863Z"
   },
   {
    "duration": 31,
    "start_time": "2022-02-04T17:26:51.850Z"
   },
   {
    "duration": 28,
    "start_time": "2022-02-04T17:27:57.113Z"
   },
   {
    "duration": 833,
    "start_time": "2022-02-04T17:29:37.545Z"
   },
   {
    "duration": 334,
    "start_time": "2022-02-04T17:30:11.489Z"
   },
   {
    "duration": 3674,
    "start_time": "2022-02-04T17:32:43.781Z"
   },
   {
    "duration": 7342,
    "start_time": "2022-02-04T17:32:50.402Z"
   },
   {
    "duration": 13,
    "start_time": "2022-02-04T17:33:18.727Z"
   },
   {
    "duration": 18,
    "start_time": "2022-02-04T17:33:23.753Z"
   },
   {
    "duration": 480,
    "start_time": "2022-02-04T17:33:47.624Z"
   },
   {
    "duration": 13,
    "start_time": "2022-02-04T17:35:28.166Z"
   },
   {
    "duration": 342,
    "start_time": "2022-02-04T17:37:45.682Z"
   },
   {
    "duration": 8,
    "start_time": "2022-02-04T17:40:20.765Z"
   },
   {
    "duration": 13,
    "start_time": "2022-02-04T17:40:33.979Z"
   },
   {
    "duration": 284,
    "start_time": "2022-02-04T17:41:58.423Z"
   },
   {
    "duration": 274,
    "start_time": "2022-02-04T17:42:09.119Z"
   },
   {
    "duration": 9,
    "start_time": "2022-02-04T17:55:35.858Z"
   },
   {
    "duration": 13,
    "start_time": "2022-02-04T17:55:50.509Z"
   },
   {
    "duration": 12,
    "start_time": "2022-02-04T17:56:07.911Z"
   },
   {
    "duration": 13,
    "start_time": "2022-02-04T17:56:26.782Z"
   },
   {
    "duration": 10,
    "start_time": "2022-02-04T17:56:56.002Z"
   },
   {
    "duration": 73,
    "start_time": "2022-02-04T17:57:08.107Z"
   },
   {
    "duration": 10,
    "start_time": "2022-02-04T17:57:08.182Z"
   },
   {
    "duration": 14,
    "start_time": "2022-02-04T17:57:08.194Z"
   },
   {
    "duration": 5,
    "start_time": "2022-02-04T17:57:08.209Z"
   },
   {
    "duration": 6,
    "start_time": "2022-02-04T17:57:08.216Z"
   },
   {
    "duration": 7,
    "start_time": "2022-02-04T17:57:08.224Z"
   },
   {
    "duration": 10,
    "start_time": "2022-02-04T17:57:08.286Z"
   },
   {
    "duration": 8,
    "start_time": "2022-02-04T17:57:08.298Z"
   },
   {
    "duration": 15,
    "start_time": "2022-02-04T17:57:08.308Z"
   },
   {
    "duration": 8,
    "start_time": "2022-02-04T17:57:08.325Z"
   },
   {
    "duration": 8,
    "start_time": "2022-02-04T17:57:08.335Z"
   },
   {
    "duration": 257,
    "start_time": "2022-02-04T17:57:08.345Z"
   },
   {
    "duration": 8,
    "start_time": "2022-02-04T17:57:08.604Z"
   },
   {
    "duration": 7,
    "start_time": "2022-02-04T17:57:08.614Z"
   },
   {
    "duration": 15,
    "start_time": "2022-02-04T17:57:22.928Z"
   },
   {
    "duration": 8,
    "start_time": "2022-02-04T17:57:22.946Z"
   },
   {
    "duration": 19,
    "start_time": "2022-02-04T17:57:22.957Z"
   },
   {
    "duration": 25,
    "start_time": "2022-02-04T17:57:23.011Z"
   },
   {
    "duration": 7,
    "start_time": "2022-02-04T17:57:23.039Z"
   },
   {
    "duration": 7,
    "start_time": "2022-02-04T17:57:23.138Z"
   },
   {
    "duration": 37,
    "start_time": "2022-02-04T17:57:23.147Z"
   },
   {
    "duration": 9,
    "start_time": "2022-02-04T17:57:23.186Z"
   },
   {
    "duration": 9,
    "start_time": "2022-02-04T17:57:23.198Z"
   },
   {
    "duration": 14,
    "start_time": "2022-02-04T17:57:23.210Z"
   },
   {
    "duration": 11,
    "start_time": "2022-02-04T17:57:23.226Z"
   },
   {
    "duration": 12,
    "start_time": "2022-02-04T17:57:23.238Z"
   },
   {
    "duration": 19,
    "start_time": "2022-02-04T17:57:23.252Z"
   },
   {
    "duration": 60,
    "start_time": "2022-02-04T17:57:23.274Z"
   },
   {
    "duration": 7,
    "start_time": "2022-02-04T17:57:23.336Z"
   },
   {
    "duration": 31,
    "start_time": "2022-02-04T17:57:23.345Z"
   },
   {
    "duration": 36,
    "start_time": "2022-02-04T17:57:27.382Z"
   },
   {
    "duration": 8,
    "start_time": "2022-02-04T17:57:27.420Z"
   },
   {
    "duration": 12,
    "start_time": "2022-02-04T17:57:27.432Z"
   },
   {
    "duration": 20,
    "start_time": "2022-02-04T17:57:27.446Z"
   },
   {
    "duration": 33,
    "start_time": "2022-02-04T17:57:27.467Z"
   },
   {
    "duration": 15,
    "start_time": "2022-02-04T17:57:27.502Z"
   },
   {
    "duration": 4,
    "start_time": "2022-02-04T17:57:27.519Z"
   },
   {
    "duration": 22,
    "start_time": "2022-02-04T17:57:27.525Z"
   },
   {
    "duration": 8,
    "start_time": "2022-02-04T17:57:27.550Z"
   },
   {
    "duration": 743,
    "start_time": "2022-02-04T17:57:27.560Z"
   },
   {
    "duration": 5,
    "start_time": "2022-02-04T17:57:28.355Z"
   },
   {
    "duration": 2992,
    "start_time": "2022-02-04T17:57:28.362Z"
   },
   {
    "duration": 15,
    "start_time": "2022-02-04T17:57:31.356Z"
   },
   {
    "duration": 31,
    "start_time": "2022-02-04T17:57:31.373Z"
   },
   {
    "duration": 10,
    "start_time": "2022-02-04T17:57:31.406Z"
   },
   {
    "duration": 12,
    "start_time": "2022-02-04T17:57:31.417Z"
   },
   {
    "duration": 11,
    "start_time": "2022-02-04T17:57:31.431Z"
   },
   {
    "duration": 17,
    "start_time": "2022-02-04T17:57:31.443Z"
   },
   {
    "duration": 72,
    "start_time": "2022-02-04T17:58:29.727Z"
   },
   {
    "duration": 11,
    "start_time": "2022-02-04T17:58:29.801Z"
   },
   {
    "duration": 14,
    "start_time": "2022-02-04T17:58:29.814Z"
   },
   {
    "duration": 5,
    "start_time": "2022-02-04T17:58:29.830Z"
   },
   {
    "duration": 6,
    "start_time": "2022-02-04T17:58:29.837Z"
   },
   {
    "duration": 54,
    "start_time": "2022-02-04T17:58:29.845Z"
   },
   {
    "duration": 12,
    "start_time": "2022-02-04T17:58:29.901Z"
   },
   {
    "duration": 7,
    "start_time": "2022-02-04T17:58:29.917Z"
   },
   {
    "duration": 12,
    "start_time": "2022-02-04T17:58:29.927Z"
   },
   {
    "duration": 9,
    "start_time": "2022-02-04T17:58:29.941Z"
   },
   {
    "duration": 51,
    "start_time": "2022-02-04T17:58:29.952Z"
   },
   {
    "duration": 254,
    "start_time": "2022-02-04T17:58:30.005Z"
   },
   {
    "duration": 8,
    "start_time": "2022-02-04T17:58:30.260Z"
   },
   {
    "duration": 15,
    "start_time": "2022-02-04T17:58:30.270Z"
   },
   {
    "duration": 25,
    "start_time": "2022-02-04T17:58:30.287Z"
   },
   {
    "duration": 11,
    "start_time": "2022-02-04T17:58:30.313Z"
   },
   {
    "duration": 17,
    "start_time": "2022-02-04T17:58:30.326Z"
   },
   {
    "duration": 36,
    "start_time": "2022-02-04T17:58:30.344Z"
   },
   {
    "duration": 18,
    "start_time": "2022-02-04T17:58:30.381Z"
   },
   {
    "duration": 6,
    "start_time": "2022-02-04T17:58:30.401Z"
   },
   {
    "duration": 49,
    "start_time": "2022-02-04T17:58:30.409Z"
   },
   {
    "duration": 7,
    "start_time": "2022-02-04T17:58:30.460Z"
   },
   {
    "duration": 17,
    "start_time": "2022-02-04T17:58:30.470Z"
   },
   {
    "duration": 13,
    "start_time": "2022-02-04T17:58:30.490Z"
   },
   {
    "duration": 14,
    "start_time": "2022-02-04T17:58:30.505Z"
   },
   {
    "duration": 12,
    "start_time": "2022-02-04T17:58:30.521Z"
   },
   {
    "duration": 28,
    "start_time": "2022-02-04T17:58:30.535Z"
   },
   {
    "duration": 45,
    "start_time": "2022-02-04T17:58:30.565Z"
   },
   {
    "duration": 9,
    "start_time": "2022-02-04T17:58:30.611Z"
   },
   {
    "duration": 33,
    "start_time": "2022-02-04T17:58:30.621Z"
   },
   {
    "duration": 52,
    "start_time": "2022-02-04T17:58:30.656Z"
   },
   {
    "duration": 8,
    "start_time": "2022-02-04T17:58:30.710Z"
   },
   {
    "duration": 12,
    "start_time": "2022-02-04T17:58:30.719Z"
   },
   {
    "duration": 22,
    "start_time": "2022-02-04T17:58:30.733Z"
   },
   {
    "duration": 11,
    "start_time": "2022-02-04T17:58:30.757Z"
   },
   {
    "duration": 12,
    "start_time": "2022-02-04T17:58:30.798Z"
   },
   {
    "duration": 8,
    "start_time": "2022-02-04T17:58:30.811Z"
   },
   {
    "duration": 25,
    "start_time": "2022-02-04T17:58:30.821Z"
   },
   {
    "duration": 14,
    "start_time": "2022-02-04T17:58:30.848Z"
   },
   {
    "duration": 747,
    "start_time": "2022-02-04T17:58:30.864Z"
   },
   {
    "duration": 4,
    "start_time": "2022-02-04T17:58:31.613Z"
   },
   {
    "duration": 2985,
    "start_time": "2022-02-04T17:58:31.619Z"
   },
   {
    "duration": 16,
    "start_time": "2022-02-04T17:58:34.606Z"
   },
   {
    "duration": 26,
    "start_time": "2022-02-04T17:58:34.623Z"
   },
   {
    "duration": 31,
    "start_time": "2022-02-04T17:58:34.650Z"
   },
   {
    "duration": 27,
    "start_time": "2022-02-04T17:58:34.683Z"
   },
   {
    "duration": 26,
    "start_time": "2022-02-04T17:58:34.712Z"
   },
   {
    "duration": 20,
    "start_time": "2022-02-04T17:58:34.740Z"
   },
   {
    "duration": 74,
    "start_time": "2022-02-04T17:59:53.051Z"
   },
   {
    "duration": 11,
    "start_time": "2022-02-04T17:59:53.127Z"
   },
   {
    "duration": 20,
    "start_time": "2022-02-04T17:59:53.140Z"
   },
   {
    "duration": 36,
    "start_time": "2022-02-04T17:59:53.162Z"
   },
   {
    "duration": 6,
    "start_time": "2022-02-04T17:59:53.200Z"
   },
   {
    "duration": 12,
    "start_time": "2022-02-04T17:59:53.207Z"
   },
   {
    "duration": 11,
    "start_time": "2022-02-04T17:59:53.221Z"
   },
   {
    "duration": 10,
    "start_time": "2022-02-04T17:59:53.235Z"
   },
   {
    "duration": 25,
    "start_time": "2022-02-04T17:59:53.247Z"
   },
   {
    "duration": 29,
    "start_time": "2022-02-04T17:59:53.274Z"
   },
   {
    "duration": 9,
    "start_time": "2022-02-04T17:59:53.305Z"
   },
   {
    "duration": 256,
    "start_time": "2022-02-04T17:59:53.316Z"
   },
   {
    "duration": 8,
    "start_time": "2022-02-04T17:59:53.574Z"
   },
   {
    "duration": 20,
    "start_time": "2022-02-04T17:59:53.583Z"
   },
   {
    "duration": 14,
    "start_time": "2022-02-04T17:59:53.605Z"
   },
   {
    "duration": 7,
    "start_time": "2022-02-04T17:59:53.621Z"
   },
   {
    "duration": 19,
    "start_time": "2022-02-04T17:59:53.629Z"
   },
   {
    "duration": 26,
    "start_time": "2022-02-04T17:59:53.649Z"
   },
   {
    "duration": 26,
    "start_time": "2022-02-04T17:59:53.677Z"
   },
   {
    "duration": 10,
    "start_time": "2022-02-04T17:59:53.704Z"
   },
   {
    "duration": 37,
    "start_time": "2022-02-04T17:59:53.716Z"
   },
   {
    "duration": 7,
    "start_time": "2022-02-04T17:59:53.755Z"
   },
   {
    "duration": 33,
    "start_time": "2022-02-04T17:59:53.766Z"
   },
   {
    "duration": 7,
    "start_time": "2022-02-04T17:59:53.801Z"
   },
   {
    "duration": 10,
    "start_time": "2022-02-04T17:59:53.810Z"
   },
   {
    "duration": 10,
    "start_time": "2022-02-04T17:59:53.821Z"
   },
   {
    "duration": 20,
    "start_time": "2022-02-04T17:59:53.833Z"
   },
   {
    "duration": 57,
    "start_time": "2022-02-04T17:59:53.855Z"
   },
   {
    "duration": 7,
    "start_time": "2022-02-04T17:59:53.914Z"
   },
   {
    "duration": 31,
    "start_time": "2022-02-04T17:59:53.923Z"
   },
   {
    "duration": 56,
    "start_time": "2022-02-04T17:59:53.956Z"
   },
   {
    "duration": 7,
    "start_time": "2022-02-04T17:59:54.014Z"
   },
   {
    "duration": 9,
    "start_time": "2022-02-04T17:59:54.023Z"
   },
   {
    "duration": 21,
    "start_time": "2022-02-04T17:59:54.034Z"
   },
   {
    "duration": 11,
    "start_time": "2022-02-04T17:59:54.057Z"
   },
   {
    "duration": 10,
    "start_time": "2022-02-04T17:59:54.098Z"
   },
   {
    "duration": 5,
    "start_time": "2022-02-04T17:59:54.110Z"
   },
   {
    "duration": 22,
    "start_time": "2022-02-04T17:59:54.116Z"
   },
   {
    "duration": 10,
    "start_time": "2022-02-04T17:59:54.140Z"
   },
   {
    "duration": 778,
    "start_time": "2022-02-04T17:59:54.152Z"
   },
   {
    "duration": 4,
    "start_time": "2022-02-04T17:59:54.932Z"
   },
   {
    "duration": 2905,
    "start_time": "2022-02-04T17:59:54.938Z"
   },
   {
    "duration": 15,
    "start_time": "2022-02-04T17:59:57.845Z"
   },
   {
    "duration": 14,
    "start_time": "2022-02-04T17:59:57.862Z"
   },
   {
    "duration": 7,
    "start_time": "2022-02-04T17:59:57.898Z"
   },
   {
    "duration": 13,
    "start_time": "2022-02-04T17:59:57.907Z"
   },
   {
    "duration": 12,
    "start_time": "2022-02-04T17:59:57.922Z"
   },
   {
    "duration": 16,
    "start_time": "2022-02-04T17:59:57.936Z"
   },
   {
    "duration": 20,
    "start_time": "2022-02-04T18:02:07.900Z"
   },
   {
    "duration": 14,
    "start_time": "2022-02-04T18:03:47.238Z"
   },
   {
    "duration": 11,
    "start_time": "2022-02-04T18:17:14.909Z"
   },
   {
    "duration": 16,
    "start_time": "2022-02-04T18:20:14.052Z"
   },
   {
    "duration": 14,
    "start_time": "2022-02-04T18:20:51.088Z"
   },
   {
    "duration": 14,
    "start_time": "2022-02-04T18:29:38.409Z"
   },
   {
    "duration": 25,
    "start_time": "2022-02-04T18:30:40.066Z"
   },
   {
    "duration": 25,
    "start_time": "2022-02-04T18:33:24.730Z"
   },
   {
    "duration": 8,
    "start_time": "2022-02-04T19:42:21.842Z"
   },
   {
    "duration": 77,
    "start_time": "2022-02-04T19:42:46.034Z"
   },
   {
    "duration": 12,
    "start_time": "2022-02-04T19:42:46.114Z"
   },
   {
    "duration": 14,
    "start_time": "2022-02-04T19:42:46.128Z"
   },
   {
    "duration": 8,
    "start_time": "2022-02-04T19:42:46.144Z"
   },
   {
    "duration": 6,
    "start_time": "2022-02-04T19:42:46.154Z"
   },
   {
    "duration": 9,
    "start_time": "2022-02-04T19:42:46.200Z"
   },
   {
    "duration": 19,
    "start_time": "2022-02-04T19:42:46.211Z"
   },
   {
    "duration": 6,
    "start_time": "2022-02-04T19:42:46.232Z"
   },
   {
    "duration": 11,
    "start_time": "2022-02-04T19:42:46.241Z"
   },
   {
    "duration": 44,
    "start_time": "2022-02-04T19:42:46.255Z"
   },
   {
    "duration": 12,
    "start_time": "2022-02-04T19:42:46.302Z"
   },
   {
    "duration": 268,
    "start_time": "2022-02-04T19:42:46.316Z"
   },
   {
    "duration": 20,
    "start_time": "2022-02-04T19:42:46.587Z"
   },
   {
    "duration": 9,
    "start_time": "2022-02-04T19:42:46.609Z"
   },
   {
    "duration": 15,
    "start_time": "2022-02-04T19:42:46.620Z"
   },
   {
    "duration": 8,
    "start_time": "2022-02-04T19:42:46.637Z"
   },
   {
    "duration": 15,
    "start_time": "2022-02-04T19:42:46.646Z"
   },
   {
    "duration": 60,
    "start_time": "2022-02-04T19:42:46.663Z"
   },
   {
    "duration": 7,
    "start_time": "2022-02-04T19:42:46.725Z"
   },
   {
    "duration": 8,
    "start_time": "2022-02-04T19:42:46.734Z"
   },
   {
    "duration": 73,
    "start_time": "2022-02-04T19:42:46.744Z"
   },
   {
    "duration": 8,
    "start_time": "2022-02-04T19:42:46.819Z"
   },
   {
    "duration": 9,
    "start_time": "2022-02-04T19:42:46.829Z"
   },
   {
    "duration": 9,
    "start_time": "2022-02-04T19:42:46.840Z"
   },
   {
    "duration": 10,
    "start_time": "2022-02-04T19:42:46.850Z"
   },
   {
    "duration": 42,
    "start_time": "2022-02-04T19:42:46.861Z"
   },
   {
    "duration": 21,
    "start_time": "2022-02-04T19:42:46.909Z"
   },
   {
    "duration": 33,
    "start_time": "2022-02-04T19:42:46.933Z"
   },
   {
    "duration": 34,
    "start_time": "2022-02-04T19:42:46.968Z"
   },
   {
    "duration": 36,
    "start_time": "2022-02-04T19:42:47.005Z"
   },
   {
    "duration": 56,
    "start_time": "2022-02-04T19:42:47.044Z"
   },
   {
    "duration": 11,
    "start_time": "2022-02-04T19:42:47.104Z"
   },
   {
    "duration": 12,
    "start_time": "2022-02-04T19:42:47.118Z"
   },
   {
    "duration": 20,
    "start_time": "2022-02-04T19:42:47.133Z"
   },
   {
    "duration": 15,
    "start_time": "2022-02-04T19:42:47.154Z"
   },
   {
    "duration": 35,
    "start_time": "2022-02-04T19:42:47.171Z"
   },
   {
    "duration": 4,
    "start_time": "2022-02-04T19:42:47.210Z"
   },
   {
    "duration": 26,
    "start_time": "2022-02-04T19:42:47.219Z"
   },
   {
    "duration": 13,
    "start_time": "2022-02-04T19:42:47.246Z"
   },
   {
    "duration": 828,
    "start_time": "2022-02-04T19:42:47.260Z"
   },
   {
    "duration": 9,
    "start_time": "2022-02-04T19:42:48.090Z"
   },
   {
    "duration": 3455,
    "start_time": "2022-02-04T19:42:48.102Z"
   },
   {
    "duration": 17,
    "start_time": "2022-02-04T19:42:51.559Z"
   },
   {
    "duration": 44,
    "start_time": "2022-02-04T19:42:51.578Z"
   },
   {
    "duration": 13,
    "start_time": "2022-02-04T19:42:51.625Z"
   },
   {
    "duration": 24,
    "start_time": "2022-02-04T19:42:51.641Z"
   },
   {
    "duration": 77,
    "start_time": "2022-02-04T19:43:44.312Z"
   },
   {
    "duration": 13,
    "start_time": "2022-02-04T19:43:44.391Z"
   },
   {
    "duration": 27,
    "start_time": "2022-02-04T19:43:44.407Z"
   },
   {
    "duration": 5,
    "start_time": "2022-02-04T19:43:44.436Z"
   },
   {
    "duration": 9,
    "start_time": "2022-02-04T19:43:44.443Z"
   },
   {
    "duration": 5,
    "start_time": "2022-02-04T19:43:47.934Z"
   },
   {
    "duration": 7,
    "start_time": "2022-02-04T19:43:58.218Z"
   },
   {
    "duration": 7,
    "start_time": "2022-02-04T19:44:39.059Z"
   },
   {
    "duration": 779,
    "start_time": "2022-02-04T19:46:05.994Z"
   },
   {
    "duration": 11,
    "start_time": "2022-02-04T19:46:06.775Z"
   },
   {
    "duration": 22,
    "start_time": "2022-02-04T19:46:06.801Z"
   },
   {
    "duration": 5,
    "start_time": "2022-02-04T19:46:06.825Z"
   },
   {
    "duration": 19,
    "start_time": "2022-02-04T19:46:06.833Z"
   },
   {
    "duration": 13,
    "start_time": "2022-02-04T19:46:06.854Z"
   },
   {
    "duration": 35,
    "start_time": "2022-02-04T19:46:06.869Z"
   },
   {
    "duration": 21,
    "start_time": "2022-02-04T19:46:06.907Z"
   },
   {
    "duration": 17,
    "start_time": "2022-02-04T19:46:06.931Z"
   },
   {
    "duration": 15,
    "start_time": "2022-02-04T19:46:06.950Z"
   },
   {
    "duration": 22,
    "start_time": "2022-02-04T19:46:06.967Z"
   },
   {
    "duration": 355,
    "start_time": "2022-02-04T19:46:06.991Z"
   },
   {
    "duration": 8,
    "start_time": "2022-02-04T19:46:07.348Z"
   },
   {
    "duration": 14,
    "start_time": "2022-02-04T19:46:07.358Z"
   },
   {
    "duration": 40,
    "start_time": "2022-02-04T19:46:07.373Z"
   },
   {
    "duration": 13,
    "start_time": "2022-02-04T19:46:07.416Z"
   },
   {
    "duration": 25,
    "start_time": "2022-02-04T19:46:07.430Z"
   },
   {
    "duration": 28,
    "start_time": "2022-02-04T19:46:07.457Z"
   },
   {
    "duration": 20,
    "start_time": "2022-02-04T19:46:07.487Z"
   },
   {
    "duration": 11,
    "start_time": "2022-02-04T19:46:07.510Z"
   },
   {
    "duration": 51,
    "start_time": "2022-02-04T19:46:07.523Z"
   },
   {
    "duration": 9,
    "start_time": "2022-02-04T19:46:07.576Z"
   },
   {
    "duration": 32,
    "start_time": "2022-02-04T19:46:07.587Z"
   },
   {
    "duration": 20,
    "start_time": "2022-02-04T19:46:07.621Z"
   },
   {
    "duration": 24,
    "start_time": "2022-02-04T19:46:07.644Z"
   },
   {
    "duration": 23,
    "start_time": "2022-02-04T19:46:07.670Z"
   },
   {
    "duration": 24,
    "start_time": "2022-02-04T19:46:07.697Z"
   },
   {
    "duration": 37,
    "start_time": "2022-02-04T19:46:07.723Z"
   },
   {
    "duration": 8,
    "start_time": "2022-02-04T19:46:07.762Z"
   },
   {
    "duration": 54,
    "start_time": "2022-02-04T19:46:07.772Z"
   },
   {
    "duration": 35,
    "start_time": "2022-02-04T19:46:07.828Z"
   },
   {
    "duration": 7,
    "start_time": "2022-02-04T19:46:07.865Z"
   },
   {
    "duration": 10,
    "start_time": "2022-02-04T19:46:07.901Z"
   },
   {
    "duration": 38,
    "start_time": "2022-02-04T19:46:07.913Z"
   },
   {
    "duration": 13,
    "start_time": "2022-02-04T19:46:07.953Z"
   },
   {
    "duration": 32,
    "start_time": "2022-02-04T19:46:07.969Z"
   },
   {
    "duration": 12,
    "start_time": "2022-02-04T19:46:08.005Z"
   },
   {
    "duration": 44,
    "start_time": "2022-02-04T19:46:08.019Z"
   },
   {
    "duration": 10,
    "start_time": "2022-02-04T19:46:08.065Z"
   },
   {
    "duration": 784,
    "start_time": "2022-02-04T19:46:08.078Z"
   },
   {
    "duration": 4,
    "start_time": "2022-02-04T19:46:08.864Z"
   },
   {
    "duration": 3381,
    "start_time": "2022-02-04T19:46:08.870Z"
   },
   {
    "duration": 17,
    "start_time": "2022-02-04T19:46:12.254Z"
   },
   {
    "duration": 43,
    "start_time": "2022-02-04T19:46:12.273Z"
   },
   {
    "duration": 15,
    "start_time": "2022-02-04T19:46:12.318Z"
   },
   {
    "duration": 23,
    "start_time": "2022-02-04T19:46:12.335Z"
   },
   {
    "duration": 18,
    "start_time": "2022-02-04T19:49:46.469Z"
   },
   {
    "duration": 75,
    "start_time": "2022-02-04T20:41:19.532Z"
   },
   {
    "duration": 11,
    "start_time": "2022-02-04T20:41:19.609Z"
   },
   {
    "duration": 17,
    "start_time": "2022-02-04T20:41:19.623Z"
   },
   {
    "duration": 6,
    "start_time": "2022-02-04T20:41:19.643Z"
   },
   {
    "duration": 7,
    "start_time": "2022-02-04T20:41:19.651Z"
   },
   {
    "duration": 8,
    "start_time": "2022-02-04T20:41:19.699Z"
   },
   {
    "duration": 12,
    "start_time": "2022-02-04T20:41:19.709Z"
   },
   {
    "duration": 7,
    "start_time": "2022-02-04T20:41:19.724Z"
   },
   {
    "duration": 14,
    "start_time": "2022-02-04T20:41:19.734Z"
   },
   {
    "duration": 9,
    "start_time": "2022-02-04T20:41:19.751Z"
   },
   {
    "duration": 10,
    "start_time": "2022-02-04T20:41:19.799Z"
   },
   {
    "duration": 270,
    "start_time": "2022-02-04T20:41:19.811Z"
   },
   {
    "duration": 18,
    "start_time": "2022-02-04T20:41:20.083Z"
   },
   {
    "duration": 9,
    "start_time": "2022-02-04T20:41:20.103Z"
   },
   {
    "duration": 16,
    "start_time": "2022-02-04T20:41:20.114Z"
   },
   {
    "duration": 7,
    "start_time": "2022-02-04T20:41:20.132Z"
   },
   {
    "duration": 16,
    "start_time": "2022-02-04T20:41:20.141Z"
   },
   {
    "duration": 56,
    "start_time": "2022-02-04T20:41:20.159Z"
   },
   {
    "duration": 7,
    "start_time": "2022-02-04T20:41:20.217Z"
   },
   {
    "duration": 7,
    "start_time": "2022-02-04T20:41:20.226Z"
   },
   {
    "duration": 108,
    "start_time": "2022-02-04T20:41:20.235Z"
   },
   {
    "duration": 7,
    "start_time": "2022-02-04T20:41:20.345Z"
   },
   {
    "duration": 9,
    "start_time": "2022-02-04T20:41:20.356Z"
   },
   {
    "duration": 34,
    "start_time": "2022-02-04T20:41:20.367Z"
   },
   {
    "duration": 10,
    "start_time": "2022-02-04T20:41:20.403Z"
   },
   {
    "duration": 10,
    "start_time": "2022-02-04T20:41:20.415Z"
   },
   {
    "duration": 31,
    "start_time": "2022-02-04T20:41:20.427Z"
   },
   {
    "duration": 48,
    "start_time": "2022-02-04T20:41:20.461Z"
   },
   {
    "duration": 8,
    "start_time": "2022-02-04T20:41:20.511Z"
   },
   {
    "duration": 36,
    "start_time": "2022-02-04T20:41:20.521Z"
   },
   {
    "duration": 64,
    "start_time": "2022-02-04T20:41:20.559Z"
   },
   {
    "duration": 12,
    "start_time": "2022-02-04T20:41:20.626Z"
   },
   {
    "duration": 12,
    "start_time": "2022-02-04T20:41:20.641Z"
   },
   {
    "duration": 25,
    "start_time": "2022-02-04T20:41:20.655Z"
   },
   {
    "duration": 12,
    "start_time": "2022-02-04T20:41:20.698Z"
   },
   {
    "duration": 13,
    "start_time": "2022-02-04T20:41:20.712Z"
   },
   {
    "duration": 3,
    "start_time": "2022-02-04T20:41:20.727Z"
   },
   {
    "duration": 24,
    "start_time": "2022-02-04T20:41:20.731Z"
   },
   {
    "duration": 47,
    "start_time": "2022-02-04T20:41:20.757Z"
   },
   {
    "duration": 772,
    "start_time": "2022-02-04T20:41:20.806Z"
   },
   {
    "duration": 4,
    "start_time": "2022-02-04T20:41:21.580Z"
   },
   {
    "duration": 3234,
    "start_time": "2022-02-04T20:41:21.586Z"
   },
   {
    "duration": 25,
    "start_time": "2022-02-04T20:41:24.823Z"
   },
   {
    "duration": 21,
    "start_time": "2022-02-04T20:41:24.850Z"
   },
   {
    "duration": 37,
    "start_time": "2022-02-04T20:41:24.873Z"
   },
   {
    "duration": 28,
    "start_time": "2022-02-04T20:41:24.913Z"
   },
   {
    "duration": 598,
    "start_time": "2022-02-12T13:44:39.293Z"
   },
   {
    "duration": 9,
    "start_time": "2022-02-12T13:44:39.894Z"
   },
   {
    "duration": 12,
    "start_time": "2022-02-12T13:44:39.908Z"
   },
   {
    "duration": 4,
    "start_time": "2022-02-12T13:44:39.922Z"
   },
   {
    "duration": 5,
    "start_time": "2022-02-12T13:44:39.927Z"
   },
   {
    "duration": 42,
    "start_time": "2022-02-12T13:44:39.934Z"
   },
   {
    "duration": 9,
    "start_time": "2022-02-12T13:44:39.979Z"
   },
   {
    "duration": 5,
    "start_time": "2022-02-12T13:44:39.991Z"
   },
   {
    "duration": 10,
    "start_time": "2022-02-12T13:44:39.998Z"
   },
   {
    "duration": 7,
    "start_time": "2022-02-12T13:44:40.009Z"
   },
   {
    "duration": 8,
    "start_time": "2022-02-12T13:44:40.018Z"
   },
   {
    "duration": 277,
    "start_time": "2022-02-12T13:44:40.027Z"
   },
   {
    "duration": 8,
    "start_time": "2022-02-12T13:44:40.306Z"
   },
   {
    "duration": 14,
    "start_time": "2022-02-12T13:44:40.315Z"
   },
   {
    "duration": 19,
    "start_time": "2022-02-12T13:44:40.331Z"
   },
   {
    "duration": 9,
    "start_time": "2022-02-12T13:44:40.352Z"
   },
   {
    "duration": 20,
    "start_time": "2022-02-12T13:44:40.363Z"
   },
   {
    "duration": 25,
    "start_time": "2022-02-12T13:44:40.385Z"
   },
   {
    "duration": 6,
    "start_time": "2022-02-12T13:44:40.412Z"
   },
   {
    "duration": 20,
    "start_time": "2022-02-12T13:44:40.419Z"
   },
   {
    "duration": 28,
    "start_time": "2022-02-12T13:44:40.440Z"
   },
   {
    "duration": 7,
    "start_time": "2022-02-12T13:44:40.472Z"
   },
   {
    "duration": 15,
    "start_time": "2022-02-12T13:44:40.481Z"
   },
   {
    "duration": 15,
    "start_time": "2022-02-12T13:44:40.498Z"
   },
   {
    "duration": 10,
    "start_time": "2022-02-12T13:44:40.515Z"
   },
   {
    "duration": 9,
    "start_time": "2022-02-12T13:44:40.526Z"
   },
   {
    "duration": 17,
    "start_time": "2022-02-12T13:44:40.537Z"
   },
   {
    "duration": 37,
    "start_time": "2022-02-12T13:44:40.556Z"
   },
   {
    "duration": 7,
    "start_time": "2022-02-12T13:44:40.595Z"
   },
   {
    "duration": 28,
    "start_time": "2022-02-12T13:44:40.603Z"
   },
   {
    "duration": 49,
    "start_time": "2022-02-12T13:44:40.633Z"
   },
   {
    "duration": 7,
    "start_time": "2022-02-12T13:44:40.684Z"
   },
   {
    "duration": 11,
    "start_time": "2022-02-12T13:44:40.692Z"
   },
   {
    "duration": 13,
    "start_time": "2022-02-12T13:44:40.705Z"
   },
   {
    "duration": 10,
    "start_time": "2022-02-12T13:44:40.720Z"
   },
   {
    "duration": 9,
    "start_time": "2022-02-12T13:44:40.732Z"
   },
   {
    "duration": 3,
    "start_time": "2022-02-12T13:44:40.772Z"
   },
   {
    "duration": 19,
    "start_time": "2022-02-12T13:44:40.776Z"
   },
   {
    "duration": 7,
    "start_time": "2022-02-12T13:44:40.796Z"
   },
   {
    "duration": 618,
    "start_time": "2022-02-12T13:44:40.805Z"
   },
   {
    "duration": 3,
    "start_time": "2022-02-12T13:44:41.425Z"
   },
   {
    "duration": 2666,
    "start_time": "2022-02-12T13:44:41.430Z"
   },
   {
    "duration": 12,
    "start_time": "2022-02-12T13:44:44.097Z"
   },
   {
    "duration": 14,
    "start_time": "2022-02-12T13:44:44.110Z"
   },
   {
    "duration": 10,
    "start_time": "2022-02-12T13:44:44.125Z"
   },
   {
    "duration": 44,
    "start_time": "2022-02-12T13:44:44.136Z"
   },
   {
    "duration": 1685,
    "start_time": "2022-02-12T13:56:10.974Z"
   },
   {
    "duration": 1103,
    "start_time": "2022-02-12T17:01:02.196Z"
   },
   {
    "duration": 23,
    "start_time": "2022-02-12T17:01:03.303Z"
   },
   {
    "duration": 34,
    "start_time": "2022-02-12T17:01:03.329Z"
   },
   {
    "duration": 8,
    "start_time": "2022-02-12T17:01:03.367Z"
   },
   {
    "duration": 18,
    "start_time": "2022-02-12T17:01:03.377Z"
   },
   {
    "duration": 13,
    "start_time": "2022-02-12T17:01:03.424Z"
   },
   {
    "duration": 22,
    "start_time": "2022-02-12T17:01:03.440Z"
   },
   {
    "duration": 14,
    "start_time": "2022-02-12T17:01:03.468Z"
   },
   {
    "duration": 58,
    "start_time": "2022-02-12T17:01:03.485Z"
   },
   {
    "duration": 13,
    "start_time": "2022-02-12T17:01:03.546Z"
   },
   {
    "duration": 15,
    "start_time": "2022-02-12T17:01:03.566Z"
   },
   {
    "duration": 759,
    "start_time": "2022-02-12T17:01:03.585Z"
   },
   {
    "duration": 18,
    "start_time": "2022-02-12T17:01:04.347Z"
   },
   {
    "duration": 11,
    "start_time": "2022-02-12T17:01:04.367Z"
   },
   {
    "duration": 64,
    "start_time": "2022-02-12T17:01:04.382Z"
   },
   {
    "duration": 13,
    "start_time": "2022-02-12T17:01:04.449Z"
   },
   {
    "duration": 19,
    "start_time": "2022-02-12T17:01:04.465Z"
   },
   {
    "duration": 60,
    "start_time": "2022-02-12T17:01:04.487Z"
   },
   {
    "duration": 11,
    "start_time": "2022-02-12T17:01:04.550Z"
   },
   {
    "duration": 12,
    "start_time": "2022-02-12T17:01:04.564Z"
   },
   {
    "duration": 80,
    "start_time": "2022-02-12T17:01:04.579Z"
   },
   {
    "duration": 10,
    "start_time": "2022-02-12T17:01:04.662Z"
   },
   {
    "duration": 9,
    "start_time": "2022-02-12T17:01:04.678Z"
   },
   {
    "duration": 50,
    "start_time": "2022-02-12T17:01:04.690Z"
   },
   {
    "duration": 18,
    "start_time": "2022-02-12T17:01:04.743Z"
   },
   {
    "duration": 12,
    "start_time": "2022-02-12T17:01:04.763Z"
   },
   {
    "duration": 56,
    "start_time": "2022-02-12T17:01:04.777Z"
   },
   {
    "duration": 72,
    "start_time": "2022-02-12T17:01:04.836Z"
   },
   {
    "duration": 24,
    "start_time": "2022-02-12T17:01:04.911Z"
   },
   {
    "duration": 66,
    "start_time": "2022-02-12T17:01:04.940Z"
   },
   {
    "duration": 69,
    "start_time": "2022-02-12T17:01:05.025Z"
   },
   {
    "duration": 30,
    "start_time": "2022-02-12T17:01:05.096Z"
   },
   {
    "duration": 14,
    "start_time": "2022-02-12T17:01:05.129Z"
   },
   {
    "duration": 31,
    "start_time": "2022-02-12T17:01:05.147Z"
   },
   {
    "duration": 49,
    "start_time": "2022-02-12T17:01:05.181Z"
   },
   {
    "duration": 18,
    "start_time": "2022-02-12T17:01:05.233Z"
   },
   {
    "duration": 7,
    "start_time": "2022-02-12T17:01:05.256Z"
   },
   {
    "duration": 80,
    "start_time": "2022-02-12T17:01:05.266Z"
   },
   {
    "duration": 13,
    "start_time": "2022-02-12T17:01:05.350Z"
   },
   {
    "duration": 1045,
    "start_time": "2022-02-12T17:01:05.365Z"
   },
   {
    "duration": 2950,
    "start_time": "2022-02-12T17:01:06.425Z"
   },
   {
    "duration": 6,
    "start_time": "2022-02-12T17:01:09.377Z"
   },
   {
    "duration": 5319,
    "start_time": "2022-02-12T17:01:09.386Z"
   },
   {
    "duration": 32,
    "start_time": "2022-02-12T17:01:14.708Z"
   },
   {
    "duration": 574,
    "start_time": "2022-02-12T17:01:14.742Z"
   },
   {
    "duration": -3279,
    "start_time": "2022-02-12T17:01:18.598Z"
   },
   {
    "duration": -3282,
    "start_time": "2022-02-12T17:01:18.603Z"
   },
   {
    "duration": 30,
    "start_time": "2022-02-12T17:01:54.899Z"
   },
   {
    "duration": 24,
    "start_time": "2022-02-12T17:02:47.210Z"
   },
   {
    "duration": 47,
    "start_time": "2022-02-12T17:05:00.201Z"
   },
   {
    "duration": 23,
    "start_time": "2022-02-12T17:05:34.893Z"
   },
   {
    "duration": 26,
    "start_time": "2022-02-12T17:06:35.753Z"
   },
   {
    "duration": 24,
    "start_time": "2022-02-12T17:08:25.654Z"
   },
   {
    "duration": 37,
    "start_time": "2022-02-12T17:09:35.707Z"
   },
   {
    "duration": 30,
    "start_time": "2022-02-12T17:12:54.009Z"
   },
   {
    "duration": 21,
    "start_time": "2022-02-12T17:12:56.463Z"
   },
   {
    "duration": 50,
    "start_time": "2022-02-12T17:12:59.814Z"
   },
   {
    "duration": 1121,
    "start_time": "2022-10-27T15:00:10.337Z"
   },
   {
    "duration": 14,
    "start_time": "2022-10-27T15:00:16.719Z"
   },
   {
    "duration": 17,
    "start_time": "2022-10-27T15:00:20.025Z"
   },
   {
    "duration": 5,
    "start_time": "2022-10-27T15:00:22.997Z"
   },
   {
    "duration": 5,
    "start_time": "2022-10-27T15:00:23.690Z"
   },
   {
    "duration": 7,
    "start_time": "2022-10-27T15:00:28.326Z"
   },
   {
    "duration": 7,
    "start_time": "2022-10-27T15:01:51.879Z"
   },
   {
    "duration": 10,
    "start_time": "2022-10-27T15:02:16.430Z"
   },
   {
    "duration": 57,
    "start_time": "2022-10-27T15:07:59.740Z"
   },
   {
    "duration": 15,
    "start_time": "2022-10-27T15:08:05.634Z"
   },
   {
    "duration": 5,
    "start_time": "2022-10-27T15:08:17.772Z"
   },
   {
    "duration": 10,
    "start_time": "2022-10-27T15:08:21.875Z"
   },
   {
    "duration": 8,
    "start_time": "2022-10-27T15:08:28.875Z"
   },
   {
    "duration": 617,
    "start_time": "2022-10-27T15:09:07.648Z"
   },
   {
    "duration": 10,
    "start_time": "2022-10-27T15:09:10.851Z"
   },
   {
    "duration": 26,
    "start_time": "2022-10-27T15:09:13.501Z"
   },
   {
    "duration": 16,
    "start_time": "2022-10-27T15:09:55.832Z"
   },
   {
    "duration": 7,
    "start_time": "2022-10-27T15:10:07.042Z"
   },
   {
    "duration": 14,
    "start_time": "2022-10-27T15:10:10.186Z"
   },
   {
    "duration": 21,
    "start_time": "2022-10-27T15:27:22.163Z"
   },
   {
    "duration": 6,
    "start_time": "2022-10-27T15:27:25.502Z"
   },
   {
    "duration": 7,
    "start_time": "2022-10-27T15:27:44.737Z"
   },
   {
    "duration": 25,
    "start_time": "2022-10-27T15:28:06.762Z"
   },
   {
    "duration": 6,
    "start_time": "2022-10-27T15:28:08.295Z"
   },
   {
    "duration": 6,
    "start_time": "2022-10-27T15:28:18.167Z"
   },
   {
    "duration": 5,
    "start_time": "2022-10-27T15:28:39.172Z"
   },
   {
    "duration": 9,
    "start_time": "2022-10-27T15:28:41.025Z"
   },
   {
    "duration": 6,
    "start_time": "2022-10-27T15:28:49.459Z"
   },
   {
    "duration": 26,
    "start_time": "2022-10-27T15:28:52.537Z"
   },
   {
    "duration": 50,
    "start_time": "2022-10-27T15:28:53.087Z"
   },
   {
    "duration": 8,
    "start_time": "2022-10-27T15:28:55.156Z"
   },
   {
    "duration": 33,
    "start_time": "2022-10-27T15:28:58.441Z"
   },
   {
    "duration": 49,
    "start_time": "2022-10-27T15:28:59.981Z"
   },
   {
    "duration": 7,
    "start_time": "2022-10-27T15:29:02.134Z"
   },
   {
    "duration": 7,
    "start_time": "2022-10-27T15:29:03.253Z"
   },
   {
    "duration": 15,
    "start_time": "2022-10-27T15:29:25.056Z"
   },
   {
    "duration": 11,
    "start_time": "2022-10-27T15:29:27.193Z"
   },
   {
    "duration": 13,
    "start_time": "2022-10-27T15:34:43.852Z"
   },
   {
    "duration": 209,
    "start_time": "2022-10-27T16:57:21.729Z"
   },
   {
    "duration": 11,
    "start_time": "2022-10-27T16:57:26.822Z"
   },
   {
    "duration": 12,
    "start_time": "2022-10-27T16:57:45.843Z"
   },
   {
    "duration": 8,
    "start_time": "2022-10-27T16:57:53.788Z"
   },
   {
    "duration": 8,
    "start_time": "2022-10-27T16:58:03.525Z"
   },
   {
    "duration": 282,
    "start_time": "2022-10-27T17:11:59.392Z"
   },
   {
    "duration": 81,
    "start_time": "2022-10-27T17:12:02.838Z"
   },
   {
    "duration": 10,
    "start_time": "2022-10-27T17:12:05.466Z"
   },
   {
    "duration": 7,
    "start_time": "2022-10-27T17:12:08.657Z"
   },
   {
    "duration": 11,
    "start_time": "2022-10-27T17:12:11.577Z"
   },
   {
    "duration": 7,
    "start_time": "2022-10-27T17:12:15.272Z"
   },
   {
    "duration": 132,
    "start_time": "2022-10-27T17:12:28.698Z"
   },
   {
    "duration": 8,
    "start_time": "2022-10-27T17:13:13.904Z"
   },
   {
    "duration": 20,
    "start_time": "2022-10-27T17:13:20.780Z"
   },
   {
    "duration": 99,
    "start_time": "2022-10-27T17:13:35.681Z"
   },
   {
    "duration": 11,
    "start_time": "2022-10-27T17:13:42.174Z"
   },
   {
    "duration": 19,
    "start_time": "2022-10-27T17:13:45.664Z"
   },
   {
    "duration": 13,
    "start_time": "2022-10-27T17:13:47.816Z"
   },
   {
    "duration": 5,
    "start_time": "2022-10-27T17:13:48.174Z"
   },
   {
    "duration": 7,
    "start_time": "2022-10-27T17:13:50.657Z"
   },
   {
    "duration": 11,
    "start_time": "2022-10-27T17:13:53.349Z"
   },
   {
    "duration": 262,
    "start_time": "2022-10-27T17:14:07.963Z"
   },
   {
    "duration": 71,
    "start_time": "2022-10-27T17:14:09.962Z"
   },
   {
    "duration": 16,
    "start_time": "2022-10-27T17:14:13.307Z"
   },
   {
    "duration": 5,
    "start_time": "2022-10-27T17:14:16.243Z"
   },
   {
    "duration": 9,
    "start_time": "2022-10-27T17:14:18.445Z"
   },
   {
    "duration": 8,
    "start_time": "2022-10-27T17:14:20.586Z"
   },
   {
    "duration": 138,
    "start_time": "2022-10-27T17:14:23.397Z"
   },
   {
    "duration": 124,
    "start_time": "2022-10-27T17:14:40.141Z"
   },
   {
    "duration": 17,
    "start_time": "2022-10-27T17:14:43.845Z"
   },
   {
    "duration": 13,
    "start_time": "2022-10-27T17:14:46.229Z"
   },
   {
    "duration": 13,
    "start_time": "2022-10-27T17:14:47.150Z"
   },
   {
    "duration": 6,
    "start_time": "2022-10-27T17:14:51.334Z"
   },
   {
    "duration": 6,
    "start_time": "2022-10-27T17:14:52.339Z"
   },
   {
    "duration": 9,
    "start_time": "2022-10-27T17:14:55.789Z"
   },
   {
    "duration": 9,
    "start_time": "2022-10-27T17:14:59.060Z"
   },
   {
    "duration": 9,
    "start_time": "2022-10-27T17:15:16.057Z"
   },
   {
    "duration": 29,
    "start_time": "2022-10-27T17:15:42.070Z"
   },
   {
    "duration": 109,
    "start_time": "2022-10-27T17:19:17.174Z"
   },
   {
    "duration": 13,
    "start_time": "2022-10-27T17:19:29.060Z"
   },
   {
    "duration": 13,
    "start_time": "2022-10-27T17:19:47.331Z"
   },
   {
    "duration": 72,
    "start_time": "2022-10-27T17:20:12.875Z"
   },
   {
    "duration": 9,
    "start_time": "2022-10-27T17:20:17.310Z"
   },
   {
    "duration": 6,
    "start_time": "2022-10-27T17:22:04.226Z"
   },
   {
    "duration": 42,
    "start_time": "2022-10-27T17:22:56.103Z"
   },
   {
    "duration": 342,
    "start_time": "2022-10-27T17:23:15.733Z"
   },
   {
    "duration": 57,
    "start_time": "2022-10-27T17:23:29.179Z"
   },
   {
    "duration": 25,
    "start_time": "2022-10-27T17:23:31.508Z"
   },
   {
    "duration": 7,
    "start_time": "2022-10-27T17:23:33.884Z"
   },
   {
    "duration": 10,
    "start_time": "2022-10-27T17:23:36.246Z"
   },
   {
    "duration": 13,
    "start_time": "2022-10-27T17:23:47.002Z"
   },
   {
    "duration": 117,
    "start_time": "2022-10-27T17:25:12.422Z"
   },
   {
    "duration": 21,
    "start_time": "2022-10-27T17:27:05.281Z"
   },
   {
    "duration": 97,
    "start_time": "2022-10-27T17:31:48.366Z"
   },
   {
    "duration": 10,
    "start_time": "2022-10-27T17:31:49.947Z"
   },
   {
    "duration": 12,
    "start_time": "2022-10-27T17:31:51.188Z"
   },
   {
    "duration": 5,
    "start_time": "2022-10-27T17:31:51.988Z"
   },
   {
    "duration": 6,
    "start_time": "2022-10-27T17:31:52.667Z"
   },
   {
    "duration": 7,
    "start_time": "2022-10-27T17:31:54.659Z"
   },
   {
    "duration": 8,
    "start_time": "2022-10-27T17:31:56.449Z"
   },
   {
    "duration": 7,
    "start_time": "2022-10-27T17:32:00.977Z"
   },
   {
    "duration": 5,
    "start_time": "2022-10-27T17:32:02.256Z"
   },
   {
    "duration": 28,
    "start_time": "2022-10-27T17:32:04.203Z"
   },
   {
    "duration": 241,
    "start_time": "2022-10-27T17:32:07.239Z"
   },
   {
    "duration": 99,
    "start_time": "2022-10-27T17:32:13.390Z"
   },
   {
    "duration": 11,
    "start_time": "2022-10-27T17:32:14.877Z"
   },
   {
    "duration": 6,
    "start_time": "2022-10-27T17:32:17.680Z"
   },
   {
    "duration": 8,
    "start_time": "2022-10-27T17:32:20.419Z"
   },
   {
    "duration": 8,
    "start_time": "2022-10-27T17:32:21.755Z"
   },
   {
    "duration": 88,
    "start_time": "2022-10-27T17:32:41.240Z"
   },
   {
    "duration": 10,
    "start_time": "2022-10-27T17:32:44.466Z"
   },
   {
    "duration": 12,
    "start_time": "2022-10-27T17:32:46.740Z"
   },
   {
    "duration": 5,
    "start_time": "2022-10-27T17:32:50.878Z"
   },
   {
    "duration": 4,
    "start_time": "2022-10-27T17:32:51.122Z"
   },
   {
    "duration": 7,
    "start_time": "2022-10-27T17:32:53.409Z"
   },
   {
    "duration": 8,
    "start_time": "2022-10-27T17:32:53.949Z"
   },
   {
    "duration": 6,
    "start_time": "2022-10-27T17:32:57.011Z"
   },
   {
    "duration": 5,
    "start_time": "2022-10-27T17:32:58.274Z"
   },
   {
    "duration": 26,
    "start_time": "2022-10-27T17:32:58.863Z"
   },
   {
    "duration": 248,
    "start_time": "2022-10-27T17:33:01.247Z"
   },
   {
    "duration": 5,
    "start_time": "2022-10-27T17:33:24.563Z"
   },
   {
    "duration": 9,
    "start_time": "2022-10-27T17:34:10.369Z"
   },
   {
    "duration": 13,
    "start_time": "2022-10-27T17:34:13.316Z"
   },
   {
    "duration": 4,
    "start_time": "2022-10-27T17:34:13.710Z"
   },
   {
    "duration": 90,
    "start_time": "2022-10-27T17:34:19.582Z"
   },
   {
    "duration": 9,
    "start_time": "2022-10-27T17:34:20.656Z"
   },
   {
    "duration": 14,
    "start_time": "2022-10-27T17:34:21.043Z"
   },
   {
    "duration": 5,
    "start_time": "2022-10-27T17:34:21.225Z"
   },
   {
    "duration": 4,
    "start_time": "2022-10-27T17:34:22.373Z"
   },
   {
    "duration": 9,
    "start_time": "2022-10-27T17:34:24.791Z"
   },
   {
    "duration": 7,
    "start_time": "2022-10-27T17:34:27.152Z"
   },
   {
    "duration": 13,
    "start_time": "2022-10-27T17:35:40.328Z"
   },
   {
    "duration": 15,
    "start_time": "2022-10-27T17:37:25.441Z"
   },
   {
    "duration": 13,
    "start_time": "2022-10-27T17:38:18.488Z"
   },
   {
    "duration": 4,
    "start_time": "2022-10-27T17:39:04.881Z"
   },
   {
    "duration": 7,
    "start_time": "2022-10-27T17:39:08.038Z"
   },
   {
    "duration": 5,
    "start_time": "2022-10-27T17:39:09.151Z"
   },
   {
    "duration": 26,
    "start_time": "2022-10-27T17:39:10.107Z"
   },
   {
    "duration": 285,
    "start_time": "2022-10-27T17:39:11.249Z"
   },
   {
    "duration": 5,
    "start_time": "2022-10-27T17:39:13.846Z"
   },
   {
    "duration": 52,
    "start_time": "2022-10-27T17:39:18.575Z"
   },
   {
    "duration": 15,
    "start_time": "2022-10-27T17:39:21.279Z"
   },
   {
    "duration": 6,
    "start_time": "2022-10-27T17:39:23.796Z"
   },
   {
    "duration": 9,
    "start_time": "2022-10-27T17:39:27.187Z"
   },
   {
    "duration": 8,
    "start_time": "2022-10-27T17:39:27.900Z"
   },
   {
    "duration": 8,
    "start_time": "2022-10-27T17:40:17.286Z"
   },
   {
    "duration": 7,
    "start_time": "2022-10-27T17:40:27.481Z"
   },
   {
    "duration": 9,
    "start_time": "2022-10-27T17:41:30.585Z"
   },
   {
    "duration": 10,
    "start_time": "2022-10-27T17:42:28.157Z"
   },
   {
    "duration": 10,
    "start_time": "2022-10-27T17:42:29.486Z"
   },
   {
    "duration": 6,
    "start_time": "2022-10-27T17:42:30.647Z"
   },
   {
    "duration": 7,
    "start_time": "2022-10-27T17:42:31.436Z"
   },
   {
    "duration": 7,
    "start_time": "2022-10-27T17:42:35.695Z"
   },
   {
    "duration": 26,
    "start_time": "2022-10-27T17:42:39.589Z"
   },
   {
    "duration": 49,
    "start_time": "2022-10-27T17:42:40.152Z"
   },
   {
    "duration": 7,
    "start_time": "2022-10-27T17:42:40.996Z"
   },
   {
    "duration": 28,
    "start_time": "2022-10-27T17:42:43.541Z"
   },
   {
    "duration": 37,
    "start_time": "2022-10-27T17:42:44.170Z"
   },
   {
    "duration": 6,
    "start_time": "2022-10-27T17:43:04.185Z"
   },
   {
    "duration": 8,
    "start_time": "2022-10-27T17:43:05.467Z"
   },
   {
    "duration": 20,
    "start_time": "2022-10-27T17:43:14.082Z"
   },
   {
    "duration": 14,
    "start_time": "2022-10-27T17:43:14.868Z"
   },
   {
    "duration": 11,
    "start_time": "2022-10-27T17:43:15.893Z"
   },
   {
    "duration": 4,
    "start_time": "2022-10-27T17:43:18.634Z"
   },
   {
    "duration": 27,
    "start_time": "2022-10-27T17:43:20.560Z"
   },
   {
    "duration": 9,
    "start_time": "2022-10-27T17:43:50.436Z"
   },
   {
    "duration": 924,
    "start_time": "2022-10-27T17:44:34.461Z"
   },
   {
    "duration": 1567,
    "start_time": "2022-10-27T17:44:47.918Z"
   },
   {
    "duration": 4,
    "start_time": "2022-10-27T17:48:57.931Z"
   },
   {
    "duration": 3027,
    "start_time": "2022-10-27T17:49:01.444Z"
   },
   {
    "duration": 13,
    "start_time": "2022-10-27T17:49:29.896Z"
   },
   {
    "duration": 48,
    "start_time": "2022-10-28T17:51:36.884Z"
   },
   {
    "duration": 725,
    "start_time": "2022-10-28T17:51:43.704Z"
   },
   {
    "duration": 10,
    "start_time": "2022-10-28T17:51:44.431Z"
   },
   {
    "duration": 26,
    "start_time": "2022-10-28T17:51:44.443Z"
   },
   {
    "duration": 5,
    "start_time": "2022-10-28T17:51:44.472Z"
   },
   {
    "duration": 7,
    "start_time": "2022-10-28T17:51:44.479Z"
   },
   {
    "duration": 9,
    "start_time": "2022-10-28T17:51:44.488Z"
   },
   {
    "duration": 18,
    "start_time": "2022-10-28T17:51:44.498Z"
   },
   {
    "duration": 6,
    "start_time": "2022-10-28T17:51:44.518Z"
   },
   {
    "duration": 46,
    "start_time": "2022-10-28T17:51:44.526Z"
   },
   {
    "duration": 288,
    "start_time": "2022-10-28T17:51:44.576Z"
   },
   {
    "duration": 70,
    "start_time": "2022-10-28T17:51:44.869Z"
   },
   {
    "duration": 26,
    "start_time": "2022-10-28T17:51:44.940Z"
   },
   {
    "duration": 7,
    "start_time": "2022-10-28T17:51:44.970Z"
   },
   {
    "duration": 32,
    "start_time": "2022-10-28T17:51:44.978Z"
   },
   {
    "duration": 22,
    "start_time": "2022-10-28T17:51:45.012Z"
   },
   {
    "duration": 584,
    "start_time": "2022-10-28T17:51:45.036Z"
   },
   {
    "duration": 10,
    "start_time": "2022-10-28T17:51:45.622Z"
   },
   {
    "duration": 40,
    "start_time": "2022-10-28T17:51:45.634Z"
   },
   {
    "duration": 16,
    "start_time": "2022-10-28T17:51:45.676Z"
   },
   {
    "duration": 10,
    "start_time": "2022-10-28T17:51:45.695Z"
   },
   {
    "duration": 13,
    "start_time": "2022-10-28T17:51:45.707Z"
   },
   {
    "duration": 18,
    "start_time": "2022-10-28T17:51:45.722Z"
   },
   {
    "duration": 41,
    "start_time": "2022-10-28T17:51:45.742Z"
   },
   {
    "duration": 7,
    "start_time": "2022-10-28T17:51:45.784Z"
   },
   {
    "duration": 30,
    "start_time": "2022-10-28T17:51:45.792Z"
   },
   {
    "duration": 57,
    "start_time": "2022-10-28T17:51:45.824Z"
   },
   {
    "duration": 7,
    "start_time": "2022-10-28T17:51:45.883Z"
   },
   {
    "duration": 13,
    "start_time": "2022-10-28T17:51:45.895Z"
   },
   {
    "duration": 18,
    "start_time": "2022-10-28T17:51:45.911Z"
   },
   {
    "duration": 40,
    "start_time": "2022-10-28T17:51:45.931Z"
   },
   {
    "duration": 20,
    "start_time": "2022-10-28T17:51:45.972Z"
   },
   {
    "duration": 4,
    "start_time": "2022-10-28T17:51:45.995Z"
   },
   {
    "duration": 30,
    "start_time": "2022-10-28T17:51:46.001Z"
   },
   {
    "duration": 31,
    "start_time": "2022-10-28T17:51:46.033Z"
   },
   {
    "duration": 779,
    "start_time": "2022-10-28T17:51:46.066Z"
   },
   {
    "duration": 2020,
    "start_time": "2022-10-28T17:51:46.847Z"
   },
   {
    "duration": 5,
    "start_time": "2022-10-28T17:51:48.869Z"
   },
   {
    "duration": 3235,
    "start_time": "2022-10-28T17:51:48.875Z"
   },
   {
    "duration": 14,
    "start_time": "2022-10-28T17:51:57.085Z"
   },
   {
    "duration": 27,
    "start_time": "2022-10-28T17:52:01.756Z"
   },
   {
    "duration": 13,
    "start_time": "2022-10-28T17:56:28.839Z"
   },
   {
    "duration": 34,
    "start_time": "2022-10-28T17:58:29.139Z"
   },
   {
    "duration": 591,
    "start_time": "2022-10-28T18:03:08.972Z"
   },
   {
    "duration": 12,
    "start_time": "2022-10-28T18:03:09.573Z"
   },
   {
    "duration": 17,
    "start_time": "2022-10-28T18:03:09.587Z"
   },
   {
    "duration": 6,
    "start_time": "2022-10-28T18:03:09.606Z"
   },
   {
    "duration": 7,
    "start_time": "2022-10-28T18:03:09.614Z"
   },
   {
    "duration": 8,
    "start_time": "2022-10-28T18:03:09.623Z"
   },
   {
    "duration": 33,
    "start_time": "2022-10-28T18:03:09.633Z"
   },
   {
    "duration": 27,
    "start_time": "2022-10-28T18:03:09.667Z"
   },
   {
    "duration": 44,
    "start_time": "2022-10-28T18:03:09.695Z"
   },
   {
    "duration": 281,
    "start_time": "2022-10-28T18:03:09.741Z"
   },
   {
    "duration": 79,
    "start_time": "2022-10-28T18:03:10.024Z"
   },
   {
    "duration": 12,
    "start_time": "2022-10-28T18:03:10.104Z"
   },
   {
    "duration": 15,
    "start_time": "2022-10-28T18:03:10.118Z"
   },
   {
    "duration": 22,
    "start_time": "2022-10-28T18:03:10.136Z"
   },
   {
    "duration": 13,
    "start_time": "2022-10-28T18:03:10.163Z"
   },
   {
    "duration": 397,
    "start_time": "2022-10-28T18:03:10.178Z"
   },
   {
    "duration": 10,
    "start_time": "2022-10-28T18:03:10.576Z"
   },
   {
    "duration": 26,
    "start_time": "2022-10-28T18:03:10.588Z"
   },
   {
    "duration": 24,
    "start_time": "2022-10-28T18:03:10.616Z"
   },
   {
    "duration": 39,
    "start_time": "2022-10-28T18:03:10.642Z"
   },
   {
    "duration": 25,
    "start_time": "2022-10-28T18:03:10.683Z"
   },
   {
    "duration": 31,
    "start_time": "2022-10-28T18:03:10.710Z"
   },
   {
    "duration": 46,
    "start_time": "2022-10-28T18:03:10.743Z"
   },
   {
    "duration": 12,
    "start_time": "2022-10-28T18:03:10.790Z"
   },
   {
    "duration": 46,
    "start_time": "2022-10-28T18:03:10.803Z"
   },
   {
    "duration": 39,
    "start_time": "2022-10-28T18:03:10.851Z"
   },
   {
    "duration": 7,
    "start_time": "2022-10-28T18:03:10.891Z"
   },
   {
    "duration": 21,
    "start_time": "2022-10-28T18:03:10.899Z"
   },
   {
    "duration": 30,
    "start_time": "2022-10-28T18:03:10.921Z"
   },
   {
    "duration": 18,
    "start_time": "2022-10-28T18:03:10.954Z"
   },
   {
    "duration": 30,
    "start_time": "2022-10-28T18:03:10.974Z"
   },
   {
    "duration": 6,
    "start_time": "2022-10-28T18:03:11.006Z"
   },
   {
    "duration": 35,
    "start_time": "2022-10-28T18:03:11.014Z"
   },
   {
    "duration": 15,
    "start_time": "2022-10-28T18:03:11.051Z"
   },
   {
    "duration": 819,
    "start_time": "2022-10-28T18:03:11.068Z"
   },
   {
    "duration": 2057,
    "start_time": "2022-10-28T18:03:11.889Z"
   },
   {
    "duration": 6,
    "start_time": "2022-10-28T18:03:13.948Z"
   },
   {
    "duration": 3432,
    "start_time": "2022-10-28T18:03:13.960Z"
   },
   {
    "duration": 16,
    "start_time": "2022-10-28T18:03:17.394Z"
   },
   {
    "duration": 45,
    "start_time": "2022-10-28T18:03:17.412Z"
   },
   {
    "duration": 19,
    "start_time": "2022-10-28T18:03:17.471Z"
   },
   {
    "duration": 41,
    "start_time": "2022-10-28T18:03:17.492Z"
   },
   {
    "duration": 484,
    "start_time": "2022-10-28T18:07:46.114Z"
   },
   {
    "duration": 10,
    "start_time": "2022-10-28T18:07:46.601Z"
   },
   {
    "duration": 20,
    "start_time": "2022-10-28T18:07:46.613Z"
   },
   {
    "duration": 22,
    "start_time": "2022-10-28T18:07:46.635Z"
   },
   {
    "duration": 30,
    "start_time": "2022-10-28T18:07:46.658Z"
   },
   {
    "duration": 27,
    "start_time": "2022-10-28T18:07:46.690Z"
   },
   {
    "duration": 17,
    "start_time": "2022-10-28T18:07:46.719Z"
   },
   {
    "duration": 12,
    "start_time": "2022-10-28T18:07:46.737Z"
   },
   {
    "duration": 32,
    "start_time": "2022-10-28T18:07:46.750Z"
   },
   {
    "duration": 258,
    "start_time": "2022-10-28T18:07:46.785Z"
   },
   {
    "duration": 69,
    "start_time": "2022-10-28T18:07:47.044Z"
   },
   {
    "duration": 9,
    "start_time": "2022-10-28T18:07:47.115Z"
   },
   {
    "duration": 6,
    "start_time": "2022-10-28T18:07:47.125Z"
   },
   {
    "duration": 36,
    "start_time": "2022-10-28T18:07:47.133Z"
   },
   {
    "duration": 8,
    "start_time": "2022-10-28T18:07:47.171Z"
   },
   {
    "duration": 375,
    "start_time": "2022-10-28T18:07:47.181Z"
   },
   {
    "duration": 10,
    "start_time": "2022-10-28T18:07:47.557Z"
   },
   {
    "duration": 10,
    "start_time": "2022-10-28T18:07:47.570Z"
   },
   {
    "duration": 9,
    "start_time": "2022-10-28T18:07:47.581Z"
   },
   {
    "duration": 9,
    "start_time": "2022-10-28T18:07:47.591Z"
   },
   {
    "duration": 8,
    "start_time": "2022-10-28T18:07:47.601Z"
   },
   {
    "duration": 18,
    "start_time": "2022-10-28T18:07:47.610Z"
   },
   {
    "duration": 64,
    "start_time": "2022-10-28T18:07:47.629Z"
   },
   {
    "duration": 6,
    "start_time": "2022-10-28T18:07:47.695Z"
   },
   {
    "duration": 37,
    "start_time": "2022-10-28T18:07:47.703Z"
   },
   {
    "duration": 24,
    "start_time": "2022-10-28T18:07:47.742Z"
   },
   {
    "duration": 8,
    "start_time": "2022-10-28T18:07:47.768Z"
   },
   {
    "duration": 17,
    "start_time": "2022-10-28T18:07:47.778Z"
   },
   {
    "duration": 10,
    "start_time": "2022-10-28T18:07:47.797Z"
   },
   {
    "duration": 14,
    "start_time": "2022-10-28T18:07:47.809Z"
   },
   {
    "duration": 3,
    "start_time": "2022-10-28T18:07:47.824Z"
   },
   {
    "duration": 57,
    "start_time": "2022-10-28T18:07:47.828Z"
   },
   {
    "duration": 7,
    "start_time": "2022-10-28T18:07:47.887Z"
   },
   {
    "duration": 714,
    "start_time": "2022-10-28T18:07:47.895Z"
   },
   {
    "duration": 1964,
    "start_time": "2022-10-28T18:07:48.611Z"
   },
   {
    "duration": 4,
    "start_time": "2022-10-28T18:07:50.578Z"
   },
   {
    "duration": 3281,
    "start_time": "2022-10-28T18:07:50.584Z"
   },
   {
    "duration": 17,
    "start_time": "2022-10-28T18:07:53.868Z"
   },
   {
    "duration": 22,
    "start_time": "2022-10-28T18:07:53.887Z"
   },
   {
    "duration": 14,
    "start_time": "2022-10-28T18:07:53.911Z"
   },
   {
    "duration": 57,
    "start_time": "2022-10-28T18:07:53.927Z"
   },
   {
    "duration": 526,
    "start_time": "2022-10-28T18:21:55.540Z"
   },
   {
    "duration": 10,
    "start_time": "2022-10-28T18:21:56.068Z"
   },
   {
    "duration": 16,
    "start_time": "2022-10-28T18:21:56.080Z"
   },
   {
    "duration": 4,
    "start_time": "2022-10-28T18:21:56.098Z"
   },
   {
    "duration": 6,
    "start_time": "2022-10-28T18:21:56.104Z"
   },
   {
    "duration": 6,
    "start_time": "2022-10-28T18:21:56.111Z"
   },
   {
    "duration": 9,
    "start_time": "2022-10-28T18:21:56.118Z"
   },
   {
    "duration": 40,
    "start_time": "2022-10-28T18:21:56.128Z"
   },
   {
    "duration": 26,
    "start_time": "2022-10-28T18:21:56.170Z"
   },
   {
    "duration": 263,
    "start_time": "2022-10-28T18:21:56.197Z"
   },
   {
    "duration": 65,
    "start_time": "2022-10-28T18:21:56.464Z"
   },
   {
    "duration": 11,
    "start_time": "2022-10-28T18:21:56.531Z"
   },
   {
    "duration": 22,
    "start_time": "2022-10-28T18:21:56.543Z"
   },
   {
    "duration": 13,
    "start_time": "2022-10-28T18:21:56.570Z"
   },
   {
    "duration": 6,
    "start_time": "2022-10-28T18:21:56.585Z"
   },
   {
    "duration": 374,
    "start_time": "2022-10-28T18:21:56.593Z"
   },
   {
    "duration": 8,
    "start_time": "2022-10-28T18:21:56.969Z"
   },
   {
    "duration": 9,
    "start_time": "2022-10-28T18:21:56.979Z"
   },
   {
    "duration": 7,
    "start_time": "2022-10-28T18:21:56.989Z"
   },
   {
    "duration": 10,
    "start_time": "2022-10-28T18:21:56.997Z"
   },
   {
    "duration": 7,
    "start_time": "2022-10-28T18:21:57.008Z"
   },
   {
    "duration": 20,
    "start_time": "2022-10-28T18:21:57.017Z"
   },
   {
    "duration": 54,
    "start_time": "2022-10-28T18:21:57.038Z"
   },
   {
    "duration": 6,
    "start_time": "2022-10-28T18:21:57.094Z"
   },
   {
    "duration": 27,
    "start_time": "2022-10-28T18:21:57.102Z"
   },
   {
    "duration": 6,
    "start_time": "2022-10-28T18:21:57.131Z"
   },
   {
    "duration": 13,
    "start_time": "2022-10-28T18:21:57.153Z"
   },
   {
    "duration": 17,
    "start_time": "2022-10-28T18:21:57.167Z"
   },
   {
    "duration": 10,
    "start_time": "2022-10-28T18:21:57.185Z"
   },
   {
    "duration": 10,
    "start_time": "2022-10-28T18:21:57.196Z"
   },
   {
    "duration": 5,
    "start_time": "2022-10-28T18:21:57.207Z"
   },
   {
    "duration": 54,
    "start_time": "2022-10-28T18:21:57.213Z"
   },
   {
    "duration": 7,
    "start_time": "2022-10-28T18:21:57.269Z"
   },
   {
    "duration": 10,
    "start_time": "2022-10-28T18:21:57.277Z"
   },
   {
    "duration": 2623,
    "start_time": "2022-10-28T18:21:57.288Z"
   },
   {
    "duration": 3,
    "start_time": "2022-10-28T18:21:59.913Z"
   },
   {
    "duration": 2997,
    "start_time": "2022-10-28T18:21:59.918Z"
   },
   {
    "duration": 12,
    "start_time": "2022-10-28T18:22:02.917Z"
   },
   {
    "duration": 40,
    "start_time": "2022-10-28T18:22:02.931Z"
   },
   {
    "duration": 12,
    "start_time": "2022-10-28T18:22:02.972Z"
   },
   {
    "duration": 32,
    "start_time": "2022-10-28T18:22:02.987Z"
   },
   {
    "duration": 818,
    "start_time": "2022-10-29T11:57:16.591Z"
   },
   {
    "duration": 9,
    "start_time": "2022-10-29T11:57:17.411Z"
   },
   {
    "duration": 58,
    "start_time": "2022-10-29T11:57:17.421Z"
   },
   {
    "duration": 10,
    "start_time": "2022-10-29T11:57:17.481Z"
   },
   {
    "duration": 38,
    "start_time": "2022-10-29T11:57:17.493Z"
   },
   {
    "duration": 37,
    "start_time": "2022-10-29T11:57:17.533Z"
   },
   {
    "duration": 18,
    "start_time": "2022-10-29T11:57:17.572Z"
   },
   {
    "duration": 23,
    "start_time": "2022-10-29T11:57:17.592Z"
   },
   {
    "duration": 62,
    "start_time": "2022-10-29T11:57:17.617Z"
   },
   {
    "duration": 301,
    "start_time": "2022-10-29T11:57:17.682Z"
   },
   {
    "duration": 77,
    "start_time": "2022-10-29T11:57:17.984Z"
   },
   {
    "duration": 9,
    "start_time": "2022-10-29T11:57:18.063Z"
   },
   {
    "duration": 28,
    "start_time": "2022-10-29T11:57:18.074Z"
   },
   {
    "duration": 53,
    "start_time": "2022-10-29T11:57:18.103Z"
   },
   {
    "duration": 34,
    "start_time": "2022-10-29T11:57:18.158Z"
   },
   {
    "duration": 622,
    "start_time": "2022-10-29T11:57:18.193Z"
   },
   {
    "duration": 14,
    "start_time": "2022-10-29T11:57:18.817Z"
   },
   {
    "duration": 50,
    "start_time": "2022-10-29T11:57:18.832Z"
   },
   {
    "duration": 32,
    "start_time": "2022-10-29T11:57:18.884Z"
   },
   {
    "duration": 57,
    "start_time": "2022-10-29T11:57:18.918Z"
   },
   {
    "duration": 37,
    "start_time": "2022-10-29T11:57:18.977Z"
   },
   {
    "duration": 96,
    "start_time": "2022-10-29T11:57:19.016Z"
   },
   {
    "duration": 54,
    "start_time": "2022-10-29T11:57:19.114Z"
   },
   {
    "duration": 17,
    "start_time": "2022-10-29T11:57:19.170Z"
   },
   {
    "duration": 77,
    "start_time": "2022-10-29T11:57:19.189Z"
   },
   {
    "duration": 30,
    "start_time": "2022-10-29T11:57:19.270Z"
   },
   {
    "duration": 26,
    "start_time": "2022-10-29T11:57:19.302Z"
   },
   {
    "duration": 62,
    "start_time": "2022-10-29T11:57:19.331Z"
   },
   {
    "duration": 22,
    "start_time": "2022-10-29T11:57:19.394Z"
   },
   {
    "duration": 50,
    "start_time": "2022-10-29T11:57:19.418Z"
   },
   {
    "duration": 20,
    "start_time": "2022-10-29T11:57:19.470Z"
   },
   {
    "duration": 53,
    "start_time": "2022-10-29T11:57:19.492Z"
   },
   {
    "duration": 43,
    "start_time": "2022-10-29T11:57:19.547Z"
   },
   {
    "duration": 18,
    "start_time": "2022-10-29T11:57:19.591Z"
   },
   {
    "duration": 2885,
    "start_time": "2022-10-29T11:57:19.610Z"
   },
   {
    "duration": 3,
    "start_time": "2022-10-29T11:57:22.497Z"
   },
   {
    "duration": 2964,
    "start_time": "2022-10-29T11:57:22.502Z"
   },
   {
    "duration": 11,
    "start_time": "2022-10-29T11:57:25.467Z"
   },
   {
    "duration": 17,
    "start_time": "2022-10-29T11:57:25.480Z"
   },
   {
    "duration": 10,
    "start_time": "2022-10-29T11:57:25.498Z"
   },
   {
    "duration": 39,
    "start_time": "2022-10-29T11:57:25.510Z"
   }
  ],
  "kernelspec": {
   "display_name": "Python 3 (ipykernel)",
   "language": "python",
   "name": "python3"
  },
  "language_info": {
   "codemirror_mode": {
    "name": "ipython",
    "version": 3
   },
   "file_extension": ".py",
   "mimetype": "text/x-python",
   "name": "python",
   "nbconvert_exporter": "python",
   "pygments_lexer": "ipython3",
   "version": "3.9.12"
  },
  "toc": {
   "base_numbering": 1,
   "nav_menu": {},
   "number_sections": true,
   "sideBar": true,
   "skip_h1_title": true,
   "title_cell": "Содержание",
   "title_sidebar": "Содержание",
   "toc_cell": true,
   "toc_position": {
    "height": "calc(100% - 180px)",
    "left": "10px",
    "top": "150px",
    "width": "303.837px"
   },
   "toc_section_display": true,
   "toc_window_display": true
  }
 },
 "nbformat": 4,
 "nbformat_minor": 5
}
