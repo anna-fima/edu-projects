{
 "cells": [
  {
   "cell_type": "markdown",
   "metadata": {
    "id": "E0vqbgi9ay0H"
   },
   "source": [
    "# Яндекс.Музыка"
   ]
  },
  {
   "cell_type": "markdown",
   "metadata": {
    "id": "VUC88oWjTJw2"
   },
   "source": [
    "Сравнение Москвы и Петербурга окружено мифами. Например:\n",
    " * Москва — мегаполис, подчинённый жёсткому ритму рабочей недели;\n",
    " * Петербург — культурная столица, со своими вкусами.\n",
    "\n",
    "На данных Яндекс.Музыки сравним поведение пользователей двух столиц.\n",
    "\n",
    "**Цель исследования** — проверить три гипотезы:\n",
    "1. Активность пользователей зависит от дня недели. Причём в Москве и Петербурге это проявляется по-разному.\n",
    "2. В понедельник утром в Москве преобладают одни жанры, а в Петербурге — другие. Так же и вечером пятницы преобладают разные жанры — в зависимости от города. \n",
    "3. Москва и Петербург предпочитают разные жанры музыки. В Москве чаще слушают поп-музыку, в Петербурге — русский рэп.\n",
    "\n",
    "**Ход исследования**\n",
    "\n",
    "Данные о поведении пользователей получим из файла `yandex_music_project.csv`. О качестве данных ничего не известно. Поэтому перед проверкой гипотез понадобится обзор данных. \n",
    "\n",
    "Проверим данные на ошибки и оценим их влияние на исследование. Затем, на этапе предобработки поищем возможность исправить самые критичные ошибки данных.\n",
    " \n",
    "Таким образом, исследование пройдёт в три этапа:\n",
    " 1. Обзор данных.\n",
    " 2. Предобработка данных.\n",
    " 3. Проверка гипотез.\n",
    "\n"
   ]
  },
  {
   "cell_type": "markdown",
   "metadata": {
    "id": "Ml1hmfXC_Zcs"
   },
   "source": [
    "## Обзор данных\n",
    "\n",
    "Составим первое представление о данных Яндекс.Музыки.\n",
    "\n",
    "\n"
   ]
  },
  {
   "cell_type": "markdown",
   "metadata": {
    "id": "57eAOGIz_Zcs"
   },
   "source": [
    "Основной инструмент аналитика — `pandas`. Импортируем эту библиотеку."
   ]
  },
  {
   "cell_type": "code",
   "execution_count": 41,
   "metadata": {
    "id": "AXN7PHPN_Zcs"
   },
   "outputs": [],
   "source": [
    "import pandas as pd # импорт библиотеки pandas"
   ]
  },
  {
   "cell_type": "markdown",
   "metadata": {
    "id": "SG23P8tt_Zcs"
   },
   "source": [
    "Прочитаем файл `yandex_music_project.csv` из папки `/datasets` и сохраним его в переменной `df`:"
   ]
  },
  {
   "cell_type": "code",
   "execution_count": 42,
   "metadata": {
    "id": "fFVu7vqh_Zct"
   },
   "outputs": [],
   "source": [
    "df = pd.read_csv('/datasets/yandex_music_project.csv') # чтение файла с данными и сохранение в df"
   ]
  },
  {
   "cell_type": "markdown",
   "metadata": {
    "id": "rDoOMd3uTqnZ"
   },
   "source": [
    "Выведем на экран первые десять строк таблицы:"
   ]
  },
  {
   "cell_type": "code",
   "execution_count": 43,
   "metadata": {
    "id": "oWTVX3gW_Zct"
   },
   "outputs": [
    {
     "data": {
      "text/html": [
       "<div>\n",
       "<style scoped>\n",
       "    .dataframe tbody tr th:only-of-type {\n",
       "        vertical-align: middle;\n",
       "    }\n",
       "\n",
       "    .dataframe tbody tr th {\n",
       "        vertical-align: top;\n",
       "    }\n",
       "\n",
       "    .dataframe thead th {\n",
       "        text-align: right;\n",
       "    }\n",
       "</style>\n",
       "<table border=\"1\" class=\"dataframe\">\n",
       "  <thead>\n",
       "    <tr style=\"text-align: right;\">\n",
       "      <th></th>\n",
       "      <th>userID</th>\n",
       "      <th>Track</th>\n",
       "      <th>artist</th>\n",
       "      <th>genre</th>\n",
       "      <th>City</th>\n",
       "      <th>time</th>\n",
       "      <th>Day</th>\n",
       "    </tr>\n",
       "  </thead>\n",
       "  <tbody>\n",
       "    <tr>\n",
       "      <td>0</td>\n",
       "      <td>FFB692EC</td>\n",
       "      <td>Kamigata To Boots</td>\n",
       "      <td>The Mass Missile</td>\n",
       "      <td>rock</td>\n",
       "      <td>Saint-Petersburg</td>\n",
       "      <td>20:28:33</td>\n",
       "      <td>Wednesday</td>\n",
       "    </tr>\n",
       "    <tr>\n",
       "      <td>1</td>\n",
       "      <td>55204538</td>\n",
       "      <td>Delayed Because of Accident</td>\n",
       "      <td>Andreas Rönnberg</td>\n",
       "      <td>rock</td>\n",
       "      <td>Moscow</td>\n",
       "      <td>14:07:09</td>\n",
       "      <td>Friday</td>\n",
       "    </tr>\n",
       "    <tr>\n",
       "      <td>2</td>\n",
       "      <td>20EC38</td>\n",
       "      <td>Funiculì funiculà</td>\n",
       "      <td>Mario Lanza</td>\n",
       "      <td>pop</td>\n",
       "      <td>Saint-Petersburg</td>\n",
       "      <td>20:58:07</td>\n",
       "      <td>Wednesday</td>\n",
       "    </tr>\n",
       "    <tr>\n",
       "      <td>3</td>\n",
       "      <td>A3DD03C9</td>\n",
       "      <td>Dragons in the Sunset</td>\n",
       "      <td>Fire + Ice</td>\n",
       "      <td>folk</td>\n",
       "      <td>Saint-Petersburg</td>\n",
       "      <td>08:37:09</td>\n",
       "      <td>Monday</td>\n",
       "    </tr>\n",
       "    <tr>\n",
       "      <td>4</td>\n",
       "      <td>E2DC1FAE</td>\n",
       "      <td>Soul People</td>\n",
       "      <td>Space Echo</td>\n",
       "      <td>dance</td>\n",
       "      <td>Moscow</td>\n",
       "      <td>08:34:34</td>\n",
       "      <td>Monday</td>\n",
       "    </tr>\n",
       "    <tr>\n",
       "      <td>5</td>\n",
       "      <td>842029A1</td>\n",
       "      <td>Преданная</td>\n",
       "      <td>IMPERVTOR</td>\n",
       "      <td>rusrap</td>\n",
       "      <td>Saint-Petersburg</td>\n",
       "      <td>13:09:41</td>\n",
       "      <td>Friday</td>\n",
       "    </tr>\n",
       "    <tr>\n",
       "      <td>6</td>\n",
       "      <td>4CB90AA5</td>\n",
       "      <td>True</td>\n",
       "      <td>Roman Messer</td>\n",
       "      <td>dance</td>\n",
       "      <td>Moscow</td>\n",
       "      <td>13:00:07</td>\n",
       "      <td>Wednesday</td>\n",
       "    </tr>\n",
       "    <tr>\n",
       "      <td>7</td>\n",
       "      <td>F03E1C1F</td>\n",
       "      <td>Feeling This Way</td>\n",
       "      <td>Polina Griffith</td>\n",
       "      <td>dance</td>\n",
       "      <td>Moscow</td>\n",
       "      <td>20:47:49</td>\n",
       "      <td>Wednesday</td>\n",
       "    </tr>\n",
       "    <tr>\n",
       "      <td>8</td>\n",
       "      <td>8FA1D3BE</td>\n",
       "      <td>И вновь продолжается бой</td>\n",
       "      <td>NaN</td>\n",
       "      <td>ruspop</td>\n",
       "      <td>Moscow</td>\n",
       "      <td>09:17:40</td>\n",
       "      <td>Friday</td>\n",
       "    </tr>\n",
       "    <tr>\n",
       "      <td>9</td>\n",
       "      <td>E772D5C0</td>\n",
       "      <td>Pessimist</td>\n",
       "      <td>NaN</td>\n",
       "      <td>dance</td>\n",
       "      <td>Saint-Petersburg</td>\n",
       "      <td>21:20:49</td>\n",
       "      <td>Wednesday</td>\n",
       "    </tr>\n",
       "  </tbody>\n",
       "</table>\n",
       "</div>"
      ],
      "text/plain": [
       "     userID                        Track            artist   genre  \\\n",
       "0  FFB692EC            Kamigata To Boots  The Mass Missile    rock   \n",
       "1  55204538  Delayed Because of Accident  Andreas Rönnberg    rock   \n",
       "2    20EC38            Funiculì funiculà       Mario Lanza     pop   \n",
       "3  A3DD03C9        Dragons in the Sunset        Fire + Ice    folk   \n",
       "4  E2DC1FAE                  Soul People        Space Echo   dance   \n",
       "5  842029A1                    Преданная         IMPERVTOR  rusrap   \n",
       "6  4CB90AA5                         True      Roman Messer   dance   \n",
       "7  F03E1C1F             Feeling This Way   Polina Griffith   dance   \n",
       "8  8FA1D3BE     И вновь продолжается бой               NaN  ruspop   \n",
       "9  E772D5C0                    Pessimist               NaN   dance   \n",
       "\n",
       "             City        time        Day  \n",
       "0  Saint-Petersburg  20:28:33  Wednesday  \n",
       "1            Moscow  14:07:09     Friday  \n",
       "2  Saint-Petersburg  20:58:07  Wednesday  \n",
       "3  Saint-Petersburg  08:37:09     Monday  \n",
       "4            Moscow  08:34:34     Monday  \n",
       "5  Saint-Petersburg  13:09:41     Friday  \n",
       "6            Moscow  13:00:07  Wednesday  \n",
       "7            Moscow  20:47:49  Wednesday  \n",
       "8            Moscow  09:17:40     Friday  \n",
       "9  Saint-Petersburg  21:20:49  Wednesday  "
      ]
     },
     "execution_count": 43,
     "metadata": {},
     "output_type": "execute_result"
    }
   ],
   "source": [
    "df.head(10) # получение первых 10 строк таблицы df"
   ]
  },
  {
   "cell_type": "code",
   "execution_count": 44,
   "metadata": {
    "id": "DSf2kIb-_Zct"
   },
   "outputs": [
    {
     "name": "stdout",
     "output_type": "stream",
     "text": [
      "<class 'pandas.core.frame.DataFrame'>\n",
      "RangeIndex: 65079 entries, 0 to 65078\n",
      "Data columns (total 7 columns):\n",
      "  userID    65079 non-null object\n",
      "Track       63848 non-null object\n",
      "artist      57876 non-null object\n",
      "genre       63881 non-null object\n",
      "  City      65079 non-null object\n",
      "time        65079 non-null object\n",
      "Day         65079 non-null object\n",
      "dtypes: object(7)\n",
      "memory usage: 3.5+ MB\n"
     ]
    }
   ],
   "source": [
    "df.info() # получение общей информации о данных в таблице df"
   ]
  },
  {
   "cell_type": "markdown",
   "metadata": {
    "id": "TaQ2Iwbr_Zct"
   },
   "source": [
    "Итак, в таблице семь столбцов. Тип данных во всех столбцах — `object`.\n",
    "\n",
    "Согласно документации к данным:\n",
    "* `userID` — идентификатор пользователя;\n",
    "* `Track` — название трека;  \n",
    "* `artist` — имя исполнителя;\n",
    "* `genre` — название жанра;\n",
    "* `City` — город пользователя;\n",
    "* `time` — время начала прослушивания;\n",
    "* `Day` — день недели.\n",
    "\n",
    "В названиях колонок видны три нарушения стиля:\n",
    "1. Строчные буквы сочетаются с прописными.\n",
    "2. Встречаются пробелы.\n",
    "3. Слова не разделены подчеркиванием (написаны не в \"змеином_регистре\").\n",
    "\n",
    "\n",
    "\n",
    "Количество значений в столбцах различается. Значит, в данных есть пропущенные значения.\n"
   ]
  },
  {
   "cell_type": "markdown",
   "metadata": {
    "id": "MCB6-dXG_Zct"
   },
   "source": [
    "**Выводы**\n",
    "\n",
    "В каждой строке таблицы — данные о прослушанном треке. Часть колонок описывает саму композицию: название, исполнителя и жанр. Остальные данные рассказывают о пользователе: из какого он города, когда он слушал музыку. \n",
    "\n",
    "Предварительно можно утверждать, что, данных достаточно для проверки гипотез. Но встречаются пропуски в данных, а в названиях колонок — расхождения с хорошим стилем.\n",
    "\n",
    "Чтобы двигаться дальше, нужно устранить проблемы в данных."
   ]
  },
  {
   "cell_type": "markdown",
   "metadata": {
    "id": "SjYF6Ub9_Zct"
   },
   "source": [
    "## Предобработка данных\n",
    "Исправим стиль в заголовках столбцов, исключим пропуски. Затем проверим данные на дубликаты."
   ]
  },
  {
   "cell_type": "markdown",
   "metadata": {
    "id": "dIaKXr29_Zct"
   },
   "source": [
    "### Стиль заголовков\n",
    "Выведем на экран названия столбцов:"
   ]
  },
  {
   "cell_type": "code",
   "execution_count": 45,
   "metadata": {
    "id": "oKOTdF_Q_Zct"
   },
   "outputs": [
    {
     "data": {
      "text/plain": [
       "Index(['  userID', 'Track', 'artist', 'genre', '  City  ', 'time', 'Day'], dtype='object')"
      ]
     },
     "execution_count": 45,
     "metadata": {},
     "output_type": "execute_result"
    }
   ],
   "source": [
    "df.columns # перечень названий столбцов таблицы df"
   ]
  },
  {
   "cell_type": "markdown",
   "metadata": {
    "id": "zj5534cv_Zct"
   },
   "source": [
    "Приведём названия в соответствие с хорошим стилем:\n",
    "* несколько слов в названии запишем в «змеином_регистре»,\n",
    "* все символы сделаем строчными,\n",
    "* устраним пробелы.\n",
    "\n",
    "Для этого переименуем колонки так:\n",
    "* `'  userID'` → `'user_id'`;\n",
    "* `'Track'` → `'track'`;\n",
    "* `'  City  '` → `'city'`;\n",
    "* `'Day'` → `'day'`."
   ]
  },
  {
   "cell_type": "code",
   "execution_count": 46,
   "metadata": {
    "id": "ISlFqs5y_Zct"
   },
   "outputs": [],
   "source": [
    "df = df.rename(columns={'  userID': 'user_id', 'Track': 'track', '  City  ': 'city', 'Day': 'day'}) # переименование столбцов"
   ]
  },
  {
   "cell_type": "markdown",
   "metadata": {
    "id": "1dqbh00J_Zct"
   },
   "source": [
    "Проверим результат. Для этого ещё раз выведем на экран названия столбцов:"
   ]
  },
  {
   "cell_type": "code",
   "execution_count": 47,
   "metadata": {
    "id": "d4NOAmTW_Zct"
   },
   "outputs": [
    {
     "data": {
      "text/plain": [
       "Index(['user_id', 'track', 'artist', 'genre', 'city', 'time', 'day'], dtype='object')"
      ]
     },
     "execution_count": 47,
     "metadata": {},
     "output_type": "execute_result"
    }
   ],
   "source": [
    "df.columns # проверка результатов - перечень названий столбцов"
   ]
  },
  {
   "cell_type": "markdown",
   "metadata": {
    "id": "5ISfbcfY_Zct"
   },
   "source": [
    "### Пропуски значений\n",
    "Сначала посчитаем, сколько в таблице пропущенных значений. Для этого достаточно двух методов `pandas`:"
   ]
  },
  {
   "cell_type": "code",
   "execution_count": 48,
   "metadata": {
    "id": "RskX29qr_Zct"
   },
   "outputs": [
    {
     "data": {
      "text/plain": [
       "user_id       0\n",
       "track      1231\n",
       "artist     7203\n",
       "genre      1198\n",
       "city          0\n",
       "time          0\n",
       "day           0\n",
       "dtype: int64"
      ]
     },
     "execution_count": 48,
     "metadata": {},
     "output_type": "execute_result"
    }
   ],
   "source": [
    "df.isna().sum() # подсчёт пропусков"
   ]
  },
  {
   "cell_type": "markdown",
   "metadata": {
    "id": "qubhgnlO_Zct"
   },
   "source": [
    "Не все пропущенные значения влияют на исследование. Так в `track` и `artist` пропуски не важны для работы. Достаточно заменить их явными обозначениями.\n",
    "\n",
    "Но пропуски в `genre` могут помешать сравнению музыкальных вкусов в Москве и Санкт-Петербурге. На практике было бы правильно установить причину пропусков и восстановить данные. Такой возможности нет в учебном проекте. Придётся:\n",
    "* заполнить и эти пропуски явными обозначениями,\n",
    "* оценить, насколько они повредят расчётам. "
   ]
  },
  {
   "cell_type": "markdown",
   "metadata": {
    "id": "fSv2laPA_Zct"
   },
   "source": [
    "Заменим пропущенные значения в столбцах `track`, `artist` и `genre` на строку `'unknown'`. Для этого создадим список `columns_to_replace`, переберем его элементы циклом `for` и для каждого столбца выполним замену пропущенных значений:"
   ]
  },
  {
   "cell_type": "code",
   "execution_count": 49,
   "metadata": {
    "id": "KplB5qWs_Zct"
   },
   "outputs": [],
   "source": [
    "columns_to_replace = ['track', 'artist', 'genre'] # перебор названий столбцов в цикле и замена пропущенных значений на 'unknown'\n",
    "for column in columns_to_replace:\n",
    "    df[column] = df[column].fillna('unknown')"
   ]
  },
  {
   "cell_type": "markdown",
   "metadata": {
    "id": "Ilsm-MZo_Zct"
   },
   "source": [
    "Убедимся, что в таблице не осталось пропусков. Для этого ещё раз посчитаем пропущенные значения."
   ]
  },
  {
   "cell_type": "code",
   "execution_count": 50,
   "metadata": {
    "id": "Tq4nYRX4_Zct"
   },
   "outputs": [
    {
     "data": {
      "text/plain": [
       "user_id    0\n",
       "track      0\n",
       "artist     0\n",
       "genre      0\n",
       "city       0\n",
       "time       0\n",
       "day        0\n",
       "dtype: int64"
      ]
     },
     "execution_count": 50,
     "metadata": {},
     "output_type": "execute_result"
    }
   ],
   "source": [
    "df.isna().sum() # подсчёт пропусков"
   ]
  },
  {
   "cell_type": "markdown",
   "metadata": {
    "id": "BWKRtBJ3_Zct"
   },
   "source": [
    "### Дубликаты\n",
    "Посчитаем явные дубликаты в таблице одной командой:"
   ]
  },
  {
   "cell_type": "code",
   "execution_count": 51,
   "metadata": {
    "id": "36eES_S0_Zct"
   },
   "outputs": [
    {
     "data": {
      "text/plain": [
       "3826"
      ]
     },
     "execution_count": 51,
     "metadata": {},
     "output_type": "execute_result"
    }
   ],
   "source": [
    "df.duplicated().sum() # подсчёт явных дубликатов"
   ]
  },
  {
   "cell_type": "markdown",
   "metadata": {
    "id": "Ot25h6XR_Zct"
   },
   "source": [
    "Вызовем специальный метод `pandas`, чтобы удалить явные дубликаты:"
   ]
  },
  {
   "cell_type": "code",
   "execution_count": 52,
   "metadata": {
    "id": "exFHq6tt_Zct"
   },
   "outputs": [],
   "source": [
    "df = df.drop_duplicates().reset_index(drop=True) # удаление явных дубликатов (с удалением старых индексов и формированием новых)"
   ]
  },
  {
   "cell_type": "markdown",
   "metadata": {
    "id": "Im2YwBEG_Zct"
   },
   "source": [
    "Ещё раз посчитаем явные дубликаты в таблице — убедимся, что полностью от них избавились:"
   ]
  },
  {
   "cell_type": "code",
   "execution_count": 53,
   "metadata": {
    "id": "-8PuNWQ0_Zct"
   },
   "outputs": [
    {
     "data": {
      "text/plain": [
       "0"
      ]
     },
     "execution_count": 53,
     "metadata": {},
     "output_type": "execute_result"
    }
   ],
   "source": [
    "df.duplicated().sum() # проверка на отсутствие дубликатов"
   ]
  },
  {
   "cell_type": "markdown",
   "metadata": {
    "id": "QlFBsxAr_Zct"
   },
   "source": [
    "Теперь избавимся от неявных дубликатов в колонке `genre`. Например, название одного и того же жанра может быть записано немного по-разному. Такие ошибки тоже повлияют на результат исследования."
   ]
  },
  {
   "cell_type": "markdown",
   "metadata": {
    "id": "eSjWwsOh_Zct"
   },
   "source": [
    "Выведем на экран список уникальных названий жанров, отсортированный в алфавитном порядке. Для этого:\n",
    "* извлечем нужный столбец датафрейма, \n",
    "* применим к нему метод сортировки,\n",
    "* для отсортированного столбца вызовем метод, который вернёт уникальные значения из столбца."
   ]
  },
  {
   "cell_type": "code",
   "execution_count": 54,
   "metadata": {
    "id": "JIUcqzZN_Zct"
   },
   "outputs": [
    {
     "data": {
      "text/plain": [
       "array(['acid', 'acoustic', 'action', 'adult', 'africa', 'afrikaans',\n",
       "       'alternative', 'alternativepunk', 'ambient', 'americana',\n",
       "       'animated', 'anime', 'arabesk', 'arabic', 'arena',\n",
       "       'argentinetango', 'art', 'audiobook', 'author', 'avantgarde',\n",
       "       'axé', 'baile', 'balkan', 'beats', 'bigroom', 'black', 'bluegrass',\n",
       "       'blues', 'bollywood', 'bossa', 'brazilian', 'breakbeat', 'breaks',\n",
       "       'broadway', 'cantautori', 'cantopop', 'canzone', 'caribbean',\n",
       "       'caucasian', 'celtic', 'chamber', 'chanson', 'children', 'chill',\n",
       "       'chinese', 'choral', 'christian', 'christmas', 'classical',\n",
       "       'classicmetal', 'club', 'colombian', 'comedy', 'conjazz',\n",
       "       'contemporary', 'country', 'cuban', 'dance', 'dancehall',\n",
       "       'dancepop', 'dark', 'death', 'deep', 'deutschrock', 'deutschspr',\n",
       "       'dirty', 'disco', 'dnb', 'documentary', 'downbeat', 'downtempo',\n",
       "       'drum', 'dub', 'dubstep', 'eastern', 'easy', 'electronic',\n",
       "       'electropop', 'emo', 'entehno', 'epicmetal', 'estrada', 'ethnic',\n",
       "       'eurofolk', 'european', 'experimental', 'extrememetal', 'fado',\n",
       "       'fairytail', 'film', 'fitness', 'flamenco', 'folk', 'folklore',\n",
       "       'folkmetal', 'folkrock', 'folktronica', 'forró', 'frankreich',\n",
       "       'französisch', 'french', 'funk', 'future', 'gangsta', 'garage',\n",
       "       'german', 'ghazal', 'gitarre', 'glitch', 'gospel', 'gothic',\n",
       "       'grime', 'grunge', 'gypsy', 'handsup', \"hard'n'heavy\", 'hardcore',\n",
       "       'hardstyle', 'hardtechno', 'hip', 'hip-hop', 'hiphop',\n",
       "       'historisch', 'holiday', 'hop', 'horror', 'house', 'hymn', 'idm',\n",
       "       'independent', 'indian', 'indie', 'indipop', 'industrial',\n",
       "       'inspirational', 'instrumental', 'international', 'irish', 'jam',\n",
       "       'japanese', 'jazz', 'jewish', 'jpop', 'jungle', 'k-pop',\n",
       "       'karadeniz', 'karaoke', 'kayokyoku', 'korean', 'laiko', 'latin',\n",
       "       'latino', 'leftfield', 'local', 'lounge', 'loungeelectronic',\n",
       "       'lovers', 'malaysian', 'mandopop', 'marschmusik', 'meditative',\n",
       "       'mediterranean', 'melodic', 'metal', 'metalcore', 'mexican',\n",
       "       'middle', 'minimal', 'miscellaneous', 'modern', 'mood', 'mpb',\n",
       "       'muslim', 'native', 'neoklassik', 'neue', 'new', 'newage',\n",
       "       'newwave', 'nu', 'nujazz', 'numetal', 'oceania', 'old', 'opera',\n",
       "       'orchestral', 'other', 'piano', 'podcasts', 'pop', 'popdance',\n",
       "       'popelectronic', 'popeurodance', 'poprussian', 'post',\n",
       "       'posthardcore', 'postrock', 'power', 'progmetal', 'progressive',\n",
       "       'psychedelic', 'punjabi', 'punk', 'quebecois', 'ragga', 'ram',\n",
       "       'rancheras', 'rap', 'rave', 'reggae', 'reggaeton', 'regional',\n",
       "       'relax', 'religious', 'retro', 'rhythm', 'rnb', 'rnr', 'rock',\n",
       "       'rockabilly', 'rockalternative', 'rockindie', 'rockother',\n",
       "       'romance', 'roots', 'ruspop', 'rusrap', 'rusrock', 'russian',\n",
       "       'salsa', 'samba', 'scenic', 'schlager', 'self', 'sertanejo',\n",
       "       'shanson', 'shoegazing', 'showtunes', 'singer', 'ska', 'skarock',\n",
       "       'slow', 'smooth', 'soft', 'soul', 'soulful', 'sound', 'soundtrack',\n",
       "       'southern', 'specialty', 'speech', 'spiritual', 'sport',\n",
       "       'stonerrock', 'surf', 'swing', 'synthpop', 'synthrock',\n",
       "       'sängerportrait', 'tango', 'tanzorchester', 'taraftar', 'tatar',\n",
       "       'tech', 'techno', 'teen', 'thrash', 'top', 'traditional',\n",
       "       'tradjazz', 'trance', 'tribal', 'trip', 'triphop', 'tropical',\n",
       "       'türk', 'türkçe', 'ukrrock', 'unknown', 'urban', 'uzbek',\n",
       "       'variété', 'vi', 'videogame', 'vocal', 'western', 'world',\n",
       "       'worldbeat', 'ïîï', 'электроника'], dtype=object)"
      ]
     },
     "execution_count": 54,
     "metadata": {},
     "output_type": "execute_result"
    }
   ],
   "source": [
    "df['genre'].sort_values().unique() # Просмотр уникальных названий жанров"
   ]
  },
  {
   "cell_type": "markdown",
   "metadata": {
    "id": "qej-Qmuo_Zct"
   },
   "source": [
    "Просмотрим список и найдем неявные дубликаты названия `hiphop`. Это могут быть названия с ошибками или альтернативные названия того же жанра.\n",
    "\n",
    "Видим следующие неявные дубликаты:\n",
    "* *hip*,\n",
    "* *hop*,\n",
    "* *hip-hop*.\n",
    "\n",
    "Чтобы очистить от них таблицу, напишем функцию `replace_wrong_genres()` с двумя параметрами: \n",
    "* `wrong_genres` — список дубликатов,\n",
    "* `correct_genre` — строка с правильным значением.\n",
    "\n",
    "Функция должна исправить колонку `genre` в таблице `df`: заменить каждое значение из списка `wrong_genres` на значение из `correct_genre`."
   ]
  },
  {
   "cell_type": "code",
   "execution_count": 55,
   "metadata": {
    "id": "ErNDkmns_Zct"
   },
   "outputs": [],
   "source": [
    "# Функция для замены неявных дубликатов\n",
    "def replace_wrong_genres(wrong_genres, correct_genre):\n",
    "    for wrong_genre in wrong_genres:\n",
    "        df['genre'] = df['genre'].replace(wrong_genre, correct_genre)  \n"
   ]
  },
  {
   "cell_type": "markdown",
   "metadata": {
    "id": "aDoBJxbA_Zct"
   },
   "source": [
    "Вызовем `replace_wrong_genres()` и передадим ей такие аргументы, чтобы она устранила неявные дубликаты: вместо `hip`, `hop` и `hip-hop` в таблице должно быть значение `hiphop`:"
   ]
  },
  {
   "cell_type": "code",
   "execution_count": 56,
   "metadata": {
    "id": "YN5i2hpmSo09"
   },
   "outputs": [],
   "source": [
    "duplicates = ['hip', 'hop', 'hip-hop']\n",
    "correct_name = 'hiphop'\n",
    "replace_wrong_genres(duplicates, correct_name) # Устранение неявных дубликатов"
   ]
  },
  {
   "cell_type": "markdown",
   "metadata": {
    "id": "zQKF16_RG15m"
   },
   "source": [
    "Проверим, что заменили неправильные названия:\n",
    "\n",
    "*   hip\n",
    "*   hop\n",
    "*   hip-hop\n",
    "\n",
    "Выведем отсортированный список уникальных значений столбца `genre`:"
   ]
  },
  {
   "cell_type": "code",
   "execution_count": 57,
   "metadata": {
    "id": "wvixALnFG15m"
   },
   "outputs": [
    {
     "data": {
      "text/plain": [
       "array(['acid', 'acoustic', 'action', 'adult', 'africa', 'afrikaans',\n",
       "       'alternative', 'alternativepunk', 'ambient', 'americana',\n",
       "       'animated', 'anime', 'arabesk', 'arabic', 'arena',\n",
       "       'argentinetango', 'art', 'audiobook', 'author', 'avantgarde',\n",
       "       'axé', 'baile', 'balkan', 'beats', 'bigroom', 'black', 'bluegrass',\n",
       "       'blues', 'bollywood', 'bossa', 'brazilian', 'breakbeat', 'breaks',\n",
       "       'broadway', 'cantautori', 'cantopop', 'canzone', 'caribbean',\n",
       "       'caucasian', 'celtic', 'chamber', 'chanson', 'children', 'chill',\n",
       "       'chinese', 'choral', 'christian', 'christmas', 'classical',\n",
       "       'classicmetal', 'club', 'colombian', 'comedy', 'conjazz',\n",
       "       'contemporary', 'country', 'cuban', 'dance', 'dancehall',\n",
       "       'dancepop', 'dark', 'death', 'deep', 'deutschrock', 'deutschspr',\n",
       "       'dirty', 'disco', 'dnb', 'documentary', 'downbeat', 'downtempo',\n",
       "       'drum', 'dub', 'dubstep', 'eastern', 'easy', 'electronic',\n",
       "       'electropop', 'emo', 'entehno', 'epicmetal', 'estrada', 'ethnic',\n",
       "       'eurofolk', 'european', 'experimental', 'extrememetal', 'fado',\n",
       "       'fairytail', 'film', 'fitness', 'flamenco', 'folk', 'folklore',\n",
       "       'folkmetal', 'folkrock', 'folktronica', 'forró', 'frankreich',\n",
       "       'französisch', 'french', 'funk', 'future', 'gangsta', 'garage',\n",
       "       'german', 'ghazal', 'gitarre', 'glitch', 'gospel', 'gothic',\n",
       "       'grime', 'grunge', 'gypsy', 'handsup', \"hard'n'heavy\", 'hardcore',\n",
       "       'hardstyle', 'hardtechno', 'hiphop', 'historisch', 'holiday',\n",
       "       'horror', 'house', 'hymn', 'idm', 'independent', 'indian', 'indie',\n",
       "       'indipop', 'industrial', 'inspirational', 'instrumental',\n",
       "       'international', 'irish', 'jam', 'japanese', 'jazz', 'jewish',\n",
       "       'jpop', 'jungle', 'k-pop', 'karadeniz', 'karaoke', 'kayokyoku',\n",
       "       'korean', 'laiko', 'latin', 'latino', 'leftfield', 'local',\n",
       "       'lounge', 'loungeelectronic', 'lovers', 'malaysian', 'mandopop',\n",
       "       'marschmusik', 'meditative', 'mediterranean', 'melodic', 'metal',\n",
       "       'metalcore', 'mexican', 'middle', 'minimal', 'miscellaneous',\n",
       "       'modern', 'mood', 'mpb', 'muslim', 'native', 'neoklassik', 'neue',\n",
       "       'new', 'newage', 'newwave', 'nu', 'nujazz', 'numetal', 'oceania',\n",
       "       'old', 'opera', 'orchestral', 'other', 'piano', 'podcasts', 'pop',\n",
       "       'popdance', 'popelectronic', 'popeurodance', 'poprussian', 'post',\n",
       "       'posthardcore', 'postrock', 'power', 'progmetal', 'progressive',\n",
       "       'psychedelic', 'punjabi', 'punk', 'quebecois', 'ragga', 'ram',\n",
       "       'rancheras', 'rap', 'rave', 'reggae', 'reggaeton', 'regional',\n",
       "       'relax', 'religious', 'retro', 'rhythm', 'rnb', 'rnr', 'rock',\n",
       "       'rockabilly', 'rockalternative', 'rockindie', 'rockother',\n",
       "       'romance', 'roots', 'ruspop', 'rusrap', 'rusrock', 'russian',\n",
       "       'salsa', 'samba', 'scenic', 'schlager', 'self', 'sertanejo',\n",
       "       'shanson', 'shoegazing', 'showtunes', 'singer', 'ska', 'skarock',\n",
       "       'slow', 'smooth', 'soft', 'soul', 'soulful', 'sound', 'soundtrack',\n",
       "       'southern', 'specialty', 'speech', 'spiritual', 'sport',\n",
       "       'stonerrock', 'surf', 'swing', 'synthpop', 'synthrock',\n",
       "       'sängerportrait', 'tango', 'tanzorchester', 'taraftar', 'tatar',\n",
       "       'tech', 'techno', 'teen', 'thrash', 'top', 'traditional',\n",
       "       'tradjazz', 'trance', 'tribal', 'trip', 'triphop', 'tropical',\n",
       "       'türk', 'türkçe', 'ukrrock', 'unknown', 'urban', 'uzbek',\n",
       "       'variété', 'vi', 'videogame', 'vocal', 'western', 'world',\n",
       "       'worldbeat', 'ïîï', 'электроника'], dtype=object)"
      ]
     },
     "execution_count": 57,
     "metadata": {},
     "output_type": "execute_result"
    }
   ],
   "source": [
    "df['genre'].sort_values().unique() # Проверка на неявные дубликаты"
   ]
  },
  {
   "cell_type": "markdown",
   "metadata": {
    "id": "jz6a9-7HQUDd"
   },
   "source": [
    "**Выводы**\n",
    "\n",
    "Предобработка обнаружила три проблемы в данных:\n",
    "\n",
    "- нарушения в стиле заголовков,\n",
    "- пропущенные значения,\n",
    "- дубликаты — явные и неявные.\n",
    "\n",
    "Исправили заголовки, чтобы упростить работу с таблицей. Без дубликатов исследование станет более точным.\n",
    "\n",
    "Пропущенные значения заменили на `'unknown'`. Ещё предстоит увидеть, не повредят ли исследованию пропуски в колонке `genre`.\n",
    "\n",
    "Теперь можно перейти к проверке гипотез. "
   ]
  },
  {
   "cell_type": "markdown",
   "metadata": {
    "id": "WttZHXH0SqKk"
   },
   "source": [
    "## Проверка гипотез"
   ]
  },
  {
   "cell_type": "markdown",
   "metadata": {
    "id": "Im936VVi_Zcu"
   },
   "source": [
    "### Сравнение поведения пользователей двух столиц"
   ]
  },
  {
   "cell_type": "markdown",
   "metadata": {
    "id": "nwt_MuaL_Zcu"
   },
   "source": [
    "Первая гипотеза утверждает, что пользователи по-разному слушают музыку в Москве и Санкт-Петербурге. Проверим это предположение по данным о трёх днях недели — понедельнике, среде и пятнице. Для этого:\n",
    "\n",
    "* Разделим пользователей Москвы и Санкт-Петербурга\n",
    "* Сравним, сколько треков послушала каждая группа пользователей в понедельник, среду и пятницу.\n"
   ]
  },
  {
   "cell_type": "markdown",
   "metadata": {
    "id": "8Dw_YMmT_Zcu"
   },
   "source": [
    "Для тренировки сначала выполним каждый из расчётов по отдельности. \n",
    "\n",
    "Оценим активность пользователей в каждом городе. Сгруппируем данные по городу и посчитаем прослушивания в каждой группе.\n",
    "\n"
   ]
  },
  {
   "cell_type": "code",
   "execution_count": 58,
   "metadata": {
    "id": "0_Qs96oh_Zcu"
   },
   "outputs": [
    {
     "data": {
      "text/plain": [
       "city\n",
       "Moscow              42741\n",
       "Saint-Petersburg    18512\n",
       "Name: track, dtype: int64"
      ]
     },
     "execution_count": 58,
     "metadata": {},
     "output_type": "execute_result"
    }
   ],
   "source": [
    "df.groupby('city')['track'].count() # Подсчёт прослушиваний в каждом городе"
   ]
  },
  {
   "cell_type": "markdown",
   "metadata": {
    "id": "dzli3w8o_Zcu"
   },
   "source": [
    "В Москве прослушиваний больше, чем в Петербурге. Из этого не следует, что московские пользователи чаще слушают музыку. Просто самих пользователей в Москве больше.\n",
    "\n",
    "Теперь сгруппируем данные по дню недели и подсчитаем прослушивания в понедельник, среду и пятницу. Учтем, что в данных есть информация только о прослушиваниях только за эти дни.\n"
   ]
  },
  {
   "cell_type": "code",
   "execution_count": 59,
   "metadata": {
    "id": "uZMKjiJz_Zcu"
   },
   "outputs": [
    {
     "data": {
      "text/plain": [
       "day\n",
       "Friday       21840\n",
       "Monday       21354\n",
       "Wednesday    18059\n",
       "Name: track, dtype: int64"
      ]
     },
     "execution_count": 59,
     "metadata": {},
     "output_type": "execute_result"
    }
   ],
   "source": [
    "df.groupby('day')['track'].count() # Подсчёт прослушиваний в каждый из трёх дней"
   ]
  },
  {
   "cell_type": "markdown",
   "metadata": {
    "id": "cC2tNrlL_Zcu"
   },
   "source": [
    "В среднем пользователи из двух городов менее активны по средам. Но картина может измениться, если рассмотреть каждый город в отдельности."
   ]
  },
  {
   "cell_type": "markdown",
   "metadata": {
    "id": "POzs8bGa_Zcu"
   },
   "source": [
    "Мы видели, как работает группировка по городу и по дням недели. Теперь напишем функцию, которая объединит два эти расчёта.\n",
    "\n",
    "Создадим функцию `number_tracks()`, которая посчитает прослушивания для заданного дня и города. Ей понадобятся два параметра:\n",
    "* день недели,\n",
    "* название города.\n",
    "\n",
    "В функции сохраним в переменную строки исходной таблицы, у которых значение:\n",
    "  * в колонке `day` равно параметру `day`,\n",
    "  * в колонке `city` равно параметру `city`.\n",
    "\n",
    "Для этого применим последовательную фильтрацию с логической индексацией.\n",
    "\n",
    "Затем посчитаем значения в столбце `user_id` получившейся таблицы. Результат сохраним в новую переменную. Вернем эту переменную из функции."
   ]
  },
  {
   "cell_type": "code",
   "execution_count": 60,
   "metadata": {
    "id": "Nz3GdQB1_Zcu"
   },
   "outputs": [],
   "source": [
    "# <создание функции number_tracks()>\n",
    "# Объявляется функция с двумя параметрами: day, city.\n",
    "# В переменной track_list сохраняются те строки таблицы df, для которых \n",
    "# значение в столбце 'day' равно параметру day и одновременно значение\n",
    "# в столбце 'city' равно параметру city (используем последовательную фильтрацию\n",
    "# с помощью логической индексации).\n",
    "# В переменной track_list_count сохраняется число значений столбца 'user_id',\n",
    "# рассчитанное методом count() для таблицы track_list.\n",
    "# Функция возвращает число - значение track_list_count.\n",
    "# Функция для подсчёта прослушиваний для конкретного города и дня.\n",
    "# С помощью последовательной фильтрации с логической индексацией она \n",
    "# сначала получит из исходной таблицы строки с нужным днём,\n",
    "# затем из результата отфильтрует строки с нужным городом,\n",
    "# методом count() посчитает количество значений в колонке user_id. \n",
    "# Это количество функция вернёт в качестве результата\n",
    "\n",
    "def number_tracks(day, city): \n",
    "    track_list = df[df['day'] == day]\n",
    "    track_list = track_list[track_list['city'] == city]\n",
    "    track_list_count = track_list['user_id'].count()\n",
    "    return track_list_count\n",
    "\n"
   ]
  },
  {
   "cell_type": "markdown",
   "metadata": {
    "id": "ytf7xFrFJQ2r"
   },
   "source": [
    "Вызовем `number_tracks()` шесть раз, меняя значение параметров — так, чтобы получить данные для каждого города в каждый из трёх дней."
   ]
  },
  {
   "cell_type": "code",
   "execution_count": 61,
   "metadata": {
    "id": "rJcRATNQ_Zcu"
   },
   "outputs": [],
   "source": [
    "msk_mon = number_tracks('Monday', 'Moscow') # количество прослушиваний в Москве по понедельникам"
   ]
  },
  {
   "cell_type": "code",
   "execution_count": 62,
   "metadata": {
    "id": "hq_ncZ5T_Zcu"
   },
   "outputs": [],
   "source": [
    "spb_mon = number_tracks('Monday', 'Saint-Petersburg') # количество прослушиваний в Санкт-Петербурге по понедельникам"
   ]
  },
  {
   "cell_type": "code",
   "execution_count": 63,
   "metadata": {
    "id": "_NTy2VPU_Zcu"
   },
   "outputs": [],
   "source": [
    "msk_wed = number_tracks('Wednesday', 'Moscow') # количество прослушиваний в Москве по средам"
   ]
  },
  {
   "cell_type": "code",
   "execution_count": 64,
   "metadata": {
    "id": "j2y3TAwo_Zcu"
   },
   "outputs": [],
   "source": [
    "spb_wed = number_tracks('Wednesday', 'Saint-Petersburg') # количество прослушиваний в Санкт-Петербурге по средам"
   ]
  },
  {
   "cell_type": "code",
   "execution_count": 65,
   "metadata": {
    "id": "vYDw5u_K_Zcu"
   },
   "outputs": [],
   "source": [
    "msk_fri = number_tracks('Friday', 'Moscow') # количество прослушиваний в Москве по пятницам"
   ]
  },
  {
   "cell_type": "code",
   "execution_count": 66,
   "metadata": {
    "id": "8_yzFtW3_Zcu"
   },
   "outputs": [],
   "source": [
    "spb_fri = number_tracks('Friday', 'Saint-Petersburg') # количество прослушиваний в Санкт-Петербурге по пятницам"
   ]
  },
  {
   "cell_type": "markdown",
   "metadata": {
    "id": "7QXffbO-_Zcu"
   },
   "source": [
    "Создадим c помощью конструктора `pd.DataFrame` таблицу, где\n",
    "* названия колонок — `['city', 'monday', 'wednesday', 'friday']`;\n",
    "* данные — результаты, которые мы получили с помощью `number_tracks`."
   ]
  },
  {
   "cell_type": "code",
   "execution_count": 67,
   "metadata": {
    "id": "APAcLpOr_Zcu"
   },
   "outputs": [
    {
     "data": {
      "text/html": [
       "<div>\n",
       "<style scoped>\n",
       "    .dataframe tbody tr th:only-of-type {\n",
       "        vertical-align: middle;\n",
       "    }\n",
       "\n",
       "    .dataframe tbody tr th {\n",
       "        vertical-align: top;\n",
       "    }\n",
       "\n",
       "    .dataframe thead th {\n",
       "        text-align: right;\n",
       "    }\n",
       "</style>\n",
       "<table border=\"1\" class=\"dataframe\">\n",
       "  <thead>\n",
       "    <tr style=\"text-align: right;\">\n",
       "      <th></th>\n",
       "      <th>city</th>\n",
       "      <th>monday</th>\n",
       "      <th>wednesday</th>\n",
       "      <th>friday</th>\n",
       "    </tr>\n",
       "  </thead>\n",
       "  <tbody>\n",
       "    <tr>\n",
       "      <td>0</td>\n",
       "      <td>Moscow</td>\n",
       "      <td>15740</td>\n",
       "      <td>11056</td>\n",
       "      <td>15945</td>\n",
       "    </tr>\n",
       "    <tr>\n",
       "      <td>1</td>\n",
       "      <td>Saint-Petersburg</td>\n",
       "      <td>5614</td>\n",
       "      <td>7003</td>\n",
       "      <td>5895</td>\n",
       "    </tr>\n",
       "  </tbody>\n",
       "</table>\n",
       "</div>"
      ],
      "text/plain": [
       "               city  monday  wednesday  friday\n",
       "0            Moscow   15740      11056   15945\n",
       "1  Saint-Petersburg    5614       7003    5895"
      ]
     },
     "execution_count": 67,
     "metadata": {},
     "output_type": "execute_result"
    }
   ],
   "source": [
    " # Таблица с результатами\n",
    "columns = ['city', 'monday', 'wednesday', 'friday']\n",
    "data = [['Moscow', msk_mon, msk_wed, msk_fri], ['Saint-Petersburg', spb_mon, spb_wed, spb_fri]]\n",
    "pd.DataFrame(data=data, columns=columns)"
   ]
  },
  {
   "cell_type": "markdown",
   "metadata": {
    "id": "-EgPIHYu_Zcu"
   },
   "source": [
    "**Выводы**\n",
    "\n",
    "Данные показывают разницу поведения пользователей:\n",
    "\n",
    "- В Москве пик прослушиваний приходится на понедельник и пятницу, а в среду заметен спад.\n",
    "- В Петербурге, наоборот, больше слушают музыку по средам. Активность в понедельник и пятницу здесь почти в равной мере уступает среде.\n",
    "\n",
    "Значит, данные говорят в пользу первой гипотезы."
   ]
  },
  {
   "cell_type": "markdown",
   "metadata": {
    "id": "atZAxtq4_Zcu"
   },
   "source": [
    "### Музыка в начале и в конце недели"
   ]
  },
  {
   "cell_type": "markdown",
   "metadata": {
    "id": "eXrQqXFH_Zcu"
   },
   "source": [
    "Согласно второй гипотезе, утром в понедельник в Москве преобладают одни жанры, а в Петербурге — другие. Так же и вечером пятницы преобладают разные жанры — в зависимости от города."
   ]
  },
  {
   "cell_type": "markdown",
   "metadata": {
    "id": "S8UcW6Hw_Zcu"
   },
   "source": [
    "Сохраним таблицы с данными в две переменные:\n",
    "* по Москве — в `moscow_general`;\n",
    "* по Санкт-Петербургу — в `spb_general`."
   ]
  },
  {
   "cell_type": "code",
   "execution_count": 68,
   "metadata": {
    "id": "qeaFfM_P_Zcu"
   },
   "outputs": [],
   "source": [
    "# получение таблицы moscow_general из тех строк таблицы df, \n",
    "# для которых значение в столбце 'city' равно 'Moscow'\n",
    "moscow_general = df[df['city']=='Moscow']"
   ]
  },
  {
   "cell_type": "code",
   "execution_count": 69,
   "metadata": {
    "id": "ORaVRKto_Zcu"
   },
   "outputs": [],
   "source": [
    "# получение таблицы spb_general из тех строк таблицы df,\n",
    "# для которых значение в столбце 'city' равно 'Saint-Petersburg'\n",
    "spb_general = df[df['city'] == 'Saint-Petersburg']"
   ]
  },
  {
   "cell_type": "markdown",
   "metadata": {
    "id": "MEJV-CX2_Zcu"
   },
   "source": [
    "Создадим функцию `genre_weekday()` с четырьмя параметрами:\n",
    "* таблица (датафрейм) с данными,\n",
    "* день недели,\n",
    "* начальная временная метка в формате 'hh:mm', \n",
    "* последняя временная метка в формате 'hh:mm'.\n",
    "\n",
    "Функция должна вернуть информацию о топ-10 жанров тех треков, которые прослушивали в указанный день, в промежутке между двумя отметками времени."
   ]
  },
  {
   "cell_type": "code",
   "execution_count": 70,
   "metadata": {
    "id": "laJT9BYl_Zcu"
   },
   "outputs": [],
   "source": [
    "# Объявление функции genre_weekday() с параметрами table, day, time1, time2,\n",
    "# которая возвращает информацию о самых популярных жанрах в указанный день в\n",
    "# заданное время:\n",
    "# 1) в переменную genre_df сохраняются те строки переданного датафрейма table, для\n",
    "#    которых одновременно:\n",
    "#    - значение в столбце day равно значению аргумента day\n",
    "#    - значение в столбце time больше значения аргумента time1\n",
    "#    - значение в столбце time меньше значения аргумента time2\n",
    "#    Используйте последовательную фильтрацию с помощью логической индексации.\n",
    "# 2) сгруппировать датафрейм genre_df по столбцу genre, взять один из его\n",
    "#    столбцов и посчитать методом count() количество записей для каждого из\n",
    "#    присутствующих жанров, получившийся Series записать в переменную\n",
    "#    genre_df_count\n",
    "# 3) отсортировать genre_df_count по убыванию встречаемости и сохранить\n",
    "#    в переменную genre_df_sorted\n",
    "# 4) вернуть Series из 10 первых значений genre_df_sorted, это будут топ-10\n",
    "#    популярных жанров (в указанный день, в заданное время)\n",
    "\n",
    "def genre_weekday(table, day, time1, time2):\n",
    "    genre_df = table[table['day'] == day]\n",
    "    genre_df = genre_df[genre_df['time'] > time1]\n",
    "    genre_df = genre_df[genre_df['time'] < time2]\n",
    "    genre_df_count = genre_df.groupby('genre')['track'].count()\n",
    "    genre_df_sorted = genre_df_count.sort_values(ascending=False)\n",
    "    return genre_df_sorted.head(10)\n"
   ]
  },
  {
   "cell_type": "markdown",
   "metadata": {
    "id": "la2s2_PF_Zcu"
   },
   "source": [
    "Cравним результаты функции `genre_weekday()` для Москвы и Санкт-Петербурга в понедельник утром (с 7:00 до 11:00) и в пятницу вечером (с 17:00 до 23:00):"
   ]
  },
  {
   "cell_type": "code",
   "execution_count": 71,
   "metadata": {
    "id": "yz7itPUQ_Zcu"
   },
   "outputs": [
    {
     "data": {
      "text/plain": [
       "genre\n",
       "pop            781\n",
       "dance          549\n",
       "electronic     480\n",
       "rock           474\n",
       "hiphop         286\n",
       "ruspop         186\n",
       "world          181\n",
       "rusrap         175\n",
       "alternative    164\n",
       "unknown        161\n",
       "Name: track, dtype: int64"
      ]
     },
     "execution_count": 71,
     "metadata": {},
     "output_type": "execute_result"
    }
   ],
   "source": [
    "# вызов функции для утра понедельника в Москве (вместо df — таблица moscow_general)\n",
    "# объекты, хранящие время, являются строками и сравниваются как строки\n",
    "# пример вызова: genre_weekday(moscow_general, 'Monday', '07:00', '11:00')\n",
    "genre_weekday(moscow_general, 'Monday', '07:00', '11:00')"
   ]
  },
  {
   "cell_type": "code",
   "execution_count": 72,
   "metadata": {
    "id": "kwUcHPdy_Zcu"
   },
   "outputs": [
    {
     "data": {
      "text/plain": [
       "genre\n",
       "pop            218\n",
       "dance          182\n",
       "rock           162\n",
       "electronic     147\n",
       "hiphop          80\n",
       "ruspop          64\n",
       "alternative     58\n",
       "rusrap          55\n",
       "jazz            44\n",
       "classical       40\n",
       "Name: track, dtype: int64"
      ]
     },
     "execution_count": 72,
     "metadata": {},
     "output_type": "execute_result"
    }
   ],
   "source": [
    "# вызов функции для утра понедельника в Петербурге (вместо df — таблица spb_general)\n",
    "genre_weekday(spb_general, 'Monday', '07:00', '11:00')"
   ]
  },
  {
   "cell_type": "code",
   "execution_count": 73,
   "metadata": {
    "id": "EzXVRE1o_Zcu"
   },
   "outputs": [
    {
     "data": {
      "text/plain": [
       "genre\n",
       "pop            713\n",
       "rock           517\n",
       "dance          495\n",
       "electronic     482\n",
       "hiphop         273\n",
       "world          208\n",
       "ruspop         170\n",
       "alternative    163\n",
       "classical      163\n",
       "rusrap         142\n",
       "Name: track, dtype: int64"
      ]
     },
     "execution_count": 73,
     "metadata": {},
     "output_type": "execute_result"
    }
   ],
   "source": [
    "# вызов функции для вечера пятницы в Москве\n",
    "genre_weekday(moscow_general, 'Friday', '17:00', '23:00')"
   ]
  },
  {
   "cell_type": "code",
   "execution_count": 74,
   "metadata": {
    "id": "JZaEKu5v_Zcu"
   },
   "outputs": [
    {
     "data": {
      "text/plain": [
       "genre\n",
       "pop            256\n",
       "rock           216\n",
       "electronic     216\n",
       "dance          210\n",
       "hiphop          97\n",
       "alternative     63\n",
       "jazz            61\n",
       "classical       60\n",
       "rusrap          59\n",
       "world           54\n",
       "Name: track, dtype: int64"
      ]
     },
     "execution_count": 74,
     "metadata": {},
     "output_type": "execute_result"
    }
   ],
   "source": [
    "# вызов функции для вечера пятницы в Петербурге\n",
    "genre_weekday(spb_general, 'Friday', '17:00', '23:00')"
   ]
  },
  {
   "cell_type": "markdown",
   "metadata": {
    "id": "wrCe4MNX_Zcu"
   },
   "source": [
    "**Выводы**\n",
    "\n",
    "Если сравнить топ-10 жанров в понедельник утром, можно сделать такие выводы:\n",
    "\n",
    "1. В Москве и Петербурге слушают похожую музыку. Единственное отличие — в московский рейтинг вошёл жанр “world”, а в петербургский — джаз и классика.\n",
    "\n",
    "2. В Москве пропущенных значений оказалось так много, что значение `'unknown'` заняло десятое место среди самых популярных жанров. Значит, пропущенные значения занимают существенную долю в данных и угрожают достоверности исследования.\n",
    "\n",
    "Вечер пятницы не меняет эту картину. Некоторые жанры поднимаются немного выше, другие спускаются, но в целом топ-10 остаётся тем же самым.\n",
    "\n",
    "Таким образом, вторая гипотеза подтвердилась лишь частично:\n",
    "* Пользователи слушают похожую музыку в начале недели и в конце.\n",
    "* Разница между Москвой и Петербургом не слишком выражена. В Москве чаще слушают русскую популярную музыку, в Петербурге — джаз.\n",
    "\n",
    "Однако пропуски в данных ставят под сомнение этот результат. В Москве их так много, что рейтинг топ-10 мог бы выглядеть иначе, если бы не утерянные  данные о жанрах."
   ]
  },
  {
   "cell_type": "markdown",
   "metadata": {
    "id": "JolODAqr_Zcu"
   },
   "source": [
    "### Жанровые предпочтения в Москве и Петербурге\n",
    "\n",
    "Гипотеза: Петербург — столица рэпа, музыку этого жанра там слушают чаще, чем в Москве.  А Москва — город контрастов, в котором, тем не менее, преобладает поп-музыка."
   ]
  },
  {
   "cell_type": "markdown",
   "metadata": {
    "id": "DlegSvaT_Zcu"
   },
   "source": [
    "Сгруппируем таблицу `moscow_general` по жанру и посчитаем прослушивания треков каждого жанра методом `count()`. Затем отсортируем результат в порядке убывания и сохраним его в таблице `moscow_genres`."
   ]
  },
  {
   "cell_type": "code",
   "execution_count": 75,
   "metadata": {
    "id": "r19lIPke_Zcu"
   },
   "outputs": [],
   "source": [
    "# одной строкой: группировка таблицы moscow_general по столбцу 'genre', \n",
    "# подсчёт числа значений 'genre' в этой группировке методом count(), \n",
    "# сортировка получившегося Series в порядке убывания и сохранение в moscow_genres\n",
    "moscow_genres = moscow_general.groupby('genre')['track'].count().sort_values(ascending=False) "
   ]
  },
  {
   "cell_type": "markdown",
   "metadata": {
    "id": "6kMuomxTiIr8"
   },
   "source": [
    "Выведем на экран первые десять строк `moscow_genres`:"
   ]
  },
  {
   "cell_type": "code",
   "execution_count": 76,
   "metadata": {
    "id": "WhCSooF8_Zcv"
   },
   "outputs": [
    {
     "data": {
      "text/plain": [
       "genre\n",
       "pop            5892\n",
       "dance          4435\n",
       "rock           3965\n",
       "electronic     3786\n",
       "hiphop         2096\n",
       "classical      1616\n",
       "world          1432\n",
       "alternative    1379\n",
       "ruspop         1372\n",
       "rusrap         1161\n",
       "Name: track, dtype: int64"
      ]
     },
     "execution_count": 76,
     "metadata": {},
     "output_type": "execute_result"
    }
   ],
   "source": [
    "moscow_genres.head(10) # просмотр первых 10 строк moscow_genres"
   ]
  },
  {
   "cell_type": "markdown",
   "metadata": {
    "id": "cnPG2vnN_Zcv"
   },
   "source": [
    "Теперь повторим то же и для Петербурга.\n",
    "\n",
    "Сгруппируем таблицу `spb_general` по жанру. Посчитаем прослушивания треков каждого жанра. Результат отсортируем в порядке убывания и сохраним в таблице `spb_genres`:\n"
   ]
  },
  {
   "cell_type": "code",
   "execution_count": 77,
   "metadata": {
    "id": "gluLIpE7_Zcv"
   },
   "outputs": [],
   "source": [
    "# одной строкой: группировка таблицы spb_general по столбцу 'genre', \n",
    "# подсчёт числа значений 'genre' в этой группировке методом count(), \n",
    "# сортировка получившегося Series в порядке убывания и сохранение в spb_genres\n",
    "spb_genres = spb_general.groupby('genre')['track'].count().sort_values(ascending=False)"
   ]
  },
  {
   "cell_type": "markdown",
   "metadata": {
    "id": "5Doha_ODgyQ8"
   },
   "source": [
    "Выведем на экран первые десять строк `spb_genres`:"
   ]
  },
  {
   "cell_type": "code",
   "execution_count": 78,
   "metadata": {
    "id": "uaGJHjVU_Zcv"
   },
   "outputs": [
    {
     "data": {
      "text/plain": [
       "genre\n",
       "pop            2431\n",
       "dance          1932\n",
       "rock           1879\n",
       "electronic     1736\n",
       "hiphop          960\n",
       "alternative     649\n",
       "classical       646\n",
       "rusrap          564\n",
       "ruspop          538\n",
       "world           515\n",
       "Name: track, dtype: int64"
      ]
     },
     "execution_count": 78,
     "metadata": {},
     "output_type": "execute_result"
    }
   ],
   "source": [
    "spb_genres.head(10) # просмотр первых 10 строк spb_genres"
   ]
  },
  {
   "cell_type": "markdown",
   "metadata": {
    "id": "RY51YJYu_Zcv"
   },
   "source": [
    "**Выводы**"
   ]
  },
  {
   "cell_type": "markdown",
   "metadata": {
    "id": "nVhnJEm__Zcv"
   },
   "source": [
    "Гипотеза частично подтвердилась:\n",
    "* Поп-музыка — самый популярный жанр в Москве, как и предполагала гипотеза. Более того, в топ-10 жанров встречается близкий жанр — русская популярная музыка.\n",
    "* Вопреки ожиданиям, рэп одинаково популярен в Москве и Петербурге. \n"
   ]
  },
  {
   "cell_type": "markdown",
   "metadata": {
    "id": "ykKQ0N65_Zcv"
   },
   "source": [
    "## Итоги исследования"
   ]
  },
  {
   "cell_type": "markdown",
   "metadata": {
    "id": "tjUwbHb3_Zcv"
   },
   "source": [
    "Мы проверили три гипотезы и установили:\n",
    "\n",
    "1. День недели по-разному влияет на активность пользователей в Москве и Петербурге. \n",
    "\n",
    "Первая гипотеза полностью подтвердилась.\n",
    "\n",
    "2. Музыкальные предпочтения не сильно меняются в течение недели — будь то Москва или Петербург. Небольшие различия заметны в начале недели, по понедельникам:\n",
    "* в Москве слушают музыку жанра “world”,\n",
    "* в Петербурге — джаз и классику.\n",
    "\n",
    "Таким образом, вторая гипотеза подтвердилась лишь отчасти. Этот результат мог оказаться иным, если бы не пропуски в данных.\n",
    "\n",
    "3. Во вкусах пользователей Москвы и Петербурга больше общего чем различий. Вопреки ожиданиям, предпочтения жанров в Петербурге напоминают московские.\n",
    "\n",
    "Третья гипотеза не подтвердилась. Если различия в предпочтениях и существуют, на основной массе пользователей они незаметны.\n",
    "\n",
    "**На практике исследования содержат проверки статистических гипотез.**\n",
    "Из данных одного сервиса не всегда можно сделать вывод о всех жителях города.\n",
    "Проверки статистических гипотез покажут, насколько они достоверны, исходя из имеющихся данных. \n"
   ]
  }
 ],
 "metadata": {
  "ExecuteTimeLog": [
   {
    "duration": 412,
    "start_time": "2022-01-21T13:35:56.773Z"
   },
   {
    "duration": 309,
    "start_time": "2022-01-21T13:36:09.738Z"
   },
   {
    "duration": 735,
    "start_time": "2022-01-21T13:36:13.298Z"
   },
   {
    "duration": 189,
    "start_time": "2022-01-21T13:36:16.206Z"
   },
   {
    "duration": 10,
    "start_time": "2022-01-21T13:36:17.894Z"
   },
   {
    "duration": 32,
    "start_time": "2022-01-21T13:37:23.020Z"
   },
   {
    "duration": 27,
    "start_time": "2022-01-21T13:37:55.622Z"
   },
   {
    "duration": 6,
    "start_time": "2022-01-21T13:46:10.410Z"
   },
   {
    "duration": 27,
    "start_time": "2022-01-21T13:53:27.162Z"
   },
   {
    "duration": 6,
    "start_time": "2022-01-21T13:54:23.260Z"
   },
   {
    "duration": 27,
    "start_time": "2022-01-21T13:54:57.853Z"
   },
   {
    "duration": 6,
    "start_time": "2022-01-21T13:55:04.060Z"
   },
   {
    "duration": 6,
    "start_time": "2022-01-21T13:55:13.675Z"
   },
   {
    "duration": 25,
    "start_time": "2022-01-21T13:55:23.532Z"
   },
   {
    "duration": 6,
    "start_time": "2022-01-21T13:55:25.406Z"
   },
   {
    "duration": 18,
    "start_time": "2022-01-21T13:56:15.285Z"
   },
   {
    "duration": 5,
    "start_time": "2022-01-21T13:56:17.118Z"
   },
   {
    "duration": 18,
    "start_time": "2022-01-21T13:56:57.677Z"
   },
   {
    "duration": 6,
    "start_time": "2022-01-21T13:57:00.119Z"
   },
   {
    "duration": 18,
    "start_time": "2022-01-21T13:57:05.040Z"
   },
   {
    "duration": 6,
    "start_time": "2022-01-21T13:57:07.761Z"
   },
   {
    "duration": 18,
    "start_time": "2022-01-21T13:57:12.424Z"
   },
   {
    "duration": 6,
    "start_time": "2022-01-21T13:57:14.587Z"
   },
   {
    "duration": 18,
    "start_time": "2022-01-21T13:58:22.131Z"
   },
   {
    "duration": 6,
    "start_time": "2022-01-21T13:58:24.309Z"
   },
   {
    "duration": 33,
    "start_time": "2022-01-21T13:59:39.686Z"
   },
   {
    "duration": 32,
    "start_time": "2022-01-21T14:00:25.097Z"
   },
   {
    "duration": 31,
    "start_time": "2022-01-21T14:00:35.149Z"
   },
   {
    "duration": 6684,
    "start_time": "2022-01-21T14:04:21.724Z"
   },
   {
    "duration": 23,
    "start_time": "2022-01-21T14:04:48.249Z"
   },
   {
    "duration": 33,
    "start_time": "2022-01-21T14:05:08.761Z"
   },
   {
    "duration": 83,
    "start_time": "2022-01-21T14:07:19.314Z"
   },
   {
    "duration": 82,
    "start_time": "2022-01-21T14:27:07.108Z"
   },
   {
    "duration": 95,
    "start_time": "2022-01-21T14:27:31.895Z"
   },
   {
    "duration": 78,
    "start_time": "2022-01-21T14:27:34.449Z"
   },
   {
    "duration": 286,
    "start_time": "2022-01-21T14:29:08.014Z"
   },
   {
    "duration": 58,
    "start_time": "2022-01-21T14:29:29.829Z"
   },
   {
    "duration": 57,
    "start_time": "2022-01-21T14:29:41.044Z"
   },
   {
    "duration": 57,
    "start_time": "2022-01-21T14:29:46.659Z"
   },
   {
    "duration": 4,
    "start_time": "2022-01-21T14:44:42.103Z"
   },
   {
    "duration": 15,
    "start_time": "2022-01-21T14:44:44.342Z"
   },
   {
    "duration": 60,
    "start_time": "2022-01-21T14:45:12.985Z"
   },
   {
    "duration": 4,
    "start_time": "2022-01-21T14:52:51.451Z"
   },
   {
    "duration": 17,
    "start_time": "2022-01-21T14:52:55.571Z"
   },
   {
    "duration": 58,
    "start_time": "2022-01-21T14:53:01.477Z"
   },
   {
    "duration": 15,
    "start_time": "2022-01-21T14:58:17.514Z"
   },
   {
    "duration": 59,
    "start_time": "2022-01-21T14:58:22.213Z"
   },
   {
    "duration": 17,
    "start_time": "2022-01-21T15:03:33.198Z"
   },
   {
    "duration": 16,
    "start_time": "2022-01-21T15:04:09.485Z"
   },
   {
    "duration": 47,
    "start_time": "2022-01-21T15:04:20.761Z"
   },
   {
    "duration": 244,
    "start_time": "2022-01-21T15:04:34.301Z"
   },
   {
    "duration": 18,
    "start_time": "2022-01-21T15:04:43.117Z"
   },
   {
    "duration": 19,
    "start_time": "2022-01-21T15:05:02.917Z"
   },
   {
    "duration": 17,
    "start_time": "2022-01-21T15:05:17.579Z"
   },
   {
    "duration": 15,
    "start_time": "2022-01-21T15:07:03.006Z"
   },
   {
    "duration": 285,
    "start_time": "2022-01-21T15:44:53.075Z"
   },
   {
    "duration": 5,
    "start_time": "2022-01-21T15:45:06.911Z"
   },
   {
    "duration": 21,
    "start_time": "2022-01-21T15:45:10.181Z"
   },
   {
    "duration": 21,
    "start_time": "2022-01-21T15:45:13.545Z"
   },
   {
    "duration": 19,
    "start_time": "2022-01-21T15:45:16.425Z"
   },
   {
    "duration": 19,
    "start_time": "2022-01-21T15:45:18.843Z"
   },
   {
    "duration": 23,
    "start_time": "2022-01-21T15:45:22.002Z"
   },
   {
    "duration": 21,
    "start_time": "2022-01-21T15:45:25.681Z"
   },
   {
    "duration": 262,
    "start_time": "2022-01-21T16:47:57.748Z"
   },
   {
    "duration": 12,
    "start_time": "2022-01-21T16:49:39.805Z"
   },
   {
    "duration": 16,
    "start_time": "2022-01-21T16:53:53.401Z"
   },
   {
    "duration": 13,
    "start_time": "2022-01-21T16:53:55.812Z"
   },
   {
    "duration": 98,
    "start_time": "2022-01-21T17:19:30.519Z"
   },
   {
    "duration": 5,
    "start_time": "2022-01-21T17:19:41.083Z"
   },
   {
    "duration": 8058,
    "start_time": "2022-01-21T17:22:38.415Z"
   },
   {
    "duration": 8277,
    "start_time": "2022-01-21T17:22:47.407Z"
   },
   {
    "duration": 6,
    "start_time": "2022-01-21T17:23:42.870Z"
   },
   {
    "duration": -1019,
    "start_time": "2022-01-21T17:23:56.457Z"
   },
   {
    "duration": 19,
    "start_time": "2022-01-21T17:24:41.882Z"
   },
   {
    "duration": 100,
    "start_time": "2022-01-21T17:26:28.485Z"
   },
   {
    "duration": -1003,
    "start_time": "2022-01-21T17:26:49.919Z"
   },
   {
    "duration": -1002,
    "start_time": "2022-01-21T17:27:05.851Z"
   },
   {
    "duration": -980,
    "start_time": "2022-01-21T17:27:55.110Z"
   },
   {
    "duration": -993,
    "start_time": "2022-01-21T17:28:35.917Z"
   },
   {
    "duration": -986,
    "start_time": "2022-01-21T17:28:48.007Z"
   },
   {
    "duration": -986,
    "start_time": "2022-01-21T17:29:06.289Z"
   },
   {
    "duration": -1059,
    "start_time": "2022-01-21T17:29:20.024Z"
   },
   {
    "duration": -1015,
    "start_time": "2022-01-21T17:29:53.896Z"
   },
   {
    "duration": 9150,
    "start_time": "2022-01-21T17:29:55.732Z"
   },
   {
    "duration": 8691,
    "start_time": "2022-01-21T17:30:54.489Z"
   },
   {
    "duration": 8119,
    "start_time": "2022-01-21T17:31:56.155Z"
   },
   {
    "duration": 18,
    "start_time": "2022-01-21T17:33:14.372Z"
   },
   {
    "duration": 20,
    "start_time": "2022-01-21T17:33:51.075Z"
   },
   {
    "duration": 7521,
    "start_time": "2022-01-21T17:38:24.343Z"
   },
   {
    "duration": 18,
    "start_time": "2022-01-21T17:39:07.894Z"
   },
   {
    "duration": 21,
    "start_time": "2022-01-21T17:39:58.366Z"
   },
   {
    "duration": 7639,
    "start_time": "2022-01-21T17:40:37.921Z"
   },
   {
    "duration": 7841,
    "start_time": "2022-01-21T17:44:14.545Z"
   },
   {
    "duration": 287,
    "start_time": "2022-01-21T17:45:24.176Z"
   },
   {
    "duration": 17,
    "start_time": "2022-01-21T17:46:25.708Z"
   },
   {
    "duration": 16,
    "start_time": "2022-01-21T17:46:52.621Z"
   },
   {
    "duration": 42,
    "start_time": "2022-01-21T17:48:02.895Z"
   },
   {
    "duration": 56,
    "start_time": "2022-01-21T17:48:21.020Z"
   },
   {
    "duration": 276,
    "start_time": "2022-01-21T17:49:05.141Z"
   },
   {
    "duration": 17,
    "start_time": "2022-01-21T17:49:15.218Z"
   },
   {
    "duration": 7415,
    "start_time": "2022-01-21T17:50:15.944Z"
   },
   {
    "duration": 10319,
    "start_time": "2022-01-21T17:50:30.871Z"
   },
   {
    "duration": 19,
    "start_time": "2022-01-21T17:50:49.648Z"
   },
   {
    "duration": 21,
    "start_time": "2022-01-21T17:50:58.836Z"
   },
   {
    "duration": 277,
    "start_time": "2022-01-21T17:52:23.113Z"
   },
   {
    "duration": 18,
    "start_time": "2022-01-21T17:52:32.398Z"
   },
   {
    "duration": 6,
    "start_time": "2022-01-21T17:53:18.954Z"
   },
   {
    "duration": 26,
    "start_time": "2022-01-21T17:53:22.482Z"
   },
   {
    "duration": 18,
    "start_time": "2022-01-21T17:54:22.958Z"
   },
   {
    "duration": 22,
    "start_time": "2022-01-21T17:54:42.984Z"
   },
   {
    "duration": 17,
    "start_time": "2022-01-21T17:55:21.891Z"
   },
   {
    "duration": 12,
    "start_time": "2022-01-21T18:02:39.579Z"
   },
   {
    "duration": 6,
    "start_time": "2022-01-21T18:03:23.824Z"
   },
   {
    "duration": 9,
    "start_time": "2022-01-21T18:04:52.328Z"
   },
   {
    "duration": 17,
    "start_time": "2022-01-21T18:05:15.497Z"
   },
   {
    "duration": 7,
    "start_time": "2022-01-21T18:05:31.332Z"
   },
   {
    "duration": 3,
    "start_time": "2022-01-21T18:08:23.864Z"
   },
   {
    "duration": 218,
    "start_time": "2022-01-21T18:08:23.870Z"
   },
   {
    "duration": 16,
    "start_time": "2022-01-21T18:08:24.091Z"
   },
   {
    "duration": 60,
    "start_time": "2022-01-21T18:08:24.111Z"
   },
   {
    "duration": 5,
    "start_time": "2022-01-21T18:08:24.174Z"
   },
   {
    "duration": 32,
    "start_time": "2022-01-21T18:08:24.182Z"
   },
   {
    "duration": 6,
    "start_time": "2022-01-21T18:08:24.217Z"
   },
   {
    "duration": 64,
    "start_time": "2022-01-21T18:08:24.226Z"
   },
   {
    "duration": 24,
    "start_time": "2022-01-21T18:08:24.293Z"
   },
   {
    "duration": 51,
    "start_time": "2022-01-21T18:08:24.320Z"
   },
   {
    "duration": 99,
    "start_time": "2022-01-21T18:08:24.373Z"
   },
   {
    "duration": 108,
    "start_time": "2022-01-21T18:08:24.475Z"
   },
   {
    "duration": 86,
    "start_time": "2022-01-21T18:08:24.585Z"
   },
   {
    "duration": 60,
    "start_time": "2022-01-21T18:08:24.673Z"
   },
   {
    "duration": 4,
    "start_time": "2022-01-21T18:08:24.735Z"
   },
   {
    "duration": 39,
    "start_time": "2022-01-21T18:08:24.742Z"
   },
   {
    "duration": 57,
    "start_time": "2022-01-21T18:08:24.783Z"
   },
   {
    "duration": 32,
    "start_time": "2022-01-21T18:08:24.843Z"
   },
   {
    "duration": 15,
    "start_time": "2022-01-21T18:08:24.880Z"
   },
   {
    "duration": 4,
    "start_time": "2022-01-21T18:08:24.898Z"
   },
   {
    "duration": 25,
    "start_time": "2022-01-21T18:08:24.904Z"
   },
   {
    "duration": 52,
    "start_time": "2022-01-21T18:08:24.932Z"
   },
   {
    "duration": 21,
    "start_time": "2022-01-21T18:08:24.987Z"
   },
   {
    "duration": 21,
    "start_time": "2022-01-21T18:08:25.011Z"
   },
   {
    "duration": 24,
    "start_time": "2022-01-21T18:08:25.070Z"
   },
   {
    "duration": 22,
    "start_time": "2022-01-21T18:08:25.097Z"
   },
   {
    "duration": 48,
    "start_time": "2022-01-21T18:08:25.121Z"
   },
   {
    "duration": 16,
    "start_time": "2022-01-21T18:08:25.173Z"
   },
   {
    "duration": 11,
    "start_time": "2022-01-21T18:08:25.192Z"
   },
   {
    "duration": 6,
    "start_time": "2022-01-21T18:08:25.206Z"
   },
   {
    "duration": 64,
    "start_time": "2022-01-21T18:08:25.214Z"
   },
   {
    "duration": 16,
    "start_time": "2022-01-21T18:08:25.280Z"
   },
   {
    "duration": 21,
    "start_time": "2022-01-21T18:08:25.298Z"
   },
   {
    "duration": 48,
    "start_time": "2022-01-21T18:08:25.322Z"
   },
   {
    "duration": 12,
    "start_time": "2022-01-21T18:08:25.372Z"
   },
   {
    "duration": 6,
    "start_time": "2022-01-21T18:08:25.387Z"
   },
   {
    "duration": 11,
    "start_time": "2022-01-21T18:08:25.395Z"
   },
   {
    "duration": 6,
    "start_time": "2022-01-21T18:08:25.408Z"
   },
   {
    "duration": 287,
    "start_time": "2022-01-23T20:29:26.189Z"
   },
   {
    "duration": 738,
    "start_time": "2022-01-23T20:31:26.631Z"
   },
   {
    "duration": 181,
    "start_time": "2022-01-23T20:31:27.371Z"
   },
   {
    "duration": 26,
    "start_time": "2022-01-23T20:31:27.555Z"
   },
   {
    "duration": 51,
    "start_time": "2022-01-23T20:31:27.584Z"
   },
   {
    "duration": 5,
    "start_time": "2022-01-23T20:31:27.638Z"
   },
   {
    "duration": 28,
    "start_time": "2022-01-23T20:31:27.646Z"
   },
   {
    "duration": 6,
    "start_time": "2022-01-23T20:31:27.677Z"
   },
   {
    "duration": 72,
    "start_time": "2022-01-23T20:31:27.688Z"
   },
   {
    "duration": 23,
    "start_time": "2022-01-23T20:31:27.764Z"
   },
   {
    "duration": 48,
    "start_time": "2022-01-23T20:31:27.790Z"
   },
   {
    "duration": 98,
    "start_time": "2022-01-23T20:31:27.840Z"
   },
   {
    "duration": 116,
    "start_time": "2022-01-23T20:31:27.941Z"
   },
   {
    "duration": 86,
    "start_time": "2022-01-23T20:31:28.059Z"
   },
   {
    "duration": 58,
    "start_time": "2022-01-23T20:31:28.148Z"
   },
   {
    "duration": 25,
    "start_time": "2022-01-23T20:31:28.209Z"
   },
   {
    "duration": 16,
    "start_time": "2022-01-23T20:31:28.237Z"
   },
   {
    "duration": 83,
    "start_time": "2022-01-23T20:31:28.255Z"
   },
   {
    "duration": 18,
    "start_time": "2022-01-23T20:31:28.341Z"
   },
   {
    "duration": 14,
    "start_time": "2022-01-23T20:31:28.361Z"
   },
   {
    "duration": 5,
    "start_time": "2022-01-23T20:31:28.378Z"
   },
   {
    "duration": 60,
    "start_time": "2022-01-23T20:31:28.386Z"
   },
   {
    "duration": 16,
    "start_time": "2022-01-23T20:31:28.449Z"
   },
   {
    "duration": 18,
    "start_time": "2022-01-23T20:31:28.470Z"
   },
   {
    "duration": 46,
    "start_time": "2022-01-23T20:31:28.491Z"
   },
   {
    "duration": 18,
    "start_time": "2022-01-23T20:31:28.539Z"
   },
   {
    "duration": 17,
    "start_time": "2022-01-23T20:31:28.559Z"
   },
   {
    "duration": 273,
    "start_time": "2022-01-23T20:31:28.578Z"
   },
   {
    "duration": -3234,
    "start_time": "2022-01-23T20:31:32.087Z"
   },
   {
    "duration": -3239,
    "start_time": "2022-01-23T20:31:32.094Z"
   },
   {
    "duration": -3244,
    "start_time": "2022-01-23T20:31:32.100Z"
   },
   {
    "duration": -3265,
    "start_time": "2022-01-23T20:31:32.122Z"
   },
   {
    "duration": -3268,
    "start_time": "2022-01-23T20:31:32.127Z"
   },
   {
    "duration": -3270,
    "start_time": "2022-01-23T20:31:32.130Z"
   },
   {
    "duration": -3272,
    "start_time": "2022-01-23T20:31:32.134Z"
   },
   {
    "duration": -3274,
    "start_time": "2022-01-23T20:31:32.137Z"
   },
   {
    "duration": -3278,
    "start_time": "2022-01-23T20:31:32.142Z"
   },
   {
    "duration": -3281,
    "start_time": "2022-01-23T20:31:32.146Z"
   },
   {
    "duration": -3283,
    "start_time": "2022-01-23T20:31:32.150Z"
   },
   {
    "duration": 19,
    "start_time": "2022-01-23T20:35:00.751Z"
   },
   {
    "duration": 17,
    "start_time": "2022-01-23T20:35:02.071Z"
   },
   {
    "duration": 20,
    "start_time": "2022-01-23T20:35:02.682Z"
   },
   {
    "duration": 20,
    "start_time": "2022-01-23T20:35:03.706Z"
   },
   {
    "duration": 242,
    "start_time": "2022-01-23T20:35:13.051Z"
   },
   {
    "duration": 19,
    "start_time": "2022-01-23T20:35:23.114Z"
   },
   {
    "duration": 18,
    "start_time": "2022-01-23T20:35:23.711Z"
   },
   {
    "duration": 12,
    "start_time": "2022-01-23T20:35:26.022Z"
   },
   {
    "duration": 236,
    "start_time": "2022-01-23T20:36:25.588Z"
   },
   {
    "duration": 6,
    "start_time": "2022-01-23T20:36:38.614Z"
   },
   {
    "duration": 581,
    "start_time": "2022-01-23T20:36:41.412Z"
   },
   {
    "duration": 3,
    "start_time": "2022-01-23T20:36:47.928Z"
   },
   {
    "duration": 218,
    "start_time": "2022-01-23T20:36:47.939Z"
   },
   {
    "duration": 15,
    "start_time": "2022-01-23T20:36:48.160Z"
   },
   {
    "duration": 40,
    "start_time": "2022-01-23T20:36:48.178Z"
   },
   {
    "duration": 6,
    "start_time": "2022-01-23T20:36:48.232Z"
   },
   {
    "duration": 25,
    "start_time": "2022-01-23T20:36:48.241Z"
   },
   {
    "duration": 6,
    "start_time": "2022-01-23T20:36:48.268Z"
   },
   {
    "duration": 70,
    "start_time": "2022-01-23T20:36:48.276Z"
   },
   {
    "duration": 22,
    "start_time": "2022-01-23T20:36:48.348Z"
   },
   {
    "duration": 33,
    "start_time": "2022-01-23T20:36:48.374Z"
   },
   {
    "duration": 83,
    "start_time": "2022-01-23T20:36:48.432Z"
   },
   {
    "duration": 99,
    "start_time": "2022-01-23T20:36:48.517Z"
   },
   {
    "duration": 82,
    "start_time": "2022-01-23T20:36:48.619Z"
   },
   {
    "duration": 70,
    "start_time": "2022-01-23T20:36:48.703Z"
   },
   {
    "duration": 4,
    "start_time": "2022-01-23T20:36:48.776Z"
   },
   {
    "duration": 31,
    "start_time": "2022-01-23T20:36:48.782Z"
   },
   {
    "duration": 78,
    "start_time": "2022-01-23T20:36:48.815Z"
   },
   {
    "duration": 16,
    "start_time": "2022-01-23T20:36:48.895Z"
   },
   {
    "duration": 27,
    "start_time": "2022-01-23T20:36:48.913Z"
   },
   {
    "duration": 5,
    "start_time": "2022-01-23T20:36:48.943Z"
   },
   {
    "duration": 29,
    "start_time": "2022-01-23T20:36:48.950Z"
   },
   {
    "duration": 16,
    "start_time": "2022-01-23T20:36:48.981Z"
   },
   {
    "duration": 37,
    "start_time": "2022-01-23T20:36:49.000Z"
   },
   {
    "duration": 16,
    "start_time": "2022-01-23T20:36:49.039Z"
   },
   {
    "duration": 19,
    "start_time": "2022-01-23T20:36:49.057Z"
   },
   {
    "duration": 17,
    "start_time": "2022-01-23T20:36:49.079Z"
   },
   {
    "duration": 40,
    "start_time": "2022-01-23T20:36:49.098Z"
   },
   {
    "duration": 14,
    "start_time": "2022-01-23T20:36:49.143Z"
   },
   {
    "duration": 12,
    "start_time": "2022-01-23T20:36:49.160Z"
   },
   {
    "duration": 5,
    "start_time": "2022-01-23T20:36:49.175Z"
   },
   {
    "duration": 68,
    "start_time": "2022-01-23T20:36:49.183Z"
   },
   {
    "duration": 16,
    "start_time": "2022-01-23T20:36:49.254Z"
   },
   {
    "duration": 21,
    "start_time": "2022-01-23T20:36:49.272Z"
   },
   {
    "duration": 43,
    "start_time": "2022-01-23T20:36:49.295Z"
   },
   {
    "duration": 12,
    "start_time": "2022-01-23T20:36:49.340Z"
   },
   {
    "duration": 5,
    "start_time": "2022-01-23T20:36:49.355Z"
   },
   {
    "duration": 13,
    "start_time": "2022-01-23T20:36:49.363Z"
   },
   {
    "duration": 6,
    "start_time": "2022-01-23T20:36:49.379Z"
   },
   {
    "duration": 586,
    "start_time": "2022-01-26T12:49:59.100Z"
   },
   {
    "duration": 122,
    "start_time": "2022-01-26T12:49:59.687Z"
   },
   {
    "duration": 16,
    "start_time": "2022-01-26T12:49:59.814Z"
   },
   {
    "duration": 24,
    "start_time": "2022-01-26T12:49:59.831Z"
   },
   {
    "duration": 5,
    "start_time": "2022-01-26T12:49:59.857Z"
   },
   {
    "duration": 53,
    "start_time": "2022-01-26T12:49:59.863Z"
   },
   {
    "duration": 4,
    "start_time": "2022-01-26T12:49:59.919Z"
   },
   {
    "duration": 25,
    "start_time": "2022-01-26T12:49:59.925Z"
   },
   {
    "duration": 18,
    "start_time": "2022-01-26T12:49:59.951Z"
   },
   {
    "duration": 43,
    "start_time": "2022-01-26T12:49:59.970Z"
   },
   {
    "duration": 57,
    "start_time": "2022-01-26T12:50:00.015Z"
   },
   {
    "duration": 90,
    "start_time": "2022-01-26T12:50:00.074Z"
   },
   {
    "duration": 48,
    "start_time": "2022-01-26T12:50:00.166Z"
   },
   {
    "duration": 38,
    "start_time": "2022-01-26T12:50:00.216Z"
   },
   {
    "duration": 3,
    "start_time": "2022-01-26T12:50:00.256Z"
   },
   {
    "duration": 12,
    "start_time": "2022-01-26T12:50:00.261Z"
   },
   {
    "duration": 55,
    "start_time": "2022-01-26T12:50:00.275Z"
   },
   {
    "duration": 10,
    "start_time": "2022-01-26T12:50:00.332Z"
   },
   {
    "duration": 14,
    "start_time": "2022-01-26T12:50:00.343Z"
   },
   {
    "duration": 3,
    "start_time": "2022-01-26T12:50:00.359Z"
   },
   {
    "duration": 23,
    "start_time": "2022-01-26T12:50:00.363Z"
   },
   {
    "duration": 25,
    "start_time": "2022-01-26T12:50:00.389Z"
   },
   {
    "duration": 21,
    "start_time": "2022-01-26T12:50:00.416Z"
   },
   {
    "duration": 22,
    "start_time": "2022-01-26T12:50:00.439Z"
   },
   {
    "duration": 19,
    "start_time": "2022-01-26T12:50:00.462Z"
   },
   {
    "duration": 15,
    "start_time": "2022-01-26T12:50:00.483Z"
   },
   {
    "duration": 8,
    "start_time": "2022-01-26T12:50:00.500Z"
   },
   {
    "duration": 16,
    "start_time": "2022-01-26T12:50:00.512Z"
   },
   {
    "duration": 12,
    "start_time": "2022-01-26T12:50:00.529Z"
   },
   {
    "duration": 4,
    "start_time": "2022-01-26T12:50:00.544Z"
   },
   {
    "duration": 31,
    "start_time": "2022-01-26T12:50:00.550Z"
   },
   {
    "duration": 37,
    "start_time": "2022-01-26T12:50:00.583Z"
   },
   {
    "duration": 15,
    "start_time": "2022-01-26T12:50:00.622Z"
   },
   {
    "duration": 12,
    "start_time": "2022-01-26T12:50:00.639Z"
   },
   {
    "duration": 9,
    "start_time": "2022-01-26T12:50:00.653Z"
   },
   {
    "duration": 13,
    "start_time": "2022-01-26T12:50:00.663Z"
   },
   {
    "duration": 35,
    "start_time": "2022-01-26T12:50:00.677Z"
   },
   {
    "duration": 5,
    "start_time": "2022-01-26T12:50:00.714Z"
   },
   {
    "duration": 3,
    "start_time": "2022-01-26T12:54:10.814Z"
   },
   {
    "duration": 568,
    "start_time": "2022-01-26T13:03:06.023Z"
   },
   {
    "duration": 133,
    "start_time": "2022-01-26T13:03:06.593Z"
   },
   {
    "duration": 15,
    "start_time": "2022-01-26T13:03:06.729Z"
   },
   {
    "duration": 26,
    "start_time": "2022-01-26T13:03:06.746Z"
   },
   {
    "duration": 5,
    "start_time": "2022-01-26T13:03:06.774Z"
   },
   {
    "duration": 46,
    "start_time": "2022-01-26T13:03:06.781Z"
   },
   {
    "duration": 5,
    "start_time": "2022-01-26T13:03:06.829Z"
   },
   {
    "duration": 24,
    "start_time": "2022-01-26T13:03:06.835Z"
   },
   {
    "duration": 17,
    "start_time": "2022-01-26T13:03:06.862Z"
   },
   {
    "duration": 42,
    "start_time": "2022-01-26T13:03:06.881Z"
   },
   {
    "duration": 63,
    "start_time": "2022-01-26T13:03:06.924Z"
   },
   {
    "duration": 80,
    "start_time": "2022-01-26T13:03:06.988Z"
   },
   {
    "duration": 58,
    "start_time": "2022-01-26T13:03:07.070Z"
   },
   {
    "duration": 40,
    "start_time": "2022-01-26T13:03:07.130Z"
   },
   {
    "duration": 3,
    "start_time": "2022-01-26T13:03:07.172Z"
   },
   {
    "duration": 13,
    "start_time": "2022-01-26T13:03:07.177Z"
   },
   {
    "duration": 42,
    "start_time": "2022-01-26T13:03:07.212Z"
   },
   {
    "duration": 12,
    "start_time": "2022-01-26T13:03:07.256Z"
   },
   {
    "duration": 11,
    "start_time": "2022-01-26T13:03:07.269Z"
   },
   {
    "duration": 4,
    "start_time": "2022-01-26T13:03:07.281Z"
   },
   {
    "duration": 42,
    "start_time": "2022-01-26T13:03:07.286Z"
   },
   {
    "duration": 12,
    "start_time": "2022-01-26T13:03:07.329Z"
   },
   {
    "duration": 13,
    "start_time": "2022-01-26T13:03:07.343Z"
   },
   {
    "duration": 10,
    "start_time": "2022-01-26T13:03:07.358Z"
   },
   {
    "duration": 41,
    "start_time": "2022-01-26T13:03:07.370Z"
   },
   {
    "duration": 13,
    "start_time": "2022-01-26T13:03:07.413Z"
   },
   {
    "duration": 8,
    "start_time": "2022-01-26T13:03:07.431Z"
   },
   {
    "duration": 10,
    "start_time": "2022-01-26T13:03:07.441Z"
   },
   {
    "duration": 8,
    "start_time": "2022-01-26T13:03:07.452Z"
   },
   {
    "duration": 3,
    "start_time": "2022-01-26T13:03:07.462Z"
   },
   {
    "duration": 48,
    "start_time": "2022-01-26T13:03:07.467Z"
   },
   {
    "duration": 11,
    "start_time": "2022-01-26T13:03:07.517Z"
   },
   {
    "duration": 15,
    "start_time": "2022-01-26T13:03:07.530Z"
   },
   {
    "duration": 11,
    "start_time": "2022-01-26T13:03:07.546Z"
   },
   {
    "duration": 7,
    "start_time": "2022-01-26T13:03:07.558Z"
   },
   {
    "duration": 4,
    "start_time": "2022-01-26T13:03:07.567Z"
   },
   {
    "duration": 44,
    "start_time": "2022-01-26T13:03:07.572Z"
   },
   {
    "duration": 6,
    "start_time": "2022-01-26T13:03:07.618Z"
   },
   {
    "duration": 109,
    "start_time": "2022-01-26T13:33:05.105Z"
   },
   {
    "duration": 324,
    "start_time": "2022-01-26T14:01:17.526Z"
   },
   {
    "duration": 806,
    "start_time": "2022-01-26T14:01:21.912Z"
   },
   {
    "duration": 197,
    "start_time": "2022-01-26T14:01:22.721Z"
   },
   {
    "duration": 166,
    "start_time": "2022-01-26T14:01:22.922Z"
   },
   {
    "duration": 497,
    "start_time": "2022-01-26T14:01:23.091Z"
   },
   {
    "duration": 374,
    "start_time": "2022-01-26T14:01:23.591Z"
   },
   {
    "duration": 394,
    "start_time": "2022-01-26T14:01:23.967Z"
   },
   {
    "duration": 715,
    "start_time": "2022-01-26T14:01:24.364Z"
   },
   {
    "duration": 968,
    "start_time": "2022-01-26T14:01:25.084Z"
   },
   {
    "duration": 623,
    "start_time": "2022-01-26T14:01:26.055Z"
   },
   {
    "duration": 710,
    "start_time": "2022-01-26T14:01:26.681Z"
   },
   {
    "duration": 872,
    "start_time": "2022-01-26T14:01:27.393Z"
   },
   {
    "duration": 962,
    "start_time": "2022-01-26T14:01:28.268Z"
   },
   {
    "duration": 753,
    "start_time": "2022-01-26T14:01:29.232Z"
   },
   {
    "duration": 398,
    "start_time": "2022-01-26T14:01:29.989Z"
   },
   {
    "duration": 562,
    "start_time": "2022-01-26T14:01:30.390Z"
   },
   {
    "duration": 394,
    "start_time": "2022-01-26T14:01:30.955Z"
   },
   {
    "duration": 446,
    "start_time": "2022-01-26T14:01:31.352Z"
   },
   {
    "duration": 414,
    "start_time": "2022-01-26T14:01:31.800Z"
   },
   {
    "duration": 304,
    "start_time": "2022-01-26T14:01:32.216Z"
   },
   {
    "duration": 374,
    "start_time": "2022-01-26T14:01:32.522Z"
   },
   {
    "duration": 501,
    "start_time": "2022-01-26T14:01:32.898Z"
   },
   {
    "duration": 723,
    "start_time": "2022-01-26T14:01:33.402Z"
   },
   {
    "duration": 1806,
    "start_time": "2022-01-26T14:01:34.132Z"
   },
   {
    "duration": 934,
    "start_time": "2022-01-26T14:01:35.942Z"
   },
   {
    "duration": 1545,
    "start_time": "2022-01-26T14:01:36.879Z"
   },
   {
    "duration": 1115,
    "start_time": "2022-01-26T14:01:38.427Z"
   },
   {
    "duration": 569,
    "start_time": "2022-01-26T14:01:39.544Z"
   },
   {
    "duration": 258,
    "start_time": "2022-01-26T14:01:40.120Z"
   },
   {
    "duration": 769,
    "start_time": "2022-01-26T14:01:40.381Z"
   },
   {
    "duration": 390,
    "start_time": "2022-01-26T14:01:41.154Z"
   },
   {
    "duration": 473,
    "start_time": "2022-01-26T14:01:41.546Z"
   },
   {
    "duration": 335,
    "start_time": "2022-01-26T14:01:42.022Z"
   },
   {
    "duration": 437,
    "start_time": "2022-01-26T14:01:42.360Z"
   },
   {
    "duration": 471,
    "start_time": "2022-01-26T14:01:42.799Z"
   },
   {
    "duration": 186,
    "start_time": "2022-01-26T14:01:43.273Z"
   },
   {
    "duration": 195,
    "start_time": "2022-01-26T14:01:43.464Z"
   },
   {
    "duration": 308,
    "start_time": "2022-01-26T14:01:43.661Z"
   },
   {
    "duration": 477,
    "start_time": "2022-01-26T14:01:43.972Z"
   },
   {
    "duration": 4,
    "start_time": "2022-01-26T14:04:54.386Z"
   },
   {
    "duration": 1230,
    "start_time": "2022-01-26T14:04:54.395Z"
   },
   {
    "duration": 816,
    "start_time": "2022-01-26T14:04:55.628Z"
   },
   {
    "duration": 978,
    "start_time": "2022-01-26T14:04:56.448Z"
   },
   {
    "duration": 321,
    "start_time": "2022-01-26T14:04:57.431Z"
   },
   {
    "duration": 304,
    "start_time": "2022-01-26T14:04:57.754Z"
   },
   {
    "duration": 184,
    "start_time": "2022-01-26T14:04:58.061Z"
   },
   {
    "duration": 271,
    "start_time": "2022-01-26T14:04:58.248Z"
   },
   {
    "duration": 333,
    "start_time": "2022-01-26T14:04:58.524Z"
   },
   {
    "duration": 333,
    "start_time": "2022-01-26T14:04:58.861Z"
   },
   {
    "duration": 313,
    "start_time": "2022-01-26T14:04:59.197Z"
   },
   {
    "duration": 274,
    "start_time": "2022-01-26T14:04:59.513Z"
   },
   {
    "duration": 268,
    "start_time": "2022-01-26T14:04:59.789Z"
   },
   {
    "duration": 406,
    "start_time": "2022-01-26T14:05:00.061Z"
   },
   {
    "duration": 528,
    "start_time": "2022-01-26T14:05:00.470Z"
   },
   {
    "duration": 378,
    "start_time": "2022-01-26T14:05:01.001Z"
   },
   {
    "duration": 423,
    "start_time": "2022-01-26T14:05:01.382Z"
   },
   {
    "duration": 349,
    "start_time": "2022-01-26T14:05:01.809Z"
   },
   {
    "duration": 352,
    "start_time": "2022-01-26T14:05:02.161Z"
   },
   {
    "duration": 344,
    "start_time": "2022-01-26T14:05:02.515Z"
   },
   {
    "duration": 433,
    "start_time": "2022-01-26T14:05:02.862Z"
   },
   {
    "duration": 306,
    "start_time": "2022-01-26T14:05:03.297Z"
   },
   {
    "duration": 397,
    "start_time": "2022-01-26T14:05:03.606Z"
   },
   {
    "duration": 293,
    "start_time": "2022-01-26T14:05:04.008Z"
   },
   {
    "duration": 323,
    "start_time": "2022-01-26T14:05:04.304Z"
   },
   {
    "duration": 286,
    "start_time": "2022-01-26T14:05:04.630Z"
   },
   {
    "duration": 312,
    "start_time": "2022-01-26T14:05:04.919Z"
   },
   {
    "duration": 409,
    "start_time": "2022-01-26T14:05:05.233Z"
   },
   {
    "duration": 431,
    "start_time": "2022-01-26T14:05:05.644Z"
   },
   {
    "duration": 300,
    "start_time": "2022-01-26T14:05:06.077Z"
   },
   {
    "duration": 740,
    "start_time": "2022-01-26T14:05:06.379Z"
   },
   {
    "duration": 459,
    "start_time": "2022-01-26T14:05:07.121Z"
   },
   {
    "duration": 898,
    "start_time": "2022-01-26T14:05:07.582Z"
   },
   {
    "duration": 666,
    "start_time": "2022-01-26T14:05:08.483Z"
   },
   {
    "duration": 286,
    "start_time": "2022-01-26T14:05:09.151Z"
   },
   {
    "duration": 312,
    "start_time": "2022-01-26T14:05:09.441Z"
   },
   {
    "duration": 429,
    "start_time": "2022-01-26T14:05:09.756Z"
   },
   {
    "duration": 280,
    "start_time": "2022-01-26T14:05:10.188Z"
   }
  ],
  "colab": {
   "collapsed_sections": [
    "E0vqbgi9ay0H",
    "VUC88oWjTJw2"
   ],
   "name": "yandex_music_project_2021.2.ipynb",
   "provenance": []
  },
  "kernelspec": {
   "display_name": "Python 3 (ipykernel)",
   "language": "python",
   "name": "python3"
  },
  "language_info": {
   "codemirror_mode": {
    "name": "ipython",
    "version": 3
   },
   "file_extension": ".py",
   "mimetype": "text/x-python",
   "name": "python",
   "nbconvert_exporter": "python",
   "pygments_lexer": "ipython3",
   "version": "3.9.12"
  },
  "toc": {
   "base_numbering": 1,
   "nav_menu": {},
   "number_sections": true,
   "sideBar": true,
   "skip_h1_title": true,
   "title_cell": "Table of Contents",
   "title_sidebar": "Contents",
   "toc_cell": false,
   "toc_position": {},
   "toc_section_display": true,
   "toc_window_display": true
  }
 },
 "nbformat": 4,
 "nbformat_minor": 1
}
