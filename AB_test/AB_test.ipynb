{
 "cells": [
  {
   "cell_type": "markdown",
   "metadata": {
    "toc": true
   },
   "source": [
    "<h1>Содержание<span class=\"tocSkip\"></span></h1>\n",
    "<div class=\"toc\"><ul class=\"toc-item\"><li><ul class=\"toc-item\"><li><span><a href=\"#Описание-проекта\" data-toc-modified-id=\"Описание-проекта-0.1\"><span class=\"toc-item-num\">0.1&nbsp;&nbsp;</span>Описание проекта</a></span></li><li><span><a href=\"#Описание-данных\" data-toc-modified-id=\"Описание-данных-0.2\"><span class=\"toc-item-num\">0.2&nbsp;&nbsp;</span>Описание данных</a></span></li></ul></li><li><span><a href=\"#Шаг-1.-Загрузим-данные-и-подготовим-их-к-анализу\" data-toc-modified-id=\"Шаг-1.-Загрузим-данные-и-подготовим-их-к-анализу-1\"><span class=\"toc-item-num\">1&nbsp;&nbsp;</span>Шаг 1. Загрузим данные и подготовим их к анализу</a></span></li><li><span><a href=\"#Шаг-2.-Приоритизация-гипотез\" data-toc-modified-id=\"Шаг-2.-Приоритизация-гипотез-2\"><span class=\"toc-item-num\">2&nbsp;&nbsp;</span>Шаг 2. Приоритизация гипотез</a></span></li><li><span><a href=\"#Шаг-3.-Анализ-A/B-теста\" data-toc-modified-id=\"Шаг-3.-Анализ-A/B-теста-3\"><span class=\"toc-item-num\">3&nbsp;&nbsp;</span>Шаг 3. Анализ A/B-теста</a></span></li><li><span><a href=\"#Шаг-4.-Выводы\" data-toc-modified-id=\"Шаг-4.-Выводы-4\"><span class=\"toc-item-num\">4&nbsp;&nbsp;</span>Шаг 4. Выводы</a></span></li></ul></div>"
   ]
  },
  {
   "cell_type": "markdown",
   "metadata": {},
   "source": [
    "# Принятие решений в бизнесе"
   ]
  },
  {
   "cell_type": "markdown",
   "metadata": {},
   "source": [
    "### Описание проекта"
   ]
  },
  {
   "cell_type": "markdown",
   "metadata": {},
   "source": [
    "Для крупного интернет-магазина совместно с отделом маркетинга составлен список гипотез для увеличения выручки. А также проведен A/B-тест и полученные результаты описаны в файлах /datasets/orders.csv и /datasets/visitors.csv.\n",
    "\n",
    "**Цели Исследования**:\n",
    "- Приоритизировать гипотезы;\n",
    "- запустить A/B-тест и проанализировать его результаты;\n",
    "- принять решение по результатам теста."
   ]
  },
  {
   "cell_type": "markdown",
   "metadata": {},
   "source": [
    "### Описание данных"
   ]
  },
  {
   "cell_type": "markdown",
   "metadata": {},
   "source": [
    "Файл /datasets/hypothesis.csv \n",
    "\n",
    "- Hypothesis — краткое описание гипотезы;\n",
    "- Reach — охват пользователей по 10-балльной шкале;\n",
    "- Impact — влияние на пользователей по 10-балльной шкале;\n",
    "- Confidence — уверенность в гипотезе по 10-балльной шкале;\n",
    "- Efforts — затраты ресурсов на проверку гипотезы по 10-балльной шкале. Чем больше значение Efforts, тем дороже проверка гипотезы.\n",
    "\n",
    "Файл /datasets/orders.csv\n",
    "\n",
    "- transactionId — идентификатор заказа;\n",
    "- visitorId — идентификатор пользователя, совершившего заказ;\n",
    "- date — дата, когда был совершён заказ;\n",
    "- revenue — выручка заказа;\n",
    "- group — группа A/B-теста, в которую попал заказ.\n",
    "\n",
    "Файл /datasets/visitors.csv\n",
    "\n",
    "- date — дата;\n",
    "- group — группа A/B-теста;\n",
    "- visitors — количество пользователей в указанную дату в указанной группе A/B-теста\n"
   ]
  },
  {
   "cell_type": "markdown",
   "metadata": {},
   "source": [
    "## Шаг 1. Загрузим данные и подготовим их к анализу"
   ]
  },
  {
   "cell_type": "code",
   "execution_count": 1,
   "metadata": {},
   "outputs": [],
   "source": [
    "# импорт библиотек\n",
    "import pandas as pd\n",
    "pd.set_option('display.max_colwidth', 130) # сброс ограничений на количество символов в записи\n",
    "import numpy as np\n",
    "from matplotlib import pyplot as plt\n",
    "import datetime as dt\n",
    "from pandas.plotting import register_matplotlib_converters\n",
    "import warnings\n",
    "# конвертеры, которые позволяют использовать типы pandas в matplotlib  \n",
    "register_matplotlib_converters()\n",
    "import scipy.stats as stats"
   ]
  },
  {
   "cell_type": "code",
   "execution_count": 2,
   "metadata": {},
   "outputs": [],
   "source": [
    "hypothesis = pd.read_csv('C:/Users/fima3/Documents/Практикум Аналитик/Модуль 2/Спринт 7 АВ тесты/Проект/hypothesis.csv')\n",
    "orders = pd.read_csv('C:/Users/fima3/Documents/Практикум Аналитик/Модуль 2/Спринт 7 АВ тесты/Проект/orders.csv')\n",
    "visitors = pd.read_csv('C:/Users/fima3/Documents/Практикум Аналитик/Модуль 2/Спринт 7 АВ тесты/Проект/visitors.csv')"
   ]
  },
  {
   "cell_type": "code",
   "execution_count": 3,
   "metadata": {},
   "outputs": [
    {
     "name": "stdout",
     "output_type": "stream",
     "text": [
      "<class 'pandas.core.frame.DataFrame'>\n",
      "RangeIndex: 9 entries, 0 to 8\n",
      "Data columns (total 5 columns):\n",
      " #   Column      Non-Null Count  Dtype \n",
      "---  ------      --------------  ----- \n",
      " 0   Hypothesis  9 non-null      object\n",
      " 1   Reach       9 non-null      int64 \n",
      " 2   Impact      9 non-null      int64 \n",
      " 3   Confidence  9 non-null      int64 \n",
      " 4   Efforts     9 non-null      int64 \n",
      "dtypes: int64(4), object(1)\n",
      "memory usage: 488.0+ bytes\n"
     ]
    }
   ],
   "source": [
    "hypothesis.info()"
   ]
  },
  {
   "cell_type": "code",
   "execution_count": 4,
   "metadata": {},
   "outputs": [
    {
     "data": {
      "text/html": [
       "<div>\n",
       "<style scoped>\n",
       "    .dataframe tbody tr th:only-of-type {\n",
       "        vertical-align: middle;\n",
       "    }\n",
       "\n",
       "    .dataframe tbody tr th {\n",
       "        vertical-align: top;\n",
       "    }\n",
       "\n",
       "    .dataframe thead th {\n",
       "        text-align: right;\n",
       "    }\n",
       "</style>\n",
       "<table border=\"1\" class=\"dataframe\">\n",
       "  <thead>\n",
       "    <tr style=\"text-align: right;\">\n",
       "      <th></th>\n",
       "      <th>Hypothesis</th>\n",
       "      <th>Reach</th>\n",
       "      <th>Impact</th>\n",
       "      <th>Confidence</th>\n",
       "      <th>Efforts</th>\n",
       "    </tr>\n",
       "  </thead>\n",
       "  <tbody>\n",
       "    <tr>\n",
       "      <th>0</th>\n",
       "      <td>Добавить два новых канала привлечения трафика, что позволит привлекать на 30% больше пользователей</td>\n",
       "      <td>3</td>\n",
       "      <td>10</td>\n",
       "      <td>8</td>\n",
       "      <td>6</td>\n",
       "    </tr>\n",
       "    <tr>\n",
       "      <th>1</th>\n",
       "      <td>Запустить собственную службу доставки, что сократит срок доставки заказов</td>\n",
       "      <td>2</td>\n",
       "      <td>5</td>\n",
       "      <td>4</td>\n",
       "      <td>10</td>\n",
       "    </tr>\n",
       "    <tr>\n",
       "      <th>2</th>\n",
       "      <td>Добавить блоки рекомендаций товаров на сайт интернет магазина, чтобы повысить конверсию и средний чек заказа</td>\n",
       "      <td>8</td>\n",
       "      <td>3</td>\n",
       "      <td>7</td>\n",
       "      <td>3</td>\n",
       "    </tr>\n",
       "    <tr>\n",
       "      <th>3</th>\n",
       "      <td>Изменить структура категорий, что увеличит конверсию, т.к. пользователи быстрее найдут нужный товар</td>\n",
       "      <td>8</td>\n",
       "      <td>3</td>\n",
       "      <td>3</td>\n",
       "      <td>8</td>\n",
       "    </tr>\n",
       "    <tr>\n",
       "      <th>4</th>\n",
       "      <td>Изменить цвет фона главной страницы, чтобы увеличить вовлеченность пользователей</td>\n",
       "      <td>3</td>\n",
       "      <td>1</td>\n",
       "      <td>1</td>\n",
       "      <td>1</td>\n",
       "    </tr>\n",
       "    <tr>\n",
       "      <th>5</th>\n",
       "      <td>Добавить страницу отзывов клиентов о магазине, что позволит увеличить количество заказов</td>\n",
       "      <td>3</td>\n",
       "      <td>2</td>\n",
       "      <td>2</td>\n",
       "      <td>3</td>\n",
       "    </tr>\n",
       "    <tr>\n",
       "      <th>6</th>\n",
       "      <td>Показать на главной странице баннеры с актуальными акциями и распродажами, чтобы увеличить конверсию</td>\n",
       "      <td>5</td>\n",
       "      <td>3</td>\n",
       "      <td>8</td>\n",
       "      <td>3</td>\n",
       "    </tr>\n",
       "    <tr>\n",
       "      <th>7</th>\n",
       "      <td>Добавить форму подписки на все основные страницы, чтобы собрать базу клиентов для email-рассылок</td>\n",
       "      <td>10</td>\n",
       "      <td>7</td>\n",
       "      <td>8</td>\n",
       "      <td>5</td>\n",
       "    </tr>\n",
       "    <tr>\n",
       "      <th>8</th>\n",
       "      <td>Запустить акцию, дающую скидку на товар в день рождения</td>\n",
       "      <td>1</td>\n",
       "      <td>9</td>\n",
       "      <td>9</td>\n",
       "      <td>5</td>\n",
       "    </tr>\n",
       "  </tbody>\n",
       "</table>\n",
       "</div>"
      ],
      "text/plain": [
       "                                                                                                     Hypothesis  \\\n",
       "0            Добавить два новых канала привлечения трафика, что позволит привлекать на 30% больше пользователей   \n",
       "1                                     Запустить собственную службу доставки, что сократит срок доставки заказов   \n",
       "2  Добавить блоки рекомендаций товаров на сайт интернет магазина, чтобы повысить конверсию и средний чек заказа   \n",
       "3           Изменить структура категорий, что увеличит конверсию, т.к. пользователи быстрее найдут нужный товар   \n",
       "4                              Изменить цвет фона главной страницы, чтобы увеличить вовлеченность пользователей   \n",
       "5                      Добавить страницу отзывов клиентов о магазине, что позволит увеличить количество заказов   \n",
       "6          Показать на главной странице баннеры с актуальными акциями и распродажами, чтобы увеличить конверсию   \n",
       "7              Добавить форму подписки на все основные страницы, чтобы собрать базу клиентов для email-рассылок   \n",
       "8                                                       Запустить акцию, дающую скидку на товар в день рождения   \n",
       "\n",
       "   Reach  Impact  Confidence  Efforts  \n",
       "0      3      10           8        6  \n",
       "1      2       5           4       10  \n",
       "2      8       3           7        3  \n",
       "3      8       3           3        8  \n",
       "4      3       1           1        1  \n",
       "5      3       2           2        3  \n",
       "6      5       3           8        3  \n",
       "7     10       7           8        5  \n",
       "8      1       9           9        5  "
      ]
     },
     "execution_count": 4,
     "metadata": {},
     "output_type": "execute_result"
    }
   ],
   "source": [
    "hypothesis"
   ]
  },
  {
   "cell_type": "code",
   "execution_count": 5,
   "metadata": {},
   "outputs": [
    {
     "name": "stdout",
     "output_type": "stream",
     "text": [
      "<class 'pandas.core.frame.DataFrame'>\n",
      "RangeIndex: 1197 entries, 0 to 1196\n",
      "Data columns (total 5 columns):\n",
      " #   Column         Non-Null Count  Dtype \n",
      "---  ------         --------------  ----- \n",
      " 0   transactionId  1197 non-null   int64 \n",
      " 1   visitorId      1197 non-null   int64 \n",
      " 2   date           1197 non-null   object\n",
      " 3   revenue        1197 non-null   int64 \n",
      " 4   group          1197 non-null   object\n",
      "dtypes: int64(3), object(2)\n",
      "memory usage: 46.9+ KB\n"
     ]
    }
   ],
   "source": [
    "orders.info()"
   ]
  },
  {
   "cell_type": "code",
   "execution_count": 6,
   "metadata": {},
   "outputs": [
    {
     "data": {
      "text/html": [
       "<div>\n",
       "<style scoped>\n",
       "    .dataframe tbody tr th:only-of-type {\n",
       "        vertical-align: middle;\n",
       "    }\n",
       "\n",
       "    .dataframe tbody tr th {\n",
       "        vertical-align: top;\n",
       "    }\n",
       "\n",
       "    .dataframe thead th {\n",
       "        text-align: right;\n",
       "    }\n",
       "</style>\n",
       "<table border=\"1\" class=\"dataframe\">\n",
       "  <thead>\n",
       "    <tr style=\"text-align: right;\">\n",
       "      <th></th>\n",
       "      <th>transactionId</th>\n",
       "      <th>visitorId</th>\n",
       "      <th>date</th>\n",
       "      <th>revenue</th>\n",
       "      <th>group</th>\n",
       "    </tr>\n",
       "  </thead>\n",
       "  <tbody>\n",
       "    <tr>\n",
       "      <th>0</th>\n",
       "      <td>3667963787</td>\n",
       "      <td>3312258926</td>\n",
       "      <td>2019-08-15</td>\n",
       "      <td>1650</td>\n",
       "      <td>B</td>\n",
       "    </tr>\n",
       "    <tr>\n",
       "      <th>1</th>\n",
       "      <td>2804400009</td>\n",
       "      <td>3642806036</td>\n",
       "      <td>2019-08-15</td>\n",
       "      <td>730</td>\n",
       "      <td>B</td>\n",
       "    </tr>\n",
       "    <tr>\n",
       "      <th>2</th>\n",
       "      <td>2961555356</td>\n",
       "      <td>4069496402</td>\n",
       "      <td>2019-08-15</td>\n",
       "      <td>400</td>\n",
       "      <td>A</td>\n",
       "    </tr>\n",
       "    <tr>\n",
       "      <th>3</th>\n",
       "      <td>3797467345</td>\n",
       "      <td>1196621759</td>\n",
       "      <td>2019-08-15</td>\n",
       "      <td>9759</td>\n",
       "      <td>B</td>\n",
       "    </tr>\n",
       "    <tr>\n",
       "      <th>4</th>\n",
       "      <td>2282983706</td>\n",
       "      <td>2322279887</td>\n",
       "      <td>2019-08-15</td>\n",
       "      <td>2308</td>\n",
       "      <td>B</td>\n",
       "    </tr>\n",
       "  </tbody>\n",
       "</table>\n",
       "</div>"
      ],
      "text/plain": [
       "   transactionId   visitorId        date  revenue group\n",
       "0     3667963787  3312258926  2019-08-15     1650     B\n",
       "1     2804400009  3642806036  2019-08-15      730     B\n",
       "2     2961555356  4069496402  2019-08-15      400     A\n",
       "3     3797467345  1196621759  2019-08-15     9759     B\n",
       "4     2282983706  2322279887  2019-08-15     2308     B"
      ]
     },
     "execution_count": 6,
     "metadata": {},
     "output_type": "execute_result"
    }
   ],
   "source": [
    "orders.head()"
   ]
  },
  {
   "cell_type": "code",
   "execution_count": 7,
   "metadata": {},
   "outputs": [
    {
     "data": {
      "text/plain": [
       "0"
      ]
     },
     "execution_count": 7,
     "metadata": {},
     "output_type": "execute_result"
    }
   ],
   "source": [
    "orders.duplicated().sum()"
   ]
  },
  {
   "cell_type": "code",
   "execution_count": 8,
   "metadata": {},
   "outputs": [],
   "source": [
    "orders['date'] = pd.to_datetime(orders['date'], format='%Y-%m-%d')"
   ]
  },
  {
   "cell_type": "code",
   "execution_count": 9,
   "metadata": {},
   "outputs": [
    {
     "data": {
      "text/plain": [
       "transactionId             int64\n",
       "visitorId                 int64\n",
       "date             datetime64[ns]\n",
       "revenue                   int64\n",
       "group                    object\n",
       "dtype: object"
      ]
     },
     "execution_count": 9,
     "metadata": {},
     "output_type": "execute_result"
    }
   ],
   "source": [
    "orders.dtypes"
   ]
  },
  {
   "cell_type": "code",
   "execution_count": 10,
   "metadata": {},
   "outputs": [
    {
     "name": "stdout",
     "output_type": "stream",
     "text": [
      "<class 'pandas.core.frame.DataFrame'>\n",
      "RangeIndex: 62 entries, 0 to 61\n",
      "Data columns (total 3 columns):\n",
      " #   Column    Non-Null Count  Dtype \n",
      "---  ------    --------------  ----- \n",
      " 0   date      62 non-null     object\n",
      " 1   group     62 non-null     object\n",
      " 2   visitors  62 non-null     int64 \n",
      "dtypes: int64(1), object(2)\n",
      "memory usage: 1.6+ KB\n"
     ]
    }
   ],
   "source": [
    "visitors.info()"
   ]
  },
  {
   "cell_type": "code",
   "execution_count": 11,
   "metadata": {},
   "outputs": [
    {
     "data": {
      "text/html": [
       "<div>\n",
       "<style scoped>\n",
       "    .dataframe tbody tr th:only-of-type {\n",
       "        vertical-align: middle;\n",
       "    }\n",
       "\n",
       "    .dataframe tbody tr th {\n",
       "        vertical-align: top;\n",
       "    }\n",
       "\n",
       "    .dataframe thead th {\n",
       "        text-align: right;\n",
       "    }\n",
       "</style>\n",
       "<table border=\"1\" class=\"dataframe\">\n",
       "  <thead>\n",
       "    <tr style=\"text-align: right;\">\n",
       "      <th></th>\n",
       "      <th>date</th>\n",
       "      <th>group</th>\n",
       "      <th>visitors</th>\n",
       "    </tr>\n",
       "  </thead>\n",
       "  <tbody>\n",
       "    <tr>\n",
       "      <th>0</th>\n",
       "      <td>2019-08-01</td>\n",
       "      <td>A</td>\n",
       "      <td>719</td>\n",
       "    </tr>\n",
       "    <tr>\n",
       "      <th>1</th>\n",
       "      <td>2019-08-02</td>\n",
       "      <td>A</td>\n",
       "      <td>619</td>\n",
       "    </tr>\n",
       "    <tr>\n",
       "      <th>2</th>\n",
       "      <td>2019-08-03</td>\n",
       "      <td>A</td>\n",
       "      <td>507</td>\n",
       "    </tr>\n",
       "    <tr>\n",
       "      <th>3</th>\n",
       "      <td>2019-08-04</td>\n",
       "      <td>A</td>\n",
       "      <td>717</td>\n",
       "    </tr>\n",
       "    <tr>\n",
       "      <th>4</th>\n",
       "      <td>2019-08-05</td>\n",
       "      <td>A</td>\n",
       "      <td>756</td>\n",
       "    </tr>\n",
       "  </tbody>\n",
       "</table>\n",
       "</div>"
      ],
      "text/plain": [
       "         date group  visitors\n",
       "0  2019-08-01     A       719\n",
       "1  2019-08-02     A       619\n",
       "2  2019-08-03     A       507\n",
       "3  2019-08-04     A       717\n",
       "4  2019-08-05     A       756"
      ]
     },
     "execution_count": 11,
     "metadata": {},
     "output_type": "execute_result"
    }
   ],
   "source": [
    "visitors.head()"
   ]
  },
  {
   "cell_type": "code",
   "execution_count": 12,
   "metadata": {},
   "outputs": [],
   "source": [
    "visitors['date'] = pd.to_datetime(visitors['date'],  format='%Y-%m-%d')"
   ]
  },
  {
   "cell_type": "code",
   "execution_count": 13,
   "metadata": {},
   "outputs": [
    {
     "data": {
      "text/plain": [
       "0"
      ]
     },
     "execution_count": 13,
     "metadata": {},
     "output_type": "execute_result"
    }
   ],
   "source": [
    "visitors.duplicated().sum()"
   ]
  },
  {
   "cell_type": "markdown",
   "metadata": {},
   "source": [
    "Проверим, есть ли такие пользователи, которые попадают в обе группы теста."
   ]
  },
  {
   "cell_type": "code",
   "execution_count": 14,
   "metadata": {},
   "outputs": [
    {
     "data": {
      "text/plain": [
       "{8300375,\n",
       " 199603092,\n",
       " 232979603,\n",
       " 237748145,\n",
       " 276558944,\n",
       " 351125977,\n",
       " 393266494,\n",
       " 457167155,\n",
       " 471551937,\n",
       " 477780734,\n",
       " 818047933,\n",
       " 963407295,\n",
       " 1230306981,\n",
       " 1294878855,\n",
       " 1316129916,\n",
       " 1333886533,\n",
       " 1404934699,\n",
       " 1602967004,\n",
       " 1614305549,\n",
       " 1648269707,\n",
       " 1668030113,\n",
       " 1738359350,\n",
       " 1801183820,\n",
       " 1959144690,\n",
       " 2038680547,\n",
       " 2044997962,\n",
       " 2378935119,\n",
       " 2458001652,\n",
       " 2579882178,\n",
       " 2587333274,\n",
       " 2600415354,\n",
       " 2654030115,\n",
       " 2686716486,\n",
       " 2712142231,\n",
       " 2716752286,\n",
       " 2780786433,\n",
       " 2927087541,\n",
       " 2949041841,\n",
       " 2954449915,\n",
       " 3062433592,\n",
       " 3202540741,\n",
       " 3234906277,\n",
       " 3656415546,\n",
       " 3717692402,\n",
       " 3766097110,\n",
       " 3803269165,\n",
       " 3891541246,\n",
       " 3941795274,\n",
       " 3951559397,\n",
       " 3957174400,\n",
       " 3963646447,\n",
       " 3972127743,\n",
       " 3984495233,\n",
       " 4069496402,\n",
       " 4120364173,\n",
       " 4186807279,\n",
       " 4256040402,\n",
       " 4266935830}"
      ]
     },
     "execution_count": 14,
     "metadata": {},
     "output_type": "execute_result"
    }
   ],
   "source": [
    "orders_visitors_A = orders[orders['group'] == 'A']['visitorId'].drop_duplicates()\n",
    "\n",
    "orders_visitors_B = orders[orders['group'] == 'B']['visitorId'].drop_duplicates()\n",
    "\n",
    "visitors_both_groups = set(orders_visitors_A).intersection(orders_visitors_B)\n",
    "\n",
    "visitors_both_groups"
   ]
  },
  {
   "cell_type": "markdown",
   "metadata": {},
   "source": [
    "Действительно, в покупках есть пересечение, но в посещениях (visitors) данные агрегированы. Полностью и точно удалить данные таких пользователей мы не сможем. Поэтому рекомендуется не удалять таких пользователей."
   ]
  },
  {
   "cell_type": "markdown",
   "metadata": {},
   "source": [
    "Загрузили файлы, посмотрели общую информацию, поменяли типы данных там, где это было необходимо, проверили данные на пропуски и  на дубликаты."
   ]
  },
  {
   "cell_type": "markdown",
   "metadata": {},
   "source": [
    "## Шаг 2. Приоритизация гипотез"
   ]
  },
  {
   "cell_type": "markdown",
   "metadata": {},
   "source": [
    "Применим фреймворк ICE для приоритизации гипотез. "
   ]
  },
  {
   "cell_type": "code",
   "execution_count": 15,
   "metadata": {},
   "outputs": [],
   "source": [
    "hypothesis['ICE'] = round(hypothesis['Impact']*hypothesis['Confidence'] / hypothesis['Efforts'], 1)"
   ]
  },
  {
   "cell_type": "code",
   "execution_count": 16,
   "metadata": {},
   "outputs": [
    {
     "data": {
      "text/html": [
       "<div>\n",
       "<style scoped>\n",
       "    .dataframe tbody tr th:only-of-type {\n",
       "        vertical-align: middle;\n",
       "    }\n",
       "\n",
       "    .dataframe tbody tr th {\n",
       "        vertical-align: top;\n",
       "    }\n",
       "\n",
       "    .dataframe thead th {\n",
       "        text-align: right;\n",
       "    }\n",
       "</style>\n",
       "<table border=\"1\" class=\"dataframe\">\n",
       "  <thead>\n",
       "    <tr style=\"text-align: right;\">\n",
       "      <th></th>\n",
       "      <th>Hypothesis</th>\n",
       "      <th>Reach</th>\n",
       "      <th>Impact</th>\n",
       "      <th>Confidence</th>\n",
       "      <th>Efforts</th>\n",
       "      <th>ICE</th>\n",
       "    </tr>\n",
       "  </thead>\n",
       "  <tbody>\n",
       "    <tr>\n",
       "      <th>8</th>\n",
       "      <td>Запустить акцию, дающую скидку на товар в день рождения</td>\n",
       "      <td>1</td>\n",
       "      <td>9</td>\n",
       "      <td>9</td>\n",
       "      <td>5</td>\n",
       "      <td>16.2</td>\n",
       "    </tr>\n",
       "    <tr>\n",
       "      <th>0</th>\n",
       "      <td>Добавить два новых канала привлечения трафика, что позволит привлекать на 30% больше пользователей</td>\n",
       "      <td>3</td>\n",
       "      <td>10</td>\n",
       "      <td>8</td>\n",
       "      <td>6</td>\n",
       "      <td>13.3</td>\n",
       "    </tr>\n",
       "    <tr>\n",
       "      <th>7</th>\n",
       "      <td>Добавить форму подписки на все основные страницы, чтобы собрать базу клиентов для email-рассылок</td>\n",
       "      <td>10</td>\n",
       "      <td>7</td>\n",
       "      <td>8</td>\n",
       "      <td>5</td>\n",
       "      <td>11.2</td>\n",
       "    </tr>\n",
       "    <tr>\n",
       "      <th>6</th>\n",
       "      <td>Показать на главной странице баннеры с актуальными акциями и распродажами, чтобы увеличить конверсию</td>\n",
       "      <td>5</td>\n",
       "      <td>3</td>\n",
       "      <td>8</td>\n",
       "      <td>3</td>\n",
       "      <td>8.0</td>\n",
       "    </tr>\n",
       "    <tr>\n",
       "      <th>2</th>\n",
       "      <td>Добавить блоки рекомендаций товаров на сайт интернет магазина, чтобы повысить конверсию и средний чек заказа</td>\n",
       "      <td>8</td>\n",
       "      <td>3</td>\n",
       "      <td>7</td>\n",
       "      <td>3</td>\n",
       "      <td>7.0</td>\n",
       "    </tr>\n",
       "    <tr>\n",
       "      <th>1</th>\n",
       "      <td>Запустить собственную службу доставки, что сократит срок доставки заказов</td>\n",
       "      <td>2</td>\n",
       "      <td>5</td>\n",
       "      <td>4</td>\n",
       "      <td>10</td>\n",
       "      <td>2.0</td>\n",
       "    </tr>\n",
       "    <tr>\n",
       "      <th>5</th>\n",
       "      <td>Добавить страницу отзывов клиентов о магазине, что позволит увеличить количество заказов</td>\n",
       "      <td>3</td>\n",
       "      <td>2</td>\n",
       "      <td>2</td>\n",
       "      <td>3</td>\n",
       "      <td>1.3</td>\n",
       "    </tr>\n",
       "    <tr>\n",
       "      <th>3</th>\n",
       "      <td>Изменить структура категорий, что увеличит конверсию, т.к. пользователи быстрее найдут нужный товар</td>\n",
       "      <td>8</td>\n",
       "      <td>3</td>\n",
       "      <td>3</td>\n",
       "      <td>8</td>\n",
       "      <td>1.1</td>\n",
       "    </tr>\n",
       "    <tr>\n",
       "      <th>4</th>\n",
       "      <td>Изменить цвет фона главной страницы, чтобы увеличить вовлеченность пользователей</td>\n",
       "      <td>3</td>\n",
       "      <td>1</td>\n",
       "      <td>1</td>\n",
       "      <td>1</td>\n",
       "      <td>1.0</td>\n",
       "    </tr>\n",
       "  </tbody>\n",
       "</table>\n",
       "</div>"
      ],
      "text/plain": [
       "                                                                                                     Hypothesis  \\\n",
       "8                                                       Запустить акцию, дающую скидку на товар в день рождения   \n",
       "0            Добавить два новых канала привлечения трафика, что позволит привлекать на 30% больше пользователей   \n",
       "7              Добавить форму подписки на все основные страницы, чтобы собрать базу клиентов для email-рассылок   \n",
       "6          Показать на главной странице баннеры с актуальными акциями и распродажами, чтобы увеличить конверсию   \n",
       "2  Добавить блоки рекомендаций товаров на сайт интернет магазина, чтобы повысить конверсию и средний чек заказа   \n",
       "1                                     Запустить собственную службу доставки, что сократит срок доставки заказов   \n",
       "5                      Добавить страницу отзывов клиентов о магазине, что позволит увеличить количество заказов   \n",
       "3           Изменить структура категорий, что увеличит конверсию, т.к. пользователи быстрее найдут нужный товар   \n",
       "4                              Изменить цвет фона главной страницы, чтобы увеличить вовлеченность пользователей   \n",
       "\n",
       "   Reach  Impact  Confidence  Efforts   ICE  \n",
       "8      1       9           9        5  16.2  \n",
       "0      3      10           8        6  13.3  \n",
       "7     10       7           8        5  11.2  \n",
       "6      5       3           8        3   8.0  \n",
       "2      8       3           7        3   7.0  \n",
       "1      2       5           4       10   2.0  \n",
       "5      3       2           2        3   1.3  \n",
       "3      8       3           3        8   1.1  \n",
       "4      3       1           1        1   1.0  "
      ]
     },
     "execution_count": 16,
     "metadata": {},
     "output_type": "execute_result"
    }
   ],
   "source": [
    "hypothesis.sort_values(by='ICE', ascending=False) # отсортируем гипотезы по убыванию приоритета"
   ]
  },
  {
   "cell_type": "markdown",
   "metadata": {},
   "source": [
    "Вперед вышли 8, 0 и 7 гипотезы.\n",
    "\n",
    "Применим фреймворк RICE для приоритизации гипотез."
   ]
  },
  {
   "cell_type": "code",
   "execution_count": 17,
   "metadata": {},
   "outputs": [],
   "source": [
    "hypothesis['RICE'] = hypothesis['Reach']*hypothesis['Impact']*hypothesis['Confidence'] / hypothesis['Efforts']"
   ]
  },
  {
   "cell_type": "code",
   "execution_count": 18,
   "metadata": {},
   "outputs": [
    {
     "data": {
      "text/html": [
       "<div>\n",
       "<style scoped>\n",
       "    .dataframe tbody tr th:only-of-type {\n",
       "        vertical-align: middle;\n",
       "    }\n",
       "\n",
       "    .dataframe tbody tr th {\n",
       "        vertical-align: top;\n",
       "    }\n",
       "\n",
       "    .dataframe thead th {\n",
       "        text-align: right;\n",
       "    }\n",
       "</style>\n",
       "<table border=\"1\" class=\"dataframe\">\n",
       "  <thead>\n",
       "    <tr style=\"text-align: right;\">\n",
       "      <th></th>\n",
       "      <th>Hypothesis</th>\n",
       "      <th>Reach</th>\n",
       "      <th>Impact</th>\n",
       "      <th>Confidence</th>\n",
       "      <th>Efforts</th>\n",
       "      <th>ICE</th>\n",
       "      <th>RICE</th>\n",
       "    </tr>\n",
       "  </thead>\n",
       "  <tbody>\n",
       "    <tr>\n",
       "      <th>7</th>\n",
       "      <td>Добавить форму подписки на все основные страницы, чтобы собрать базу клиентов для email-рассылок</td>\n",
       "      <td>10</td>\n",
       "      <td>7</td>\n",
       "      <td>8</td>\n",
       "      <td>5</td>\n",
       "      <td>11.2</td>\n",
       "      <td>112.0</td>\n",
       "    </tr>\n",
       "    <tr>\n",
       "      <th>2</th>\n",
       "      <td>Добавить блоки рекомендаций товаров на сайт интернет магазина, чтобы повысить конверсию и средний чек заказа</td>\n",
       "      <td>8</td>\n",
       "      <td>3</td>\n",
       "      <td>7</td>\n",
       "      <td>3</td>\n",
       "      <td>7.0</td>\n",
       "      <td>56.0</td>\n",
       "    </tr>\n",
       "    <tr>\n",
       "      <th>0</th>\n",
       "      <td>Добавить два новых канала привлечения трафика, что позволит привлекать на 30% больше пользователей</td>\n",
       "      <td>3</td>\n",
       "      <td>10</td>\n",
       "      <td>8</td>\n",
       "      <td>6</td>\n",
       "      <td>13.3</td>\n",
       "      <td>40.0</td>\n",
       "    </tr>\n",
       "    <tr>\n",
       "      <th>6</th>\n",
       "      <td>Показать на главной странице баннеры с актуальными акциями и распродажами, чтобы увеличить конверсию</td>\n",
       "      <td>5</td>\n",
       "      <td>3</td>\n",
       "      <td>8</td>\n",
       "      <td>3</td>\n",
       "      <td>8.0</td>\n",
       "      <td>40.0</td>\n",
       "    </tr>\n",
       "    <tr>\n",
       "      <th>8</th>\n",
       "      <td>Запустить акцию, дающую скидку на товар в день рождения</td>\n",
       "      <td>1</td>\n",
       "      <td>9</td>\n",
       "      <td>9</td>\n",
       "      <td>5</td>\n",
       "      <td>16.2</td>\n",
       "      <td>16.2</td>\n",
       "    </tr>\n",
       "    <tr>\n",
       "      <th>3</th>\n",
       "      <td>Изменить структура категорий, что увеличит конверсию, т.к. пользователи быстрее найдут нужный товар</td>\n",
       "      <td>8</td>\n",
       "      <td>3</td>\n",
       "      <td>3</td>\n",
       "      <td>8</td>\n",
       "      <td>1.1</td>\n",
       "      <td>9.0</td>\n",
       "    </tr>\n",
       "    <tr>\n",
       "      <th>1</th>\n",
       "      <td>Запустить собственную службу доставки, что сократит срок доставки заказов</td>\n",
       "      <td>2</td>\n",
       "      <td>5</td>\n",
       "      <td>4</td>\n",
       "      <td>10</td>\n",
       "      <td>2.0</td>\n",
       "      <td>4.0</td>\n",
       "    </tr>\n",
       "    <tr>\n",
       "      <th>5</th>\n",
       "      <td>Добавить страницу отзывов клиентов о магазине, что позволит увеличить количество заказов</td>\n",
       "      <td>3</td>\n",
       "      <td>2</td>\n",
       "      <td>2</td>\n",
       "      <td>3</td>\n",
       "      <td>1.3</td>\n",
       "      <td>4.0</td>\n",
       "    </tr>\n",
       "    <tr>\n",
       "      <th>4</th>\n",
       "      <td>Изменить цвет фона главной страницы, чтобы увеличить вовлеченность пользователей</td>\n",
       "      <td>3</td>\n",
       "      <td>1</td>\n",
       "      <td>1</td>\n",
       "      <td>1</td>\n",
       "      <td>1.0</td>\n",
       "      <td>3.0</td>\n",
       "    </tr>\n",
       "  </tbody>\n",
       "</table>\n",
       "</div>"
      ],
      "text/plain": [
       "                                                                                                     Hypothesis  \\\n",
       "7              Добавить форму подписки на все основные страницы, чтобы собрать базу клиентов для email-рассылок   \n",
       "2  Добавить блоки рекомендаций товаров на сайт интернет магазина, чтобы повысить конверсию и средний чек заказа   \n",
       "0            Добавить два новых канала привлечения трафика, что позволит привлекать на 30% больше пользователей   \n",
       "6          Показать на главной странице баннеры с актуальными акциями и распродажами, чтобы увеличить конверсию   \n",
       "8                                                       Запустить акцию, дающую скидку на товар в день рождения   \n",
       "3           Изменить структура категорий, что увеличит конверсию, т.к. пользователи быстрее найдут нужный товар   \n",
       "1                                     Запустить собственную службу доставки, что сократит срок доставки заказов   \n",
       "5                      Добавить страницу отзывов клиентов о магазине, что позволит увеличить количество заказов   \n",
       "4                              Изменить цвет фона главной страницы, чтобы увеличить вовлеченность пользователей   \n",
       "\n",
       "   Reach  Impact  Confidence  Efforts   ICE   RICE  \n",
       "7     10       7           8        5  11.2  112.0  \n",
       "2      8       3           7        3   7.0   56.0  \n",
       "0      3      10           8        6  13.3   40.0  \n",
       "6      5       3           8        3   8.0   40.0  \n",
       "8      1       9           9        5  16.2   16.2  \n",
       "3      8       3           3        8   1.1    9.0  \n",
       "1      2       5           4       10   2.0    4.0  \n",
       "5      3       2           2        3   1.3    4.0  \n",
       "4      3       1           1        1   1.0    3.0  "
      ]
     },
     "execution_count": 18,
     "metadata": {},
     "output_type": "execute_result"
    }
   ],
   "source": [
    "hypothesis.sort_values(by='RICE', ascending=False)# отсортируем гипотезы по убыванию приоритета"
   ]
  },
  {
   "cell_type": "markdown",
   "metadata": {},
   "source": [
    "После применения RICE лидировать стала 7 гипотеза, а за ней идут 2 и 0, а 8 гипотеза занимает только 5 место. Это связано с тем, что у 7 гипотезы очень высокий показатель охвата Reach, который и повлиял на общий RICE, а вот у 8 гипотезы наоборот очень низкий параметр Reach, поэтому она опустилась ниже."
   ]
  },
  {
   "cell_type": "markdown",
   "metadata": {},
   "source": [
    "Вывод: после применения фреймворка ICE лидировала 8 гипотеза, но после применения RICE лидером стала 7 гипотеза, так как у нее выше параметр Reach, т.е. она затронет больше пользователей."
   ]
  },
  {
   "cell_type": "markdown",
   "metadata": {},
   "source": [
    "## Шаг 3. Анализ A/B-теста"
   ]
  },
  {
   "cell_type": "markdown",
   "metadata": {},
   "source": [
    "Проанализируем A/B-тест:"
   ]
  },
  {
   "cell_type": "markdown",
   "metadata": {},
   "source": [
    "1.\tПостроим график кумулятивной выручки по группам. "
   ]
  },
  {
   "cell_type": "code",
   "execution_count": 19,
   "metadata": {},
   "outputs": [],
   "source": [
    "# создаем массив уникальных пар значений дат и групп теста\n",
    "dates_groups = orders[['date','group']].drop_duplicates() "
   ]
  },
  {
   "cell_type": "code",
   "execution_count": 20,
   "metadata": {},
   "outputs": [
    {
     "name": "stdout",
     "output_type": "stream",
     "text": [
      "        date group  orders  buyers  revenue  visitors\n",
      "0 2019-08-01     A      24      20   148579       719\n",
      "1 2019-08-01     B      21      20   101217       713\n",
      "2 2019-08-02     A      44      38   242401      1338\n",
      "3 2019-08-02     B      45      43   266748      1294\n",
      "4 2019-08-03     A      68      62   354874      1845\n"
     ]
    }
   ],
   "source": [
    "# получаем агрегированные кумулятивные по дням данные о заказах \n",
    "orders_agg = dates_groups.apply(lambda x: orders[np.logical_and(orders['date'] <= x['date'], orders['group'] == x['group'])].agg({'date' : 'max', 'group' : 'max', 'transactionId' : 'nunique', 'visitorId' : 'nunique', 'revenue' : 'sum'}), axis=1).sort_values(by=['date','group'])\n",
    "\n",
    "# получаем агрегированные кумулятивные по дням данные о посетителях интернет-магазина \n",
    "visitors_agg = dates_groups.apply(lambda x: visitors[np.logical_and(visitors['date'] <= x['date'], visitors['group'] == x['group'])].agg({'date' : 'max', 'group' : 'max', 'visitors' : 'sum'}), axis=1).sort_values(by=['date','group'])\n",
    "\n",
    "# объединяем кумулятивные данные в одной таблице и присваиваем ее столбцам названия\n",
    "cumulative_data = orders_agg.merge(visitors_agg, on=['date', 'group'])\n",
    "cumulative_data.columns = ['date', 'group', 'orders', 'buyers', 'revenue', 'visitors']\n",
    "\n",
    "print(cumulative_data.head(5)) "
   ]
  },
  {
   "cell_type": "code",
   "execution_count": 21,
   "metadata": {},
   "outputs": [
    {
     "data": {
      "image/png": "[encoded data removed]",
      "text/plain": [
       "<Figure size 720x360 with 1 Axes>"
      ]
     },
     "metadata": {
      "needs_background": "light"
     },
     "output_type": "display_data"
    }
   ],
   "source": [
    "# датафрейм с кумулятивным количеством заказов и кумулятивной выручкой по дням в группе А\n",
    "cumulative_revenue_A = cumulative_data[cumulative_data['group']=='A'][['date','revenue', 'orders']]\n",
    "\n",
    "# датафрейм с кумулятивным количеством заказов и кумулятивной выручкой по дням в группе B\n",
    "cumulative_revenue_B = cumulative_data[cumulative_data['group']=='B'][['date','revenue', 'orders']]\n",
    "\n",
    "# задаём размер сетки для графиков\n",
    "plt.figure(figsize=(10, 5))\n",
    "\n",
    "# строим график выручки группы А\n",
    "plt.plot(cumulative_revenue_A['date'], cumulative_revenue_A['revenue'], label='A')\n",
    "\n",
    "# строим график выручки группы B\n",
    "plt.plot(cumulative_revenue_B['date'], cumulative_revenue_B['revenue'], label='B')\n",
    "\n",
    "plt.legend() \n",
    "\n",
    "plt.title('Кумулятивная выручка по группам')\n",
    "\n",
    "plt.xlabel('Дата')\n",
    "\n",
    "plt.ylabel('Кумулятивная выручка')\n",
    "\n",
    "plt.xticks(rotation=45);"
   ]
  },
  {
   "cell_type": "markdown",
   "metadata": {},
   "source": [
    "Выручка равномерно растет в течение всего теста, и это положительный результат. Однако на графиках есть резкие скачки, что может свидетельствовать о крупных заказах или большом количестве заказов, которые необходимо будет проверить."
   ]
  },
  {
   "cell_type": "markdown",
   "metadata": {},
   "source": [
    "2.\tПостроим график кумулятивного среднего чека по группам. "
   ]
  },
  {
   "cell_type": "code",
   "execution_count": 22,
   "metadata": {},
   "outputs": [
    {
     "data": {
      "image/png": "[encoded data removed]",
      "text/plain": [
       "<Figure size 720x360 with 1 Axes>"
      ]
     },
     "metadata": {
      "needs_background": "light"
     },
     "output_type": "display_data"
    }
   ],
   "source": [
    "# задаём размер сетки для графиков\n",
    "plt.figure(figsize=(10, 5))\n",
    "\n",
    "# Строим график  кумулятивного среднего чека группы А\n",
    "plt.plot(cumulative_revenue_A['date'], cumulative_revenue_A['revenue']/cumulative_revenue_A['orders'], label='A')\n",
    "\n",
    "# Строим график  кумулятивного среднего чека группы В\n",
    "plt.plot(cumulative_revenue_B['date'], cumulative_revenue_B['revenue']/cumulative_revenue_B['orders'], label='B')\n",
    "\n",
    "plt.legend() \n",
    "\n",
    "plt.title('Кумулятивный средний чек по группам')\n",
    "\n",
    "plt.xlabel('Дата')\n",
    "\n",
    "plt.ylabel('Кумулятивный средний чек')\n",
    "\n",
    "plt.xticks(rotation=45);"
   ]
  },
  {
   "cell_type": "markdown",
   "metadata": {},
   "source": [
    "На графиках кумулятивного среднего чека много колебаний. В группе A ближе к концу теста средний чек стабилизируется, а вот в группе В произошел резкий всплеск и средний чек падает после резкого скачка, видимо были аномально большие заказы и теперь необходимо еще время, чтобы он стал равномерным."
   ]
  },
  {
   "cell_type": "markdown",
   "metadata": {},
   "source": [
    "3.\tПостроим график относительного изменения кумулятивного среднего чека группы B к группе A. "
   ]
  },
  {
   "cell_type": "code",
   "execution_count": 23,
   "metadata": {},
   "outputs": [
    {
     "data": {
      "image/png": "[encoded data removed]",
      "text/plain": [
       "<Figure size 720x360 with 1 Axes>"
      ]
     },
     "metadata": {
      "needs_background": "light"
     },
     "output_type": "display_data"
    }
   ],
   "source": [
    "# объединяем два датафрейма с кумулятивными выручками по группам\n",
    "merged_cumulative_revenue = cumulative_revenue_A.merge(cumulative_revenue_B, on='date', suffixes=['A', 'B'])\n",
    "\n",
    "# задаём размер сетки для графиков\n",
    "plt.figure(figsize=(10, 5))\n",
    "\n",
    "# cтроим график относительного изменения кумулятивного среднего чека группы B к группе A\n",
    "plt.plot(merged_cumulative_revenue['date'], (merged_cumulative_revenue['revenueB']/merged_cumulative_revenue['ordersB'])/(merged_cumulative_revenue['revenueA']/merged_cumulative_revenue['ordersA'])-1)\n",
    "\n",
    "# добавляем ось X\n",
    "plt.axhline(y=0, color='black', linestyle='--')\n",
    "\n",
    "plt.title('График относительного изменения кумулятивного среднего чека группы B к группе A')\n",
    "\n",
    "plt.xlabel('Дата')\n",
    "\n",
    "plt.ylabel('Доля изменения')\n",
    "\n",
    "plt.xticks(rotation=45);"
   ]
  },
  {
   "cell_type": "markdown",
   "metadata": {},
   "source": [
    "В нескольких точках график различия между группами резко «скачет». На это скорей всего повлияли выбросы (крупные заказы), которые необходимо будет проверить. Средний чек сегмента В выше, чем у сегмента А."
   ]
  },
  {
   "cell_type": "markdown",
   "metadata": {},
   "source": [
    "4.\tПостроим график кумулятивной конверсии по группам. "
   ]
  },
  {
   "cell_type": "code",
   "execution_count": 24,
   "metadata": {},
   "outputs": [
    {
     "data": {
      "image/png": "[encoded data removed]",
      "text/plain": [
       "<Figure size 720x360 with 1 Axes>"
      ]
     },
     "metadata": {
      "needs_background": "light"
     },
     "output_type": "display_data"
    }
   ],
   "source": [
    "# считаем кумулятивную конверсию\n",
    "cumulative_data['conversion'] = cumulative_data['orders']/cumulative_data['visitors']\n",
    "\n",
    "# фильтруем по группе A\n",
    "cumulative_data_A = cumulative_data[cumulative_data['group']=='A']\n",
    "\n",
    "# фильтруем по группе B\n",
    "cumulative_data_B = cumulative_data[cumulative_data['group']=='B']\n",
    "\n",
    "# задаём размер сетки для графиков\n",
    "plt.figure(figsize=(10, 5))\n",
    "\n",
    "# строим графики\n",
    "plt.plot(cumulative_data_A['date'], cumulative_data_A['conversion'], label='A')\n",
    "\n",
    "plt.plot(cumulative_data_B['date'], cumulative_data_B['conversion'], label='B')\n",
    "plt.legend()\n",
    "\n",
    "# задаем масштаб осей\n",
    "plt.axis(['2019-08-01', '2019-09-01', 0, 0.040])\n",
    "\n",
    "plt.title('Кумулятивная конверсия по группам')\n",
    "\n",
    "plt.xlabel('Дата')\n",
    "\n",
    "plt.ylabel('Кумулятивная конверсия')\n",
    "\n",
    "plt.xticks(rotation=45);"
   ]
  },
  {
   "cell_type": "markdown",
   "metadata": {},
   "source": [
    "На графике отметим, что конверсия группы В сначала отставала от конверсии группы А, но затем вырвалась вперед и зафиксировалась, а конверсия группы А просела и также зафиксировалась."
   ]
  },
  {
   "cell_type": "markdown",
   "metadata": {},
   "source": [
    "5.\tПостроим график относительного изменения кумулятивной конверсии группы B к группе A. "
   ]
  },
  {
   "cell_type": "code",
   "execution_count": 25,
   "metadata": {},
   "outputs": [
    {
     "data": {
      "image/png": "[encoded data removed]",
      "text/plain": [
       "<Figure size 864x360 with 1 Axes>"
      ]
     },
     "metadata": {
      "needs_background": "light"
     },
     "output_type": "display_data"
    }
   ],
   "source": [
    "# объединяем два датафрейма с кумулятивными конверсиями по группам\n",
    "merged_cumulative_conversions = cumulative_data_A[['date','conversion']].merge(cumulative_data_B[['date','conversion']], on='date', suffixes=['A', 'B'])\n",
    "\n",
    "# задаём размер сетки для графиков\n",
    "plt.figure(figsize=(12, 5))\n",
    "\n",
    "# cтроим график относительного изменения кумулятивной конверсии группы B к группе A\n",
    "plt.plot(merged_cumulative_conversions['date'], merged_cumulative_conversions['conversionB']/merged_cumulative_conversions['conversionA']-1, label=\"Относительный прирост конверсии группы B относительно группы A\")\n",
    "\n",
    "plt.legend()\n",
    "\n",
    "# добавляем оси X\n",
    "plt.axhline(y=0, color='black', linestyle='--')\n",
    "plt.axhline(y=0.1, color='grey', linestyle='--')\n",
    "\n",
    "# задаем масштаб осей\n",
    "plt.axis([\"2019-08-01\", '2019-09-01', -0.2, 0.3])\n",
    "\n",
    "plt.title('График относительного изменения кумулятивной конверсии группы B к группе A')\n",
    "\n",
    "plt.xlabel('Дата')\n",
    "\n",
    "plt.ylabel('Доля изменения')\n",
    "\n",
    "plt.xticks(rotation=45);"
   ]
  },
  {
   "cell_type": "markdown",
   "metadata": {},
   "source": [
    "По графикам мы видим, что конверсия в группе B в начале теста догоняла конверсию группы А, потом было падение, а затем она начинает расти и постепенно выравнивается на приросте около 10%. После 8-го дня конверсия уже стабилизировалась."
   ]
  },
  {
   "cell_type": "markdown",
   "metadata": {},
   "source": [
    "6.\tПостроим точечный график количества заказов по пользователям."
   ]
  },
  {
   "cell_type": "code",
   "execution_count": 26,
   "metadata": {},
   "outputs": [
    {
     "data": {
      "text/html": [
       "<div>\n",
       "<style scoped>\n",
       "    .dataframe tbody tr th:only-of-type {\n",
       "        vertical-align: middle;\n",
       "    }\n",
       "\n",
       "    .dataframe tbody tr th {\n",
       "        vertical-align: top;\n",
       "    }\n",
       "\n",
       "    .dataframe thead th {\n",
       "        text-align: right;\n",
       "    }\n",
       "</style>\n",
       "<table border=\"1\" class=\"dataframe\">\n",
       "  <thead>\n",
       "    <tr style=\"text-align: right;\">\n",
       "      <th></th>\n",
       "      <th>visitorId</th>\n",
       "      <th>orders</th>\n",
       "    </tr>\n",
       "  </thead>\n",
       "  <tbody>\n",
       "    <tr>\n",
       "      <th>1023</th>\n",
       "      <td>4256040402</td>\n",
       "      <td>11</td>\n",
       "    </tr>\n",
       "    <tr>\n",
       "      <th>591</th>\n",
       "      <td>2458001652</td>\n",
       "      <td>11</td>\n",
       "    </tr>\n",
       "    <tr>\n",
       "      <th>569</th>\n",
       "      <td>2378935119</td>\n",
       "      <td>9</td>\n",
       "    </tr>\n",
       "    <tr>\n",
       "      <th>487</th>\n",
       "      <td>2038680547</td>\n",
       "      <td>8</td>\n",
       "    </tr>\n",
       "    <tr>\n",
       "      <th>44</th>\n",
       "      <td>199603092</td>\n",
       "      <td>5</td>\n",
       "    </tr>\n",
       "    <tr>\n",
       "      <th>744</th>\n",
       "      <td>3062433592</td>\n",
       "      <td>5</td>\n",
       "    </tr>\n",
       "    <tr>\n",
       "      <th>55</th>\n",
       "      <td>237748145</td>\n",
       "      <td>5</td>\n",
       "    </tr>\n",
       "    <tr>\n",
       "      <th>917</th>\n",
       "      <td>3803269165</td>\n",
       "      <td>5</td>\n",
       "    </tr>\n",
       "    <tr>\n",
       "      <th>299</th>\n",
       "      <td>1230306981</td>\n",
       "      <td>5</td>\n",
       "    </tr>\n",
       "    <tr>\n",
       "      <th>897</th>\n",
       "      <td>3717692402</td>\n",
       "      <td>5</td>\n",
       "    </tr>\n",
       "  </tbody>\n",
       "</table>\n",
       "</div>"
      ],
      "text/plain": [
       "       visitorId  orders\n",
       "1023  4256040402      11\n",
       "591   2458001652      11\n",
       "569   2378935119       9\n",
       "487   2038680547       8\n",
       "44     199603092       5\n",
       "744   3062433592       5\n",
       "55     237748145       5\n",
       "917   3803269165       5\n",
       "299   1230306981       5\n",
       "897   3717692402       5"
      ]
     },
     "execution_count": 26,
     "metadata": {},
     "output_type": "execute_result"
    }
   ],
   "source": [
    "orders_by_users = orders.groupby('visitorId', as_index=False).agg({'transactionId': 'nunique'})\n",
    "\n",
    "orders_by_users.columns = ['visitorId', 'orders']\n",
    "\n",
    "orders_by_users.sort_values(by='orders', ascending=False).head(10)"
   ]
  },
  {
   "cell_type": "code",
   "execution_count": 27,
   "metadata": {},
   "outputs": [
    {
     "data": {
      "text/plain": [
       "Text(0, 0.5, 'Количество заказов')"
      ]
     },
     "execution_count": 27,
     "metadata": {},
     "output_type": "execute_result"
    },
    {
     "data": {
      "image/png": "[encoded data removed]",
      "text/plain": [
       "<Figure size 432x288 with 1 Axes>"
      ]
     },
     "metadata": {
      "needs_background": "light"
     },
     "output_type": "display_data"
    }
   ],
   "source": [
    "x_values = pd.Series(range(0,len(orders_by_users)))\n",
    "\n",
    "plt.scatter(x_values, orders_by_users['orders']) \n",
    "\n",
    "plt.title('График количества заказов по пользователям')\n",
    "\n",
    "plt.xlabel('Индекс пользователя')\n",
    "\n",
    "plt.ylabel('Количество заказов')"
   ]
  },
  {
   "cell_type": "markdown",
   "metadata": {},
   "source": [
    "По точечной диаграмме можно сказать, что много пользователей сделали 1 заказ, а вот 2 и больше заказов не так много."
   ]
  },
  {
   "cell_type": "markdown",
   "metadata": {},
   "source": [
    "7.\tПосчитаем 95-й и 99-й перцентили количества заказов на пользователя."
   ]
  },
  {
   "cell_type": "code",
   "execution_count": 28,
   "metadata": {},
   "outputs": [
    {
     "data": {
      "text/plain": [
       "array([2., 4.])"
      ]
     },
     "execution_count": 28,
     "metadata": {},
     "output_type": "execute_result"
    }
   ],
   "source": [
    "np.percentile(orders_by_users['orders'], [95, 99])"
   ]
  },
  {
   "cell_type": "markdown",
   "metadata": {},
   "source": [
    "Не более 5% пользователей оформляли больше, чем 2 заказа, и 1% - больше 4 заказов. Выберем границу для отсеивания аномальных пользователей - 3 заказа на пользователя."
   ]
  },
  {
   "cell_type": "markdown",
   "metadata": {},
   "source": [
    "8.\tПостроим точечный график стоимостей заказов."
   ]
  },
  {
   "cell_type": "code",
   "execution_count": 29,
   "metadata": {},
   "outputs": [
    {
     "data": {
      "image/png": "[encoded data removed]",
      "text/plain": [
       "<Figure size 1080x360 with 2 Axes>"
      ]
     },
     "metadata": {
      "needs_background": "light"
     },
     "output_type": "display_data"
    }
   ],
   "source": [
    "x_values = pd.Series(range(0,len(orders['revenue'])))\n",
    "\n",
    "fig, axes= plt.subplots(1, 2,figsize=(15,5))\n",
    "\n",
    "axes[0].scatter(x_values, orders['revenue']) \n",
    "\n",
    "axes[0].set_title('График стоимостей заказов')\n",
    "\n",
    "axes[0].set_xlabel('Индекс заказа')\n",
    "\n",
    "axes[0].set_ylabel('Стоимость заказа')\n",
    "\n",
    "axes[1].set_ylim([0, 100000])\n",
    "\n",
    "axes[1].scatter(x_values, orders['revenue'])\n",
    "\n",
    "axes[1].set_title('График стоимостей заказов')\n",
    "\n",
    "axes[1].set_xlabel('Индекс заказа')\n",
    "\n",
    "axes[1].set_ylabel('Стоимость заказа')\n",
    "\n",
    "plt.show()"
   ]
  },
  {
   "cell_type": "markdown",
   "metadata": {},
   "source": [
    "Большинство пользователей совершали заказы до 50 000 руб., но есть и единичные крупные заказы.\n",
    "\n",
    "9.\tПосчитаем 95-й и 99-й перцентили стоимости заказов. "
   ]
  },
  {
   "cell_type": "code",
   "execution_count": 30,
   "metadata": {},
   "outputs": [
    {
     "data": {
      "text/plain": [
       "array([28000. , 58233.2])"
      ]
     },
     "execution_count": 30,
     "metadata": {},
     "output_type": "execute_result"
    }
   ],
   "source": [
    "np.percentile(orders['revenue'], [95, 99])"
   ]
  },
  {
   "cell_type": "markdown",
   "metadata": {},
   "source": [
    "Не более 5% заказов дороже 28 000 руб., не более 1% дороже 58 233 руб. Примем за аномальных пользователей тех, кто совершил заказы дороже 40 000 руб. Так мы отсеем от 1-5% пользователей с крупными заказами и 1-5% пользователей, которые совершили от 3 заказов."
   ]
  },
  {
   "cell_type": "markdown",
   "metadata": {},
   "source": [
    "10.\tПосчитаем статистическую значимость различий в конверсии между группами по «сырым» данным. \n",
    "\n",
    "Нулевая гипотеза: различий в конверсии между группами нет. Альтернативная гипотеза: различия в конверсии между группами есть. Чтобы рассчитать статистическую значимость различий в конверсии, передадим критерию mannwhitneyu() данные о заказах, учитывая также пользователей, которые не сделали ни одного заказа. И найдём относительные различия в конверсии между группами:"
   ]
  },
  {
   "cell_type": "code",
   "execution_count": 31,
   "metadata": {},
   "outputs": [],
   "source": [
    "orders_by_users_A = orders[orders['group'] == 'A'].groupby('visitorId', as_index=False).agg({'transactionId': pd.Series.nunique})\n",
    "\n",
    "orders_by_users_A.columns = ['userId', 'orders']\n",
    "\n",
    "orders_by_users_B = orders[orders['group'] == 'B'].groupby('visitorId', as_index=False).agg({'transactionId': pd.Series.nunique})\n",
    "\n",
    "orders_by_users_B.columns = ['userId', 'orders']"
   ]
  },
  {
   "cell_type": "code",
   "execution_count": 32,
   "metadata": {},
   "outputs": [],
   "source": [
    "visitors_daily_A = visitors[visitors['group'] == 'A'][['date', 'visitors']]\n",
    "\n",
    "visitors_daily_A.columns = ['date', 'visitors_per_date_A']\n",
    "\n",
    "visitors_daily_B = visitors[visitors['group'] == 'B'][['date', 'visitors']]\n",
    "\n",
    "visitors_daily_B.columns = ['date', 'visitors_per_date_B']"
   ]
  },
  {
   "cell_type": "code",
   "execution_count": 33,
   "metadata": {},
   "outputs": [
    {
     "name": "stdout",
     "output_type": "stream",
     "text": [
      "P-value = 0.017\n",
      "Относительное различие в конверсии между группами = 0.138\n",
      "Отвергаем нулевую гипотезу для сравнения групп А и B\n"
     ]
    }
   ],
   "source": [
    "sample_A = pd.concat([orders_by_users_A['orders'],\n",
    "                     pd.Series(0, index=np.arange(visitors_daily_A['visitors_per_date_A'].sum() - len(orders_by_users_A['orders'])), name='orders')],\n",
    "                     axis=0)\n",
    "\n",
    "sample_B = pd.concat([orders_by_users_B['orders'],\n",
    "                     pd.Series(0, index=np.arange(visitors_daily_B['visitors_per_date_B'].sum() - len(orders_by_users_B['orders'])), name='orders')],\n",
    "                     axis=0)\n",
    "\n",
    "alpha = 0.05\n",
    "\n",
    "AB_pvalue = stats.mannwhitneyu(sample_A, sample_B)[1]\n",
    "\n",
    "print(\"P-value = {0:.3f}\".format(AB_pvalue))\n",
    "\n",
    "print(\"Относительное различие в конверсии между группами = {0:.3f}\".format(sample_B.mean() / sample_A.mean() - 1))\n",
    "\n",
    "if AB_pvalue < alpha:\n",
    "    print('Отвергаем нулевую гипотезу для сравнения групп А и B')\n",
    "else:\n",
    "    print('Не получилось отвергнуть нулевую гипотезу для сравнения групп А и B') "
   ]
  },
  {
   "cell_type": "markdown",
   "metadata": {},
   "source": [
    "Вывод: По «сырым» данным конверсии групп A и B различаются.\n",
    "P-value = 0.017 меньше 0.05. Значит, нулевую гипотезу о том, что статистически значимых различий в конверсии между группами нет, отвергаем. Относительный прирост конверсии группы B равен 13.8%."
   ]
  },
  {
   "cell_type": "markdown",
   "metadata": {},
   "source": [
    "11.\tПосчитаем статистическую значимость различий в среднем чеке заказа между группами по «сырым» данным. "
   ]
  },
  {
   "cell_type": "markdown",
   "metadata": {},
   "source": [
    "Нулевая гипотеза: различий в среднем чеке между группами нет. Альтернативная гипотеза: различия в среднем чеке между группами есть.\n",
    "Чтобы рассчитать статистическую значимость различий в среднем чеке, передадим критерию mannwhitneyu() данные о выручке с заказов.\n",
    "А ещё найдём относительные различия в среднем чеке между группами:"
   ]
  },
  {
   "cell_type": "code",
   "execution_count": 34,
   "metadata": {},
   "outputs": [
    {
     "name": "stdout",
     "output_type": "stream",
     "text": [
      "P-value = 0.729\n",
      "Относительное различие в среднем чеке между группами = 0.259\n",
      "Не получилось отвергнуть нулевую гипотезу для сравнения групп А и B\n"
     ]
    }
   ],
   "source": [
    "AB_pvalue = stats.mannwhitneyu(orders[orders['group']=='A']['revenue'], orders[orders['group']=='B']['revenue'])[1]\n",
    "\n",
    "print(\"P-value = {0:.3f}\".format(AB_pvalue))\n",
    "\n",
    "print(\"Относительное различие в среднем чеке между группами = {0:.3f}\".format(orders[orders['group']=='B']['revenue'].mean()/orders[orders['group']=='A']['revenue'].mean()-1))\n",
    "\n",
    "if AB_pvalue < alpha:\n",
    "    print('Отвергаем нулевую гипотезу для сравнения групп А и B')\n",
    "else:\n",
    "    print('Не получилось отвергнуть нулевую гипотезу для сравнения групп А и B') "
   ]
  },
  {
   "cell_type": "markdown",
   "metadata": {},
   "source": [
    "P-value значительно больше 0.05. Значит нулевую гипотезу не отвергаем и считаем, что в среднем чеке сегментов нет различий. Однако по относительным различиям средний чек группы B выше среднего чека группы A почти на 26%. Скорее всего это связано с аномально крупными значениями заказов. Отфильтруем эти значения в следующих шагах и проверим, как изменится показатель относительной разницы в среднем чеке."
   ]
  },
  {
   "cell_type": "markdown",
   "metadata": {},
   "source": [
    "12.\tПосчитаем статистическую значимость различий в конверсии между группами по «очищенным» данным. \n",
    "\n",
    "Для этого найдем пользователей, совершивших более 3 заказов, а также пользователей, стоимость одного заказа которых больше 40 000 руб."
   ]
  },
  {
   "cell_type": "code",
   "execution_count": 35,
   "metadata": {},
   "outputs": [
    {
     "name": "stdout",
     "output_type": "stream",
     "text": [
      "1099    148427295\n",
      "18      199603092\n",
      "23      237748145\n",
      "37      249864742\n",
      "684     358944393\n",
      "dtype: int64\n",
      "45\n"
     ]
    }
   ],
   "source": [
    "users_many_orders = pd.concat([orders_by_users_A[orders_by_users_A['orders'] > 2]['userId'],\n",
    "                               orders_by_users_B[orders_by_users_B['orders'] > 2]['userId']],\n",
    "                               axis=0)\n",
    "\n",
    "users_expensive_orders = orders[orders['revenue'] > 40000]['visitorId']\n",
    "\n",
    "abnormal_users = (pd.concat([users_many_orders, users_expensive_orders], axis=0)\n",
    "    .drop_duplicates()\n",
    "    .sort_values())\n",
    "\n",
    "print(abnormal_users.head(5))\n",
    "\n",
    "print(abnormal_users.shape[0])"
   ]
  },
  {
   "cell_type": "markdown",
   "metadata": {},
   "source": [
    "Получилось 45 аномальных пользователей.\n",
    "Узнаем, как их действия повлияли на результаты теста. Посчитаем статистическую значимость различий в конверсии между группами теста по очищенным данным. Сначала подготовим выборки количества заказов по пользователям по группам теста."
   ]
  },
  {
   "cell_type": "code",
   "execution_count": 36,
   "metadata": {},
   "outputs": [],
   "source": [
    "sample_A_filtered = pd.concat([orders_by_users_A[np.logical_not(orders_by_users_A['userId'].isin(abnormal_users))]['orders'],\n",
    "        pd.Series(0, index=np.arange(visitors_daily_A['visitors_per_date_A'].sum() - len(orders_by_users_A['orders'])),\n",
    "        name='orders')], \n",
    "        axis=0)\n",
    "\n",
    "sample_B_filtered = pd.concat([orders_by_users_B[np.logical_not(orders_by_users_B['userId'].isin(abnormal_users))]['orders'],\n",
    "        pd.Series(0, index=np.arange(visitors_daily_B['visitors_per_date_B'].sum() - len(orders_by_users_B['orders'])),\n",
    "        name='orders')], \n",
    "        axis=0)"
   ]
  },
  {
   "cell_type": "code",
   "execution_count": 37,
   "metadata": {},
   "outputs": [
    {
     "name": "stdout",
     "output_type": "stream",
     "text": [
      "P-value = 0.007\n",
      "Относительное различие в конверсии между группами = 0.188\n",
      "Отвергаем нулевую гипотезу для сравнения групп А и B\n"
     ]
    }
   ],
   "source": [
    "# применим статистический критерий Манна-Уитни к полученным выборкам\n",
    "\n",
    "AB_pvalue = stats.mannwhitneyu(sample_A_filtered, sample_B_filtered)[1]\n",
    "\n",
    "print(\"P-value = {0:.3f}\".format(AB_pvalue))\n",
    "\n",
    "print(\"Относительное различие в конверсии между группами = {0:.3f}\".format(sample_B_filtered.mean()/sample_A_filtered.mean()-1))\n",
    "\n",
    "if AB_pvalue < alpha:\n",
    "    print('Отвергаем нулевую гипотезу для сравнения групп А и B')\n",
    "else:\n",
    "    print('Не получилось отвергнуть нулевую гипотезу для сравнения групп А и B') "
   ]
  },
  {
   "cell_type": "markdown",
   "metadata": {},
   "source": [
    "По «очищенным» данным конверсии групп A и B различаются как и в случае с \"сырыми\" данными. p-value = 0.007 значительно меньше 0.05. Статистическая значимость достигнута. Сегмент В лучше по конверсии, чем сегмент А. Относительный прирост конверсии группы B равен 18.8%."
   ]
  },
  {
   "cell_type": "markdown",
   "metadata": {},
   "source": [
    "13.\tПосчитаем статистическую значимость различий в среднем чеке заказа между группами по «очищенным» данным. "
   ]
  },
  {
   "cell_type": "code",
   "execution_count": 38,
   "metadata": {},
   "outputs": [
    {
     "name": "stdout",
     "output_type": "stream",
     "text": [
      "P-value = 0.944\n",
      "Относительное различие в среднем чеке между группами = 0.058\n",
      "Не получилось отвергнуть нулевую гипотезу для сравнения групп А и B\n"
     ]
    }
   ],
   "source": [
    "AB_pvalue = stats.mannwhitneyu(orders[np.logical_and(orders['group'] == 'A',\n",
    "                                                 np.logical_not(orders['visitorId'].isin(abnormal_users)))]['revenue'],\n",
    "                                          orders[np.logical_and(orders['group'] == 'B', \n",
    "                                                 np.logical_not(orders['visitorId'].isin(abnormal_users)))]['revenue'])[1]\n",
    "\n",
    "print(\"P-value = {0:.3f}\".format(AB_pvalue))\n",
    "\n",
    "print(\"Относительное различие в среднем чеке между группами = {0:.3f}\".format(orders[np.logical_and(orders['group'] == 'B',\n",
    "                              np.logical_not(orders['visitorId'].isin(abnormal_users)))]['revenue'].mean()\n",
    "                    / orders[np.logical_and(orders['group'] == 'A',\n",
    "                             np.logical_not(orders['visitorId'].isin(abnormal_users)))]['revenue'].mean()\n",
    "                    - 1))\n",
    "\n",
    "if AB_pvalue < alpha:\n",
    "    print('Отвергаем нулевую гипотезу для сравнения групп А и B')\n",
    "else:\n",
    "    print('Не получилось отвергнуть нулевую гипотезу для сравнения групп А и B')"
   ]
  },
  {
   "cell_type": "markdown",
   "metadata": {},
   "source": [
    "P-value значительно больше 0.05. Значит нулевую гипотезу не отвергаем и считаем, что в среднем чеке нет различий. Средний чек группы B выше среднего чека группы A всего на 5.8 %, по сравнению с \"сырыми\" данными разница сократилась на 21%, вот какое влияние оказывали аномально крупные заказы."
   ]
  },
  {
   "cell_type": "markdown",
   "metadata": {},
   "source": [
    "Выводы:\n",
    "\n",
    "- Есть статистически значимое различие по конверсии между группами как по \"сырым\" данным, так и после фильтрации аномалий. Конверсия сегмента В превышает конверсию сегмента А на 18.8 % по \"очищенным\" данным.\n",
    "\n",
    "- Нет статистически значимого различия по среднему чеку между группами ни по \"сырым\", ни по данным после фильтрации аномалий. Относительная разница в среднем чеке группы В от группы А составляет 5.8 %.\n"
   ]
  },
  {
   "cell_type": "markdown",
   "metadata": {},
   "source": [
    "## Шаг 4. Выводы"
   ]
  },
  {
   "cell_type": "markdown",
   "metadata": {},
   "source": [
    "Выводы:\n",
    "Проведя анализ результатов А/В тестирования, приходим к следующим заключениям:\n",
    "\n",
    "Есть статистически значимое различие по конверсии между группами как по \"сырым\" данным, так и после фильтрации аномалий. Причем конверсия группы В выше на 18.8 % по сравнению с группой А.\n",
    "\n",
    "Нет статистически значимого различия по среднему чеку между группами ни по \"сырым\", ни по данным после фильтрации аномалий. Различие между группами в 5.8 % не является статистически значимым.\n",
    "\n",
    "График различия конверсии между группами сообщает, что результаты группы B лучше группы A: имеют тенденцию к росту, либо зафиксировались около среднего значения (прирост около 10%).\n",
    "\n",
    "График различия среднего чека колеблется:  он свидетельствует о наличии аномалий. Сделать из этого графика определённые выводы нельзя.\n",
    "\n",
    "Исходя из этих результатов, предполагаем, что следует остановить тест, признать победу группы B, так как конверсия в этой группе увеличилась при практически таком же среднем чеке, как и у группы А."
   ]
  }
 ],
 "metadata": {
  "ExecuteTimeLog": [
   {
    "duration": 868,
    "start_time": "2022-04-29T12:45:39.281Z"
   },
   {
    "duration": 137,
    "start_time": "2022-04-29T12:47:17.171Z"
   },
   {
    "duration": 75,
    "start_time": "2022-04-29T12:47:22.829Z"
   },
   {
    "duration": 13,
    "start_time": "2022-04-29T12:47:35.972Z"
   },
   {
    "duration": 10,
    "start_time": "2022-04-29T12:47:51.281Z"
   },
   {
    "duration": 8,
    "start_time": "2022-04-29T12:48:15.792Z"
   },
   {
    "duration": 3,
    "start_time": "2022-04-29T12:49:13.009Z"
   },
   {
    "duration": 6,
    "start_time": "2022-04-29T12:49:16.605Z"
   },
   {
    "duration": 3,
    "start_time": "2022-04-29T12:53:26.648Z"
   },
   {
    "duration": 7,
    "start_time": "2022-04-29T12:53:29.085Z"
   },
   {
    "duration": 6,
    "start_time": "2022-04-29T12:53:33.797Z"
   },
   {
    "duration": 10,
    "start_time": "2022-04-29T13:03:33.435Z"
   },
   {
    "duration": 7,
    "start_time": "2022-04-29T13:04:09.015Z"
   },
   {
    "duration": 7,
    "start_time": "2022-04-29T13:04:34.616Z"
   },
   {
    "duration": 8,
    "start_time": "2022-04-29T13:04:47.732Z"
   },
   {
    "duration": 10,
    "start_time": "2022-04-29T13:05:35.555Z"
   },
   {
    "duration": 13,
    "start_time": "2022-04-29T13:07:01.614Z"
   },
   {
    "duration": 5,
    "start_time": "2022-04-29T13:07:54.244Z"
   },
   {
    "duration": 8,
    "start_time": "2022-04-29T13:08:31.559Z"
   },
   {
    "duration": 4,
    "start_time": "2022-04-29T13:08:50.778Z"
   },
   {
    "duration": 4,
    "start_time": "2022-04-29T13:09:11.535Z"
   },
   {
    "duration": 5,
    "start_time": "2022-04-29T13:09:12.390Z"
   },
   {
    "duration": 6,
    "start_time": "2022-04-29T13:09:58.655Z"
   },
   {
    "duration": 4,
    "start_time": "2022-04-29T13:09:59.298Z"
   },
   {
    "duration": 10,
    "start_time": "2022-04-29T13:10:22.850Z"
   },
   {
    "duration": 4,
    "start_time": "2022-04-29T13:14:51.854Z"
   },
   {
    "duration": 5,
    "start_time": "2022-04-29T13:15:04.274Z"
   },
   {
    "duration": 5,
    "start_time": "2022-04-29T13:15:05.195Z"
   },
   {
    "duration": 5,
    "start_time": "2022-04-29T13:38:30.371Z"
   },
   {
    "duration": 5,
    "start_time": "2022-04-29T13:38:53.271Z"
   },
   {
    "duration": 5,
    "start_time": "2022-04-29T14:01:10.728Z"
   },
   {
    "duration": 5,
    "start_time": "2022-04-29T14:01:12.449Z"
   },
   {
    "duration": 2605,
    "start_time": "2022-04-29T14:04:18.241Z"
   },
   {
    "duration": 6,
    "start_time": "2022-04-29T14:04:27.084Z"
   },
   {
    "duration": 4,
    "start_time": "2022-04-29T14:04:49.435Z"
   },
   {
    "duration": 808,
    "start_time": "2022-04-29T14:04:53.617Z"
   },
   {
    "duration": 928,
    "start_time": "2022-04-29T14:06:26.778Z"
   },
   {
    "duration": 898,
    "start_time": "2022-04-29T14:08:21.351Z"
   },
   {
    "duration": 64,
    "start_time": "2022-04-29T14:08:35.362Z"
   },
   {
    "duration": 874,
    "start_time": "2022-04-29T14:08:39.567Z"
   },
   {
    "duration": 3,
    "start_time": "2022-04-29T14:08:45.963Z"
   },
   {
    "duration": 68,
    "start_time": "2022-04-29T14:08:47.817Z"
   },
   {
    "duration": 13,
    "start_time": "2022-04-29T14:08:48.958Z"
   },
   {
    "duration": 7,
    "start_time": "2022-04-29T14:08:50.044Z"
   },
   {
    "duration": 10,
    "start_time": "2022-04-29T14:08:53.518Z"
   },
   {
    "duration": 7,
    "start_time": "2022-04-29T14:08:54.198Z"
   },
   {
    "duration": 6,
    "start_time": "2022-04-29T14:08:55.932Z"
   },
   {
    "duration": 11,
    "start_time": "2022-04-29T14:08:56.588Z"
   },
   {
    "duration": 5,
    "start_time": "2022-04-29T14:09:29.456Z"
   },
   {
    "duration": 65,
    "start_time": "2022-04-29T14:09:54.181Z"
   },
   {
    "duration": 5,
    "start_time": "2022-04-29T14:10:15.737Z"
   },
   {
    "duration": 5,
    "start_time": "2022-04-29T14:10:17.578Z"
   },
   {
    "duration": 7,
    "start_time": "2022-04-29T14:10:49.134Z"
   },
   {
    "duration": 7,
    "start_time": "2022-04-29T14:10:51.061Z"
   },
   {
    "duration": 5,
    "start_time": "2022-04-29T14:10:52.122Z"
   },
   {
    "duration": 8,
    "start_time": "2022-04-29T14:15:08.339Z"
   },
   {
    "duration": 5,
    "start_time": "2022-04-29T14:16:05.081Z"
   },
   {
    "duration": 4,
    "start_time": "2022-04-29T14:16:16.137Z"
   },
   {
    "duration": 7,
    "start_time": "2022-04-29T14:20:01.120Z"
   },
   {
    "duration": 9,
    "start_time": "2022-04-29T14:21:42.397Z"
   },
   {
    "duration": 9,
    "start_time": "2022-04-29T14:23:14.549Z"
   },
   {
    "duration": 3,
    "start_time": "2022-04-29T14:23:39.787Z"
   },
   {
    "duration": 9,
    "start_time": "2022-04-29T14:23:54.776Z"
   },
   {
    "duration": 10,
    "start_time": "2022-04-29T14:25:21.610Z"
   },
   {
    "duration": 9,
    "start_time": "2022-04-29T14:25:29.182Z"
   },
   {
    "duration": 49,
    "start_time": "2022-04-29T18:18:12.509Z"
   },
   {
    "duration": 1269,
    "start_time": "2022-04-29T18:18:43.406Z"
   },
   {
    "duration": 104,
    "start_time": "2022-04-29T18:18:44.679Z"
   },
   {
    "duration": 17,
    "start_time": "2022-04-29T18:18:44.784Z"
   },
   {
    "duration": 17,
    "start_time": "2022-04-29T18:18:44.804Z"
   },
   {
    "duration": 10,
    "start_time": "2022-04-29T18:18:44.822Z"
   },
   {
    "duration": 12,
    "start_time": "2022-04-29T18:18:44.834Z"
   },
   {
    "duration": 8,
    "start_time": "2022-04-29T18:18:44.847Z"
   },
   {
    "duration": 7,
    "start_time": "2022-04-29T18:18:44.857Z"
   },
   {
    "duration": 35,
    "start_time": "2022-04-29T18:18:44.866Z"
   },
   {
    "duration": 13,
    "start_time": "2022-04-29T18:18:44.905Z"
   },
   {
    "duration": 11,
    "start_time": "2022-04-29T18:18:44.920Z"
   },
   {
    "duration": 5,
    "start_time": "2022-04-29T18:18:44.933Z"
   },
   {
    "duration": 8,
    "start_time": "2022-04-29T18:18:44.940Z"
   },
   {
    "duration": 6,
    "start_time": "2022-04-29T18:18:44.949Z"
   },
   {
    "duration": 45,
    "start_time": "2022-04-29T18:18:44.957Z"
   },
   {
    "duration": 8,
    "start_time": "2022-04-29T18:18:45.004Z"
   },
   {
    "duration": 36,
    "start_time": "2022-04-29T18:18:45.013Z"
   },
   {
    "duration": 8,
    "start_time": "2022-04-29T18:18:47.114Z"
   },
   {
    "duration": 6,
    "start_time": "2022-04-29T18:49:27.961Z"
   },
   {
    "duration": 390,
    "start_time": "2022-04-29T18:55:14.550Z"
   },
   {
    "duration": 217,
    "start_time": "2022-04-29T20:46:55.700Z"
   },
   {
    "duration": 188,
    "start_time": "2022-04-29T20:48:30.008Z"
   },
   {
    "duration": 151,
    "start_time": "2022-04-29T20:48:38.162Z"
   },
   {
    "duration": 189,
    "start_time": "2022-04-29T21:07:24.260Z"
   },
   {
    "duration": 147,
    "start_time": "2022-04-29T21:07:54.158Z"
   },
   {
    "duration": 36,
    "start_time": "2022-04-29T21:20:38.062Z"
   },
   {
    "duration": 11,
    "start_time": "2022-04-29T21:20:54.727Z"
   },
   {
    "duration": 298,
    "start_time": "2022-04-29T21:21:10.907Z"
   },
   {
    "duration": 275,
    "start_time": "2022-04-29T21:21:26.390Z"
   },
   {
    "duration": 172,
    "start_time": "2022-04-29T21:26:31.994Z"
   },
   {
    "duration": 9,
    "start_time": "2022-04-29T21:28:08.954Z"
   },
   {
    "duration": 9,
    "start_time": "2022-04-29T21:28:24.783Z"
   },
   {
    "duration": 7,
    "start_time": "2022-04-29T21:29:13.415Z"
   },
   {
    "duration": 8,
    "start_time": "2022-04-29T21:29:17.304Z"
   },
   {
    "duration": 4,
    "start_time": "2022-04-29T21:29:59.220Z"
   },
   {
    "duration": 7,
    "start_time": "2022-04-29T21:30:31.171Z"
   },
   {
    "duration": 8,
    "start_time": "2022-04-29T21:30:34.182Z"
   },
   {
    "duration": 175,
    "start_time": "2022-04-29T21:31:06.895Z"
   },
   {
    "duration": 171,
    "start_time": "2022-04-29T21:32:06.781Z"
   },
   {
    "duration": 8,
    "start_time": "2022-04-29T21:34:35.349Z"
   },
   {
    "duration": 164,
    "start_time": "2022-04-29T21:34:44.561Z"
   },
   {
    "duration": 158,
    "start_time": "2022-04-29T21:34:53.518Z"
   },
   {
    "duration": 167,
    "start_time": "2022-04-29T21:35:05.058Z"
   },
   {
    "duration": 165,
    "start_time": "2022-04-29T21:35:11.910Z"
   },
   {
    "duration": 338,
    "start_time": "2022-04-29T21:41:01.940Z"
   },
   {
    "duration": 259,
    "start_time": "2022-04-29T21:41:24.025Z"
   },
   {
    "duration": 256,
    "start_time": "2022-04-29T21:42:24.227Z"
   },
   {
    "duration": 271,
    "start_time": "2022-04-29T21:42:35.597Z"
   },
   {
    "duration": 238,
    "start_time": "2022-04-29T21:43:24.935Z"
   },
   {
    "duration": 830,
    "start_time": "2022-04-30T19:28:04.711Z"
   },
   {
    "duration": 37,
    "start_time": "2022-04-30T19:28:05.544Z"
   },
   {
    "duration": 12,
    "start_time": "2022-04-30T19:28:05.583Z"
   },
   {
    "duration": 12,
    "start_time": "2022-04-30T19:28:05.597Z"
   },
   {
    "duration": 11,
    "start_time": "2022-04-30T19:28:05.610Z"
   },
   {
    "duration": 11,
    "start_time": "2022-04-30T19:28:05.623Z"
   },
   {
    "duration": 11,
    "start_time": "2022-04-30T19:28:05.635Z"
   },
   {
    "duration": 5,
    "start_time": "2022-04-30T19:28:05.647Z"
   },
   {
    "duration": 6,
    "start_time": "2022-04-30T19:28:05.654Z"
   },
   {
    "duration": 11,
    "start_time": "2022-04-30T19:28:05.662Z"
   },
   {
    "duration": 38,
    "start_time": "2022-04-30T19:28:05.674Z"
   },
   {
    "duration": 5,
    "start_time": "2022-04-30T19:28:05.713Z"
   },
   {
    "duration": 14,
    "start_time": "2022-04-30T19:28:05.720Z"
   },
   {
    "duration": 6,
    "start_time": "2022-04-30T19:28:05.735Z"
   },
   {
    "duration": 9,
    "start_time": "2022-04-30T19:28:05.743Z"
   },
   {
    "duration": 5,
    "start_time": "2022-04-30T19:28:05.754Z"
   },
   {
    "duration": 12,
    "start_time": "2022-04-30T19:28:05.761Z"
   },
   {
    "duration": 5,
    "start_time": "2022-04-30T19:28:05.775Z"
   },
   {
    "duration": 293,
    "start_time": "2022-04-30T19:28:05.808Z"
   },
   {
    "duration": 291,
    "start_time": "2022-04-30T19:28:06.103Z"
   },
   {
    "duration": 205,
    "start_time": "2022-04-30T19:28:06.396Z"
   },
   {
    "duration": 348,
    "start_time": "2022-04-30T19:28:06.603Z"
   },
   {
    "duration": 259,
    "start_time": "2022-04-30T19:28:06.953Z"
   },
   {
    "duration": 320,
    "start_time": "2022-04-30T19:28:07.213Z"
   },
   {
    "duration": 9,
    "start_time": "2022-04-30T19:34:00.923Z"
   },
   {
    "duration": 10,
    "start_time": "2022-04-30T19:34:47.438Z"
   },
   {
    "duration": 11,
    "start_time": "2022-04-30T19:34:55.065Z"
   },
   {
    "duration": 11,
    "start_time": "2022-04-30T19:35:05.059Z"
   },
   {
    "duration": 109,
    "start_time": "2022-04-30T19:35:46.368Z"
   },
   {
    "duration": 7,
    "start_time": "2022-04-30T19:38:26.132Z"
   },
   {
    "duration": 136,
    "start_time": "2022-04-30T19:45:21.044Z"
   },
   {
    "duration": 5,
    "start_time": "2022-04-30T19:48:53.509Z"
   },
   {
    "duration": 137,
    "start_time": "2022-04-30T20:32:11.979Z"
   },
   {
    "duration": 8,
    "start_time": "2022-04-30T20:34:45.695Z"
   },
   {
    "duration": 4,
    "start_time": "2022-04-30T20:35:05.368Z"
   },
   {
    "duration": 3,
    "start_time": "2022-04-30T20:35:37.856Z"
   },
   {
    "duration": 76,
    "start_time": "2022-04-30T20:37:53.367Z"
   },
   {
    "duration": 6,
    "start_time": "2022-04-30T20:40:32.755Z"
   },
   {
    "duration": 4,
    "start_time": "2022-04-30T20:40:41.943Z"
   },
   {
    "duration": 5,
    "start_time": "2022-04-30T20:40:57.837Z"
   },
   {
    "duration": 11,
    "start_time": "2022-04-30T20:43:34.012Z"
   },
   {
    "duration": 448,
    "start_time": "2022-04-30T20:44:08.566Z"
   },
   {
    "duration": 29,
    "start_time": "2022-04-30T20:44:18.882Z"
   },
   {
    "duration": 11,
    "start_time": "2022-04-30T20:52:43.684Z"
   },
   {
    "duration": 1335,
    "start_time": "2022-05-01T19:11:47.858Z"
   },
   {
    "duration": 69,
    "start_time": "2022-05-01T19:11:49.195Z"
   },
   {
    "duration": 12,
    "start_time": "2022-05-01T19:11:49.266Z"
   },
   {
    "duration": 19,
    "start_time": "2022-05-01T19:11:49.280Z"
   },
   {
    "duration": 14,
    "start_time": "2022-05-01T19:11:49.300Z"
   },
   {
    "duration": 13,
    "start_time": "2022-05-01T19:11:49.316Z"
   },
   {
    "duration": 11,
    "start_time": "2022-05-01T19:11:49.331Z"
   },
   {
    "duration": 24,
    "start_time": "2022-05-01T19:11:49.343Z"
   },
   {
    "duration": 9,
    "start_time": "2022-05-01T19:11:49.369Z"
   },
   {
    "duration": 11,
    "start_time": "2022-05-01T19:11:49.380Z"
   },
   {
    "duration": 10,
    "start_time": "2022-05-01T19:11:49.393Z"
   },
   {
    "duration": 6,
    "start_time": "2022-05-01T19:11:49.404Z"
   },
   {
    "duration": 16,
    "start_time": "2022-05-01T19:11:49.411Z"
   },
   {
    "duration": 10,
    "start_time": "2022-05-01T19:11:49.428Z"
   },
   {
    "duration": 19,
    "start_time": "2022-05-01T19:11:49.440Z"
   },
   {
    "duration": 9,
    "start_time": "2022-05-01T19:11:49.461Z"
   },
   {
    "duration": 13,
    "start_time": "2022-05-01T19:11:49.472Z"
   },
   {
    "duration": 9,
    "start_time": "2022-05-01T19:11:49.487Z"
   },
   {
    "duration": 283,
    "start_time": "2022-05-01T19:11:49.498Z"
   },
   {
    "duration": 285,
    "start_time": "2022-05-01T19:11:49.782Z"
   },
   {
    "duration": 205,
    "start_time": "2022-05-01T19:11:50.069Z"
   },
   {
    "duration": 338,
    "start_time": "2022-05-01T19:11:50.276Z"
   },
   {
    "duration": 203,
    "start_time": "2022-05-01T19:11:50.616Z"
   },
   {
    "duration": 327,
    "start_time": "2022-05-01T19:11:50.821Z"
   },
   {
    "duration": 12,
    "start_time": "2022-05-01T19:11:51.150Z"
   },
   {
    "duration": 133,
    "start_time": "2022-05-01T19:11:51.163Z"
   },
   {
    "duration": 4,
    "start_time": "2022-05-01T19:11:51.298Z"
   },
   {
    "duration": 140,
    "start_time": "2022-05-01T19:11:51.305Z"
   },
   {
    "duration": 5,
    "start_time": "2022-05-01T19:11:51.446Z"
   },
   {
    "duration": 149,
    "start_time": "2022-05-01T19:11:51.453Z"
   },
   {
    "duration": 6,
    "start_time": "2022-05-01T19:11:51.604Z"
   },
   {
    "duration": 48,
    "start_time": "2022-05-01T19:11:51.612Z"
   },
   {
    "duration": 11,
    "start_time": "2022-05-01T19:11:51.662Z"
   },
   {
    "duration": 1073,
    "start_time": "2022-05-01T19:20:05.881Z"
   },
   {
    "duration": 98,
    "start_time": "2022-05-01T19:20:14.529Z"
   },
   {
    "duration": 9,
    "start_time": "2022-05-01T19:20:24.562Z"
   },
   {
    "duration": 7,
    "start_time": "2022-05-01T19:26:06.526Z"
   },
   {
    "duration": 8,
    "start_time": "2022-05-01T19:26:20.855Z"
   },
   {
    "duration": 3,
    "start_time": "2022-05-01T19:26:40.254Z"
   },
   {
    "duration": 24,
    "start_time": "2022-05-01T19:27:08.251Z"
   },
   {
    "duration": 14,
    "start_time": "2022-05-01T19:38:27.978Z"
   },
   {
    "duration": 1142,
    "start_time": "2022-05-01T21:44:24.055Z"
   },
   {
    "duration": 72,
    "start_time": "2022-05-01T21:44:25.200Z"
   },
   {
    "duration": 11,
    "start_time": "2022-05-01T21:44:25.913Z"
   },
   {
    "duration": 12,
    "start_time": "2022-05-01T21:44:26.572Z"
   },
   {
    "duration": 11,
    "start_time": "2022-05-01T21:44:27.364Z"
   },
   {
    "duration": 8,
    "start_time": "2022-05-01T21:44:28.004Z"
   },
   {
    "duration": 6,
    "start_time": "2022-05-01T21:44:28.666Z"
   },
   {
    "duration": 5,
    "start_time": "2022-05-01T21:44:29.314Z"
   },
   {
    "duration": 5,
    "start_time": "2022-05-01T21:44:29.661Z"
   },
   {
    "duration": 11,
    "start_time": "2022-05-01T21:44:30.211Z"
   },
   {
    "duration": 7,
    "start_time": "2022-05-01T21:44:30.845Z"
   },
   {
    "duration": 4,
    "start_time": "2022-05-01T21:44:31.293Z"
   },
   {
    "duration": 6,
    "start_time": "2022-05-01T21:44:31.756Z"
   },
   {
    "duration": 6,
    "start_time": "2022-05-01T21:44:34.317Z"
   },
   {
    "duration": 11,
    "start_time": "2022-05-01T21:44:34.708Z"
   },
   {
    "duration": 5,
    "start_time": "2022-05-01T21:44:35.190Z"
   },
   {
    "duration": 11,
    "start_time": "2022-05-01T21:44:36.103Z"
   },
   {
    "duration": 6,
    "start_time": "2022-05-01T21:44:40.121Z"
   },
   {
    "duration": 279,
    "start_time": "2022-05-01T21:44:42.344Z"
   },
   {
    "duration": 298,
    "start_time": "2022-05-01T21:44:47.946Z"
   },
   {
    "duration": 230,
    "start_time": "2022-05-01T21:44:54.757Z"
   },
   {
    "duration": 317,
    "start_time": "2022-05-01T21:45:02.949Z"
   },
   {
    "duration": 212,
    "start_time": "2022-05-01T21:45:15.454Z"
   },
   {
    "duration": 340,
    "start_time": "2022-05-01T21:45:20.537Z"
   },
   {
    "duration": 331,
    "start_time": "2022-05-01T21:45:59.693Z"
   },
   {
    "duration": 327,
    "start_time": "2022-05-01T21:46:55.586Z"
   },
   {
    "duration": 334,
    "start_time": "2022-05-01T21:47:12.091Z"
   },
   {
    "duration": 5,
    "start_time": "2022-05-01T21:47:19.130Z"
   },
   {
    "duration": 67,
    "start_time": "2022-05-01T21:47:19.138Z"
   },
   {
    "duration": 13,
    "start_time": "2022-05-01T21:47:19.207Z"
   },
   {
    "duration": 16,
    "start_time": "2022-05-01T21:47:19.223Z"
   },
   {
    "duration": 19,
    "start_time": "2022-05-01T21:47:19.242Z"
   },
   {
    "duration": 29,
    "start_time": "2022-05-01T21:47:19.263Z"
   },
   {
    "duration": 17,
    "start_time": "2022-05-01T21:47:19.295Z"
   },
   {
    "duration": 12,
    "start_time": "2022-05-01T21:47:19.314Z"
   },
   {
    "duration": 12,
    "start_time": "2022-05-01T21:47:19.330Z"
   },
   {
    "duration": 17,
    "start_time": "2022-05-01T21:47:19.344Z"
   },
   {
    "duration": 103,
    "start_time": "2022-05-01T21:47:19.363Z"
   },
   {
    "duration": 8,
    "start_time": "2022-05-01T21:47:19.468Z"
   },
   {
    "duration": 10,
    "start_time": "2022-05-01T21:47:19.478Z"
   },
   {
    "duration": 8,
    "start_time": "2022-05-01T21:47:19.491Z"
   },
   {
    "duration": 34,
    "start_time": "2022-05-01T21:47:19.501Z"
   },
   {
    "duration": 8,
    "start_time": "2022-05-01T21:47:19.537Z"
   },
   {
    "duration": 14,
    "start_time": "2022-05-01T21:47:19.547Z"
   },
   {
    "duration": 7,
    "start_time": "2022-05-01T21:47:19.563Z"
   },
   {
    "duration": 312,
    "start_time": "2022-05-01T21:47:19.573Z"
   },
   {
    "duration": 227,
    "start_time": "2022-05-01T21:47:19.888Z"
   },
   {
    "duration": 220,
    "start_time": "2022-05-01T21:47:20.118Z"
   },
   {
    "duration": 310,
    "start_time": "2022-05-01T21:47:20.340Z"
   },
   {
    "duration": 232,
    "start_time": "2022-05-01T21:47:20.652Z"
   },
   {
    "duration": 338,
    "start_time": "2022-05-01T21:47:20.887Z"
   },
   {
    "duration": 13,
    "start_time": "2022-05-01T21:47:21.227Z"
   },
   {
    "duration": 153,
    "start_time": "2022-05-01T21:47:21.241Z"
   },
   {
    "duration": 6,
    "start_time": "2022-05-01T21:47:21.396Z"
   },
   {
    "duration": 160,
    "start_time": "2022-05-01T21:47:21.403Z"
   },
   {
    "duration": 6,
    "start_time": "2022-05-01T21:47:21.565Z"
   },
   {
    "duration": 164,
    "start_time": "2022-05-01T21:47:21.573Z"
   },
   {
    "duration": 7,
    "start_time": "2022-05-01T21:47:21.740Z"
   },
   {
    "duration": 34,
    "start_time": "2022-05-01T21:47:21.749Z"
   },
   {
    "duration": 13,
    "start_time": "2022-05-01T21:47:21.785Z"
   },
   {
    "duration": 38,
    "start_time": "2022-05-01T21:47:21.800Z"
   },
   {
    "duration": 12,
    "start_time": "2022-05-01T21:47:21.839Z"
   },
   {
    "duration": 30,
    "start_time": "2022-05-01T21:47:21.853Z"
   },
   {
    "duration": 15,
    "start_time": "2022-05-01T21:47:21.884Z"
   },
   {
    "duration": 10,
    "start_time": "2022-05-01T21:48:05.885Z"
   },
   {
    "duration": 10,
    "start_time": "2022-05-01T21:48:07.630Z"
   },
   {
    "duration": 34,
    "start_time": "2022-05-01T21:48:09.411Z"
   },
   {
    "duration": 15,
    "start_time": "2022-05-01T21:48:19.002Z"
   },
   {
    "duration": 9,
    "start_time": "2022-05-01T21:48:40.515Z"
   },
   {
    "duration": 8,
    "start_time": "2022-05-01T21:48:41.369Z"
   },
   {
    "duration": 25,
    "start_time": "2022-05-01T21:48:41.776Z"
   },
   {
    "duration": 14,
    "start_time": "2022-05-01T21:48:43.847Z"
   },
   {
    "duration": 1823,
    "start_time": "2022-05-02T07:59:46.724Z"
   },
   {
    "duration": 46,
    "start_time": "2022-05-02T07:59:57.417Z"
   },
   {
    "duration": 18,
    "start_time": "2022-05-02T07:59:59.091Z"
   },
   {
    "duration": 17,
    "start_time": "2022-05-02T08:00:01.251Z"
   },
   {
    "duration": 15,
    "start_time": "2022-05-02T08:00:06.867Z"
   },
   {
    "duration": 12,
    "start_time": "2022-05-02T08:00:07.643Z"
   },
   {
    "duration": 8,
    "start_time": "2022-05-02T08:00:11.153Z"
   },
   {
    "duration": 7,
    "start_time": "2022-05-02T08:03:53.935Z"
   },
   {
    "duration": 14,
    "start_time": "2022-05-02T08:03:54.799Z"
   },
   {
    "duration": 11,
    "start_time": "2022-05-02T08:03:55.505Z"
   },
   {
    "duration": 6,
    "start_time": "2022-05-02T08:03:57.253Z"
   },
   {
    "duration": 7,
    "start_time": "2022-05-02T08:03:58.132Z"
   },
   {
    "duration": 277,
    "start_time": "2022-05-02T08:07:09.906Z"
   },
   {
    "duration": 12,
    "start_time": "2022-05-02T08:07:14.423Z"
   },
   {
    "duration": 22,
    "start_time": "2022-05-02T08:07:15.020Z"
   },
   {
    "duration": 13,
    "start_time": "2022-05-02T08:07:55.790Z"
   },
   {
    "duration": 7,
    "start_time": "2022-05-02T08:07:57.358Z"
   },
   {
    "duration": 16,
    "start_time": "2022-05-02T08:07:57.906Z"
   },
   {
    "duration": 1352,
    "start_time": "2022-05-02T14:44:50.641Z"
   },
   {
    "duration": 77,
    "start_time": "2022-05-02T14:44:51.996Z"
   },
   {
    "duration": 12,
    "start_time": "2022-05-02T14:44:52.075Z"
   },
   {
    "duration": 74,
    "start_time": "2022-05-02T14:44:52.089Z"
   },
   {
    "duration": 28,
    "start_time": "2022-05-02T14:44:52.166Z"
   },
   {
    "duration": 14,
    "start_time": "2022-05-02T14:44:52.197Z"
   },
   {
    "duration": 9,
    "start_time": "2022-05-02T14:44:52.213Z"
   },
   {
    "duration": 19,
    "start_time": "2022-05-02T14:44:52.223Z"
   },
   {
    "duration": 21,
    "start_time": "2022-05-02T14:44:52.244Z"
   },
   {
    "duration": 18,
    "start_time": "2022-05-02T14:44:52.267Z"
   },
   {
    "duration": 19,
    "start_time": "2022-05-02T14:44:52.288Z"
   },
   {
    "duration": 7,
    "start_time": "2022-05-02T14:44:52.309Z"
   },
   {
    "duration": 24,
    "start_time": "2022-05-02T14:44:52.319Z"
   },
   {
    "duration": 22,
    "start_time": "2022-05-02T14:44:52.346Z"
   },
   {
    "duration": 15,
    "start_time": "2022-05-02T14:44:52.370Z"
   },
   {
    "duration": 12,
    "start_time": "2022-05-02T14:44:52.388Z"
   },
   {
    "duration": 26,
    "start_time": "2022-05-02T14:44:52.402Z"
   },
   {
    "duration": 6,
    "start_time": "2022-05-02T14:55:26.753Z"
   },
   {
    "duration": 279,
    "start_time": "2022-05-02T14:55:28.145Z"
   },
   {
    "duration": 276,
    "start_time": "2022-05-02T14:56:29.663Z"
   },
   {
    "duration": 275,
    "start_time": "2022-05-02T14:56:31.754Z"
   },
   {
    "duration": 258,
    "start_time": "2022-05-02T15:04:18.035Z"
   },
   {
    "duration": 181,
    "start_time": "2022-05-02T15:24:21.247Z"
   },
   {
    "duration": 334,
    "start_time": "2022-05-02T15:24:35.024Z"
   },
   {
    "duration": 190,
    "start_time": "2022-05-02T15:24:39.344Z"
   },
   {
    "duration": 336,
    "start_time": "2022-05-02T15:24:42.510Z"
   },
   {
    "duration": 12,
    "start_time": "2022-05-02T15:24:47.133Z"
   },
   {
    "duration": 114,
    "start_time": "2022-05-02T15:24:48.320Z"
   },
   {
    "duration": 5,
    "start_time": "2022-05-02T15:24:50.949Z"
   },
   {
    "duration": 194,
    "start_time": "2022-05-02T15:24:52.988Z"
   },
   {
    "duration": 5,
    "start_time": "2022-05-02T15:24:55.110Z"
   },
   {
    "duration": 232,
    "start_time": "2022-05-02T15:25:24.425Z"
   },
   {
    "duration": 7,
    "start_time": "2022-05-02T15:25:47.251Z"
   },
   {
    "duration": 30,
    "start_time": "2022-05-02T15:29:30.483Z"
   },
   {
    "duration": 11,
    "start_time": "2022-05-02T15:30:22.308Z"
   },
   {
    "duration": 1262,
    "start_time": "2022-05-02T18:03:34.933Z"
   },
   {
    "duration": 55,
    "start_time": "2022-05-02T18:03:36.197Z"
   },
   {
    "duration": 12,
    "start_time": "2022-05-02T18:03:36.253Z"
   },
   {
    "duration": 12,
    "start_time": "2022-05-02T18:03:36.267Z"
   },
   {
    "duration": 10,
    "start_time": "2022-05-02T18:03:36.281Z"
   },
   {
    "duration": 8,
    "start_time": "2022-05-02T18:03:36.293Z"
   },
   {
    "duration": 9,
    "start_time": "2022-05-02T18:03:36.302Z"
   },
   {
    "duration": 44,
    "start_time": "2022-05-02T18:03:36.312Z"
   },
   {
    "duration": 13,
    "start_time": "2022-05-02T18:03:36.357Z"
   },
   {
    "duration": 10,
    "start_time": "2022-05-02T18:03:36.371Z"
   },
   {
    "duration": 8,
    "start_time": "2022-05-02T18:03:36.383Z"
   },
   {
    "duration": 4,
    "start_time": "2022-05-02T18:03:36.393Z"
   },
   {
    "duration": 9,
    "start_time": "2022-05-02T18:03:36.398Z"
   },
   {
    "duration": 4,
    "start_time": "2022-05-02T18:03:36.410Z"
   },
   {
    "duration": 9,
    "start_time": "2022-05-02T18:03:36.415Z"
   },
   {
    "duration": 25,
    "start_time": "2022-05-02T18:03:36.426Z"
   },
   {
    "duration": 18,
    "start_time": "2022-05-02T18:03:36.454Z"
   },
   {
    "duration": 6,
    "start_time": "2022-05-02T18:03:36.474Z"
   },
   {
    "duration": 269,
    "start_time": "2022-05-02T18:03:36.482Z"
   },
   {
    "duration": 249,
    "start_time": "2022-05-02T18:03:36.752Z"
   },
   {
    "duration": 190,
    "start_time": "2022-05-02T18:03:37.003Z"
   },
   {
    "duration": 310,
    "start_time": "2022-05-02T18:03:37.195Z"
   },
   {
    "duration": 209,
    "start_time": "2022-05-02T18:03:37.507Z"
   },
   {
    "duration": 274,
    "start_time": "2022-05-02T18:03:37.718Z"
   },
   {
    "duration": 10,
    "start_time": "2022-05-02T18:03:37.994Z"
   },
   {
    "duration": 116,
    "start_time": "2022-05-02T18:03:38.006Z"
   },
   {
    "duration": 5,
    "start_time": "2022-05-02T18:03:38.124Z"
   },
   {
    "duration": 134,
    "start_time": "2022-05-02T18:03:38.131Z"
   },
   {
    "duration": 4,
    "start_time": "2022-05-02T18:03:38.267Z"
   },
   {
    "duration": 138,
    "start_time": "2022-05-02T18:03:38.273Z"
   },
   {
    "duration": 6,
    "start_time": "2022-05-02T18:03:38.413Z"
   },
   {
    "duration": 48,
    "start_time": "2022-05-02T18:03:38.420Z"
   },
   {
    "duration": 9,
    "start_time": "2022-05-02T18:03:38.469Z"
   },
   {
    "duration": 9,
    "start_time": "2022-05-02T18:03:38.480Z"
   },
   {
    "duration": 8,
    "start_time": "2022-05-02T18:03:38.490Z"
   },
   {
    "duration": 23,
    "start_time": "2022-05-02T18:03:38.499Z"
   },
   {
    "duration": 18,
    "start_time": "2022-05-02T18:03:38.547Z"
   },
   {
    "duration": 1678,
    "start_time": "2022-05-03T18:42:36.277Z"
   },
   {
    "duration": 70,
    "start_time": "2022-05-03T18:42:40.286Z"
   },
   {
    "duration": 17,
    "start_time": "2022-05-03T18:42:41.637Z"
   },
   {
    "duration": 346,
    "start_time": "2022-05-03T18:42:58.015Z"
   },
   {
    "duration": 14,
    "start_time": "2022-05-03T18:42:58.643Z"
   },
   {
    "duration": 18,
    "start_time": "2022-05-03T18:42:59.331Z"
   },
   {
    "duration": 20,
    "start_time": "2022-05-03T18:43:08.208Z"
   },
   {
    "duration": 15,
    "start_time": "2022-05-03T18:43:09.242Z"
   },
   {
    "duration": 9,
    "start_time": "2022-05-03T18:43:11.532Z"
   },
   {
    "duration": 1334,
    "start_time": "2022-05-03T22:01:49.497Z"
   },
   {
    "duration": 38,
    "start_time": "2022-05-03T22:01:50.833Z"
   },
   {
    "duration": 13,
    "start_time": "2022-05-03T22:01:50.873Z"
   },
   {
    "duration": 15,
    "start_time": "2022-05-03T22:01:50.888Z"
   },
   {
    "duration": 10,
    "start_time": "2022-05-03T22:01:50.905Z"
   },
   {
    "duration": 10,
    "start_time": "2022-05-03T22:01:50.917Z"
   },
   {
    "duration": 10,
    "start_time": "2022-05-03T22:01:50.929Z"
   },
   {
    "duration": 10,
    "start_time": "2022-05-03T22:01:52.965Z"
   },
   {
    "duration": 7,
    "start_time": "2022-05-03T22:03:16.857Z"
   },
   {
    "duration": 6,
    "start_time": "2022-05-03T22:03:19.749Z"
   },
   {
    "duration": 5,
    "start_time": "2022-05-03T22:03:34.877Z"
   },
   {
    "duration": 15,
    "start_time": "2022-05-03T22:03:35.830Z"
   },
   {
    "duration": 8,
    "start_time": "2022-05-03T22:03:36.742Z"
   },
   {
    "duration": 4,
    "start_time": "2022-05-03T22:03:43.649Z"
   },
   {
    "duration": 6,
    "start_time": "2022-05-03T22:03:44.867Z"
   },
   {
    "duration": 5,
    "start_time": "2022-05-03T22:08:11.427Z"
   },
   {
    "duration": 8,
    "start_time": "2022-05-03T22:09:00.733Z"
   },
   {
    "duration": 9,
    "start_time": "2022-05-03T22:11:40.312Z"
   },
   {
    "duration": 7,
    "start_time": "2022-05-03T22:11:56.992Z"
   },
   {
    "duration": 101,
    "start_time": "2022-05-03T22:16:16.767Z"
   },
   {
    "duration": 8,
    "start_time": "2022-05-03T22:16:23.676Z"
   },
   {
    "duration": 19,
    "start_time": "2022-05-03T22:18:40.885Z"
   },
   {
    "duration": 2559,
    "start_time": "2022-05-03T22:24:49.989Z"
   },
   {
    "duration": 135,
    "start_time": "2022-05-03T22:25:55.614Z"
   },
   {
    "duration": 2452,
    "start_time": "2022-05-03T22:26:01.384Z"
   },
   {
    "duration": 7,
    "start_time": "2022-05-03T22:33:44.116Z"
   },
   {
    "duration": 10,
    "start_time": "2022-05-03T22:33:49.669Z"
   },
   {
    "duration": 16,
    "start_time": "2022-05-03T22:35:04.543Z"
   },
   {
    "duration": 9,
    "start_time": "2022-05-03T22:35:39.796Z"
   },
   {
    "duration": 1647,
    "start_time": "2022-05-04T09:46:47.887Z"
   },
   {
    "duration": 41,
    "start_time": "2022-05-04T09:46:49.537Z"
   },
   {
    "duration": 11,
    "start_time": "2022-05-04T09:46:49.580Z"
   },
   {
    "duration": 48,
    "start_time": "2022-05-04T09:46:49.606Z"
   },
   {
    "duration": 12,
    "start_time": "2022-05-04T09:46:49.655Z"
   },
   {
    "duration": 11,
    "start_time": "2022-05-04T09:46:49.668Z"
   },
   {
    "duration": 7,
    "start_time": "2022-05-04T09:46:49.680Z"
   },
   {
    "duration": 24,
    "start_time": "2022-05-04T09:46:49.689Z"
   },
   {
    "duration": 30,
    "start_time": "2022-05-04T09:46:49.715Z"
   },
   {
    "duration": 11,
    "start_time": "2022-05-04T09:46:49.747Z"
   },
   {
    "duration": 12,
    "start_time": "2022-05-04T09:46:49.760Z"
   },
   {
    "duration": 6,
    "start_time": "2022-05-04T09:46:49.774Z"
   },
   {
    "duration": 10,
    "start_time": "2022-05-04T09:46:49.781Z"
   },
   {
    "duration": 3372,
    "start_time": "2022-05-04T09:46:54.265Z"
   },
   {
    "duration": 8,
    "start_time": "2022-05-04T09:49:19.909Z"
   },
   {
    "duration": 8,
    "start_time": "2022-05-04T09:49:28.649Z"
   },
   {
    "duration": 13,
    "start_time": "2022-05-04T09:49:43.538Z"
   },
   {
    "duration": 20,
    "start_time": "2022-05-04T09:50:17.201Z"
   },
   {
    "duration": 60,
    "start_time": "2022-05-04T09:50:41.915Z"
   },
   {
    "duration": 13,
    "start_time": "2022-05-04T09:52:19.023Z"
   },
   {
    "duration": 10,
    "start_time": "2022-05-04T09:53:15.230Z"
   },
   {
    "duration": 113,
    "start_time": "2022-05-04T13:23:07.605Z"
   },
   {
    "duration": 1938,
    "start_time": "2022-05-04T13:23:13.500Z"
   },
   {
    "duration": 48,
    "start_time": "2022-05-04T13:23:15.441Z"
   },
   {
    "duration": 17,
    "start_time": "2022-05-04T13:23:15.491Z"
   },
   {
    "duration": 23,
    "start_time": "2022-05-04T13:23:15.511Z"
   },
   {
    "duration": 15,
    "start_time": "2022-05-04T13:23:15.536Z"
   },
   {
    "duration": 38,
    "start_time": "2022-05-04T13:23:15.553Z"
   },
   {
    "duration": 12,
    "start_time": "2022-05-04T13:23:15.594Z"
   },
   {
    "duration": 11,
    "start_time": "2022-05-04T13:23:15.609Z"
   },
   {
    "duration": 14,
    "start_time": "2022-05-04T13:23:15.622Z"
   },
   {
    "duration": 51,
    "start_time": "2022-05-04T13:23:15.639Z"
   },
   {
    "duration": 11,
    "start_time": "2022-05-04T13:23:15.693Z"
   },
   {
    "duration": 9,
    "start_time": "2022-05-04T13:23:15.707Z"
   },
   {
    "duration": 13,
    "start_time": "2022-05-04T13:23:15.719Z"
   },
   {
    "duration": 8,
    "start_time": "2022-05-04T13:23:18.670Z"
   },
   {
    "duration": 16,
    "start_time": "2022-05-04T13:23:20.791Z"
   },
   {
    "duration": 6,
    "start_time": "2022-05-04T13:25:05.894Z"
   },
   {
    "duration": 6,
    "start_time": "2022-05-04T13:25:10.843Z"
   },
   {
    "duration": 6,
    "start_time": "2022-05-04T13:25:28.831Z"
   },
   {
    "duration": 5,
    "start_time": "2022-05-04T13:26:24.686Z"
   },
   {
    "duration": 5,
    "start_time": "2022-05-04T13:26:44.552Z"
   },
   {
    "duration": 5,
    "start_time": "2022-05-04T13:27:48.533Z"
   },
   {
    "duration": 6,
    "start_time": "2022-05-04T13:28:09.274Z"
   },
   {
    "duration": 7,
    "start_time": "2022-05-04T13:28:21.412Z"
   },
   {
    "duration": 5,
    "start_time": "2022-05-04T13:28:46.821Z"
   },
   {
    "duration": 6,
    "start_time": "2022-05-04T13:29:04.580Z"
   },
   {
    "duration": 6,
    "start_time": "2022-05-04T13:29:19.983Z"
   },
   {
    "duration": 6,
    "start_time": "2022-05-04T13:29:29.272Z"
   },
   {
    "duration": 6,
    "start_time": "2022-05-04T13:38:27.605Z"
   },
   {
    "duration": 1271,
    "start_time": "2022-05-04T18:09:14.362Z"
   },
   {
    "duration": 75,
    "start_time": "2022-05-04T18:09:15.634Z"
   },
   {
    "duration": 10,
    "start_time": "2022-05-04T18:09:15.710Z"
   },
   {
    "duration": 13,
    "start_time": "2022-05-04T18:09:15.722Z"
   },
   {
    "duration": 8,
    "start_time": "2022-05-04T18:09:15.736Z"
   },
   {
    "duration": 11,
    "start_time": "2022-05-04T18:09:15.746Z"
   },
   {
    "duration": 7,
    "start_time": "2022-05-04T18:09:15.758Z"
   },
   {
    "duration": 8,
    "start_time": "2022-05-04T18:09:15.766Z"
   },
   {
    "duration": 10,
    "start_time": "2022-05-04T18:09:15.775Z"
   },
   {
    "duration": 11,
    "start_time": "2022-05-04T18:09:15.800Z"
   },
   {
    "duration": 7,
    "start_time": "2022-05-04T18:09:15.813Z"
   },
   {
    "duration": 5,
    "start_time": "2022-05-04T18:09:15.821Z"
   },
   {
    "duration": 7,
    "start_time": "2022-05-04T18:09:15.827Z"
   },
   {
    "duration": 7,
    "start_time": "2022-05-04T18:11:14.286Z"
   },
   {
    "duration": 3,
    "start_time": "2022-05-04T18:11:45.406Z"
   },
   {
    "duration": 8,
    "start_time": "2022-05-04T18:11:58.026Z"
   },
   {
    "duration": 3,
    "start_time": "2022-05-04T18:15:51.416Z"
   },
   {
    "duration": 5,
    "start_time": "2022-05-04T18:17:36.061Z"
   },
   {
    "duration": 7,
    "start_time": "2022-05-04T18:19:28.704Z"
   },
   {
    "duration": 8,
    "start_time": "2022-05-04T18:20:41.632Z"
   },
   {
    "duration": 6,
    "start_time": "2022-05-04T18:30:38.987Z"
   },
   {
    "duration": 7,
    "start_time": "2022-05-04T18:30:56.964Z"
   },
   {
    "duration": 6,
    "start_time": "2022-05-04T18:36:11.136Z"
   },
   {
    "duration": 4,
    "start_time": "2022-05-04T18:36:24.463Z"
   },
   {
    "duration": 11,
    "start_time": "2022-05-04T18:36:29.584Z"
   },
   {
    "duration": 3,
    "start_time": "2022-05-04T18:36:34.096Z"
   },
   {
    "duration": 4,
    "start_time": "2022-05-04T18:36:41.565Z"
   },
   {
    "duration": 10,
    "start_time": "2022-05-04T18:36:43.441Z"
   },
   {
    "duration": 5,
    "start_time": "2022-05-04T18:38:25.655Z"
   },
   {
    "duration": 240,
    "start_time": "2022-05-04T18:38:26.436Z"
   },
   {
    "duration": 227,
    "start_time": "2022-05-04T18:38:28.306Z"
   },
   {
    "duration": 321,
    "start_time": "2022-05-04T18:57:18.856Z"
   },
   {
    "duration": 166,
    "start_time": "2022-05-04T19:00:33.538Z"
   },
   {
    "duration": 174,
    "start_time": "2022-05-04T19:02:19.904Z"
   },
   {
    "duration": 166,
    "start_time": "2022-05-04T19:02:41.890Z"
   },
   {
    "duration": 166,
    "start_time": "2022-05-04T19:03:16.636Z"
   },
   {
    "duration": 1475,
    "start_time": "2022-05-04T21:16:15.774Z"
   },
   {
    "duration": 36,
    "start_time": "2022-05-04T21:16:17.251Z"
   },
   {
    "duration": 15,
    "start_time": "2022-05-04T21:16:17.289Z"
   },
   {
    "duration": 15,
    "start_time": "2022-05-04T21:16:17.306Z"
   },
   {
    "duration": 12,
    "start_time": "2022-05-04T21:16:17.323Z"
   },
   {
    "duration": 12,
    "start_time": "2022-05-04T21:16:17.336Z"
   },
   {
    "duration": 10,
    "start_time": "2022-05-04T21:16:17.350Z"
   },
   {
    "duration": 5,
    "start_time": "2022-05-04T21:16:17.362Z"
   },
   {
    "duration": 5,
    "start_time": "2022-05-04T21:16:17.393Z"
   },
   {
    "duration": 12,
    "start_time": "2022-05-04T21:16:17.401Z"
   },
   {
    "duration": 11,
    "start_time": "2022-05-04T21:16:17.415Z"
   },
   {
    "duration": 10,
    "start_time": "2022-05-04T21:16:17.428Z"
   },
   {
    "duration": 8,
    "start_time": "2022-05-04T21:16:17.441Z"
   },
   {
    "duration": 12,
    "start_time": "2022-05-04T21:16:17.452Z"
   },
   {
    "duration": 12,
    "start_time": "2022-05-04T21:16:17.492Z"
   },
   {
    "duration": 7,
    "start_time": "2022-05-04T21:16:17.506Z"
   },
   {
    "duration": 11,
    "start_time": "2022-05-04T21:16:17.514Z"
   },
   {
    "duration": 6,
    "start_time": "2022-05-04T21:16:17.527Z"
   },
   {
    "duration": 14,
    "start_time": "2022-05-04T21:16:17.535Z"
   },
   {
    "duration": 8,
    "start_time": "2022-05-04T21:16:17.550Z"
   },
   {
    "duration": 351,
    "start_time": "2022-05-04T21:16:17.559Z"
   },
   {
    "duration": 299,
    "start_time": "2022-05-04T21:16:17.912Z"
   },
   {
    "duration": 194,
    "start_time": "2022-05-04T21:16:35.225Z"
   },
   {
    "duration": 366,
    "start_time": "2022-05-04T21:18:01.173Z"
   },
   {
    "duration": 200,
    "start_time": "2022-05-04T21:21:52.705Z"
   },
   {
    "duration": 340,
    "start_time": "2022-05-04T21:25:34.348Z"
   },
   {
    "duration": 150,
    "start_time": "2022-05-04T21:30:39.835Z"
   },
   {
    "duration": 15,
    "start_time": "2022-05-04T21:30:53.754Z"
   },
   {
    "duration": 211,
    "start_time": "2022-05-04T21:30:56.494Z"
   },
   {
    "duration": 5,
    "start_time": "2022-05-04T21:32:13.515Z"
   },
   {
    "duration": 1104,
    "start_time": "2022-05-04T21:35:11.913Z"
   },
   {
    "duration": 36,
    "start_time": "2022-05-04T21:35:13.019Z"
   },
   {
    "duration": 12,
    "start_time": "2022-05-04T21:35:13.057Z"
   },
   {
    "duration": 15,
    "start_time": "2022-05-04T21:35:13.071Z"
   },
   {
    "duration": 10,
    "start_time": "2022-05-04T21:35:13.088Z"
   },
   {
    "duration": 8,
    "start_time": "2022-05-04T21:35:13.100Z"
   },
   {
    "duration": 7,
    "start_time": "2022-05-04T21:35:13.110Z"
   },
   {
    "duration": 5,
    "start_time": "2022-05-04T21:35:13.119Z"
   },
   {
    "duration": 13,
    "start_time": "2022-05-04T21:35:13.126Z"
   },
   {
    "duration": 10,
    "start_time": "2022-05-04T21:35:13.141Z"
   },
   {
    "duration": 11,
    "start_time": "2022-05-04T21:35:13.153Z"
   },
   {
    "duration": 3,
    "start_time": "2022-05-04T21:35:13.193Z"
   },
   {
    "duration": 5,
    "start_time": "2022-05-04T21:35:13.199Z"
   },
   {
    "duration": 9,
    "start_time": "2022-05-04T21:35:15.946Z"
   },
   {
    "duration": 7,
    "start_time": "2022-05-04T21:35:28.328Z"
   },
   {
    "duration": 10,
    "start_time": "2022-05-04T21:35:28.872Z"
   },
   {
    "duration": 5,
    "start_time": "2022-05-04T21:35:29.249Z"
   },
   {
    "duration": 12,
    "start_time": "2022-05-04T21:35:29.441Z"
   },
   {
    "duration": 7,
    "start_time": "2022-05-04T21:35:31.326Z"
   },
   {
    "duration": 272,
    "start_time": "2022-05-04T21:35:31.529Z"
   },
   {
    "duration": 274,
    "start_time": "2022-05-04T21:35:32.077Z"
   },
   {
    "duration": 183,
    "start_time": "2022-05-04T21:35:33.462Z"
   },
   {
    "duration": 324,
    "start_time": "2022-05-04T21:35:36.388Z"
   },
   {
    "duration": 190,
    "start_time": "2022-05-04T21:35:42.052Z"
   },
   {
    "duration": 469,
    "start_time": "2022-05-04T21:35:45.154Z"
   },
   {
    "duration": 11,
    "start_time": "2022-05-04T21:35:48.445Z"
   },
   {
    "duration": 145,
    "start_time": "2022-05-04T21:35:49.176Z"
   },
   {
    "duration": 13,
    "start_time": "2022-05-04T21:37:39.641Z"
   },
   {
    "duration": 11,
    "start_time": "2022-05-04T21:38:27.703Z"
   },
   {
    "duration": 3,
    "start_time": "2022-05-04T21:38:42.407Z"
   },
   {
    "duration": 57,
    "start_time": "2022-05-04T21:38:42.412Z"
   },
   {
    "duration": 12,
    "start_time": "2022-05-04T21:38:42.471Z"
   },
   {
    "duration": 17,
    "start_time": "2022-05-04T21:38:42.485Z"
   },
   {
    "duration": 11,
    "start_time": "2022-05-04T21:38:42.505Z"
   },
   {
    "duration": 10,
    "start_time": "2022-05-04T21:38:42.518Z"
   },
   {
    "duration": 8,
    "start_time": "2022-05-04T21:38:42.530Z"
   },
   {
    "duration": 7,
    "start_time": "2022-05-04T21:38:42.540Z"
   },
   {
    "duration": 9,
    "start_time": "2022-05-04T21:38:42.549Z"
   },
   {
    "duration": 38,
    "start_time": "2022-05-04T21:38:42.560Z"
   },
   {
    "duration": 7,
    "start_time": "2022-05-04T21:38:42.602Z"
   },
   {
    "duration": 6,
    "start_time": "2022-05-04T21:38:42.610Z"
   },
   {
    "duration": 10,
    "start_time": "2022-05-04T21:38:42.617Z"
   },
   {
    "duration": 12,
    "start_time": "2022-05-04T21:38:42.628Z"
   },
   {
    "duration": 5,
    "start_time": "2022-05-04T21:38:42.642Z"
   },
   {
    "duration": 7,
    "start_time": "2022-05-04T21:38:42.649Z"
   },
   {
    "duration": 40,
    "start_time": "2022-05-04T21:38:42.658Z"
   },
   {
    "duration": 4,
    "start_time": "2022-05-04T21:38:42.700Z"
   },
   {
    "duration": 14,
    "start_time": "2022-05-04T21:38:42.706Z"
   },
   {
    "duration": 13,
    "start_time": "2022-05-04T21:38:42.721Z"
   },
   {
    "duration": 285,
    "start_time": "2022-05-04T21:38:42.735Z"
   },
   {
    "duration": 209,
    "start_time": "2022-05-04T21:38:43.022Z"
   },
   {
    "duration": 225,
    "start_time": "2022-05-04T21:38:43.233Z"
   },
   {
    "duration": 398,
    "start_time": "2022-05-04T21:38:43.460Z"
   },
   {
    "duration": 233,
    "start_time": "2022-05-04T21:38:43.861Z"
   },
   {
    "duration": 324,
    "start_time": "2022-05-04T21:38:44.096Z"
   },
   {
    "duration": 11,
    "start_time": "2022-05-04T21:38:44.421Z"
   },
   {
    "duration": 13,
    "start_time": "2022-05-04T21:38:49.048Z"
   },
   {
    "duration": 133,
    "start_time": "2022-05-04T21:38:58.113Z"
   },
   {
    "duration": 5,
    "start_time": "2022-05-04T21:40:38.909Z"
   },
   {
    "duration": 110,
    "start_time": "2022-05-04T21:41:24.170Z"
   },
   {
    "duration": 213,
    "start_time": "2022-05-04T21:47:18.048Z"
   },
   {
    "duration": 165,
    "start_time": "2022-05-04T21:47:46.437Z"
   },
   {
    "duration": 116,
    "start_time": "2022-05-04T21:47:54.062Z"
   },
   {
    "duration": 126,
    "start_time": "2022-05-04T21:49:03.180Z"
   },
   {
    "duration": 115,
    "start_time": "2022-05-04T21:50:19.689Z"
   },
   {
    "duration": 162,
    "start_time": "2022-05-04T21:52:29.464Z"
   },
   {
    "duration": 143,
    "start_time": "2022-05-04T21:53:55.491Z"
   },
   {
    "duration": 150,
    "start_time": "2022-05-04T21:54:12.473Z"
   },
   {
    "duration": 229,
    "start_time": "2022-05-04T21:55:08.743Z"
   },
   {
    "duration": 138,
    "start_time": "2022-05-04T21:55:31.404Z"
   },
   {
    "duration": 153,
    "start_time": "2022-05-04T21:57:26.417Z"
   },
   {
    "duration": 148,
    "start_time": "2022-05-04T21:57:55.818Z"
   },
   {
    "duration": 132,
    "start_time": "2022-05-04T21:58:11.247Z"
   },
   {
    "duration": 131,
    "start_time": "2022-05-04T22:00:20.006Z"
   },
   {
    "duration": 136,
    "start_time": "2022-05-04T22:00:26.063Z"
   },
   {
    "duration": 177,
    "start_time": "2022-05-04T22:02:12.400Z"
   },
   {
    "duration": 266,
    "start_time": "2022-05-04T22:04:37.715Z"
   },
   {
    "duration": 258,
    "start_time": "2022-05-04T22:04:50.890Z"
   },
   {
    "duration": 247,
    "start_time": "2022-05-04T22:05:35.782Z"
   },
   {
    "duration": 349,
    "start_time": "2022-05-04T22:05:53.641Z"
   },
   {
    "duration": 242,
    "start_time": "2022-05-04T22:05:57.464Z"
   },
   {
    "duration": 239,
    "start_time": "2022-05-04T22:06:08.324Z"
   },
   {
    "duration": 236,
    "start_time": "2022-05-04T22:06:31.551Z"
   },
   {
    "duration": 234,
    "start_time": "2022-05-04T22:07:17.991Z"
   },
   {
    "duration": 262,
    "start_time": "2022-05-04T22:08:01.170Z"
   },
   {
    "duration": 242,
    "start_time": "2022-05-04T22:08:06.874Z"
   },
   {
    "duration": 250,
    "start_time": "2022-05-04T22:08:47.616Z"
   },
   {
    "duration": 234,
    "start_time": "2022-05-04T22:09:16.926Z"
   },
   {
    "duration": 5,
    "start_time": "2022-05-04T22:11:00.857Z"
   },
   {
    "duration": 155,
    "start_time": "2022-05-04T22:14:02.805Z"
   },
   {
    "duration": 8,
    "start_time": "2022-05-04T22:14:18.212Z"
   },
   {
    "duration": 28,
    "start_time": "2022-05-04T22:18:35.339Z"
   },
   {
    "duration": 10,
    "start_time": "2022-05-04T22:23:13.554Z"
   },
   {
    "duration": 9,
    "start_time": "2022-05-04T22:26:47.471Z"
   },
   {
    "duration": 13,
    "start_time": "2022-05-04T22:28:35.264Z"
   },
   {
    "duration": 8,
    "start_time": "2022-05-04T22:28:40.554Z"
   },
   {
    "duration": 29,
    "start_time": "2022-05-04T22:28:44.793Z"
   },
   {
    "duration": 15,
    "start_time": "2022-05-04T22:31:58.829Z"
   },
   {
    "duration": 5,
    "start_time": "2022-05-04T22:38:26.333Z"
   },
   {
    "duration": 38,
    "start_time": "2022-05-04T22:38:26.343Z"
   },
   {
    "duration": 9,
    "start_time": "2022-05-04T22:38:26.383Z"
   },
   {
    "duration": 46,
    "start_time": "2022-05-04T22:38:26.393Z"
   },
   {
    "duration": 13,
    "start_time": "2022-05-04T22:38:26.441Z"
   },
   {
    "duration": 9,
    "start_time": "2022-05-04T22:38:26.455Z"
   },
   {
    "duration": 7,
    "start_time": "2022-05-04T22:38:26.465Z"
   },
   {
    "duration": 5,
    "start_time": "2022-05-04T22:38:26.473Z"
   },
   {
    "duration": 27,
    "start_time": "2022-05-04T22:38:26.479Z"
   },
   {
    "duration": 31,
    "start_time": "2022-05-04T22:38:26.510Z"
   },
   {
    "duration": 7,
    "start_time": "2022-05-04T22:38:26.544Z"
   },
   {
    "duration": 5,
    "start_time": "2022-05-04T22:38:26.552Z"
   },
   {
    "duration": 9,
    "start_time": "2022-05-04T22:38:26.559Z"
   },
   {
    "duration": 11,
    "start_time": "2022-05-04T22:38:26.569Z"
   },
   {
    "duration": 5,
    "start_time": "2022-05-04T22:38:26.582Z"
   },
   {
    "duration": 34,
    "start_time": "2022-05-04T22:38:26.589Z"
   },
   {
    "duration": 17,
    "start_time": "2022-05-04T22:38:26.625Z"
   },
   {
    "duration": 4,
    "start_time": "2022-05-04T22:38:26.643Z"
   },
   {
    "duration": 15,
    "start_time": "2022-05-04T22:38:26.649Z"
   },
   {
    "duration": 9,
    "start_time": "2022-05-04T22:38:26.665Z"
   },
   {
    "duration": 337,
    "start_time": "2022-05-04T22:38:26.675Z"
   },
   {
    "duration": 250,
    "start_time": "2022-05-04T22:38:27.015Z"
   },
   {
    "duration": 349,
    "start_time": "2022-05-04T22:38:27.266Z"
   },
   {
    "duration": 321,
    "start_time": "2022-05-04T22:38:27.618Z"
   },
   {
    "duration": 231,
    "start_time": "2022-05-04T22:38:27.941Z"
   },
   {
    "duration": 364,
    "start_time": "2022-05-04T22:38:28.173Z"
   },
   {
    "duration": 16,
    "start_time": "2022-05-04T22:38:28.539Z"
   },
   {
    "duration": 177,
    "start_time": "2022-05-04T22:38:28.557Z"
   },
   {
    "duration": 5,
    "start_time": "2022-05-04T22:38:28.738Z"
   },
   {
    "duration": 287,
    "start_time": "2022-05-04T22:38:28.745Z"
   },
   {
    "duration": 6,
    "start_time": "2022-05-04T22:38:29.034Z"
   },
   {
    "duration": 147,
    "start_time": "2022-05-04T22:38:29.042Z"
   },
   {
    "duration": 8,
    "start_time": "2022-05-04T22:38:29.191Z"
   },
   {
    "duration": 58,
    "start_time": "2022-05-04T22:38:29.202Z"
   },
   {
    "duration": 10,
    "start_time": "2022-05-04T22:38:29.262Z"
   },
   {
    "duration": 9,
    "start_time": "2022-05-04T22:38:29.273Z"
   },
   {
    "duration": 19,
    "start_time": "2022-05-04T22:38:29.283Z"
   },
   {
    "duration": 44,
    "start_time": "2022-05-04T22:38:29.304Z"
   },
   {
    "duration": 14,
    "start_time": "2022-05-04T22:38:29.350Z"
   },
   {
    "duration": 1257,
    "start_time": "2022-05-04T22:39:35.337Z"
   },
   {
    "duration": 61,
    "start_time": "2022-05-04T22:39:36.596Z"
   },
   {
    "duration": 11,
    "start_time": "2022-05-04T22:39:36.659Z"
   },
   {
    "duration": 25,
    "start_time": "2022-05-04T22:39:36.673Z"
   },
   {
    "duration": 43,
    "start_time": "2022-05-04T22:39:36.701Z"
   },
   {
    "duration": 10,
    "start_time": "2022-05-04T22:39:36.746Z"
   },
   {
    "duration": 8,
    "start_time": "2022-05-04T22:39:36.758Z"
   },
   {
    "duration": 6,
    "start_time": "2022-05-04T22:39:36.767Z"
   },
   {
    "duration": 9,
    "start_time": "2022-05-04T22:39:36.774Z"
   },
   {
    "duration": 13,
    "start_time": "2022-05-04T22:39:36.787Z"
   },
   {
    "duration": 34,
    "start_time": "2022-05-04T22:39:36.803Z"
   },
   {
    "duration": 6,
    "start_time": "2022-05-04T22:39:36.839Z"
   },
   {
    "duration": 8,
    "start_time": "2022-05-04T22:39:36.847Z"
   },
   {
    "duration": 12,
    "start_time": "2022-05-04T22:39:36.856Z"
   },
   {
    "duration": 7,
    "start_time": "2022-05-04T22:39:36.869Z"
   },
   {
    "duration": 9,
    "start_time": "2022-05-04T22:39:36.877Z"
   },
   {
    "duration": 26,
    "start_time": "2022-05-04T22:39:36.887Z"
   },
   {
    "duration": 23,
    "start_time": "2022-05-04T22:39:36.915Z"
   },
   {
    "duration": 12,
    "start_time": "2022-05-04T22:39:36.940Z"
   },
   {
    "duration": 10,
    "start_time": "2022-05-04T22:39:36.954Z"
   },
   {
    "duration": 308,
    "start_time": "2022-05-04T22:39:36.965Z"
   },
   {
    "duration": 318,
    "start_time": "2022-05-04T22:39:37.275Z"
   },
   {
    "duration": 242,
    "start_time": "2022-05-04T22:39:37.597Z"
   },
   {
    "duration": 303,
    "start_time": "2022-05-04T22:39:37.841Z"
   },
   {
    "duration": 250,
    "start_time": "2022-05-04T22:39:38.146Z"
   },
   {
    "duration": 368,
    "start_time": "2022-05-04T22:39:38.399Z"
   },
   {
    "duration": 13,
    "start_time": "2022-05-04T22:39:38.769Z"
   },
   {
    "duration": 182,
    "start_time": "2022-05-04T22:39:38.785Z"
   },
   {
    "duration": 5,
    "start_time": "2022-05-04T22:39:38.969Z"
   },
   {
    "duration": 298,
    "start_time": "2022-05-04T22:39:38.976Z"
   },
   {
    "duration": 5,
    "start_time": "2022-05-04T22:39:39.275Z"
   },
   {
    "duration": 168,
    "start_time": "2022-05-04T22:39:39.282Z"
   },
   {
    "duration": 5,
    "start_time": "2022-05-04T22:39:39.452Z"
   },
   {
    "duration": 47,
    "start_time": "2022-05-04T22:39:39.458Z"
   },
   {
    "duration": 17,
    "start_time": "2022-05-04T22:39:39.507Z"
   },
   {
    "duration": 17,
    "start_time": "2022-05-04T22:39:39.527Z"
   },
   {
    "duration": 11,
    "start_time": "2022-05-04T22:39:39.545Z"
   },
   {
    "duration": 44,
    "start_time": "2022-05-04T22:39:39.558Z"
   },
   {
    "duration": 19,
    "start_time": "2022-05-04T22:39:39.605Z"
   },
   {
    "duration": 5,
    "start_time": "2022-05-04T22:42:21.429Z"
   },
   {
    "duration": 14,
    "start_time": "2022-05-04T22:42:25.226Z"
   },
   {
    "duration": 4,
    "start_time": "2022-05-04T22:42:39.365Z"
   },
   {
    "duration": 10,
    "start_time": "2022-05-04T22:42:41.158Z"
   },
   {
    "duration": 4,
    "start_time": "2022-05-04T22:42:55.754Z"
   },
   {
    "duration": 11,
    "start_time": "2022-05-04T22:42:56.862Z"
   },
   {
    "duration": 268,
    "start_time": "2022-05-04T22:44:54.897Z"
   },
   {
    "duration": 1273,
    "start_time": "2022-05-04T22:47:19.630Z"
   },
   {
    "duration": 50,
    "start_time": "2022-05-04T22:47:20.905Z"
   },
   {
    "duration": 11,
    "start_time": "2022-05-04T22:47:20.957Z"
   },
   {
    "duration": 14,
    "start_time": "2022-05-04T22:47:20.970Z"
   },
   {
    "duration": 22,
    "start_time": "2022-05-04T22:47:20.986Z"
   },
   {
    "duration": 30,
    "start_time": "2022-05-04T22:47:21.010Z"
   },
   {
    "duration": 9,
    "start_time": "2022-05-04T22:47:21.041Z"
   },
   {
    "duration": 6,
    "start_time": "2022-05-04T22:47:21.052Z"
   },
   {
    "duration": 13,
    "start_time": "2022-05-04T22:47:21.059Z"
   },
   {
    "duration": 14,
    "start_time": "2022-05-04T22:47:21.073Z"
   },
   {
    "duration": 17,
    "start_time": "2022-05-04T22:47:21.089Z"
   },
   {
    "duration": 27,
    "start_time": "2022-05-04T22:47:21.108Z"
   },
   {
    "duration": 9,
    "start_time": "2022-05-04T22:47:21.136Z"
   },
   {
    "duration": 9,
    "start_time": "2022-05-04T22:47:21.148Z"
   },
   {
    "duration": 5,
    "start_time": "2022-05-04T22:47:21.159Z"
   },
   {
    "duration": 9,
    "start_time": "2022-05-04T22:47:21.166Z"
   },
   {
    "duration": 23,
    "start_time": "2022-05-04T22:47:21.176Z"
   },
   {
    "duration": 53,
    "start_time": "2022-05-04T22:47:21.201Z"
   },
   {
    "duration": 37,
    "start_time": "2022-05-04T22:47:21.256Z"
   },
   {
    "duration": 39,
    "start_time": "2022-05-04T22:47:21.296Z"
   },
   {
    "duration": 322,
    "start_time": "2022-05-04T22:47:21.336Z"
   },
   {
    "duration": 339,
    "start_time": "2022-05-04T22:47:21.660Z"
   },
   {
    "duration": 235,
    "start_time": "2022-05-04T22:47:22.001Z"
   },
   {
    "duration": 311,
    "start_time": "2022-05-04T22:47:22.238Z"
   },
   {
    "duration": 234,
    "start_time": "2022-05-04T22:47:22.551Z"
   },
   {
    "duration": 368,
    "start_time": "2022-05-04T22:47:22.787Z"
   },
   {
    "duration": 12,
    "start_time": "2022-05-04T22:47:23.156Z"
   },
   {
    "duration": 179,
    "start_time": "2022-05-04T22:47:23.169Z"
   },
   {
    "duration": 6,
    "start_time": "2022-05-04T22:47:23.350Z"
   },
   {
    "duration": 297,
    "start_time": "2022-05-04T22:47:23.358Z"
   },
   {
    "duration": 6,
    "start_time": "2022-05-04T22:47:23.657Z"
   },
   {
    "duration": 162,
    "start_time": "2022-05-04T22:47:23.665Z"
   },
   {
    "duration": 8,
    "start_time": "2022-05-04T22:47:23.831Z"
   },
   {
    "duration": 28,
    "start_time": "2022-05-04T22:47:23.840Z"
   },
   {
    "duration": 31,
    "start_time": "2022-05-04T22:47:23.870Z"
   },
   {
    "duration": 14,
    "start_time": "2022-05-04T22:47:23.905Z"
   },
   {
    "duration": 23,
    "start_time": "2022-05-04T22:47:23.921Z"
   },
   {
    "duration": 25,
    "start_time": "2022-05-04T22:47:23.946Z"
   },
   {
    "duration": 14,
    "start_time": "2022-05-04T22:47:23.972Z"
   }
  ],
  "kernelspec": {
   "display_name": "Python 3 (ipykernel)",
   "language": "python",
   "name": "python3"
  },
  "language_info": {
   "codemirror_mode": {
    "name": "ipython",
    "version": 3
   },
   "file_extension": ".py",
   "mimetype": "text/x-python",
   "name": "python",
   "nbconvert_exporter": "python",
   "pygments_lexer": "ipython3",
   "version": "3.9.12"
  },
  "toc": {
   "base_numbering": 1,
   "nav_menu": {},
   "number_sections": true,
   "sideBar": true,
   "skip_h1_title": true,
   "title_cell": "Содержание",
   "title_sidebar": "Содержание",
   "toc_cell": true,
   "toc_position": {
    "height": "calc(100% - 180px)",
    "left": "10px",
    "top": "150px",
    "width": "255.594px"
   },
   "toc_section_display": true,
   "toc_window_display": true
  }
 },
 "nbformat": 4,
 "nbformat_minor": 2
}
