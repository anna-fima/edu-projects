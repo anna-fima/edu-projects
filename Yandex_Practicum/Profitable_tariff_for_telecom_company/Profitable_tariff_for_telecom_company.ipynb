{
 "cells": [
  {
   "cell_type": "markdown",
   "metadata": {
    "toc": true
   },
   "source": [
    "<h1>Содержание<span class=\"tocSkip\"></span></h1>\n",
    "<div class=\"toc\"><ul class=\"toc-item\"><li><ul class=\"toc-item\"><li><span><a href=\"#Описание-проекта\" data-toc-modified-id=\"Описание-проекта-0.1\"><span class=\"toc-item-num\">0.1&nbsp;&nbsp;</span>Описание проекта</a></span></li><li><span><a href=\"#Описание-данных:\" data-toc-modified-id=\"Описание-данных:-0.2\"><span class=\"toc-item-num\">0.2&nbsp;&nbsp;</span>Описание данных:</a></span></li></ul></li><li><span><a href=\"#Шаг-1.-Откроем-файл-с-данными-и-изучим-общую-информацию\" data-toc-modified-id=\"Шаг-1.-Откроем-файл-с-данными-и-изучим-общую-информацию-1\"><span class=\"toc-item-num\">1&nbsp;&nbsp;</span>Шаг 1. Откроем файл с данными и изучим общую информацию</a></span></li><li><span><a href=\"#Шаг-2.-Подготовим-данные\" data-toc-modified-id=\"Шаг-2.-Подготовим-данные-2\"><span class=\"toc-item-num\">2&nbsp;&nbsp;</span>Шаг 2. Подготовим данные</a></span></li><li><span><a href=\"#Шаг-3.-Проанализируем-данные\" data-toc-modified-id=\"Шаг-3.-Проанализируем-данные-3\"><span class=\"toc-item-num\">3&nbsp;&nbsp;</span>Шаг 3. Проанализируем данные</a></span></li><li><span><a href=\"#Шаг-4.-Проверим-гипотезы\" data-toc-modified-id=\"Шаг-4.-Проверим-гипотезы-4\"><span class=\"toc-item-num\">4&nbsp;&nbsp;</span>Шаг 4. Проверим гипотезы</a></span></li><li><span><a href=\"#Шаг-5.-Общий-вывод\" data-toc-modified-id=\"Шаг-5.-Общий-вывод-5\"><span class=\"toc-item-num\">5&nbsp;&nbsp;</span>Шаг 5. Общий вывод</a></span></li></ul></div>"
   ]
  },
  {
   "cell_type": "markdown",
   "metadata": {},
   "source": [
    "# Определение перспективного тарифа для телеком-компании"
   ]
  },
  {
   "cell_type": "markdown",
   "metadata": {},
   "source": [
    "### Описание проекта"
   ]
  },
  {
   "cell_type": "markdown",
   "metadata": {},
   "source": [
    "Вы аналитик компании «Мегалайн» — федерального оператора сотовой связи. Клиентам предлагают два тарифных плана: «Смарт» и «Ультра». Чтобы скорректировать рекламный бюджет, коммерческий департамент хочет понять, какой тариф приносит больше денег.\n",
    "Вам предстоит сделать предварительный анализ тарифов на небольшой выборке клиентов. В вашем распоряжении данные 500 пользователей «Мегалайна»: кто они, откуда, каким тарифом пользуются, сколько звонков и сообщений каждый отправил за 2018 год. \n",
    "\n",
    "***Цель Исследования:***\n",
    "Нужно проанализировать поведение клиентов и сделать вывод — какой тариф лучше."
   ]
  },
  {
   "cell_type": "markdown",
   "metadata": {},
   "source": [
    "**Описание тарифов**\n",
    "\n",
    "Тариф «Смарт»\n",
    "1.\tЕжемесячная плата: 550 рублей\n",
    "2.\tВключено 500 минут разговора, 50 сообщений и 15 Гб интернет-трафика\n",
    "3.\tСтоимость услуг сверх тарифного пакета:\n",
    "- минута разговора: 3 рубля\n",
    "- сообщение: 3 рубля\n",
    "- 1 Гб интернет-трафика: 200 рублей\n",
    "\n",
    "Тариф «Ультра»\n",
    "1.\tЕжемесячная плата: 1950 рублей\n",
    "2.\tВключено 3000 минут разговора, 1000 сообщений и 30 Гб интернет-трафика\n",
    "3.\tСтоимость услуг сверх тарифного пакета:\n",
    "- минута разговора: 1 рубль\n",
    "- сообщение: 1 рубль\n",
    "- 1 Гб интернет-трафика: 150 рублей\n",
    "\n",
    "Примечание:\n",
    "\n",
    "«Мегалайн» всегда округляет секунды до минут, а мегабайты — до гигабайт. Каждый звонок округляется отдельно: даже если он длился всего 1 секунду, будет засчитан как 1 минута.\n",
    "Для веб-трафика отдельные сессии не считаются. Вместо этого общая сумма за месяц округляется в бо́льшую сторону. Если абонент использует 1025 мегабайт в этом месяце, с него возьмут плату за 2 гигабайта.\n"
   ]
  },
  {
   "cell_type": "markdown",
   "metadata": {},
   "source": [
    "### Описание данных:"
   ]
  },
  {
   "cell_type": "markdown",
   "metadata": {},
   "source": [
    "**Таблица users (информация о пользователях)**:\n",
    "\n",
    "•\tuser_id — уникальный идентификатор пользователя\n",
    "\n",
    "•\tfirst_name — имя пользователя\n",
    "\n",
    "•\tlast_name — фамилия пользователя\n",
    "\n",
    "•\tage — возраст пользователя (годы)\n",
    "\n",
    "•\treg_date — дата подключения тарифа (день, месяц, год)\n",
    "\n",
    "•\tchurn_date — дата прекращения пользования тарифом (если значение пропущено, то тариф ещё действовал на момент выгрузки данных)\n",
    "\n",
    "•\tcity — город проживания пользователя\n",
    "\n",
    "•\ttarif — название тарифного плана\n",
    "\n",
    "**Таблица calls (информация о звонках)**:\n",
    "\n",
    "•\tid — уникальный номер звонка\n",
    "\n",
    "•\tcall_date — дата звонка\n",
    "\n",
    "•\tduration — длительность звонка в минутах\n",
    "\n",
    "•\tuser_id — идентификатор пользователя, сделавшего звонок\n",
    "\n",
    "**Таблица messages (информация о сообщениях)**:\n",
    "\n",
    "•\tid — уникальный номер сообщения\n",
    "\n",
    "•\tmessage_date — дата сообщения\n",
    "\n",
    "•\tuser_id — идентификатор пользователя, отправившего сообщение\n",
    "\n",
    "**Таблица internet (информация об интернет-сессиях)**:\n",
    "\n",
    "•\tid — уникальный номер сессии\n",
    "\n",
    "•\tmb_used — объём потраченного за сессию интернет-трафика (в мегабайтах)\n",
    "\n",
    "•\tsession_date — дата интернет-сессии\n",
    "\n",
    "•\tuser_id — идентификатор пользователя\n",
    "\n",
    "**Таблица tariffs (информация о тарифах)**:\n",
    "\n",
    "•\ttariff_name — название тарифа\n",
    "\n",
    "•\trub_monthly_fee — ежемесячная абонентская плата в рублях\n",
    "\n",
    "•\tminutes_included — количество минут разговора в месяц, включённых в абонентскую плату\n",
    "\n",
    "•\tmessages_included — количество сообщений в месяц, включённых в абонентскую плату\n",
    "\n",
    "•\tmb_per_month_included — объём интернет-трафика, включённого в абонентскую плату (в мегабайтах)\n",
    "\n",
    "•\trub_per_minute — стоимость минуты разговора сверх тарифного пакета (например, если в тарифе 100 минут разговора в месяц, то со 101 минуты будет взиматься плата)\n",
    "\n",
    "•\trub_per_message — стоимость отправки сообщения сверх тарифного пакета\n",
    "\n",
    "•\trub_per_gb — стоимость дополнительного гигабайта интернет-трафика сверх тарифного пакета (1 гигабайт = 1024 мегабайта)\n"
   ]
  },
  {
   "cell_type": "markdown",
   "metadata": {},
   "source": [
    " ## Шаг 1. Откроем файл с данными и изучим общую информацию"
   ]
  },
  {
   "cell_type": "code",
   "execution_count": 1,
   "metadata": {},
   "outputs": [],
   "source": [
    "# импортируем необходимые библиотеки\n",
    "import pandas as pd\n",
    "\n",
    "import numpy as np\n",
    "\n",
    "from scipy import stats as st\n",
    "\n",
    "from scipy.stats import levene\n",
    "\n",
    "import matplotlib.pyplot as plt\n",
    "\n",
    "import seaborn as sns\n",
    "\n",
    "import warnings\n",
    "warnings.filterwarnings(\"ignore\")\n",
    "\n",
    "pd.set_option('float_format', '{:f}'.format)\n",
    "\n",
    "calls = pd.read_csv('D:/Anna/Разное/Практикум Аналитик/Модуль 1/Спринт 4 Стат анализ/Проект 4/calls.csv')\n",
    "internet = pd.read_csv('D:/Anna/Разное/Практикум Аналитик/Модуль 1/Спринт 4 Стат анализ/Проект 4/internet.csv')\n",
    "messages = pd.read_csv('D:/Anna/Разное/Практикум Аналитик/Модуль 1/Спринт 4 Стат анализ/Проект 4/messages.csv')\n",
    "tariffs = pd.read_csv('D:/Anna/Разное/Практикум Аналитик/Модуль 1/Спринт 4 Стат анализ/Проект 4/tariffs.csv')\n",
    "users = pd.read_csv('D:/Anna/Разное/Практикум Аналитик/Модуль 1/Спринт 4 Стат анализ/Проект 4/users.csv')"
   ]
  },
  {
   "cell_type": "code",
   "execution_count": 2,
   "metadata": {},
   "outputs": [],
   "source": [
    "# напишем функцию для просмотра общей информации, статистики и первых строк каждого датасета\n",
    "def info(df):\n",
    "    \"\"\"возвращает все атрибуты, статистику и первые 5 строк датасета, переданного в качестве параметра\"\"\"\n",
    "    df.info()\n",
    "    display(df.describe())\n",
    "    return df.head()"
   ]
  },
  {
   "cell_type": "code",
   "execution_count": 3,
   "metadata": {},
   "outputs": [
    {
     "name": "stdout",
     "output_type": "stream",
     "text": [
      "<class 'pandas.core.frame.DataFrame'>\n",
      "RangeIndex: 202607 entries, 0 to 202606\n",
      "Data columns (total 4 columns):\n",
      " #   Column     Non-Null Count   Dtype  \n",
      "---  ------     --------------   -----  \n",
      " 0   id         202607 non-null  object \n",
      " 1   call_date  202607 non-null  object \n",
      " 2   duration   202607 non-null  float64\n",
      " 3   user_id    202607 non-null  int64  \n",
      "dtypes: float64(1), int64(1), object(2)\n",
      "memory usage: 6.2+ MB\n"
     ]
    },
    {
     "data": {
      "text/html": [
       "<div>\n",
       "<style scoped>\n",
       "    .dataframe tbody tr th:only-of-type {\n",
       "        vertical-align: middle;\n",
       "    }\n",
       "\n",
       "    .dataframe tbody tr th {\n",
       "        vertical-align: top;\n",
       "    }\n",
       "\n",
       "    .dataframe thead th {\n",
       "        text-align: right;\n",
       "    }\n",
       "</style>\n",
       "<table border=\"1\" class=\"dataframe\">\n",
       "  <thead>\n",
       "    <tr style=\"text-align: right;\">\n",
       "      <th></th>\n",
       "      <th>duration</th>\n",
       "      <th>user_id</th>\n",
       "    </tr>\n",
       "  </thead>\n",
       "  <tbody>\n",
       "    <tr>\n",
       "      <th>count</th>\n",
       "      <td>202607.000000</td>\n",
       "      <td>202607.000000</td>\n",
       "    </tr>\n",
       "    <tr>\n",
       "      <th>mean</th>\n",
       "      <td>6.755887</td>\n",
       "      <td>1253.940619</td>\n",
       "    </tr>\n",
       "    <tr>\n",
       "      <th>std</th>\n",
       "      <td>5.843365</td>\n",
       "      <td>144.722751</td>\n",
       "    </tr>\n",
       "    <tr>\n",
       "      <th>min</th>\n",
       "      <td>0.000000</td>\n",
       "      <td>1000.000000</td>\n",
       "    </tr>\n",
       "    <tr>\n",
       "      <th>25%</th>\n",
       "      <td>1.300000</td>\n",
       "      <td>1126.000000</td>\n",
       "    </tr>\n",
       "    <tr>\n",
       "      <th>50%</th>\n",
       "      <td>6.000000</td>\n",
       "      <td>1260.000000</td>\n",
       "    </tr>\n",
       "    <tr>\n",
       "      <th>75%</th>\n",
       "      <td>10.700000</td>\n",
       "      <td>1379.000000</td>\n",
       "    </tr>\n",
       "    <tr>\n",
       "      <th>max</th>\n",
       "      <td>38.000000</td>\n",
       "      <td>1499.000000</td>\n",
       "    </tr>\n",
       "  </tbody>\n",
       "</table>\n",
       "</div>"
      ],
      "text/plain": [
       "           duration       user_id\n",
       "count 202607.000000 202607.000000\n",
       "mean       6.755887   1253.940619\n",
       "std        5.843365    144.722751\n",
       "min        0.000000   1000.000000\n",
       "25%        1.300000   1126.000000\n",
       "50%        6.000000   1260.000000\n",
       "75%       10.700000   1379.000000\n",
       "max       38.000000   1499.000000"
      ]
     },
     "metadata": {},
     "output_type": "display_data"
    },
    {
     "data": {
      "text/html": [
       "<div>\n",
       "<style scoped>\n",
       "    .dataframe tbody tr th:only-of-type {\n",
       "        vertical-align: middle;\n",
       "    }\n",
       "\n",
       "    .dataframe tbody tr th {\n",
       "        vertical-align: top;\n",
       "    }\n",
       "\n",
       "    .dataframe thead th {\n",
       "        text-align: right;\n",
       "    }\n",
       "</style>\n",
       "<table border=\"1\" class=\"dataframe\">\n",
       "  <thead>\n",
       "    <tr style=\"text-align: right;\">\n",
       "      <th></th>\n",
       "      <th>id</th>\n",
       "      <th>call_date</th>\n",
       "      <th>duration</th>\n",
       "      <th>user_id</th>\n",
       "    </tr>\n",
       "  </thead>\n",
       "  <tbody>\n",
       "    <tr>\n",
       "      <th>0</th>\n",
       "      <td>1000_0</td>\n",
       "      <td>2018-07-25</td>\n",
       "      <td>0.000000</td>\n",
       "      <td>1000</td>\n",
       "    </tr>\n",
       "    <tr>\n",
       "      <th>1</th>\n",
       "      <td>1000_1</td>\n",
       "      <td>2018-08-17</td>\n",
       "      <td>0.000000</td>\n",
       "      <td>1000</td>\n",
       "    </tr>\n",
       "    <tr>\n",
       "      <th>2</th>\n",
       "      <td>1000_2</td>\n",
       "      <td>2018-06-11</td>\n",
       "      <td>2.850000</td>\n",
       "      <td>1000</td>\n",
       "    </tr>\n",
       "    <tr>\n",
       "      <th>3</th>\n",
       "      <td>1000_3</td>\n",
       "      <td>2018-09-21</td>\n",
       "      <td>13.800000</td>\n",
       "      <td>1000</td>\n",
       "    </tr>\n",
       "    <tr>\n",
       "      <th>4</th>\n",
       "      <td>1000_4</td>\n",
       "      <td>2018-12-15</td>\n",
       "      <td>5.180000</td>\n",
       "      <td>1000</td>\n",
       "    </tr>\n",
       "  </tbody>\n",
       "</table>\n",
       "</div>"
      ],
      "text/plain": [
       "       id   call_date  duration  user_id\n",
       "0  1000_0  2018-07-25  0.000000     1000\n",
       "1  1000_1  2018-08-17  0.000000     1000\n",
       "2  1000_2  2018-06-11  2.850000     1000\n",
       "3  1000_3  2018-09-21 13.800000     1000\n",
       "4  1000_4  2018-12-15  5.180000     1000"
      ]
     },
     "execution_count": 3,
     "metadata": {},
     "output_type": "execute_result"
    }
   ],
   "source": [
    "info(calls)"
   ]
  },
  {
   "cell_type": "code",
   "execution_count": 4,
   "metadata": {},
   "outputs": [
    {
     "name": "stdout",
     "output_type": "stream",
     "text": [
      "<class 'pandas.core.frame.DataFrame'>\n",
      "RangeIndex: 149396 entries, 0 to 149395\n",
      "Data columns (total 5 columns):\n",
      " #   Column        Non-Null Count   Dtype  \n",
      "---  ------        --------------   -----  \n",
      " 0   Unnamed: 0    149396 non-null  int64  \n",
      " 1   id            149396 non-null  object \n",
      " 2   mb_used       149396 non-null  float64\n",
      " 3   session_date  149396 non-null  object \n",
      " 4   user_id       149396 non-null  int64  \n",
      "dtypes: float64(1), int64(2), object(2)\n",
      "memory usage: 5.7+ MB\n"
     ]
    },
    {
     "data": {
      "text/html": [
       "<div>\n",
       "<style scoped>\n",
       "    .dataframe tbody tr th:only-of-type {\n",
       "        vertical-align: middle;\n",
       "    }\n",
       "\n",
       "    .dataframe tbody tr th {\n",
       "        vertical-align: top;\n",
       "    }\n",
       "\n",
       "    .dataframe thead th {\n",
       "        text-align: right;\n",
       "    }\n",
       "</style>\n",
       "<table border=\"1\" class=\"dataframe\">\n",
       "  <thead>\n",
       "    <tr style=\"text-align: right;\">\n",
       "      <th></th>\n",
       "      <th>Unnamed: 0</th>\n",
       "      <th>mb_used</th>\n",
       "      <th>user_id</th>\n",
       "    </tr>\n",
       "  </thead>\n",
       "  <tbody>\n",
       "    <tr>\n",
       "      <th>count</th>\n",
       "      <td>149396.000000</td>\n",
       "      <td>149396.000000</td>\n",
       "      <td>149396.000000</td>\n",
       "    </tr>\n",
       "    <tr>\n",
       "      <th>mean</th>\n",
       "      <td>74697.500000</td>\n",
       "      <td>370.192426</td>\n",
       "      <td>1252.099842</td>\n",
       "    </tr>\n",
       "    <tr>\n",
       "      <th>std</th>\n",
       "      <td>43127.054745</td>\n",
       "      <td>278.300951</td>\n",
       "      <td>144.050823</td>\n",
       "    </tr>\n",
       "    <tr>\n",
       "      <th>min</th>\n",
       "      <td>0.000000</td>\n",
       "      <td>0.000000</td>\n",
       "      <td>1000.000000</td>\n",
       "    </tr>\n",
       "    <tr>\n",
       "      <th>25%</th>\n",
       "      <td>37348.750000</td>\n",
       "      <td>138.187500</td>\n",
       "      <td>1130.000000</td>\n",
       "    </tr>\n",
       "    <tr>\n",
       "      <th>50%</th>\n",
       "      <td>74697.500000</td>\n",
       "      <td>348.015000</td>\n",
       "      <td>1251.000000</td>\n",
       "    </tr>\n",
       "    <tr>\n",
       "      <th>75%</th>\n",
       "      <td>112046.250000</td>\n",
       "      <td>559.552500</td>\n",
       "      <td>1380.000000</td>\n",
       "    </tr>\n",
       "    <tr>\n",
       "      <th>max</th>\n",
       "      <td>149395.000000</td>\n",
       "      <td>1724.830000</td>\n",
       "      <td>1499.000000</td>\n",
       "    </tr>\n",
       "  </tbody>\n",
       "</table>\n",
       "</div>"
      ],
      "text/plain": [
       "         Unnamed: 0       mb_used       user_id\n",
       "count 149396.000000 149396.000000 149396.000000\n",
       "mean   74697.500000    370.192426   1252.099842\n",
       "std    43127.054745    278.300951    144.050823\n",
       "min        0.000000      0.000000   1000.000000\n",
       "25%    37348.750000    138.187500   1130.000000\n",
       "50%    74697.500000    348.015000   1251.000000\n",
       "75%   112046.250000    559.552500   1380.000000\n",
       "max   149395.000000   1724.830000   1499.000000"
      ]
     },
     "metadata": {},
     "output_type": "display_data"
    },
    {
     "data": {
      "text/html": [
       "<div>\n",
       "<style scoped>\n",
       "    .dataframe tbody tr th:only-of-type {\n",
       "        vertical-align: middle;\n",
       "    }\n",
       "\n",
       "    .dataframe tbody tr th {\n",
       "        vertical-align: top;\n",
       "    }\n",
       "\n",
       "    .dataframe thead th {\n",
       "        text-align: right;\n",
       "    }\n",
       "</style>\n",
       "<table border=\"1\" class=\"dataframe\">\n",
       "  <thead>\n",
       "    <tr style=\"text-align: right;\">\n",
       "      <th></th>\n",
       "      <th>Unnamed: 0</th>\n",
       "      <th>id</th>\n",
       "      <th>mb_used</th>\n",
       "      <th>session_date</th>\n",
       "      <th>user_id</th>\n",
       "    </tr>\n",
       "  </thead>\n",
       "  <tbody>\n",
       "    <tr>\n",
       "      <th>0</th>\n",
       "      <td>0</td>\n",
       "      <td>1000_0</td>\n",
       "      <td>112.950000</td>\n",
       "      <td>2018-11-25</td>\n",
       "      <td>1000</td>\n",
       "    </tr>\n",
       "    <tr>\n",
       "      <th>1</th>\n",
       "      <td>1</td>\n",
       "      <td>1000_1</td>\n",
       "      <td>1052.810000</td>\n",
       "      <td>2018-09-07</td>\n",
       "      <td>1000</td>\n",
       "    </tr>\n",
       "    <tr>\n",
       "      <th>2</th>\n",
       "      <td>2</td>\n",
       "      <td>1000_2</td>\n",
       "      <td>1197.260000</td>\n",
       "      <td>2018-06-25</td>\n",
       "      <td>1000</td>\n",
       "    </tr>\n",
       "    <tr>\n",
       "      <th>3</th>\n",
       "      <td>3</td>\n",
       "      <td>1000_3</td>\n",
       "      <td>550.270000</td>\n",
       "      <td>2018-08-22</td>\n",
       "      <td>1000</td>\n",
       "    </tr>\n",
       "    <tr>\n",
       "      <th>4</th>\n",
       "      <td>4</td>\n",
       "      <td>1000_4</td>\n",
       "      <td>302.560000</td>\n",
       "      <td>2018-09-24</td>\n",
       "      <td>1000</td>\n",
       "    </tr>\n",
       "  </tbody>\n",
       "</table>\n",
       "</div>"
      ],
      "text/plain": [
       "   Unnamed: 0      id     mb_used session_date  user_id\n",
       "0           0  1000_0  112.950000   2018-11-25     1000\n",
       "1           1  1000_1 1052.810000   2018-09-07     1000\n",
       "2           2  1000_2 1197.260000   2018-06-25     1000\n",
       "3           3  1000_3  550.270000   2018-08-22     1000\n",
       "4           4  1000_4  302.560000   2018-09-24     1000"
      ]
     },
     "execution_count": 4,
     "metadata": {},
     "output_type": "execute_result"
    }
   ],
   "source": [
    "info(internet)"
   ]
  },
  {
   "cell_type": "code",
   "execution_count": 5,
   "metadata": {},
   "outputs": [
    {
     "name": "stdout",
     "output_type": "stream",
     "text": [
      "<class 'pandas.core.frame.DataFrame'>\n",
      "RangeIndex: 123036 entries, 0 to 123035\n",
      "Data columns (total 3 columns):\n",
      " #   Column        Non-Null Count   Dtype \n",
      "---  ------        --------------   ----- \n",
      " 0   id            123036 non-null  object\n",
      " 1   message_date  123036 non-null  object\n",
      " 2   user_id       123036 non-null  int64 \n",
      "dtypes: int64(1), object(2)\n",
      "memory usage: 2.8+ MB\n"
     ]
    },
    {
     "data": {
      "text/html": [
       "<div>\n",
       "<style scoped>\n",
       "    .dataframe tbody tr th:only-of-type {\n",
       "        vertical-align: middle;\n",
       "    }\n",
       "\n",
       "    .dataframe tbody tr th {\n",
       "        vertical-align: top;\n",
       "    }\n",
       "\n",
       "    .dataframe thead th {\n",
       "        text-align: right;\n",
       "    }\n",
       "</style>\n",
       "<table border=\"1\" class=\"dataframe\">\n",
       "  <thead>\n",
       "    <tr style=\"text-align: right;\">\n",
       "      <th></th>\n",
       "      <th>user_id</th>\n",
       "    </tr>\n",
       "  </thead>\n",
       "  <tbody>\n",
       "    <tr>\n",
       "      <th>count</th>\n",
       "      <td>123036.000000</td>\n",
       "    </tr>\n",
       "    <tr>\n",
       "      <th>mean</th>\n",
       "      <td>1256.989410</td>\n",
       "    </tr>\n",
       "    <tr>\n",
       "      <th>std</th>\n",
       "      <td>143.523967</td>\n",
       "    </tr>\n",
       "    <tr>\n",
       "      <th>min</th>\n",
       "      <td>1000.000000</td>\n",
       "    </tr>\n",
       "    <tr>\n",
       "      <th>25%</th>\n",
       "      <td>1134.000000</td>\n",
       "    </tr>\n",
       "    <tr>\n",
       "      <th>50%</th>\n",
       "      <td>1271.000000</td>\n",
       "    </tr>\n",
       "    <tr>\n",
       "      <th>75%</th>\n",
       "      <td>1381.000000</td>\n",
       "    </tr>\n",
       "    <tr>\n",
       "      <th>max</th>\n",
       "      <td>1499.000000</td>\n",
       "    </tr>\n",
       "  </tbody>\n",
       "</table>\n",
       "</div>"
      ],
      "text/plain": [
       "            user_id\n",
       "count 123036.000000\n",
       "mean    1256.989410\n",
       "std      143.523967\n",
       "min     1000.000000\n",
       "25%     1134.000000\n",
       "50%     1271.000000\n",
       "75%     1381.000000\n",
       "max     1499.000000"
      ]
     },
     "metadata": {},
     "output_type": "display_data"
    },
    {
     "data": {
      "text/html": [
       "<div>\n",
       "<style scoped>\n",
       "    .dataframe tbody tr th:only-of-type {\n",
       "        vertical-align: middle;\n",
       "    }\n",
       "\n",
       "    .dataframe tbody tr th {\n",
       "        vertical-align: top;\n",
       "    }\n",
       "\n",
       "    .dataframe thead th {\n",
       "        text-align: right;\n",
       "    }\n",
       "</style>\n",
       "<table border=\"1\" class=\"dataframe\">\n",
       "  <thead>\n",
       "    <tr style=\"text-align: right;\">\n",
       "      <th></th>\n",
       "      <th>id</th>\n",
       "      <th>message_date</th>\n",
       "      <th>user_id</th>\n",
       "    </tr>\n",
       "  </thead>\n",
       "  <tbody>\n",
       "    <tr>\n",
       "      <th>0</th>\n",
       "      <td>1000_0</td>\n",
       "      <td>2018-06-27</td>\n",
       "      <td>1000</td>\n",
       "    </tr>\n",
       "    <tr>\n",
       "      <th>1</th>\n",
       "      <td>1000_1</td>\n",
       "      <td>2018-10-08</td>\n",
       "      <td>1000</td>\n",
       "    </tr>\n",
       "    <tr>\n",
       "      <th>2</th>\n",
       "      <td>1000_2</td>\n",
       "      <td>2018-08-04</td>\n",
       "      <td>1000</td>\n",
       "    </tr>\n",
       "    <tr>\n",
       "      <th>3</th>\n",
       "      <td>1000_3</td>\n",
       "      <td>2018-06-16</td>\n",
       "      <td>1000</td>\n",
       "    </tr>\n",
       "    <tr>\n",
       "      <th>4</th>\n",
       "      <td>1000_4</td>\n",
       "      <td>2018-12-05</td>\n",
       "      <td>1000</td>\n",
       "    </tr>\n",
       "  </tbody>\n",
       "</table>\n",
       "</div>"
      ],
      "text/plain": [
       "       id message_date  user_id\n",
       "0  1000_0   2018-06-27     1000\n",
       "1  1000_1   2018-10-08     1000\n",
       "2  1000_2   2018-08-04     1000\n",
       "3  1000_3   2018-06-16     1000\n",
       "4  1000_4   2018-12-05     1000"
      ]
     },
     "execution_count": 5,
     "metadata": {},
     "output_type": "execute_result"
    }
   ],
   "source": [
    "info(messages)"
   ]
  },
  {
   "cell_type": "code",
   "execution_count": 6,
   "metadata": {},
   "outputs": [
    {
     "name": "stdout",
     "output_type": "stream",
     "text": [
      "<class 'pandas.core.frame.DataFrame'>\n",
      "RangeIndex: 2 entries, 0 to 1\n",
      "Data columns (total 8 columns):\n",
      " #   Column                 Non-Null Count  Dtype \n",
      "---  ------                 --------------  ----- \n",
      " 0   messages_included      2 non-null      int64 \n",
      " 1   mb_per_month_included  2 non-null      int64 \n",
      " 2   minutes_included       2 non-null      int64 \n",
      " 3   rub_monthly_fee        2 non-null      int64 \n",
      " 4   rub_per_gb             2 non-null      int64 \n",
      " 5   rub_per_message        2 non-null      int64 \n",
      " 6   rub_per_minute         2 non-null      int64 \n",
      " 7   tariff_name            2 non-null      object\n",
      "dtypes: int64(7), object(1)\n",
      "memory usage: 256.0+ bytes\n"
     ]
    },
    {
     "data": {
      "text/html": [
       "<div>\n",
       "<style scoped>\n",
       "    .dataframe tbody tr th:only-of-type {\n",
       "        vertical-align: middle;\n",
       "    }\n",
       "\n",
       "    .dataframe tbody tr th {\n",
       "        vertical-align: top;\n",
       "    }\n",
       "\n",
       "    .dataframe thead th {\n",
       "        text-align: right;\n",
       "    }\n",
       "</style>\n",
       "<table border=\"1\" class=\"dataframe\">\n",
       "  <thead>\n",
       "    <tr style=\"text-align: right;\">\n",
       "      <th></th>\n",
       "      <th>messages_included</th>\n",
       "      <th>mb_per_month_included</th>\n",
       "      <th>minutes_included</th>\n",
       "      <th>rub_monthly_fee</th>\n",
       "      <th>rub_per_gb</th>\n",
       "      <th>rub_per_message</th>\n",
       "      <th>rub_per_minute</th>\n",
       "    </tr>\n",
       "  </thead>\n",
       "  <tbody>\n",
       "    <tr>\n",
       "      <th>count</th>\n",
       "      <td>2.000000</td>\n",
       "      <td>2.000000</td>\n",
       "      <td>2.000000</td>\n",
       "      <td>2.000000</td>\n",
       "      <td>2.000000</td>\n",
       "      <td>2.000000</td>\n",
       "      <td>2.000000</td>\n",
       "    </tr>\n",
       "    <tr>\n",
       "      <th>mean</th>\n",
       "      <td>525.000000</td>\n",
       "      <td>23040.000000</td>\n",
       "      <td>1750.000000</td>\n",
       "      <td>1250.000000</td>\n",
       "      <td>175.000000</td>\n",
       "      <td>2.000000</td>\n",
       "      <td>2.000000</td>\n",
       "    </tr>\n",
       "    <tr>\n",
       "      <th>std</th>\n",
       "      <td>671.751442</td>\n",
       "      <td>10861.160159</td>\n",
       "      <td>1767.766953</td>\n",
       "      <td>989.949494</td>\n",
       "      <td>35.355339</td>\n",
       "      <td>1.414214</td>\n",
       "      <td>1.414214</td>\n",
       "    </tr>\n",
       "    <tr>\n",
       "      <th>min</th>\n",
       "      <td>50.000000</td>\n",
       "      <td>15360.000000</td>\n",
       "      <td>500.000000</td>\n",
       "      <td>550.000000</td>\n",
       "      <td>150.000000</td>\n",
       "      <td>1.000000</td>\n",
       "      <td>1.000000</td>\n",
       "    </tr>\n",
       "    <tr>\n",
       "      <th>25%</th>\n",
       "      <td>287.500000</td>\n",
       "      <td>19200.000000</td>\n",
       "      <td>1125.000000</td>\n",
       "      <td>900.000000</td>\n",
       "      <td>162.500000</td>\n",
       "      <td>1.500000</td>\n",
       "      <td>1.500000</td>\n",
       "    </tr>\n",
       "    <tr>\n",
       "      <th>50%</th>\n",
       "      <td>525.000000</td>\n",
       "      <td>23040.000000</td>\n",
       "      <td>1750.000000</td>\n",
       "      <td>1250.000000</td>\n",
       "      <td>175.000000</td>\n",
       "      <td>2.000000</td>\n",
       "      <td>2.000000</td>\n",
       "    </tr>\n",
       "    <tr>\n",
       "      <th>75%</th>\n",
       "      <td>762.500000</td>\n",
       "      <td>26880.000000</td>\n",
       "      <td>2375.000000</td>\n",
       "      <td>1600.000000</td>\n",
       "      <td>187.500000</td>\n",
       "      <td>2.500000</td>\n",
       "      <td>2.500000</td>\n",
       "    </tr>\n",
       "    <tr>\n",
       "      <th>max</th>\n",
       "      <td>1000.000000</td>\n",
       "      <td>30720.000000</td>\n",
       "      <td>3000.000000</td>\n",
       "      <td>1950.000000</td>\n",
       "      <td>200.000000</td>\n",
       "      <td>3.000000</td>\n",
       "      <td>3.000000</td>\n",
       "    </tr>\n",
       "  </tbody>\n",
       "</table>\n",
       "</div>"
      ],
      "text/plain": [
       "       messages_included  mb_per_month_included  minutes_included  \\\n",
       "count           2.000000               2.000000          2.000000   \n",
       "mean          525.000000           23040.000000       1750.000000   \n",
       "std           671.751442           10861.160159       1767.766953   \n",
       "min            50.000000           15360.000000        500.000000   \n",
       "25%           287.500000           19200.000000       1125.000000   \n",
       "50%           525.000000           23040.000000       1750.000000   \n",
       "75%           762.500000           26880.000000       2375.000000   \n",
       "max          1000.000000           30720.000000       3000.000000   \n",
       "\n",
       "       rub_monthly_fee  rub_per_gb  rub_per_message  rub_per_minute  \n",
       "count         2.000000    2.000000         2.000000        2.000000  \n",
       "mean       1250.000000  175.000000         2.000000        2.000000  \n",
       "std         989.949494   35.355339         1.414214        1.414214  \n",
       "min         550.000000  150.000000         1.000000        1.000000  \n",
       "25%         900.000000  162.500000         1.500000        1.500000  \n",
       "50%        1250.000000  175.000000         2.000000        2.000000  \n",
       "75%        1600.000000  187.500000         2.500000        2.500000  \n",
       "max        1950.000000  200.000000         3.000000        3.000000  "
      ]
     },
     "metadata": {},
     "output_type": "display_data"
    },
    {
     "data": {
      "text/html": [
       "<div>\n",
       "<style scoped>\n",
       "    .dataframe tbody tr th:only-of-type {\n",
       "        vertical-align: middle;\n",
       "    }\n",
       "\n",
       "    .dataframe tbody tr th {\n",
       "        vertical-align: top;\n",
       "    }\n",
       "\n",
       "    .dataframe thead th {\n",
       "        text-align: right;\n",
       "    }\n",
       "</style>\n",
       "<table border=\"1\" class=\"dataframe\">\n",
       "  <thead>\n",
       "    <tr style=\"text-align: right;\">\n",
       "      <th></th>\n",
       "      <th>messages_included</th>\n",
       "      <th>mb_per_month_included</th>\n",
       "      <th>minutes_included</th>\n",
       "      <th>rub_monthly_fee</th>\n",
       "      <th>rub_per_gb</th>\n",
       "      <th>rub_per_message</th>\n",
       "      <th>rub_per_minute</th>\n",
       "      <th>tariff_name</th>\n",
       "    </tr>\n",
       "  </thead>\n",
       "  <tbody>\n",
       "    <tr>\n",
       "      <th>0</th>\n",
       "      <td>50</td>\n",
       "      <td>15360</td>\n",
       "      <td>500</td>\n",
       "      <td>550</td>\n",
       "      <td>200</td>\n",
       "      <td>3</td>\n",
       "      <td>3</td>\n",
       "      <td>smart</td>\n",
       "    </tr>\n",
       "    <tr>\n",
       "      <th>1</th>\n",
       "      <td>1000</td>\n",
       "      <td>30720</td>\n",
       "      <td>3000</td>\n",
       "      <td>1950</td>\n",
       "      <td>150</td>\n",
       "      <td>1</td>\n",
       "      <td>1</td>\n",
       "      <td>ultra</td>\n",
       "    </tr>\n",
       "  </tbody>\n",
       "</table>\n",
       "</div>"
      ],
      "text/plain": [
       "   messages_included  mb_per_month_included  minutes_included  \\\n",
       "0                 50                  15360               500   \n",
       "1               1000                  30720              3000   \n",
       "\n",
       "   rub_monthly_fee  rub_per_gb  rub_per_message  rub_per_minute tariff_name  \n",
       "0              550         200                3               3       smart  \n",
       "1             1950         150                1               1       ultra  "
      ]
     },
     "execution_count": 6,
     "metadata": {},
     "output_type": "execute_result"
    }
   ],
   "source": [
    "info(tariffs)"
   ]
  },
  {
   "cell_type": "code",
   "execution_count": 7,
   "metadata": {},
   "outputs": [
    {
     "name": "stdout",
     "output_type": "stream",
     "text": [
      "<class 'pandas.core.frame.DataFrame'>\n",
      "RangeIndex: 500 entries, 0 to 499\n",
      "Data columns (total 8 columns):\n",
      " #   Column      Non-Null Count  Dtype \n",
      "---  ------      --------------  ----- \n",
      " 0   user_id     500 non-null    int64 \n",
      " 1   age         500 non-null    int64 \n",
      " 2   churn_date  38 non-null     object\n",
      " 3   city        500 non-null    object\n",
      " 4   first_name  500 non-null    object\n",
      " 5   last_name   500 non-null    object\n",
      " 6   reg_date    500 non-null    object\n",
      " 7   tariff      500 non-null    object\n",
      "dtypes: int64(2), object(6)\n",
      "memory usage: 31.4+ KB\n"
     ]
    },
    {
     "data": {
      "text/html": [
       "<div>\n",
       "<style scoped>\n",
       "    .dataframe tbody tr th:only-of-type {\n",
       "        vertical-align: middle;\n",
       "    }\n",
       "\n",
       "    .dataframe tbody tr th {\n",
       "        vertical-align: top;\n",
       "    }\n",
       "\n",
       "    .dataframe thead th {\n",
       "        text-align: right;\n",
       "    }\n",
       "</style>\n",
       "<table border=\"1\" class=\"dataframe\">\n",
       "  <thead>\n",
       "    <tr style=\"text-align: right;\">\n",
       "      <th></th>\n",
       "      <th>user_id</th>\n",
       "      <th>age</th>\n",
       "    </tr>\n",
       "  </thead>\n",
       "  <tbody>\n",
       "    <tr>\n",
       "      <th>count</th>\n",
       "      <td>500.000000</td>\n",
       "      <td>500.000000</td>\n",
       "    </tr>\n",
       "    <tr>\n",
       "      <th>mean</th>\n",
       "      <td>1249.500000</td>\n",
       "      <td>46.588000</td>\n",
       "    </tr>\n",
       "    <tr>\n",
       "      <th>std</th>\n",
       "      <td>144.481833</td>\n",
       "      <td>16.667630</td>\n",
       "    </tr>\n",
       "    <tr>\n",
       "      <th>min</th>\n",
       "      <td>1000.000000</td>\n",
       "      <td>18.000000</td>\n",
       "    </tr>\n",
       "    <tr>\n",
       "      <th>25%</th>\n",
       "      <td>1124.750000</td>\n",
       "      <td>32.000000</td>\n",
       "    </tr>\n",
       "    <tr>\n",
       "      <th>50%</th>\n",
       "      <td>1249.500000</td>\n",
       "      <td>46.000000</td>\n",
       "    </tr>\n",
       "    <tr>\n",
       "      <th>75%</th>\n",
       "      <td>1374.250000</td>\n",
       "      <td>62.000000</td>\n",
       "    </tr>\n",
       "    <tr>\n",
       "      <th>max</th>\n",
       "      <td>1499.000000</td>\n",
       "      <td>75.000000</td>\n",
       "    </tr>\n",
       "  </tbody>\n",
       "</table>\n",
       "</div>"
      ],
      "text/plain": [
       "          user_id        age\n",
       "count  500.000000 500.000000\n",
       "mean  1249.500000  46.588000\n",
       "std    144.481833  16.667630\n",
       "min   1000.000000  18.000000\n",
       "25%   1124.750000  32.000000\n",
       "50%   1249.500000  46.000000\n",
       "75%   1374.250000  62.000000\n",
       "max   1499.000000  75.000000"
      ]
     },
     "metadata": {},
     "output_type": "display_data"
    },
    {
     "data": {
      "text/html": [
       "<div>\n",
       "<style scoped>\n",
       "    .dataframe tbody tr th:only-of-type {\n",
       "        vertical-align: middle;\n",
       "    }\n",
       "\n",
       "    .dataframe tbody tr th {\n",
       "        vertical-align: top;\n",
       "    }\n",
       "\n",
       "    .dataframe thead th {\n",
       "        text-align: right;\n",
       "    }\n",
       "</style>\n",
       "<table border=\"1\" class=\"dataframe\">\n",
       "  <thead>\n",
       "    <tr style=\"text-align: right;\">\n",
       "      <th></th>\n",
       "      <th>user_id</th>\n",
       "      <th>age</th>\n",
       "      <th>churn_date</th>\n",
       "      <th>city</th>\n",
       "      <th>first_name</th>\n",
       "      <th>last_name</th>\n",
       "      <th>reg_date</th>\n",
       "      <th>tariff</th>\n",
       "    </tr>\n",
       "  </thead>\n",
       "  <tbody>\n",
       "    <tr>\n",
       "      <th>0</th>\n",
       "      <td>1000</td>\n",
       "      <td>52</td>\n",
       "      <td>NaN</td>\n",
       "      <td>Краснодар</td>\n",
       "      <td>Рафаил</td>\n",
       "      <td>Верещагин</td>\n",
       "      <td>2018-05-25</td>\n",
       "      <td>ultra</td>\n",
       "    </tr>\n",
       "    <tr>\n",
       "      <th>1</th>\n",
       "      <td>1001</td>\n",
       "      <td>41</td>\n",
       "      <td>NaN</td>\n",
       "      <td>Москва</td>\n",
       "      <td>Иван</td>\n",
       "      <td>Ежов</td>\n",
       "      <td>2018-11-01</td>\n",
       "      <td>smart</td>\n",
       "    </tr>\n",
       "    <tr>\n",
       "      <th>2</th>\n",
       "      <td>1002</td>\n",
       "      <td>59</td>\n",
       "      <td>NaN</td>\n",
       "      <td>Стерлитамак</td>\n",
       "      <td>Евгений</td>\n",
       "      <td>Абрамович</td>\n",
       "      <td>2018-06-17</td>\n",
       "      <td>smart</td>\n",
       "    </tr>\n",
       "    <tr>\n",
       "      <th>3</th>\n",
       "      <td>1003</td>\n",
       "      <td>23</td>\n",
       "      <td>NaN</td>\n",
       "      <td>Москва</td>\n",
       "      <td>Белла</td>\n",
       "      <td>Белякова</td>\n",
       "      <td>2018-08-17</td>\n",
       "      <td>ultra</td>\n",
       "    </tr>\n",
       "    <tr>\n",
       "      <th>4</th>\n",
       "      <td>1004</td>\n",
       "      <td>68</td>\n",
       "      <td>NaN</td>\n",
       "      <td>Новокузнецк</td>\n",
       "      <td>Татьяна</td>\n",
       "      <td>Авдеенко</td>\n",
       "      <td>2018-05-14</td>\n",
       "      <td>ultra</td>\n",
       "    </tr>\n",
       "  </tbody>\n",
       "</table>\n",
       "</div>"
      ],
      "text/plain": [
       "   user_id  age churn_date         city first_name  last_name    reg_date  \\\n",
       "0     1000   52        NaN    Краснодар     Рафаил  Верещагин  2018-05-25   \n",
       "1     1001   41        NaN       Москва       Иван       Ежов  2018-11-01   \n",
       "2     1002   59        NaN  Стерлитамак    Евгений  Абрамович  2018-06-17   \n",
       "3     1003   23        NaN       Москва      Белла   Белякова  2018-08-17   \n",
       "4     1004   68        NaN  Новокузнецк    Татьяна   Авдеенко  2018-05-14   \n",
       "\n",
       "  tariff  \n",
       "0  ultra  \n",
       "1  smart  \n",
       "2  smart  \n",
       "3  ultra  \n",
       "4  ultra  "
      ]
     },
     "execution_count": 7,
     "metadata": {},
     "output_type": "execute_result"
    }
   ],
   "source": [
    "info(users)"
   ]
  },
  {
   "cell_type": "markdown",
   "metadata": {},
   "source": [
    "**Вывод**"
   ]
  },
  {
   "cell_type": "markdown",
   "metadata": {},
   "source": [
    "Изучив общую информацию по датасетам, отметим что пропусков в них нет, кроме пропусков в таблице Users в столбце `churn_date`, которые не стоит обрабатывать, так как они означают, что тариф еще действует на момент выгрузки данных. В датасете Internet появился столбец Unnamed: 0, который похож на задвоенную индексацию. Типы данных в некоторых столбцах, например с датами, необходимо исправить. Все это проведем на следующем шаге в предобработке данных."
   ]
  },
  {
   "cell_type": "markdown",
   "metadata": {},
   "source": [
    "## Шаг 2. Подготовим данные"
   ]
  },
  {
   "cell_type": "code",
   "execution_count": 8,
   "metadata": {},
   "outputs": [],
   "source": [
    "# прочитаем данные корректно, выбрав первый столбец как индекс\n",
    "internet = pd.read_csv('D:/Anna/Разное/Практикум Аналитик/Модуль 1/Спринт 4 Стат анализ/Проект 4/internet.csv', index_col=0)"
   ]
  },
  {
   "cell_type": "code",
   "execution_count": 9,
   "metadata": {},
   "outputs": [
    {
     "data": {
      "text/html": [
       "<div>\n",
       "<style scoped>\n",
       "    .dataframe tbody tr th:only-of-type {\n",
       "        vertical-align: middle;\n",
       "    }\n",
       "\n",
       "    .dataframe tbody tr th {\n",
       "        vertical-align: top;\n",
       "    }\n",
       "\n",
       "    .dataframe thead th {\n",
       "        text-align: right;\n",
       "    }\n",
       "</style>\n",
       "<table border=\"1\" class=\"dataframe\">\n",
       "  <thead>\n",
       "    <tr style=\"text-align: right;\">\n",
       "      <th></th>\n",
       "      <th>id</th>\n",
       "      <th>mb_used</th>\n",
       "      <th>session_date</th>\n",
       "      <th>user_id</th>\n",
       "    </tr>\n",
       "  </thead>\n",
       "  <tbody>\n",
       "    <tr>\n",
       "      <th>0</th>\n",
       "      <td>1000_0</td>\n",
       "      <td>112.950000</td>\n",
       "      <td>2018-11-25</td>\n",
       "      <td>1000</td>\n",
       "    </tr>\n",
       "    <tr>\n",
       "      <th>1</th>\n",
       "      <td>1000_1</td>\n",
       "      <td>1052.810000</td>\n",
       "      <td>2018-09-07</td>\n",
       "      <td>1000</td>\n",
       "    </tr>\n",
       "    <tr>\n",
       "      <th>2</th>\n",
       "      <td>1000_2</td>\n",
       "      <td>1197.260000</td>\n",
       "      <td>2018-06-25</td>\n",
       "      <td>1000</td>\n",
       "    </tr>\n",
       "    <tr>\n",
       "      <th>3</th>\n",
       "      <td>1000_3</td>\n",
       "      <td>550.270000</td>\n",
       "      <td>2018-08-22</td>\n",
       "      <td>1000</td>\n",
       "    </tr>\n",
       "    <tr>\n",
       "      <th>4</th>\n",
       "      <td>1000_4</td>\n",
       "      <td>302.560000</td>\n",
       "      <td>2018-09-24</td>\n",
       "      <td>1000</td>\n",
       "    </tr>\n",
       "  </tbody>\n",
       "</table>\n",
       "</div>"
      ],
      "text/plain": [
       "       id     mb_used session_date  user_id\n",
       "0  1000_0  112.950000   2018-11-25     1000\n",
       "1  1000_1 1052.810000   2018-09-07     1000\n",
       "2  1000_2 1197.260000   2018-06-25     1000\n",
       "3  1000_3  550.270000   2018-08-22     1000\n",
       "4  1000_4  302.560000   2018-09-24     1000"
      ]
     },
     "execution_count": 9,
     "metadata": {},
     "output_type": "execute_result"
    }
   ],
   "source": [
    "internet.head(5)"
   ]
  },
  {
   "cell_type": "markdown",
   "metadata": {},
   "source": [
    "Изменим тип данных в столбцах с датами на datetime64"
   ]
  },
  {
   "cell_type": "code",
   "execution_count": 10,
   "metadata": {},
   "outputs": [],
   "source": [
    "def datetime_type(df, column):\n",
    "    df[column] = pd.to_datetime(df[column], format='%Y-%m-%d')\n",
    "    df.info()"
   ]
  },
  {
   "cell_type": "code",
   "execution_count": 11,
   "metadata": {},
   "outputs": [
    {
     "name": "stdout",
     "output_type": "stream",
     "text": [
      "<class 'pandas.core.frame.DataFrame'>\n",
      "RangeIndex: 202607 entries, 0 to 202606\n",
      "Data columns (total 4 columns):\n",
      " #   Column     Non-Null Count   Dtype         \n",
      "---  ------     --------------   -----         \n",
      " 0   id         202607 non-null  object        \n",
      " 1   call_date  202607 non-null  datetime64[ns]\n",
      " 2   duration   202607 non-null  float64       \n",
      " 3   user_id    202607 non-null  int64         \n",
      "dtypes: datetime64[ns](1), float64(1), int64(1), object(1)\n",
      "memory usage: 6.2+ MB\n"
     ]
    }
   ],
   "source": [
    "datetime_type(calls, 'call_date')"
   ]
  },
  {
   "cell_type": "code",
   "execution_count": 12,
   "metadata": {},
   "outputs": [
    {
     "name": "stdout",
     "output_type": "stream",
     "text": [
      "<class 'pandas.core.frame.DataFrame'>\n",
      "Int64Index: 149396 entries, 0 to 149395\n",
      "Data columns (total 4 columns):\n",
      " #   Column        Non-Null Count   Dtype         \n",
      "---  ------        --------------   -----         \n",
      " 0   id            149396 non-null  object        \n",
      " 1   mb_used       149396 non-null  float64       \n",
      " 2   session_date  149396 non-null  datetime64[ns]\n",
      " 3   user_id       149396 non-null  int64         \n",
      "dtypes: datetime64[ns](1), float64(1), int64(1), object(1)\n",
      "memory usage: 5.7+ MB\n"
     ]
    }
   ],
   "source": [
    "datetime_type(internet, 'session_date')"
   ]
  },
  {
   "cell_type": "code",
   "execution_count": 13,
   "metadata": {},
   "outputs": [
    {
     "name": "stdout",
     "output_type": "stream",
     "text": [
      "<class 'pandas.core.frame.DataFrame'>\n",
      "RangeIndex: 123036 entries, 0 to 123035\n",
      "Data columns (total 3 columns):\n",
      " #   Column        Non-Null Count   Dtype         \n",
      "---  ------        --------------   -----         \n",
      " 0   id            123036 non-null  object        \n",
      " 1   message_date  123036 non-null  datetime64[ns]\n",
      " 2   user_id       123036 non-null  int64         \n",
      "dtypes: datetime64[ns](1), int64(1), object(1)\n",
      "memory usage: 2.8+ MB\n"
     ]
    }
   ],
   "source": [
    "datetime_type(messages, 'message_date')"
   ]
  },
  {
   "cell_type": "code",
   "execution_count": 14,
   "metadata": {},
   "outputs": [
    {
     "name": "stdout",
     "output_type": "stream",
     "text": [
      "<class 'pandas.core.frame.DataFrame'>\n",
      "RangeIndex: 500 entries, 0 to 499\n",
      "Data columns (total 8 columns):\n",
      " #   Column      Non-Null Count  Dtype         \n",
      "---  ------      --------------  -----         \n",
      " 0   user_id     500 non-null    int64         \n",
      " 1   age         500 non-null    int64         \n",
      " 2   churn_date  38 non-null     object        \n",
      " 3   city        500 non-null    object        \n",
      " 4   first_name  500 non-null    object        \n",
      " 5   last_name   500 non-null    object        \n",
      " 6   reg_date    500 non-null    datetime64[ns]\n",
      " 7   tariff      500 non-null    object        \n",
      "dtypes: datetime64[ns](1), int64(2), object(5)\n",
      "memory usage: 31.4+ KB\n"
     ]
    }
   ],
   "source": [
    "datetime_type(users, 'reg_date')"
   ]
  },
  {
   "cell_type": "code",
   "execution_count": 15,
   "metadata": {},
   "outputs": [
    {
     "name": "stdout",
     "output_type": "stream",
     "text": [
      "<class 'pandas.core.frame.DataFrame'>\n",
      "RangeIndex: 500 entries, 0 to 499\n",
      "Data columns (total 8 columns):\n",
      " #   Column      Non-Null Count  Dtype         \n",
      "---  ------      --------------  -----         \n",
      " 0   user_id     500 non-null    int64         \n",
      " 1   age         500 non-null    int64         \n",
      " 2   churn_date  38 non-null     datetime64[ns]\n",
      " 3   city        500 non-null    object        \n",
      " 4   first_name  500 non-null    object        \n",
      " 5   last_name   500 non-null    object        \n",
      " 6   reg_date    500 non-null    datetime64[ns]\n",
      " 7   tariff      500 non-null    object        \n",
      "dtypes: datetime64[ns](2), int64(2), object(4)\n",
      "memory usage: 31.4+ KB\n"
     ]
    }
   ],
   "source": [
    "datetime_type(users, 'churn_date')"
   ]
  },
  {
   "cell_type": "markdown",
   "metadata": {},
   "source": [
    "Посчитаем для каждого пользователя:\n",
    "\n",
    "•\tколичество сделанных звонков и израсходованных минут разговора по месяцам;\n",
    "\n",
    "•\tколичество отправленных сообщений по месяцам;\n",
    "\n",
    "•\tобъем израсходованного интернет-трафика по месяцам;\n",
    "\n",
    "•\tпомесячную выручку с каждого пользователя (вычтем бесплатный лимит из суммарного количества звонков, сообщений и интернет-трафика; остаток умножим на значение из тарифного плана; прибавим абонентскую плату, соответствующую тарифному плану).\n"
   ]
  },
  {
   "cell_type": "code",
   "execution_count": 16,
   "metadata": {},
   "outputs": [
    {
     "data": {
      "text/html": [
       "<div>\n",
       "<style scoped>\n",
       "    .dataframe tbody tr th:only-of-type {\n",
       "        vertical-align: middle;\n",
       "    }\n",
       "\n",
       "    .dataframe tbody tr th {\n",
       "        vertical-align: top;\n",
       "    }\n",
       "\n",
       "    .dataframe thead th {\n",
       "        text-align: right;\n",
       "    }\n",
       "</style>\n",
       "<table border=\"1\" class=\"dataframe\">\n",
       "  <thead>\n",
       "    <tr style=\"text-align: right;\">\n",
       "      <th></th>\n",
       "      <th>id</th>\n",
       "      <th>call_date</th>\n",
       "      <th>duration</th>\n",
       "      <th>user_id</th>\n",
       "      <th>month</th>\n",
       "    </tr>\n",
       "  </thead>\n",
       "  <tbody>\n",
       "    <tr>\n",
       "      <th>0</th>\n",
       "      <td>1000_0</td>\n",
       "      <td>2018-07-25</td>\n",
       "      <td>0.000000</td>\n",
       "      <td>1000</td>\n",
       "      <td>2018-07-01</td>\n",
       "    </tr>\n",
       "    <tr>\n",
       "      <th>1</th>\n",
       "      <td>1000_1</td>\n",
       "      <td>2018-08-17</td>\n",
       "      <td>0.000000</td>\n",
       "      <td>1000</td>\n",
       "      <td>2018-08-01</td>\n",
       "    </tr>\n",
       "    <tr>\n",
       "      <th>2</th>\n",
       "      <td>1000_2</td>\n",
       "      <td>2018-06-11</td>\n",
       "      <td>2.850000</td>\n",
       "      <td>1000</td>\n",
       "      <td>2018-06-01</td>\n",
       "    </tr>\n",
       "    <tr>\n",
       "      <th>3</th>\n",
       "      <td>1000_3</td>\n",
       "      <td>2018-09-21</td>\n",
       "      <td>13.800000</td>\n",
       "      <td>1000</td>\n",
       "      <td>2018-09-01</td>\n",
       "    </tr>\n",
       "    <tr>\n",
       "      <th>4</th>\n",
       "      <td>1000_4</td>\n",
       "      <td>2018-12-15</td>\n",
       "      <td>5.180000</td>\n",
       "      <td>1000</td>\n",
       "      <td>2018-12-01</td>\n",
       "    </tr>\n",
       "  </tbody>\n",
       "</table>\n",
       "</div>"
      ],
      "text/plain": [
       "       id  call_date  duration  user_id      month\n",
       "0  1000_0 2018-07-25  0.000000     1000 2018-07-01\n",
       "1  1000_1 2018-08-17  0.000000     1000 2018-08-01\n",
       "2  1000_2 2018-06-11  2.850000     1000 2018-06-01\n",
       "3  1000_3 2018-09-21 13.800000     1000 2018-09-01\n",
       "4  1000_4 2018-12-15  5.180000     1000 2018-12-01"
      ]
     },
     "execution_count": 16,
     "metadata": {},
     "output_type": "execute_result"
    }
   ],
   "source": [
    "# создадим в таблице Calls столбец с месяцем, когда был совершен звонок\n",
    "calls['month'] = calls['call_date'].astype('datetime64[M]')\n",
    "calls.head(5)"
   ]
  },
  {
   "cell_type": "code",
   "execution_count": 17,
   "metadata": {},
   "outputs": [
    {
     "data": {
      "text/html": [
       "<div>\n",
       "<style scoped>\n",
       "    .dataframe tbody tr th:only-of-type {\n",
       "        vertical-align: middle;\n",
       "    }\n",
       "\n",
       "    .dataframe tbody tr th {\n",
       "        vertical-align: top;\n",
       "    }\n",
       "\n",
       "    .dataframe thead th {\n",
       "        text-align: right;\n",
       "    }\n",
       "</style>\n",
       "<table border=\"1\" class=\"dataframe\">\n",
       "  <thead>\n",
       "    <tr style=\"text-align: right;\">\n",
       "      <th></th>\n",
       "      <th>id</th>\n",
       "      <th>call_date</th>\n",
       "      <th>duration</th>\n",
       "      <th>user_id</th>\n",
       "      <th>month</th>\n",
       "    </tr>\n",
       "  </thead>\n",
       "  <tbody>\n",
       "    <tr>\n",
       "      <th>0</th>\n",
       "      <td>1000_0</td>\n",
       "      <td>2018-07-25</td>\n",
       "      <td>0.000000</td>\n",
       "      <td>1000</td>\n",
       "      <td>2018-07-01</td>\n",
       "    </tr>\n",
       "    <tr>\n",
       "      <th>1</th>\n",
       "      <td>1000_1</td>\n",
       "      <td>2018-08-17</td>\n",
       "      <td>0.000000</td>\n",
       "      <td>1000</td>\n",
       "      <td>2018-08-01</td>\n",
       "    </tr>\n",
       "    <tr>\n",
       "      <th>2</th>\n",
       "      <td>1000_2</td>\n",
       "      <td>2018-06-11</td>\n",
       "      <td>3.000000</td>\n",
       "      <td>1000</td>\n",
       "      <td>2018-06-01</td>\n",
       "    </tr>\n",
       "    <tr>\n",
       "      <th>3</th>\n",
       "      <td>1000_3</td>\n",
       "      <td>2018-09-21</td>\n",
       "      <td>14.000000</td>\n",
       "      <td>1000</td>\n",
       "      <td>2018-09-01</td>\n",
       "    </tr>\n",
       "    <tr>\n",
       "      <th>4</th>\n",
       "      <td>1000_4</td>\n",
       "      <td>2018-12-15</td>\n",
       "      <td>6.000000</td>\n",
       "      <td>1000</td>\n",
       "      <td>2018-12-01</td>\n",
       "    </tr>\n",
       "  </tbody>\n",
       "</table>\n",
       "</div>"
      ],
      "text/plain": [
       "       id  call_date  duration  user_id      month\n",
       "0  1000_0 2018-07-25  0.000000     1000 2018-07-01\n",
       "1  1000_1 2018-08-17  0.000000     1000 2018-08-01\n",
       "2  1000_2 2018-06-11  3.000000     1000 2018-06-01\n",
       "3  1000_3 2018-09-21 14.000000     1000 2018-09-01\n",
       "4  1000_4 2018-12-15  6.000000     1000 2018-12-01"
      ]
     },
     "execution_count": 17,
     "metadata": {},
     "output_type": "execute_result"
    }
   ],
   "source": [
    "# округлим время разговора с секундами до минут\n",
    "calls['duration'] = np.ceil(calls['duration'])\n",
    "calls.head()"
   ]
  },
  {
   "cell_type": "code",
   "execution_count": 18,
   "metadata": {},
   "outputs": [
    {
     "data": {
      "text/html": [
       "<div>\n",
       "<style scoped>\n",
       "    .dataframe tbody tr th:only-of-type {\n",
       "        vertical-align: middle;\n",
       "    }\n",
       "\n",
       "    .dataframe tbody tr th {\n",
       "        vertical-align: top;\n",
       "    }\n",
       "\n",
       "    .dataframe thead th {\n",
       "        text-align: right;\n",
       "    }\n",
       "</style>\n",
       "<table border=\"1\" class=\"dataframe\">\n",
       "  <thead>\n",
       "    <tr style=\"text-align: right;\">\n",
       "      <th></th>\n",
       "      <th></th>\n",
       "      <th>calls_count</th>\n",
       "      <th>total_min</th>\n",
       "    </tr>\n",
       "    <tr>\n",
       "      <th>user_id</th>\n",
       "      <th>month</th>\n",
       "      <th></th>\n",
       "      <th></th>\n",
       "    </tr>\n",
       "  </thead>\n",
       "  <tbody>\n",
       "    <tr>\n",
       "      <th rowspan=\"8\" valign=\"top\">1000</th>\n",
       "      <th>2018-05-01</th>\n",
       "      <td>22</td>\n",
       "      <td>159.000000</td>\n",
       "    </tr>\n",
       "    <tr>\n",
       "      <th>2018-06-01</th>\n",
       "      <td>43</td>\n",
       "      <td>172.000000</td>\n",
       "    </tr>\n",
       "    <tr>\n",
       "      <th>2018-07-01</th>\n",
       "      <td>47</td>\n",
       "      <td>340.000000</td>\n",
       "    </tr>\n",
       "    <tr>\n",
       "      <th>2018-08-01</th>\n",
       "      <td>52</td>\n",
       "      <td>408.000000</td>\n",
       "    </tr>\n",
       "    <tr>\n",
       "      <th>2018-09-01</th>\n",
       "      <td>58</td>\n",
       "      <td>466.000000</td>\n",
       "    </tr>\n",
       "    <tr>\n",
       "      <th>2018-10-01</th>\n",
       "      <td>57</td>\n",
       "      <td>350.000000</td>\n",
       "    </tr>\n",
       "    <tr>\n",
       "      <th>2018-11-01</th>\n",
       "      <td>43</td>\n",
       "      <td>338.000000</td>\n",
       "    </tr>\n",
       "    <tr>\n",
       "      <th>2018-12-01</th>\n",
       "      <td>46</td>\n",
       "      <td>333.000000</td>\n",
       "    </tr>\n",
       "    <tr>\n",
       "      <th rowspan=\"2\" valign=\"top\">1001</th>\n",
       "      <th>2018-11-01</th>\n",
       "      <td>59</td>\n",
       "      <td>430.000000</td>\n",
       "    </tr>\n",
       "    <tr>\n",
       "      <th>2018-12-01</th>\n",
       "      <td>63</td>\n",
       "      <td>414.000000</td>\n",
       "    </tr>\n",
       "  </tbody>\n",
       "</table>\n",
       "</div>"
      ],
      "text/plain": [
       "                    calls_count  total_min\n",
       "user_id month                             \n",
       "1000    2018-05-01           22 159.000000\n",
       "        2018-06-01           43 172.000000\n",
       "        2018-07-01           47 340.000000\n",
       "        2018-08-01           52 408.000000\n",
       "        2018-09-01           58 466.000000\n",
       "        2018-10-01           57 350.000000\n",
       "        2018-11-01           43 338.000000\n",
       "        2018-12-01           46 333.000000\n",
       "1001    2018-11-01           59 430.000000\n",
       "        2018-12-01           63 414.000000"
      ]
     },
     "execution_count": 18,
     "metadata": {},
     "output_type": "execute_result"
    }
   ],
   "source": [
    "# построим сводную таблицу сгруппировав данные из таблицы Calls по столбцам user_id и month\n",
    "# и посчитем количество сделанных звонков и израсходованных минут разговора по месяцам\n",
    "data = calls.pivot_table(index=['user_id','month'], values='duration', aggfunc=['count', 'sum'])\n",
    "# переименуем столбцы в сводной таблице\n",
    "data.columns = ['calls_count', 'total_min']\n",
    "data.head(10)"
   ]
  },
  {
   "cell_type": "code",
   "execution_count": 19,
   "metadata": {},
   "outputs": [
    {
     "data": {
      "text/html": [
       "<div>\n",
       "<style scoped>\n",
       "    .dataframe tbody tr th:only-of-type {\n",
       "        vertical-align: middle;\n",
       "    }\n",
       "\n",
       "    .dataframe tbody tr th {\n",
       "        vertical-align: top;\n",
       "    }\n",
       "\n",
       "    .dataframe thead th {\n",
       "        text-align: right;\n",
       "    }\n",
       "</style>\n",
       "<table border=\"1\" class=\"dataframe\">\n",
       "  <thead>\n",
       "    <tr style=\"text-align: right;\">\n",
       "      <th></th>\n",
       "      <th>id</th>\n",
       "      <th>message_date</th>\n",
       "      <th>user_id</th>\n",
       "      <th>month</th>\n",
       "    </tr>\n",
       "  </thead>\n",
       "  <tbody>\n",
       "    <tr>\n",
       "      <th>0</th>\n",
       "      <td>1000_0</td>\n",
       "      <td>2018-06-27</td>\n",
       "      <td>1000</td>\n",
       "      <td>2018-06-01</td>\n",
       "    </tr>\n",
       "    <tr>\n",
       "      <th>1</th>\n",
       "      <td>1000_1</td>\n",
       "      <td>2018-10-08</td>\n",
       "      <td>1000</td>\n",
       "      <td>2018-10-01</td>\n",
       "    </tr>\n",
       "    <tr>\n",
       "      <th>2</th>\n",
       "      <td>1000_2</td>\n",
       "      <td>2018-08-04</td>\n",
       "      <td>1000</td>\n",
       "      <td>2018-08-01</td>\n",
       "    </tr>\n",
       "    <tr>\n",
       "      <th>3</th>\n",
       "      <td>1000_3</td>\n",
       "      <td>2018-06-16</td>\n",
       "      <td>1000</td>\n",
       "      <td>2018-06-01</td>\n",
       "    </tr>\n",
       "    <tr>\n",
       "      <th>4</th>\n",
       "      <td>1000_4</td>\n",
       "      <td>2018-12-05</td>\n",
       "      <td>1000</td>\n",
       "      <td>2018-12-01</td>\n",
       "    </tr>\n",
       "  </tbody>\n",
       "</table>\n",
       "</div>"
      ],
      "text/plain": [
       "       id message_date  user_id      month\n",
       "0  1000_0   2018-06-27     1000 2018-06-01\n",
       "1  1000_1   2018-10-08     1000 2018-10-01\n",
       "2  1000_2   2018-08-04     1000 2018-08-01\n",
       "3  1000_3   2018-06-16     1000 2018-06-01\n",
       "4  1000_4   2018-12-05     1000 2018-12-01"
      ]
     },
     "execution_count": 19,
     "metadata": {},
     "output_type": "execute_result"
    }
   ],
   "source": [
    "# создадим в таблице Messages столбец с месяцем из даты сообщения\n",
    "messages['month'] = messages['message_date'].astype('datetime64[M]')\n",
    "messages.head()"
   ]
  },
  {
   "cell_type": "code",
   "execution_count": 20,
   "metadata": {},
   "outputs": [
    {
     "data": {
      "text/html": [
       "<div>\n",
       "<style scoped>\n",
       "    .dataframe tbody tr th:only-of-type {\n",
       "        vertical-align: middle;\n",
       "    }\n",
       "\n",
       "    .dataframe tbody tr th {\n",
       "        vertical-align: top;\n",
       "    }\n",
       "\n",
       "    .dataframe thead th {\n",
       "        text-align: right;\n",
       "    }\n",
       "</style>\n",
       "<table border=\"1\" class=\"dataframe\">\n",
       "  <thead>\n",
       "    <tr style=\"text-align: right;\">\n",
       "      <th></th>\n",
       "      <th></th>\n",
       "      <th>messages_count</th>\n",
       "    </tr>\n",
       "    <tr>\n",
       "      <th>user_id</th>\n",
       "      <th>month</th>\n",
       "      <th></th>\n",
       "    </tr>\n",
       "  </thead>\n",
       "  <tbody>\n",
       "    <tr>\n",
       "      <th rowspan=\"8\" valign=\"top\">1000</th>\n",
       "      <th>2018-05-01</th>\n",
       "      <td>22</td>\n",
       "    </tr>\n",
       "    <tr>\n",
       "      <th>2018-06-01</th>\n",
       "      <td>60</td>\n",
       "    </tr>\n",
       "    <tr>\n",
       "      <th>2018-07-01</th>\n",
       "      <td>75</td>\n",
       "    </tr>\n",
       "    <tr>\n",
       "      <th>2018-08-01</th>\n",
       "      <td>81</td>\n",
       "    </tr>\n",
       "    <tr>\n",
       "      <th>2018-09-01</th>\n",
       "      <td>57</td>\n",
       "    </tr>\n",
       "    <tr>\n",
       "      <th>2018-10-01</th>\n",
       "      <td>73</td>\n",
       "    </tr>\n",
       "    <tr>\n",
       "      <th>2018-11-01</th>\n",
       "      <td>58</td>\n",
       "    </tr>\n",
       "    <tr>\n",
       "      <th>2018-12-01</th>\n",
       "      <td>70</td>\n",
       "    </tr>\n",
       "    <tr>\n",
       "      <th rowspan=\"2\" valign=\"top\">1002</th>\n",
       "      <th>2018-06-01</th>\n",
       "      <td>4</td>\n",
       "    </tr>\n",
       "    <tr>\n",
       "      <th>2018-07-01</th>\n",
       "      <td>11</td>\n",
       "    </tr>\n",
       "  </tbody>\n",
       "</table>\n",
       "</div>"
      ],
      "text/plain": [
       "                    messages_count\n",
       "user_id month                     \n",
       "1000    2018-05-01              22\n",
       "        2018-06-01              60\n",
       "        2018-07-01              75\n",
       "        2018-08-01              81\n",
       "        2018-09-01              57\n",
       "        2018-10-01              73\n",
       "        2018-11-01              58\n",
       "        2018-12-01              70\n",
       "1002    2018-06-01               4\n",
       "        2018-07-01              11"
      ]
     },
     "execution_count": 20,
     "metadata": {},
     "output_type": "execute_result"
    }
   ],
   "source": [
    "# построим сводную таблицу сгруппировав данные из таблицы Messages по столбцам user_id и month\n",
    "# и посчитаем количество отправленных сообщений по месяцам\n",
    "messages_count = messages.pivot_table(index=['user_id','month'], values='message_date', aggfunc='count')\n",
    "messages_count.columns = ['messages_count']\n",
    "messages_count.head(10)"
   ]
  },
  {
   "cell_type": "code",
   "execution_count": 21,
   "metadata": {},
   "outputs": [
    {
     "data": {
      "text/html": [
       "<div>\n",
       "<style scoped>\n",
       "    .dataframe tbody tr th:only-of-type {\n",
       "        vertical-align: middle;\n",
       "    }\n",
       "\n",
       "    .dataframe tbody tr th {\n",
       "        vertical-align: top;\n",
       "    }\n",
       "\n",
       "    .dataframe thead th {\n",
       "        text-align: right;\n",
       "    }\n",
       "</style>\n",
       "<table border=\"1\" class=\"dataframe\">\n",
       "  <thead>\n",
       "    <tr style=\"text-align: right;\">\n",
       "      <th></th>\n",
       "      <th></th>\n",
       "      <th>calls_count</th>\n",
       "      <th>total_min</th>\n",
       "      <th>messages_count</th>\n",
       "    </tr>\n",
       "    <tr>\n",
       "      <th>user_id</th>\n",
       "      <th>month</th>\n",
       "      <th></th>\n",
       "      <th></th>\n",
       "      <th></th>\n",
       "    </tr>\n",
       "  </thead>\n",
       "  <tbody>\n",
       "    <tr>\n",
       "      <th rowspan=\"8\" valign=\"top\">1000</th>\n",
       "      <th>2018-05-01</th>\n",
       "      <td>22.000000</td>\n",
       "      <td>159.000000</td>\n",
       "      <td>22.000000</td>\n",
       "    </tr>\n",
       "    <tr>\n",
       "      <th>2018-06-01</th>\n",
       "      <td>43.000000</td>\n",
       "      <td>172.000000</td>\n",
       "      <td>60.000000</td>\n",
       "    </tr>\n",
       "    <tr>\n",
       "      <th>2018-07-01</th>\n",
       "      <td>47.000000</td>\n",
       "      <td>340.000000</td>\n",
       "      <td>75.000000</td>\n",
       "    </tr>\n",
       "    <tr>\n",
       "      <th>2018-08-01</th>\n",
       "      <td>52.000000</td>\n",
       "      <td>408.000000</td>\n",
       "      <td>81.000000</td>\n",
       "    </tr>\n",
       "    <tr>\n",
       "      <th>2018-09-01</th>\n",
       "      <td>58.000000</td>\n",
       "      <td>466.000000</td>\n",
       "      <td>57.000000</td>\n",
       "    </tr>\n",
       "    <tr>\n",
       "      <th>2018-10-01</th>\n",
       "      <td>57.000000</td>\n",
       "      <td>350.000000</td>\n",
       "      <td>73.000000</td>\n",
       "    </tr>\n",
       "    <tr>\n",
       "      <th>2018-11-01</th>\n",
       "      <td>43.000000</td>\n",
       "      <td>338.000000</td>\n",
       "      <td>58.000000</td>\n",
       "    </tr>\n",
       "    <tr>\n",
       "      <th>2018-12-01</th>\n",
       "      <td>46.000000</td>\n",
       "      <td>333.000000</td>\n",
       "      <td>70.000000</td>\n",
       "    </tr>\n",
       "    <tr>\n",
       "      <th rowspan=\"2\" valign=\"top\">1001</th>\n",
       "      <th>2018-11-01</th>\n",
       "      <td>59.000000</td>\n",
       "      <td>430.000000</td>\n",
       "      <td>NaN</td>\n",
       "    </tr>\n",
       "    <tr>\n",
       "      <th>2018-12-01</th>\n",
       "      <td>63.000000</td>\n",
       "      <td>414.000000</td>\n",
       "      <td>NaN</td>\n",
       "    </tr>\n",
       "    <tr>\n",
       "      <th rowspan=\"5\" valign=\"top\">1002</th>\n",
       "      <th>2018-06-01</th>\n",
       "      <td>15.000000</td>\n",
       "      <td>117.000000</td>\n",
       "      <td>4.000000</td>\n",
       "    </tr>\n",
       "    <tr>\n",
       "      <th>2018-07-01</th>\n",
       "      <td>26.000000</td>\n",
       "      <td>214.000000</td>\n",
       "      <td>11.000000</td>\n",
       "    </tr>\n",
       "    <tr>\n",
       "      <th>2018-08-01</th>\n",
       "      <td>42.000000</td>\n",
       "      <td>289.000000</td>\n",
       "      <td>13.000000</td>\n",
       "    </tr>\n",
       "    <tr>\n",
       "      <th>2018-09-01</th>\n",
       "      <td>36.000000</td>\n",
       "      <td>206.000000</td>\n",
       "      <td>4.000000</td>\n",
       "    </tr>\n",
       "    <tr>\n",
       "      <th>2018-10-01</th>\n",
       "      <td>33.000000</td>\n",
       "      <td>212.000000</td>\n",
       "      <td>10.000000</td>\n",
       "    </tr>\n",
       "  </tbody>\n",
       "</table>\n",
       "</div>"
      ],
      "text/plain": [
       "                    calls_count  total_min  messages_count\n",
       "user_id month                                             \n",
       "1000    2018-05-01    22.000000 159.000000       22.000000\n",
       "        2018-06-01    43.000000 172.000000       60.000000\n",
       "        2018-07-01    47.000000 340.000000       75.000000\n",
       "        2018-08-01    52.000000 408.000000       81.000000\n",
       "        2018-09-01    58.000000 466.000000       57.000000\n",
       "        2018-10-01    57.000000 350.000000       73.000000\n",
       "        2018-11-01    43.000000 338.000000       58.000000\n",
       "        2018-12-01    46.000000 333.000000       70.000000\n",
       "1001    2018-11-01    59.000000 430.000000             NaN\n",
       "        2018-12-01    63.000000 414.000000             NaN\n",
       "1002    2018-06-01    15.000000 117.000000        4.000000\n",
       "        2018-07-01    26.000000 214.000000       11.000000\n",
       "        2018-08-01    42.000000 289.000000       13.000000\n",
       "        2018-09-01    36.000000 206.000000        4.000000\n",
       "        2018-10-01    33.000000 212.000000       10.000000"
      ]
     },
     "execution_count": 21,
     "metadata": {},
     "output_type": "execute_result"
    }
   ],
   "source": [
    "# добавим данные по количеству сообщений в датасет с количеством звонков\n",
    "data = data.merge(messages_count, on=['user_id','month'], how='outer')\n",
    "data.head(15)"
   ]
  },
  {
   "cell_type": "code",
   "execution_count": 22,
   "metadata": {
    "scrolled": true
   },
   "outputs": [
    {
     "data": {
      "text/html": [
       "<div>\n",
       "<style scoped>\n",
       "    .dataframe tbody tr th:only-of-type {\n",
       "        vertical-align: middle;\n",
       "    }\n",
       "\n",
       "    .dataframe tbody tr th {\n",
       "        vertical-align: top;\n",
       "    }\n",
       "\n",
       "    .dataframe thead th {\n",
       "        text-align: right;\n",
       "    }\n",
       "</style>\n",
       "<table border=\"1\" class=\"dataframe\">\n",
       "  <thead>\n",
       "    <tr style=\"text-align: right;\">\n",
       "      <th></th>\n",
       "      <th>id</th>\n",
       "      <th>mb_used</th>\n",
       "      <th>session_date</th>\n",
       "      <th>user_id</th>\n",
       "      <th>month</th>\n",
       "    </tr>\n",
       "  </thead>\n",
       "  <tbody>\n",
       "    <tr>\n",
       "      <th>0</th>\n",
       "      <td>1000_0</td>\n",
       "      <td>112.950000</td>\n",
       "      <td>2018-11-25</td>\n",
       "      <td>1000</td>\n",
       "      <td>2018-11-01</td>\n",
       "    </tr>\n",
       "    <tr>\n",
       "      <th>1</th>\n",
       "      <td>1000_1</td>\n",
       "      <td>1052.810000</td>\n",
       "      <td>2018-09-07</td>\n",
       "      <td>1000</td>\n",
       "      <td>2018-09-01</td>\n",
       "    </tr>\n",
       "    <tr>\n",
       "      <th>2</th>\n",
       "      <td>1000_2</td>\n",
       "      <td>1197.260000</td>\n",
       "      <td>2018-06-25</td>\n",
       "      <td>1000</td>\n",
       "      <td>2018-06-01</td>\n",
       "    </tr>\n",
       "    <tr>\n",
       "      <th>3</th>\n",
       "      <td>1000_3</td>\n",
       "      <td>550.270000</td>\n",
       "      <td>2018-08-22</td>\n",
       "      <td>1000</td>\n",
       "      <td>2018-08-01</td>\n",
       "    </tr>\n",
       "    <tr>\n",
       "      <th>4</th>\n",
       "      <td>1000_4</td>\n",
       "      <td>302.560000</td>\n",
       "      <td>2018-09-24</td>\n",
       "      <td>1000</td>\n",
       "      <td>2018-09-01</td>\n",
       "    </tr>\n",
       "  </tbody>\n",
       "</table>\n",
       "</div>"
      ],
      "text/plain": [
       "       id     mb_used session_date  user_id      month\n",
       "0  1000_0  112.950000   2018-11-25     1000 2018-11-01\n",
       "1  1000_1 1052.810000   2018-09-07     1000 2018-09-01\n",
       "2  1000_2 1197.260000   2018-06-25     1000 2018-06-01\n",
       "3  1000_3  550.270000   2018-08-22     1000 2018-08-01\n",
       "4  1000_4  302.560000   2018-09-24     1000 2018-09-01"
      ]
     },
     "execution_count": 22,
     "metadata": {},
     "output_type": "execute_result"
    }
   ],
   "source": [
    "# создадим в таблице internet столбец с месяцем из даты интернет-сессии\n",
    "internet['month'] = internet['session_date'].astype('datetime64[M]')\n",
    "internet.head()"
   ]
  },
  {
   "cell_type": "code",
   "execution_count": 23,
   "metadata": {},
   "outputs": [
    {
     "data": {
      "text/html": [
       "<div>\n",
       "<style scoped>\n",
       "    .dataframe tbody tr th:only-of-type {\n",
       "        vertical-align: middle;\n",
       "    }\n",
       "\n",
       "    .dataframe tbody tr th {\n",
       "        vertical-align: top;\n",
       "    }\n",
       "\n",
       "    .dataframe thead th {\n",
       "        text-align: right;\n",
       "    }\n",
       "</style>\n",
       "<table border=\"1\" class=\"dataframe\">\n",
       "  <thead>\n",
       "    <tr style=\"text-align: right;\">\n",
       "      <th></th>\n",
       "      <th></th>\n",
       "      <th>total_mb_used</th>\n",
       "    </tr>\n",
       "    <tr>\n",
       "      <th>user_id</th>\n",
       "      <th>month</th>\n",
       "      <th></th>\n",
       "    </tr>\n",
       "  </thead>\n",
       "  <tbody>\n",
       "    <tr>\n",
       "      <th rowspan=\"5\" valign=\"top\">1000</th>\n",
       "      <th>2018-05-01</th>\n",
       "      <td>2253.490000</td>\n",
       "    </tr>\n",
       "    <tr>\n",
       "      <th>2018-06-01</th>\n",
       "      <td>23233.770000</td>\n",
       "    </tr>\n",
       "    <tr>\n",
       "      <th>2018-07-01</th>\n",
       "      <td>14003.640000</td>\n",
       "    </tr>\n",
       "    <tr>\n",
       "      <th>2018-08-01</th>\n",
       "      <td>14055.930000</td>\n",
       "    </tr>\n",
       "    <tr>\n",
       "      <th>2018-09-01</th>\n",
       "      <td>14568.910000</td>\n",
       "    </tr>\n",
       "  </tbody>\n",
       "</table>\n",
       "</div>"
      ],
      "text/plain": [
       "                    total_mb_used\n",
       "user_id month                    \n",
       "1000    2018-05-01    2253.490000\n",
       "        2018-06-01   23233.770000\n",
       "        2018-07-01   14003.640000\n",
       "        2018-08-01   14055.930000\n",
       "        2018-09-01   14568.910000"
      ]
     },
     "execution_count": 23,
     "metadata": {},
     "output_type": "execute_result"
    }
   ],
   "source": [
    "# построим сводную таблицу сгруппировав данные из таблицы Internet по столбцам user_id и month\n",
    "# и посчитаем объем израсходованного интернет-трафика по месяцам\n",
    "internet_count = internet.pivot_table(index=['user_id','month'], values='mb_used', aggfunc='sum')\n",
    "internet_count.columns = ['total_mb_used']\n",
    "internet_count.head()"
   ]
  },
  {
   "cell_type": "code",
   "execution_count": 24,
   "metadata": {},
   "outputs": [
    {
     "data": {
      "text/html": [
       "<div>\n",
       "<style scoped>\n",
       "    .dataframe tbody tr th:only-of-type {\n",
       "        vertical-align: middle;\n",
       "    }\n",
       "\n",
       "    .dataframe tbody tr th {\n",
       "        vertical-align: top;\n",
       "    }\n",
       "\n",
       "    .dataframe thead th {\n",
       "        text-align: right;\n",
       "    }\n",
       "</style>\n",
       "<table border=\"1\" class=\"dataframe\">\n",
       "  <thead>\n",
       "    <tr style=\"text-align: right;\">\n",
       "      <th></th>\n",
       "      <th></th>\n",
       "      <th>calls_count</th>\n",
       "      <th>total_min</th>\n",
       "      <th>messages_count</th>\n",
       "      <th>total_mb_used</th>\n",
       "    </tr>\n",
       "    <tr>\n",
       "      <th>user_id</th>\n",
       "      <th>month</th>\n",
       "      <th></th>\n",
       "      <th></th>\n",
       "      <th></th>\n",
       "      <th></th>\n",
       "    </tr>\n",
       "  </thead>\n",
       "  <tbody>\n",
       "    <tr>\n",
       "      <th rowspan=\"5\" valign=\"top\">1000</th>\n",
       "      <th>2018-05-01</th>\n",
       "      <td>22.000000</td>\n",
       "      <td>159.000000</td>\n",
       "      <td>22.000000</td>\n",
       "      <td>2253.490000</td>\n",
       "    </tr>\n",
       "    <tr>\n",
       "      <th>2018-06-01</th>\n",
       "      <td>43.000000</td>\n",
       "      <td>172.000000</td>\n",
       "      <td>60.000000</td>\n",
       "      <td>23233.770000</td>\n",
       "    </tr>\n",
       "    <tr>\n",
       "      <th>2018-07-01</th>\n",
       "      <td>47.000000</td>\n",
       "      <td>340.000000</td>\n",
       "      <td>75.000000</td>\n",
       "      <td>14003.640000</td>\n",
       "    </tr>\n",
       "    <tr>\n",
       "      <th>2018-08-01</th>\n",
       "      <td>52.000000</td>\n",
       "      <td>408.000000</td>\n",
       "      <td>81.000000</td>\n",
       "      <td>14055.930000</td>\n",
       "    </tr>\n",
       "    <tr>\n",
       "      <th>2018-09-01</th>\n",
       "      <td>58.000000</td>\n",
       "      <td>466.000000</td>\n",
       "      <td>57.000000</td>\n",
       "      <td>14568.910000</td>\n",
       "    </tr>\n",
       "  </tbody>\n",
       "</table>\n",
       "</div>"
      ],
      "text/plain": [
       "                    calls_count  total_min  messages_count  total_mb_used\n",
       "user_id month                                                            \n",
       "1000    2018-05-01    22.000000 159.000000       22.000000    2253.490000\n",
       "        2018-06-01    43.000000 172.000000       60.000000   23233.770000\n",
       "        2018-07-01    47.000000 340.000000       75.000000   14003.640000\n",
       "        2018-08-01    52.000000 408.000000       81.000000   14055.930000\n",
       "        2018-09-01    58.000000 466.000000       57.000000   14568.910000"
      ]
     },
     "execution_count": 24,
     "metadata": {},
     "output_type": "execute_result"
    }
   ],
   "source": [
    "# объединим таблицы data и internet_count, чтобы добавить объем израсходованного интернет-трафика в основную таблицу\n",
    "data = data.merge(internet_count, on=['user_id','month'], how='outer')\n",
    "data.head()"
   ]
  },
  {
   "cell_type": "code",
   "execution_count": 25,
   "metadata": {},
   "outputs": [
    {
     "data": {
      "text/html": [
       "<div>\n",
       "<style scoped>\n",
       "    .dataframe tbody tr th:only-of-type {\n",
       "        vertical-align: middle;\n",
       "    }\n",
       "\n",
       "    .dataframe tbody tr th {\n",
       "        vertical-align: top;\n",
       "    }\n",
       "\n",
       "    .dataframe thead th {\n",
       "        text-align: right;\n",
       "    }\n",
       "</style>\n",
       "<table border=\"1\" class=\"dataframe\">\n",
       "  <thead>\n",
       "    <tr style=\"text-align: right;\">\n",
       "      <th></th>\n",
       "      <th>user_id</th>\n",
       "      <th>month</th>\n",
       "      <th>calls_count</th>\n",
       "      <th>total_min</th>\n",
       "      <th>messages_count</th>\n",
       "      <th>total_mb_used</th>\n",
       "    </tr>\n",
       "  </thead>\n",
       "  <tbody>\n",
       "    <tr>\n",
       "      <th>0</th>\n",
       "      <td>1000</td>\n",
       "      <td>2018-05-01</td>\n",
       "      <td>22.000000</td>\n",
       "      <td>159.000000</td>\n",
       "      <td>22.000000</td>\n",
       "      <td>2253.490000</td>\n",
       "    </tr>\n",
       "    <tr>\n",
       "      <th>1</th>\n",
       "      <td>1000</td>\n",
       "      <td>2018-06-01</td>\n",
       "      <td>43.000000</td>\n",
       "      <td>172.000000</td>\n",
       "      <td>60.000000</td>\n",
       "      <td>23233.770000</td>\n",
       "    </tr>\n",
       "    <tr>\n",
       "      <th>2</th>\n",
       "      <td>1000</td>\n",
       "      <td>2018-07-01</td>\n",
       "      <td>47.000000</td>\n",
       "      <td>340.000000</td>\n",
       "      <td>75.000000</td>\n",
       "      <td>14003.640000</td>\n",
       "    </tr>\n",
       "    <tr>\n",
       "      <th>3</th>\n",
       "      <td>1000</td>\n",
       "      <td>2018-08-01</td>\n",
       "      <td>52.000000</td>\n",
       "      <td>408.000000</td>\n",
       "      <td>81.000000</td>\n",
       "      <td>14055.930000</td>\n",
       "    </tr>\n",
       "    <tr>\n",
       "      <th>4</th>\n",
       "      <td>1000</td>\n",
       "      <td>2018-09-01</td>\n",
       "      <td>58.000000</td>\n",
       "      <td>466.000000</td>\n",
       "      <td>57.000000</td>\n",
       "      <td>14568.910000</td>\n",
       "    </tr>\n",
       "    <tr>\n",
       "      <th>5</th>\n",
       "      <td>1000</td>\n",
       "      <td>2018-10-01</td>\n",
       "      <td>57.000000</td>\n",
       "      <td>350.000000</td>\n",
       "      <td>73.000000</td>\n",
       "      <td>14702.490000</td>\n",
       "    </tr>\n",
       "    <tr>\n",
       "      <th>6</th>\n",
       "      <td>1000</td>\n",
       "      <td>2018-11-01</td>\n",
       "      <td>43.000000</td>\n",
       "      <td>338.000000</td>\n",
       "      <td>58.000000</td>\n",
       "      <td>14756.470000</td>\n",
       "    </tr>\n",
       "    <tr>\n",
       "      <th>7</th>\n",
       "      <td>1000</td>\n",
       "      <td>2018-12-01</td>\n",
       "      <td>46.000000</td>\n",
       "      <td>333.000000</td>\n",
       "      <td>70.000000</td>\n",
       "      <td>9817.610000</td>\n",
       "    </tr>\n",
       "    <tr>\n",
       "      <th>8</th>\n",
       "      <td>1001</td>\n",
       "      <td>2018-11-01</td>\n",
       "      <td>59.000000</td>\n",
       "      <td>430.000000</td>\n",
       "      <td>NaN</td>\n",
       "      <td>18429.340000</td>\n",
       "    </tr>\n",
       "    <tr>\n",
       "      <th>9</th>\n",
       "      <td>1001</td>\n",
       "      <td>2018-12-01</td>\n",
       "      <td>63.000000</td>\n",
       "      <td>414.000000</td>\n",
       "      <td>NaN</td>\n",
       "      <td>14036.660000</td>\n",
       "    </tr>\n",
       "    <tr>\n",
       "      <th>10</th>\n",
       "      <td>1002</td>\n",
       "      <td>2018-06-01</td>\n",
       "      <td>15.000000</td>\n",
       "      <td>117.000000</td>\n",
       "      <td>4.000000</td>\n",
       "      <td>10856.820000</td>\n",
       "    </tr>\n",
       "    <tr>\n",
       "      <th>11</th>\n",
       "      <td>1002</td>\n",
       "      <td>2018-07-01</td>\n",
       "      <td>26.000000</td>\n",
       "      <td>214.000000</td>\n",
       "      <td>11.000000</td>\n",
       "      <td>17580.100000</td>\n",
       "    </tr>\n",
       "    <tr>\n",
       "      <th>12</th>\n",
       "      <td>1002</td>\n",
       "      <td>2018-08-01</td>\n",
       "      <td>42.000000</td>\n",
       "      <td>289.000000</td>\n",
       "      <td>13.000000</td>\n",
       "      <td>20319.260000</td>\n",
       "    </tr>\n",
       "    <tr>\n",
       "      <th>13</th>\n",
       "      <td>1002</td>\n",
       "      <td>2018-09-01</td>\n",
       "      <td>36.000000</td>\n",
       "      <td>206.000000</td>\n",
       "      <td>4.000000</td>\n",
       "      <td>16691.080000</td>\n",
       "    </tr>\n",
       "    <tr>\n",
       "      <th>14</th>\n",
       "      <td>1002</td>\n",
       "      <td>2018-10-01</td>\n",
       "      <td>33.000000</td>\n",
       "      <td>212.000000</td>\n",
       "      <td>10.000000</td>\n",
       "      <td>13888.250000</td>\n",
       "    </tr>\n",
       "  </tbody>\n",
       "</table>\n",
       "</div>"
      ],
      "text/plain": [
       "    user_id      month  calls_count  total_min  messages_count  total_mb_used\n",
       "0      1000 2018-05-01    22.000000 159.000000       22.000000    2253.490000\n",
       "1      1000 2018-06-01    43.000000 172.000000       60.000000   23233.770000\n",
       "2      1000 2018-07-01    47.000000 340.000000       75.000000   14003.640000\n",
       "3      1000 2018-08-01    52.000000 408.000000       81.000000   14055.930000\n",
       "4      1000 2018-09-01    58.000000 466.000000       57.000000   14568.910000\n",
       "5      1000 2018-10-01    57.000000 350.000000       73.000000   14702.490000\n",
       "6      1000 2018-11-01    43.000000 338.000000       58.000000   14756.470000\n",
       "7      1000 2018-12-01    46.000000 333.000000       70.000000    9817.610000\n",
       "8      1001 2018-11-01    59.000000 430.000000             NaN   18429.340000\n",
       "9      1001 2018-12-01    63.000000 414.000000             NaN   14036.660000\n",
       "10     1002 2018-06-01    15.000000 117.000000        4.000000   10856.820000\n",
       "11     1002 2018-07-01    26.000000 214.000000       11.000000   17580.100000\n",
       "12     1002 2018-08-01    42.000000 289.000000       13.000000   20319.260000\n",
       "13     1002 2018-09-01    36.000000 206.000000        4.000000   16691.080000\n",
       "14     1002 2018-10-01    33.000000 212.000000       10.000000   13888.250000"
      ]
     },
     "execution_count": 25,
     "metadata": {},
     "output_type": "execute_result"
    }
   ],
   "source": [
    "# сбросим индексацию\n",
    "data = data.reset_index()\n",
    "data.head(15)"
   ]
  },
  {
   "cell_type": "code",
   "execution_count": 26,
   "metadata": {},
   "outputs": [
    {
     "data": {
      "text/html": [
       "<div>\n",
       "<style scoped>\n",
       "    .dataframe tbody tr th:only-of-type {\n",
       "        vertical-align: middle;\n",
       "    }\n",
       "\n",
       "    .dataframe tbody tr th {\n",
       "        vertical-align: top;\n",
       "    }\n",
       "\n",
       "    .dataframe thead th {\n",
       "        text-align: right;\n",
       "    }\n",
       "</style>\n",
       "<table border=\"1\" class=\"dataframe\">\n",
       "  <thead>\n",
       "    <tr style=\"text-align: right;\">\n",
       "      <th></th>\n",
       "      <th>user_id</th>\n",
       "      <th>month</th>\n",
       "      <th>calls_count</th>\n",
       "      <th>total_min</th>\n",
       "      <th>messages_count</th>\n",
       "      <th>total_mb_used</th>\n",
       "      <th>age</th>\n",
       "      <th>churn_date</th>\n",
       "      <th>city</th>\n",
       "      <th>first_name</th>\n",
       "      <th>last_name</th>\n",
       "      <th>reg_date</th>\n",
       "      <th>tariff</th>\n",
       "    </tr>\n",
       "  </thead>\n",
       "  <tbody>\n",
       "    <tr>\n",
       "      <th>0</th>\n",
       "      <td>1000</td>\n",
       "      <td>2018-05-01</td>\n",
       "      <td>22.000000</td>\n",
       "      <td>159.000000</td>\n",
       "      <td>22.000000</td>\n",
       "      <td>2253.490000</td>\n",
       "      <td>52</td>\n",
       "      <td>NaT</td>\n",
       "      <td>Краснодар</td>\n",
       "      <td>Рафаил</td>\n",
       "      <td>Верещагин</td>\n",
       "      <td>2018-05-25</td>\n",
       "      <td>ultra</td>\n",
       "    </tr>\n",
       "    <tr>\n",
       "      <th>1</th>\n",
       "      <td>1000</td>\n",
       "      <td>2018-06-01</td>\n",
       "      <td>43.000000</td>\n",
       "      <td>172.000000</td>\n",
       "      <td>60.000000</td>\n",
       "      <td>23233.770000</td>\n",
       "      <td>52</td>\n",
       "      <td>NaT</td>\n",
       "      <td>Краснодар</td>\n",
       "      <td>Рафаил</td>\n",
       "      <td>Верещагин</td>\n",
       "      <td>2018-05-25</td>\n",
       "      <td>ultra</td>\n",
       "    </tr>\n",
       "    <tr>\n",
       "      <th>2</th>\n",
       "      <td>1000</td>\n",
       "      <td>2018-07-01</td>\n",
       "      <td>47.000000</td>\n",
       "      <td>340.000000</td>\n",
       "      <td>75.000000</td>\n",
       "      <td>14003.640000</td>\n",
       "      <td>52</td>\n",
       "      <td>NaT</td>\n",
       "      <td>Краснодар</td>\n",
       "      <td>Рафаил</td>\n",
       "      <td>Верещагин</td>\n",
       "      <td>2018-05-25</td>\n",
       "      <td>ultra</td>\n",
       "    </tr>\n",
       "    <tr>\n",
       "      <th>3</th>\n",
       "      <td>1000</td>\n",
       "      <td>2018-08-01</td>\n",
       "      <td>52.000000</td>\n",
       "      <td>408.000000</td>\n",
       "      <td>81.000000</td>\n",
       "      <td>14055.930000</td>\n",
       "      <td>52</td>\n",
       "      <td>NaT</td>\n",
       "      <td>Краснодар</td>\n",
       "      <td>Рафаил</td>\n",
       "      <td>Верещагин</td>\n",
       "      <td>2018-05-25</td>\n",
       "      <td>ultra</td>\n",
       "    </tr>\n",
       "    <tr>\n",
       "      <th>4</th>\n",
       "      <td>1000</td>\n",
       "      <td>2018-09-01</td>\n",
       "      <td>58.000000</td>\n",
       "      <td>466.000000</td>\n",
       "      <td>57.000000</td>\n",
       "      <td>14568.910000</td>\n",
       "      <td>52</td>\n",
       "      <td>NaT</td>\n",
       "      <td>Краснодар</td>\n",
       "      <td>Рафаил</td>\n",
       "      <td>Верещагин</td>\n",
       "      <td>2018-05-25</td>\n",
       "      <td>ultra</td>\n",
       "    </tr>\n",
       "    <tr>\n",
       "      <th>5</th>\n",
       "      <td>1000</td>\n",
       "      <td>2018-10-01</td>\n",
       "      <td>57.000000</td>\n",
       "      <td>350.000000</td>\n",
       "      <td>73.000000</td>\n",
       "      <td>14702.490000</td>\n",
       "      <td>52</td>\n",
       "      <td>NaT</td>\n",
       "      <td>Краснодар</td>\n",
       "      <td>Рафаил</td>\n",
       "      <td>Верещагин</td>\n",
       "      <td>2018-05-25</td>\n",
       "      <td>ultra</td>\n",
       "    </tr>\n",
       "    <tr>\n",
       "      <th>6</th>\n",
       "      <td>1000</td>\n",
       "      <td>2018-11-01</td>\n",
       "      <td>43.000000</td>\n",
       "      <td>338.000000</td>\n",
       "      <td>58.000000</td>\n",
       "      <td>14756.470000</td>\n",
       "      <td>52</td>\n",
       "      <td>NaT</td>\n",
       "      <td>Краснодар</td>\n",
       "      <td>Рафаил</td>\n",
       "      <td>Верещагин</td>\n",
       "      <td>2018-05-25</td>\n",
       "      <td>ultra</td>\n",
       "    </tr>\n",
       "    <tr>\n",
       "      <th>7</th>\n",
       "      <td>1000</td>\n",
       "      <td>2018-12-01</td>\n",
       "      <td>46.000000</td>\n",
       "      <td>333.000000</td>\n",
       "      <td>70.000000</td>\n",
       "      <td>9817.610000</td>\n",
       "      <td>52</td>\n",
       "      <td>NaT</td>\n",
       "      <td>Краснодар</td>\n",
       "      <td>Рафаил</td>\n",
       "      <td>Верещагин</td>\n",
       "      <td>2018-05-25</td>\n",
       "      <td>ultra</td>\n",
       "    </tr>\n",
       "    <tr>\n",
       "      <th>8</th>\n",
       "      <td>1001</td>\n",
       "      <td>2018-11-01</td>\n",
       "      <td>59.000000</td>\n",
       "      <td>430.000000</td>\n",
       "      <td>NaN</td>\n",
       "      <td>18429.340000</td>\n",
       "      <td>41</td>\n",
       "      <td>NaT</td>\n",
       "      <td>Москва</td>\n",
       "      <td>Иван</td>\n",
       "      <td>Ежов</td>\n",
       "      <td>2018-11-01</td>\n",
       "      <td>smart</td>\n",
       "    </tr>\n",
       "    <tr>\n",
       "      <th>9</th>\n",
       "      <td>1001</td>\n",
       "      <td>2018-12-01</td>\n",
       "      <td>63.000000</td>\n",
       "      <td>414.000000</td>\n",
       "      <td>NaN</td>\n",
       "      <td>14036.660000</td>\n",
       "      <td>41</td>\n",
       "      <td>NaT</td>\n",
       "      <td>Москва</td>\n",
       "      <td>Иван</td>\n",
       "      <td>Ежов</td>\n",
       "      <td>2018-11-01</td>\n",
       "      <td>smart</td>\n",
       "    </tr>\n",
       "    <tr>\n",
       "      <th>10</th>\n",
       "      <td>1002</td>\n",
       "      <td>2018-06-01</td>\n",
       "      <td>15.000000</td>\n",
       "      <td>117.000000</td>\n",
       "      <td>4.000000</td>\n",
       "      <td>10856.820000</td>\n",
       "      <td>59</td>\n",
       "      <td>NaT</td>\n",
       "      <td>Стерлитамак</td>\n",
       "      <td>Евгений</td>\n",
       "      <td>Абрамович</td>\n",
       "      <td>2018-06-17</td>\n",
       "      <td>smart</td>\n",
       "    </tr>\n",
       "    <tr>\n",
       "      <th>11</th>\n",
       "      <td>1002</td>\n",
       "      <td>2018-07-01</td>\n",
       "      <td>26.000000</td>\n",
       "      <td>214.000000</td>\n",
       "      <td>11.000000</td>\n",
       "      <td>17580.100000</td>\n",
       "      <td>59</td>\n",
       "      <td>NaT</td>\n",
       "      <td>Стерлитамак</td>\n",
       "      <td>Евгений</td>\n",
       "      <td>Абрамович</td>\n",
       "      <td>2018-06-17</td>\n",
       "      <td>smart</td>\n",
       "    </tr>\n",
       "    <tr>\n",
       "      <th>12</th>\n",
       "      <td>1002</td>\n",
       "      <td>2018-08-01</td>\n",
       "      <td>42.000000</td>\n",
       "      <td>289.000000</td>\n",
       "      <td>13.000000</td>\n",
       "      <td>20319.260000</td>\n",
       "      <td>59</td>\n",
       "      <td>NaT</td>\n",
       "      <td>Стерлитамак</td>\n",
       "      <td>Евгений</td>\n",
       "      <td>Абрамович</td>\n",
       "      <td>2018-06-17</td>\n",
       "      <td>smart</td>\n",
       "    </tr>\n",
       "    <tr>\n",
       "      <th>13</th>\n",
       "      <td>1002</td>\n",
       "      <td>2018-09-01</td>\n",
       "      <td>36.000000</td>\n",
       "      <td>206.000000</td>\n",
       "      <td>4.000000</td>\n",
       "      <td>16691.080000</td>\n",
       "      <td>59</td>\n",
       "      <td>NaT</td>\n",
       "      <td>Стерлитамак</td>\n",
       "      <td>Евгений</td>\n",
       "      <td>Абрамович</td>\n",
       "      <td>2018-06-17</td>\n",
       "      <td>smart</td>\n",
       "    </tr>\n",
       "    <tr>\n",
       "      <th>14</th>\n",
       "      <td>1002</td>\n",
       "      <td>2018-10-01</td>\n",
       "      <td>33.000000</td>\n",
       "      <td>212.000000</td>\n",
       "      <td>10.000000</td>\n",
       "      <td>13888.250000</td>\n",
       "      <td>59</td>\n",
       "      <td>NaT</td>\n",
       "      <td>Стерлитамак</td>\n",
       "      <td>Евгений</td>\n",
       "      <td>Абрамович</td>\n",
       "      <td>2018-06-17</td>\n",
       "      <td>smart</td>\n",
       "    </tr>\n",
       "  </tbody>\n",
       "</table>\n",
       "</div>"
      ],
      "text/plain": [
       "    user_id      month  calls_count  total_min  messages_count  total_mb_used  \\\n",
       "0      1000 2018-05-01    22.000000 159.000000       22.000000    2253.490000   \n",
       "1      1000 2018-06-01    43.000000 172.000000       60.000000   23233.770000   \n",
       "2      1000 2018-07-01    47.000000 340.000000       75.000000   14003.640000   \n",
       "3      1000 2018-08-01    52.000000 408.000000       81.000000   14055.930000   \n",
       "4      1000 2018-09-01    58.000000 466.000000       57.000000   14568.910000   \n",
       "5      1000 2018-10-01    57.000000 350.000000       73.000000   14702.490000   \n",
       "6      1000 2018-11-01    43.000000 338.000000       58.000000   14756.470000   \n",
       "7      1000 2018-12-01    46.000000 333.000000       70.000000    9817.610000   \n",
       "8      1001 2018-11-01    59.000000 430.000000             NaN   18429.340000   \n",
       "9      1001 2018-12-01    63.000000 414.000000             NaN   14036.660000   \n",
       "10     1002 2018-06-01    15.000000 117.000000        4.000000   10856.820000   \n",
       "11     1002 2018-07-01    26.000000 214.000000       11.000000   17580.100000   \n",
       "12     1002 2018-08-01    42.000000 289.000000       13.000000   20319.260000   \n",
       "13     1002 2018-09-01    36.000000 206.000000        4.000000   16691.080000   \n",
       "14     1002 2018-10-01    33.000000 212.000000       10.000000   13888.250000   \n",
       "\n",
       "    age churn_date         city first_name  last_name   reg_date tariff  \n",
       "0    52        NaT    Краснодар     Рафаил  Верещагин 2018-05-25  ultra  \n",
       "1    52        NaT    Краснодар     Рафаил  Верещагин 2018-05-25  ultra  \n",
       "2    52        NaT    Краснодар     Рафаил  Верещагин 2018-05-25  ultra  \n",
       "3    52        NaT    Краснодар     Рафаил  Верещагин 2018-05-25  ultra  \n",
       "4    52        NaT    Краснодар     Рафаил  Верещагин 2018-05-25  ultra  \n",
       "5    52        NaT    Краснодар     Рафаил  Верещагин 2018-05-25  ultra  \n",
       "6    52        NaT    Краснодар     Рафаил  Верещагин 2018-05-25  ultra  \n",
       "7    52        NaT    Краснодар     Рафаил  Верещагин 2018-05-25  ultra  \n",
       "8    41        NaT       Москва       Иван       Ежов 2018-11-01  smart  \n",
       "9    41        NaT       Москва       Иван       Ежов 2018-11-01  smart  \n",
       "10   59        NaT  Стерлитамак    Евгений  Абрамович 2018-06-17  smart  \n",
       "11   59        NaT  Стерлитамак    Евгений  Абрамович 2018-06-17  smart  \n",
       "12   59        NaT  Стерлитамак    Евгений  Абрамович 2018-06-17  smart  \n",
       "13   59        NaT  Стерлитамак    Евгений  Абрамович 2018-06-17  smart  \n",
       "14   59        NaT  Стерлитамак    Евгений  Абрамович 2018-06-17  smart  "
      ]
     },
     "execution_count": 26,
     "metadata": {},
     "output_type": "execute_result"
    }
   ],
   "source": [
    "# объединим датасет data с users, чтобы добавить информацию по пользователям\n",
    "data = data.merge(users, on='user_id', how='left')\n",
    "data.head(15)"
   ]
  },
  {
   "cell_type": "markdown",
   "metadata": {},
   "source": [
    "Посчитаем помесячную выручку с каждого пользователя (вычтем бесплатный лимит из суммарного количества звонков, сообщений и интернет-трафика; остаток умножим на значение из тарифного плана; прибавим абонентскую плату, соответствующую тарифному плану)."
   ]
  },
  {
   "cell_type": "code",
   "execution_count": 27,
   "metadata": {},
   "outputs": [],
   "source": [
    "def revenue(row):\n",
    "    \"\"\"возвращает выручку через функцию одной строки\"\"\"\n",
    "    def tariff(num):\n",
    "        extra_min = 0\n",
    "        extra_gb = 0\n",
    "        extra_messages = 0\n",
    "        if (row['total_min'] - tariffs.loc[num,'minutes_included']) > 0:\n",
    "            extra_min = row['total_min'] - tariffs.loc[num,'minutes_included']\n",
    "        if (row['messages_count'] - tariffs.loc[num,'messages_included']) > 0:\n",
    "            extra_messages = row['messages_count'] - tariffs.loc[num,'messages_included']\n",
    "        if (row['total_mb_used'] - tariffs.loc[num,'mb_per_month_included']) > 0:\n",
    "            extra_gb = (row['total_mb_used'] - tariffs.loc[num,'mb_per_month_included']) / 1024\n",
    "        revenue = extra_min*tariffs.loc[num,'rub_per_minute'] + extra_messages*tariffs.loc[num,'rub_per_message'] + np.ceil(extra_gb)*tariffs.loc[num,'rub_per_gb'] + tariffs.loc[num,'rub_monthly_fee']\n",
    "        return revenue \n",
    "    \n",
    "    if row['tariff'] == 'ultra':\n",
    "        return tariff(1)\n",
    "    if row['tariff'] == 'smart':\n",
    "        return tariff(0)\n",
    "    \n",
    "    return 0     "
   ]
  },
  {
   "cell_type": "code",
   "execution_count": 28,
   "metadata": {},
   "outputs": [],
   "source": [
    "# используем функцию одной строки для создания нового столбца с помесячной выручкой по каждому клиенту\n",
    "data['revenue'] = data.apply(revenue, axis=1)"
   ]
  },
  {
   "cell_type": "code",
   "execution_count": 29,
   "metadata": {},
   "outputs": [
    {
     "data": {
      "text/html": [
       "<div>\n",
       "<style scoped>\n",
       "    .dataframe tbody tr th:only-of-type {\n",
       "        vertical-align: middle;\n",
       "    }\n",
       "\n",
       "    .dataframe tbody tr th {\n",
       "        vertical-align: top;\n",
       "    }\n",
       "\n",
       "    .dataframe thead th {\n",
       "        text-align: right;\n",
       "    }\n",
       "</style>\n",
       "<table border=\"1\" class=\"dataframe\">\n",
       "  <thead>\n",
       "    <tr style=\"text-align: right;\">\n",
       "      <th></th>\n",
       "      <th>user_id</th>\n",
       "      <th>month</th>\n",
       "      <th>calls_count</th>\n",
       "      <th>total_min</th>\n",
       "      <th>messages_count</th>\n",
       "      <th>total_mb_used</th>\n",
       "      <th>age</th>\n",
       "      <th>churn_date</th>\n",
       "      <th>city</th>\n",
       "      <th>first_name</th>\n",
       "      <th>last_name</th>\n",
       "      <th>reg_date</th>\n",
       "      <th>tariff</th>\n",
       "      <th>revenue</th>\n",
       "    </tr>\n",
       "  </thead>\n",
       "  <tbody>\n",
       "    <tr>\n",
       "      <th>0</th>\n",
       "      <td>1000</td>\n",
       "      <td>2018-05-01</td>\n",
       "      <td>22.000000</td>\n",
       "      <td>159.000000</td>\n",
       "      <td>22.000000</td>\n",
       "      <td>2253.490000</td>\n",
       "      <td>52</td>\n",
       "      <td>NaT</td>\n",
       "      <td>Краснодар</td>\n",
       "      <td>Рафаил</td>\n",
       "      <td>Верещагин</td>\n",
       "      <td>2018-05-25</td>\n",
       "      <td>ultra</td>\n",
       "      <td>1950.000000</td>\n",
       "    </tr>\n",
       "    <tr>\n",
       "      <th>1</th>\n",
       "      <td>1000</td>\n",
       "      <td>2018-06-01</td>\n",
       "      <td>43.000000</td>\n",
       "      <td>172.000000</td>\n",
       "      <td>60.000000</td>\n",
       "      <td>23233.770000</td>\n",
       "      <td>52</td>\n",
       "      <td>NaT</td>\n",
       "      <td>Краснодар</td>\n",
       "      <td>Рафаил</td>\n",
       "      <td>Верещагин</td>\n",
       "      <td>2018-05-25</td>\n",
       "      <td>ultra</td>\n",
       "      <td>1950.000000</td>\n",
       "    </tr>\n",
       "    <tr>\n",
       "      <th>2</th>\n",
       "      <td>1000</td>\n",
       "      <td>2018-07-01</td>\n",
       "      <td>47.000000</td>\n",
       "      <td>340.000000</td>\n",
       "      <td>75.000000</td>\n",
       "      <td>14003.640000</td>\n",
       "      <td>52</td>\n",
       "      <td>NaT</td>\n",
       "      <td>Краснодар</td>\n",
       "      <td>Рафаил</td>\n",
       "      <td>Верещагин</td>\n",
       "      <td>2018-05-25</td>\n",
       "      <td>ultra</td>\n",
       "      <td>1950.000000</td>\n",
       "    </tr>\n",
       "    <tr>\n",
       "      <th>3</th>\n",
       "      <td>1000</td>\n",
       "      <td>2018-08-01</td>\n",
       "      <td>52.000000</td>\n",
       "      <td>408.000000</td>\n",
       "      <td>81.000000</td>\n",
       "      <td>14055.930000</td>\n",
       "      <td>52</td>\n",
       "      <td>NaT</td>\n",
       "      <td>Краснодар</td>\n",
       "      <td>Рафаил</td>\n",
       "      <td>Верещагин</td>\n",
       "      <td>2018-05-25</td>\n",
       "      <td>ultra</td>\n",
       "      <td>1950.000000</td>\n",
       "    </tr>\n",
       "    <tr>\n",
       "      <th>4</th>\n",
       "      <td>1000</td>\n",
       "      <td>2018-09-01</td>\n",
       "      <td>58.000000</td>\n",
       "      <td>466.000000</td>\n",
       "      <td>57.000000</td>\n",
       "      <td>14568.910000</td>\n",
       "      <td>52</td>\n",
       "      <td>NaT</td>\n",
       "      <td>Краснодар</td>\n",
       "      <td>Рафаил</td>\n",
       "      <td>Верещагин</td>\n",
       "      <td>2018-05-25</td>\n",
       "      <td>ultra</td>\n",
       "      <td>1950.000000</td>\n",
       "    </tr>\n",
       "    <tr>\n",
       "      <th>5</th>\n",
       "      <td>1000</td>\n",
       "      <td>2018-10-01</td>\n",
       "      <td>57.000000</td>\n",
       "      <td>350.000000</td>\n",
       "      <td>73.000000</td>\n",
       "      <td>14702.490000</td>\n",
       "      <td>52</td>\n",
       "      <td>NaT</td>\n",
       "      <td>Краснодар</td>\n",
       "      <td>Рафаил</td>\n",
       "      <td>Верещагин</td>\n",
       "      <td>2018-05-25</td>\n",
       "      <td>ultra</td>\n",
       "      <td>1950.000000</td>\n",
       "    </tr>\n",
       "    <tr>\n",
       "      <th>6</th>\n",
       "      <td>1000</td>\n",
       "      <td>2018-11-01</td>\n",
       "      <td>43.000000</td>\n",
       "      <td>338.000000</td>\n",
       "      <td>58.000000</td>\n",
       "      <td>14756.470000</td>\n",
       "      <td>52</td>\n",
       "      <td>NaT</td>\n",
       "      <td>Краснодар</td>\n",
       "      <td>Рафаил</td>\n",
       "      <td>Верещагин</td>\n",
       "      <td>2018-05-25</td>\n",
       "      <td>ultra</td>\n",
       "      <td>1950.000000</td>\n",
       "    </tr>\n",
       "    <tr>\n",
       "      <th>7</th>\n",
       "      <td>1000</td>\n",
       "      <td>2018-12-01</td>\n",
       "      <td>46.000000</td>\n",
       "      <td>333.000000</td>\n",
       "      <td>70.000000</td>\n",
       "      <td>9817.610000</td>\n",
       "      <td>52</td>\n",
       "      <td>NaT</td>\n",
       "      <td>Краснодар</td>\n",
       "      <td>Рафаил</td>\n",
       "      <td>Верещагин</td>\n",
       "      <td>2018-05-25</td>\n",
       "      <td>ultra</td>\n",
       "      <td>1950.000000</td>\n",
       "    </tr>\n",
       "    <tr>\n",
       "      <th>8</th>\n",
       "      <td>1001</td>\n",
       "      <td>2018-11-01</td>\n",
       "      <td>59.000000</td>\n",
       "      <td>430.000000</td>\n",
       "      <td>NaN</td>\n",
       "      <td>18429.340000</td>\n",
       "      <td>41</td>\n",
       "      <td>NaT</td>\n",
       "      <td>Москва</td>\n",
       "      <td>Иван</td>\n",
       "      <td>Ежов</td>\n",
       "      <td>2018-11-01</td>\n",
       "      <td>smart</td>\n",
       "      <td>1150.000000</td>\n",
       "    </tr>\n",
       "    <tr>\n",
       "      <th>9</th>\n",
       "      <td>1001</td>\n",
       "      <td>2018-12-01</td>\n",
       "      <td>63.000000</td>\n",
       "      <td>414.000000</td>\n",
       "      <td>NaN</td>\n",
       "      <td>14036.660000</td>\n",
       "      <td>41</td>\n",
       "      <td>NaT</td>\n",
       "      <td>Москва</td>\n",
       "      <td>Иван</td>\n",
       "      <td>Ежов</td>\n",
       "      <td>2018-11-01</td>\n",
       "      <td>smart</td>\n",
       "      <td>550.000000</td>\n",
       "    </tr>\n",
       "  </tbody>\n",
       "</table>\n",
       "</div>"
      ],
      "text/plain": [
       "   user_id      month  calls_count  total_min  messages_count  total_mb_used  \\\n",
       "0     1000 2018-05-01    22.000000 159.000000       22.000000    2253.490000   \n",
       "1     1000 2018-06-01    43.000000 172.000000       60.000000   23233.770000   \n",
       "2     1000 2018-07-01    47.000000 340.000000       75.000000   14003.640000   \n",
       "3     1000 2018-08-01    52.000000 408.000000       81.000000   14055.930000   \n",
       "4     1000 2018-09-01    58.000000 466.000000       57.000000   14568.910000   \n",
       "5     1000 2018-10-01    57.000000 350.000000       73.000000   14702.490000   \n",
       "6     1000 2018-11-01    43.000000 338.000000       58.000000   14756.470000   \n",
       "7     1000 2018-12-01    46.000000 333.000000       70.000000    9817.610000   \n",
       "8     1001 2018-11-01    59.000000 430.000000             NaN   18429.340000   \n",
       "9     1001 2018-12-01    63.000000 414.000000             NaN   14036.660000   \n",
       "\n",
       "   age churn_date       city first_name  last_name   reg_date tariff  \\\n",
       "0   52        NaT  Краснодар     Рафаил  Верещагин 2018-05-25  ultra   \n",
       "1   52        NaT  Краснодар     Рафаил  Верещагин 2018-05-25  ultra   \n",
       "2   52        NaT  Краснодар     Рафаил  Верещагин 2018-05-25  ultra   \n",
       "3   52        NaT  Краснодар     Рафаил  Верещагин 2018-05-25  ultra   \n",
       "4   52        NaT  Краснодар     Рафаил  Верещагин 2018-05-25  ultra   \n",
       "5   52        NaT  Краснодар     Рафаил  Верещагин 2018-05-25  ultra   \n",
       "6   52        NaT  Краснодар     Рафаил  Верещагин 2018-05-25  ultra   \n",
       "7   52        NaT  Краснодар     Рафаил  Верещагин 2018-05-25  ultra   \n",
       "8   41        NaT     Москва       Иван       Ежов 2018-11-01  smart   \n",
       "9   41        NaT     Москва       Иван       Ежов 2018-11-01  smart   \n",
       "\n",
       "      revenue  \n",
       "0 1950.000000  \n",
       "1 1950.000000  \n",
       "2 1950.000000  \n",
       "3 1950.000000  \n",
       "4 1950.000000  \n",
       "5 1950.000000  \n",
       "6 1950.000000  \n",
       "7 1950.000000  \n",
       "8 1150.000000  \n",
       "9  550.000000  "
      ]
     },
     "execution_count": 29,
     "metadata": {},
     "output_type": "execute_result"
    }
   ],
   "source": [
    "data.head(10)"
   ]
  },
  {
   "cell_type": "code",
   "execution_count": 30,
   "metadata": {},
   "outputs": [
    {
     "data": {
      "text/plain": [
       "3214"
      ]
     },
     "execution_count": 30,
     "metadata": {},
     "output_type": "execute_result"
    }
   ],
   "source": [
    "len(data)"
   ]
  },
  {
   "cell_type": "markdown",
   "metadata": {},
   "source": [
    "**Вывод** \n",
    "\n",
    "В процессе подготовки данных поменяли типы данных в столбцах с датами, удалили задвоенный столбец. А также сформировали новый  датасет с рассчитанными параметрами: количеством сделанных звонков и израсходованных минут разговора, количеством отправленных сообщений, объемом израсходованного интернет-трафика по месяцам и помесячной выручкой с каждого пользователя. "
   ]
  },
  {
   "cell_type": "markdown",
   "metadata": {},
   "source": [
    "## Шаг 3. Проанализируем данные"
   ]
  },
  {
   "cell_type": "markdown",
   "metadata": {},
   "source": [
    "Опишем поведение клиентов оператора, исходя из выборки. Посчитаем, сколько минут разговора, сколько сообщений и какой объём интернет-трафика требуется пользователям каждого тарифа в месяц.  Построим гистограммы. Опишем распределения."
   ]
  },
  {
   "cell_type": "code",
   "execution_count": 31,
   "metadata": {},
   "outputs": [
    {
     "data": {
      "text/plain": [
       "2229"
      ]
     },
     "execution_count": 31,
     "metadata": {},
     "output_type": "execute_result"
    }
   ],
   "source": [
    " len(data.query('tariff == \"smart\"'))"
   ]
  },
  {
   "cell_type": "code",
   "execution_count": 32,
   "metadata": {},
   "outputs": [
    {
     "data": {
      "text/plain": [
       "985"
      ]
     },
     "execution_count": 32,
     "metadata": {},
     "output_type": "execute_result"
    }
   ],
   "source": [
    "len(data.query('tariff == \"ultra\"'))"
   ]
  },
  {
   "cell_type": "code",
   "execution_count": 33,
   "metadata": {},
   "outputs": [
    {
     "data": {
      "text/html": [
       "<div>\n",
       "<style scoped>\n",
       "    .dataframe tbody tr th:only-of-type {\n",
       "        vertical-align: middle;\n",
       "    }\n",
       "\n",
       "    .dataframe tbody tr th {\n",
       "        vertical-align: top;\n",
       "    }\n",
       "\n",
       "    .dataframe thead tr th {\n",
       "        text-align: left;\n",
       "    }\n",
       "\n",
       "    .dataframe thead tr:last-of-type th {\n",
       "        text-align: right;\n",
       "    }\n",
       "</style>\n",
       "<table border=\"1\" class=\"dataframe\">\n",
       "  <thead>\n",
       "    <tr>\n",
       "      <th></th>\n",
       "      <th colspan=\"3\" halign=\"left\">mean</th>\n",
       "      <th colspan=\"3\" halign=\"left\">median</th>\n",
       "      <th colspan=\"3\" halign=\"left\">var</th>\n",
       "      <th colspan=\"3\" halign=\"left\">std</th>\n",
       "    </tr>\n",
       "    <tr>\n",
       "      <th></th>\n",
       "      <th>messages_count</th>\n",
       "      <th>total_mb_used</th>\n",
       "      <th>total_min</th>\n",
       "      <th>messages_count</th>\n",
       "      <th>total_mb_used</th>\n",
       "      <th>total_min</th>\n",
       "      <th>messages_count</th>\n",
       "      <th>total_mb_used</th>\n",
       "      <th>total_min</th>\n",
       "      <th>messages_count</th>\n",
       "      <th>total_mb_used</th>\n",
       "      <th>total_min</th>\n",
       "    </tr>\n",
       "    <tr>\n",
       "      <th>tariff</th>\n",
       "      <th></th>\n",
       "      <th></th>\n",
       "      <th></th>\n",
       "      <th></th>\n",
       "      <th></th>\n",
       "      <th></th>\n",
       "      <th></th>\n",
       "      <th></th>\n",
       "      <th></th>\n",
       "      <th></th>\n",
       "      <th></th>\n",
       "      <th></th>\n",
       "    </tr>\n",
       "  </thead>\n",
       "  <tbody>\n",
       "    <tr>\n",
       "      <th>smart</th>\n",
       "      <td>38.716441</td>\n",
       "      <td>16215.661849</td>\n",
       "      <td>419.062978</td>\n",
       "      <td>34.000000</td>\n",
       "      <td>16507.740000</td>\n",
       "      <td>423.000000</td>\n",
       "      <td>717.594201</td>\n",
       "      <td>34359951.682283</td>\n",
       "      <td>35844.189551</td>\n",
       "      <td>26.787949</td>\n",
       "      <td>5861.736234</td>\n",
       "      <td>189.325618</td>\n",
       "    </tr>\n",
       "    <tr>\n",
       "      <th>ultra</th>\n",
       "      <td>61.161006</td>\n",
       "      <td>19668.485262</td>\n",
       "      <td>545.451104</td>\n",
       "      <td>51.000000</td>\n",
       "      <td>19394.290000</td>\n",
       "      <td>528.000000</td>\n",
       "      <td>2109.659183</td>\n",
       "      <td>98864248.952632</td>\n",
       "      <td>94203.418396</td>\n",
       "      <td>45.931026</td>\n",
       "      <td>9943.050284</td>\n",
       "      <td>306.925754</td>\n",
       "    </tr>\n",
       "  </tbody>\n",
       "</table>\n",
       "</div>"
      ],
      "text/plain": [
       "                 mean                                  median                \\\n",
       "       messages_count total_mb_used  total_min messages_count total_mb_used   \n",
       "tariff                                                                        \n",
       "smart       38.716441  16215.661849 419.062978      34.000000  16507.740000   \n",
       "ultra       61.161006  19668.485262 545.451104      51.000000  19394.290000   \n",
       "\n",
       "                             var                                         std  \\\n",
       "        total_min messages_count   total_mb_used    total_min messages_count   \n",
       "tariff                                                                         \n",
       "smart  423.000000     717.594201 34359951.682283 35844.189551      26.787949   \n",
       "ultra  528.000000    2109.659183 98864248.952632 94203.418396      45.931026   \n",
       "\n",
       "                                 \n",
       "       total_mb_used  total_min  \n",
       "tariff                           \n",
       "smart    5861.736234 189.325618  \n",
       "ultra    9943.050284 306.925754  "
      ]
     },
     "execution_count": 33,
     "metadata": {},
     "output_type": "execute_result"
    }
   ],
   "source": [
    "# построим сводную таблицу, сгруппировав данные по тарифам и посчитаем среднее, дисперсию и стандартное отклонение для столбцов 'total_min', 'messages_count', 'total_mb_used'\n",
    "stat_data = data.pivot_table(index='tariff', values=['total_min', 'messages_count', 'total_mb_used'], aggfunc=['mean', 'median', 'var', 'std'])\n",
    "stat_data"
   ]
  },
  {
   "cell_type": "code",
   "execution_count": 34,
   "metadata": {},
   "outputs": [],
   "source": [
    "def clients_desc(parametre, title, xl, yl):\n",
    "    \"\"\"возвращает гистограммы для каждого тарифа для переданного ей параметра\"\"\"\n",
    "    data.query('tariff == \"smart\"')[parametre].hist(alpha=0.5, label='smart')\n",
    "    data.query('tariff == \"ultra\"')[parametre].hist(alpha=0.7, label='ultra')\n",
    "    plt.title(title, fontsize=14)\n",
    "    plt.xlabel(xl)\n",
    "    plt.ylabel(yl)  \n",
    "    plt.legend(loc=\"upper right\")\n",
    "    fig, axes = plt.subplots(2, 2, figsize=(20, 10))\n",
    "\n",
    "    sns.distplot(data[~data[parametre].isna()].query('tariff == \"smart\"')[parametre], ax = axes[0,0])\n",
    "\n",
    "    sns.boxplot(data[~data[parametre].isna()].query('tariff == \"smart\"')[parametre], ax = axes[0,1])\n",
    "    \n",
    "    axes[0,0].set_title('Smart')\n",
    "    \n",
    "    sns.distplot(data[~data[parametre].isna()].query('tariff == \"ultra\"')[parametre], ax = axes[1,0])\n",
    "\n",
    "    sns.boxplot(data[~data[parametre].isna()].query('tariff == \"ultra\"')[parametre], ax = axes[1,1])\n",
    "\n",
    "    axes[1,0].set_title('Ultra')"
   ]
  },
  {
   "cell_type": "code",
   "execution_count": 35,
   "metadata": {},
   "outputs": [
    {
     "data": {
      "image/png": "[encoded data removed]",
      "text/plain": [
       "<Figure size 432x288 with 1 Axes>"
      ]
     },
     "metadata": {
      "needs_background": "light"
     },
     "output_type": "display_data"
    },
    {
     "data": {
      "image/png": "[encoded data removed]",
      "text/plain": [
       "<Figure size 1440x720 with 4 Axes>"
      ]
     },
     "metadata": {
      "needs_background": "light"
     },
     "output_type": "display_data"
    }
   ],
   "source": [
    "# построим гистограмму по количеству минут разговора, которое требуется пользователям каждого тарифа в месяц \n",
    "clients_desc('total_min', 'Распределение по количеству минут', 'Количество минут в месяц', 'Частота')"
   ]
  },
  {
   "cell_type": "markdown",
   "metadata": {},
   "source": [
    "Из данного графика мы можем отметить, что чаще всего пользователи расходуют приблизительно 500 минут в месяц в тарифе Смарт , а в тарифе Ультра около 600 минут. В тарифе Смарт довольно много пользователей с перерасходом минут. Распределение стремится к нормальному. "
   ]
  },
  {
   "cell_type": "code",
   "execution_count": 36,
   "metadata": {},
   "outputs": [
    {
     "data": {
      "image/png": "[encoded data removed]",
      "text/plain": [
       "<Figure size 432x288 with 1 Axes>"
      ]
     },
     "metadata": {
      "needs_background": "light"
     },
     "output_type": "display_data"
    },
    {
     "data": {
      "image/png": "[encoded data removed]",
      "text/plain": [
       "<Figure size 1440x720 with 4 Axes>"
      ]
     },
     "metadata": {
      "needs_background": "light"
     },
     "output_type": "display_data"
    }
   ],
   "source": [
    "# построим гистограмму по количеству отправленных сообщений в месяц для каждого тарифа\n",
    "clients_desc('messages_count', 'Распределение по количеству сообщений', 'Количество сообщений в месяц', 'Частота')"
   ]
  },
  {
   "cell_type": "markdown",
   "metadata": {},
   "source": [
    "По гистограммам видим, что в обоих тарифах чаще всего отправляют до 50 сообщений. Распределение похоже на нормальное, данные скошены вправо."
   ]
  },
  {
   "cell_type": "code",
   "execution_count": 37,
   "metadata": {
    "scrolled": true
   },
   "outputs": [
    {
     "data": {
      "image/png": "[encoded data removed]",
      "text/plain": [
       "<Figure size 432x288 with 1 Axes>"
      ]
     },
     "metadata": {
      "needs_background": "light"
     },
     "output_type": "display_data"
    },
    {
     "data": {
      "image/png": "[encoded data removed]",
      "text/plain": [
       "<Figure size 1440x720 with 4 Axes>"
      ]
     },
     "metadata": {
      "needs_background": "light"
     },
     "output_type": "display_data"
    }
   ],
   "source": [
    "# построим гистограмму по объему интернет-трафика, который расходуют пользователи каждого тарифа в месяц \n",
    "clients_desc('total_mb_used', 'Распределение по объему интернет-трафика', 'Объем интернет-трафика в месяц', 'Частота')"
   ]
  },
  {
   "cell_type": "markdown",
   "metadata": {},
   "source": [
    "В тарифе Смарт пользователи чаще всего расходуют порядка 16 000 мб интернет-трафика, а в тарифе Ультра примерно 20 000 мб. Почти половина клиентов тарифа Смарт перерасходуют интернет-трафик, включенный в тарифный пакет. Распределение нормальное."
   ]
  },
  {
   "cell_type": "code",
   "execution_count": 38,
   "metadata": {},
   "outputs": [
    {
     "data": {
      "image/png": "[encoded data removed]",
      "text/plain": [
       "<Figure size 432x288 with 1 Axes>"
      ]
     },
     "metadata": {
      "needs_background": "light"
     },
     "output_type": "display_data"
    },
    {
     "data": {
      "image/png": "[encoded data removed]",
      "text/plain": [
       "<Figure size 1440x720 with 4 Axes>"
      ]
     },
     "metadata": {
      "needs_background": "light"
     },
     "output_type": "display_data"
    }
   ],
   "source": [
    "# построим гистограмму по выручке в месяц \n",
    "clients_desc('revenue',  'Распределение по выручке', 'Выручка с пользователя в месяц', 'Частота')"
   ]
  },
  {
   "cell_type": "markdown",
   "metadata": {},
   "source": [
    "Чаще всего в тарифе Смарт наблюдается выручка с пользователя в месяц от 500 до 1000 руб. В тарифе Ультра примерно 2000 руб.\n",
    "\n",
    "Посчитаем среднее количество, дисперсию и стандартное отклонение для выручки."
   ]
  },
  {
   "cell_type": "code",
   "execution_count": 39,
   "metadata": {},
   "outputs": [
    {
     "data": {
      "text/html": [
       "<div>\n",
       "<style scoped>\n",
       "    .dataframe tbody tr th:only-of-type {\n",
       "        vertical-align: middle;\n",
       "    }\n",
       "\n",
       "    .dataframe tbody tr th {\n",
       "        vertical-align: top;\n",
       "    }\n",
       "\n",
       "    .dataframe thead tr th {\n",
       "        text-align: left;\n",
       "    }\n",
       "\n",
       "    .dataframe thead tr:last-of-type th {\n",
       "        text-align: right;\n",
       "    }\n",
       "</style>\n",
       "<table border=\"1\" class=\"dataframe\">\n",
       "  <thead>\n",
       "    <tr>\n",
       "      <th></th>\n",
       "      <th>mean</th>\n",
       "      <th>var</th>\n",
       "      <th>std</th>\n",
       "      <th>sum</th>\n",
       "    </tr>\n",
       "    <tr>\n",
       "      <th></th>\n",
       "      <th>revenue</th>\n",
       "      <th>revenue</th>\n",
       "      <th>revenue</th>\n",
       "      <th>revenue</th>\n",
       "    </tr>\n",
       "    <tr>\n",
       "      <th>tariff</th>\n",
       "      <th></th>\n",
       "      <th></th>\n",
       "      <th></th>\n",
       "      <th></th>\n",
       "    </tr>\n",
       "  </thead>\n",
       "  <tbody>\n",
       "    <tr>\n",
       "      <th>smart</th>\n",
       "      <td>1289.973531</td>\n",
       "      <td>669785.708006</td>\n",
       "      <td>818.404367</td>\n",
       "      <td>2875351.000000</td>\n",
       "    </tr>\n",
       "    <tr>\n",
       "      <th>ultra</th>\n",
       "      <td>2070.152284</td>\n",
       "      <td>141516.745079</td>\n",
       "      <td>376.187114</td>\n",
       "      <td>2039100.000000</td>\n",
       "    </tr>\n",
       "  </tbody>\n",
       "</table>\n",
       "</div>"
      ],
      "text/plain": [
       "              mean           var        std            sum\n",
       "           revenue       revenue    revenue        revenue\n",
       "tariff                                                    \n",
       "smart  1289.973531 669785.708006 818.404367 2875351.000000\n",
       "ultra  2070.152284 141516.745079 376.187114 2039100.000000"
      ]
     },
     "execution_count": 39,
     "metadata": {},
     "output_type": "execute_result"
    }
   ],
   "source": [
    "revenue_data = data.pivot_table(index='tariff', values='revenue', aggfunc=['mean', 'var', 'std', 'sum'])\n",
    "revenue_data"
   ]
  },
  {
   "cell_type": "markdown",
   "metadata": {},
   "source": [
    "**Вывод**:\n",
    "В тарифе Смарт пользователи в среднем расходуют меньше минут, мегабайт интернет-трафика и сообщений, чем в тарифе Ультра, что и отражено на гистограммах, однако часто наблюдается перерасход у клиентов в этом тарифном плане. Распределение данных по израсходованным минутам и мегабайтам стремится к нормальному, а распределение по сообщениям и выручке похоже на биномиальное. Размах данных по минутам, мегабайтам и сообщениям для тарифа Ультра больше, так как стандартное отклонение выше и выборка пользователей меньше, чем для тарифа Смарт. Средняя выручка для тарифа Ультра выше, чем для тарифа Смарт."
   ]
  },
  {
   "cell_type": "markdown",
   "metadata": {},
   "source": [
    "## Шаг 4. Проверим гипотезы"
   ]
  },
  {
   "cell_type": "markdown",
   "metadata": {},
   "source": [
    "- средняя выручка пользователей тарифов «Ультра» и «Смарт» различаются;\n",
    "- средняя выручка пользователей из Москвы отличается от выручки пользователей из других регионов.\n"
   ]
  },
  {
   "cell_type": "markdown",
   "metadata": {},
   "source": [
    "Для начала проверим гипотезу - средняя выручка пользователей тарифов «Ультра» и «Смарт» различаются. Для этого за нулевую гипотезу примем утверждение, что средние выручки тарифов «Ультра» и «Смарт» равны. Альтернативная гипотеза - средняя выручка пользователей тарифов «Ультра» и «Смарт» различаются. Чтобы проверить гипотезу о равенстве средних двух генеральных совокупностей для независимых выборок, применим метод scipy.stats.ttest_ind(). Так как выборки по тарифам разного размера и можно предположить, что дисперсии у генеральных совокупностей разные — укажем equal_var = False при вызове метода scipy.stats.ttest_ind(). Критический уровень статистической значимости зададим равным 1%."
   ]
  },
  {
   "cell_type": "code",
   "execution_count": 40,
   "metadata": {},
   "outputs": [
    {
     "data": {
      "text/plain": [
       "1.8783148636310733e-122"
      ]
     },
     "execution_count": 40,
     "metadata": {},
     "output_type": "execute_result"
    }
   ],
   "source": [
    "data_smart = data.query('tariff == \"smart\"')\n",
    "data_ultra = data.query('tariff == \"ultra\"')\n",
    "\n",
    "alpha = .01 # критический уровень статистической значимости\n",
    "\n",
    "\n",
    "# сравним дисперсии выборок до проверки гипотез (для параметра equal_var) c помощью стат.теста Левене\n",
    "stat, p = levene(data_smart['revenue'], data_ultra['revenue']) \n",
    "p"
   ]
  },
  {
   "cell_type": "markdown",
   "metadata": {},
   "source": [
    "На основании столь малого значения p-value можно предположить, что дисперсии у выборок разные"
   ]
  },
  {
   "cell_type": "code",
   "execution_count": 41,
   "metadata": {},
   "outputs": [
    {
     "name": "stdout",
     "output_type": "stream",
     "text": [
      "p-значение 4.2606313931076085e-250\n",
      "Отвергаем нулевую гипотезу\n"
     ]
    }
   ],
   "source": [
    "results = st.ttest_ind(data_smart['revenue'], data_ultra['revenue'], equal_var=False)\n",
    "print('p-значение', results.pvalue)\n",
    "\n",
    "if results.pvalue <  alpha:\n",
    "    print(\"Отвергаем нулевую гипотезу\")\n",
    "else:\n",
    "    print(\"Не получилось отвергнуть нулевую гипотезу\")"
   ]
  },
  {
   "cell_type": "markdown",
   "metadata": {},
   "source": [
    "Средняя выручка пользователей тарифов «Ультра» и «Смарт» различаются. Гипотеза двусторонняя, поэтому непонятно, у какого тарифа выручка больше, но посчитав среднюю выручку для обоих выборок, можно сделать вывод, что в тарифе Ультра выручка больше.\n",
    "\n",
    "Теперь проверим гипотезу - средняя выручка пользователей из Москвы отличается от выручки пользователей из других регионов.\n",
    "За нулевую гипотезу примем: средняя выручка пользователей из Москвы равна выручке пользователей из других регионов. Альтернативная гипотеза - средняя выручка пользователей из Москвы отличается от выручки пользователей из других регионов. Пороговое значение примем за 1%. Посчитаем размеры выборок."
   ]
  },
  {
   "cell_type": "code",
   "execution_count": 42,
   "metadata": {},
   "outputs": [
    {
     "data": {
      "text/html": [
       "<div>\n",
       "<style scoped>\n",
       "    .dataframe tbody tr th:only-of-type {\n",
       "        vertical-align: middle;\n",
       "    }\n",
       "\n",
       "    .dataframe tbody tr th {\n",
       "        vertical-align: top;\n",
       "    }\n",
       "\n",
       "    .dataframe thead th {\n",
       "        text-align: right;\n",
       "    }\n",
       "</style>\n",
       "<table border=\"1\" class=\"dataframe\">\n",
       "  <thead>\n",
       "    <tr style=\"text-align: right;\">\n",
       "      <th></th>\n",
       "      <th>user_id</th>\n",
       "      <th>month</th>\n",
       "      <th>calls_count</th>\n",
       "      <th>total_min</th>\n",
       "      <th>messages_count</th>\n",
       "      <th>total_mb_used</th>\n",
       "      <th>age</th>\n",
       "      <th>churn_date</th>\n",
       "      <th>city</th>\n",
       "      <th>first_name</th>\n",
       "      <th>last_name</th>\n",
       "      <th>reg_date</th>\n",
       "      <th>tariff</th>\n",
       "      <th>revenue</th>\n",
       "      <th>city_group</th>\n",
       "    </tr>\n",
       "  </thead>\n",
       "  <tbody>\n",
       "    <tr>\n",
       "      <th>0</th>\n",
       "      <td>1000</td>\n",
       "      <td>2018-05-01</td>\n",
       "      <td>22.000000</td>\n",
       "      <td>159.000000</td>\n",
       "      <td>22.000000</td>\n",
       "      <td>2253.490000</td>\n",
       "      <td>52</td>\n",
       "      <td>NaT</td>\n",
       "      <td>Краснодар</td>\n",
       "      <td>Рафаил</td>\n",
       "      <td>Верещагин</td>\n",
       "      <td>2018-05-25</td>\n",
       "      <td>ultra</td>\n",
       "      <td>1950.000000</td>\n",
       "      <td>Другие регионы</td>\n",
       "    </tr>\n",
       "    <tr>\n",
       "      <th>1</th>\n",
       "      <td>1000</td>\n",
       "      <td>2018-06-01</td>\n",
       "      <td>43.000000</td>\n",
       "      <td>172.000000</td>\n",
       "      <td>60.000000</td>\n",
       "      <td>23233.770000</td>\n",
       "      <td>52</td>\n",
       "      <td>NaT</td>\n",
       "      <td>Краснодар</td>\n",
       "      <td>Рафаил</td>\n",
       "      <td>Верещагин</td>\n",
       "      <td>2018-05-25</td>\n",
       "      <td>ultra</td>\n",
       "      <td>1950.000000</td>\n",
       "      <td>Другие регионы</td>\n",
       "    </tr>\n",
       "    <tr>\n",
       "      <th>2</th>\n",
       "      <td>1000</td>\n",
       "      <td>2018-07-01</td>\n",
       "      <td>47.000000</td>\n",
       "      <td>340.000000</td>\n",
       "      <td>75.000000</td>\n",
       "      <td>14003.640000</td>\n",
       "      <td>52</td>\n",
       "      <td>NaT</td>\n",
       "      <td>Краснодар</td>\n",
       "      <td>Рафаил</td>\n",
       "      <td>Верещагин</td>\n",
       "      <td>2018-05-25</td>\n",
       "      <td>ultra</td>\n",
       "      <td>1950.000000</td>\n",
       "      <td>Другие регионы</td>\n",
       "    </tr>\n",
       "    <tr>\n",
       "      <th>3</th>\n",
       "      <td>1000</td>\n",
       "      <td>2018-08-01</td>\n",
       "      <td>52.000000</td>\n",
       "      <td>408.000000</td>\n",
       "      <td>81.000000</td>\n",
       "      <td>14055.930000</td>\n",
       "      <td>52</td>\n",
       "      <td>NaT</td>\n",
       "      <td>Краснодар</td>\n",
       "      <td>Рафаил</td>\n",
       "      <td>Верещагин</td>\n",
       "      <td>2018-05-25</td>\n",
       "      <td>ultra</td>\n",
       "      <td>1950.000000</td>\n",
       "      <td>Другие регионы</td>\n",
       "    </tr>\n",
       "    <tr>\n",
       "      <th>4</th>\n",
       "      <td>1000</td>\n",
       "      <td>2018-09-01</td>\n",
       "      <td>58.000000</td>\n",
       "      <td>466.000000</td>\n",
       "      <td>57.000000</td>\n",
       "      <td>14568.910000</td>\n",
       "      <td>52</td>\n",
       "      <td>NaT</td>\n",
       "      <td>Краснодар</td>\n",
       "      <td>Рафаил</td>\n",
       "      <td>Верещагин</td>\n",
       "      <td>2018-05-25</td>\n",
       "      <td>ultra</td>\n",
       "      <td>1950.000000</td>\n",
       "      <td>Другие регионы</td>\n",
       "    </tr>\n",
       "    <tr>\n",
       "      <th>5</th>\n",
       "      <td>1000</td>\n",
       "      <td>2018-10-01</td>\n",
       "      <td>57.000000</td>\n",
       "      <td>350.000000</td>\n",
       "      <td>73.000000</td>\n",
       "      <td>14702.490000</td>\n",
       "      <td>52</td>\n",
       "      <td>NaT</td>\n",
       "      <td>Краснодар</td>\n",
       "      <td>Рафаил</td>\n",
       "      <td>Верещагин</td>\n",
       "      <td>2018-05-25</td>\n",
       "      <td>ultra</td>\n",
       "      <td>1950.000000</td>\n",
       "      <td>Другие регионы</td>\n",
       "    </tr>\n",
       "    <tr>\n",
       "      <th>6</th>\n",
       "      <td>1000</td>\n",
       "      <td>2018-11-01</td>\n",
       "      <td>43.000000</td>\n",
       "      <td>338.000000</td>\n",
       "      <td>58.000000</td>\n",
       "      <td>14756.470000</td>\n",
       "      <td>52</td>\n",
       "      <td>NaT</td>\n",
       "      <td>Краснодар</td>\n",
       "      <td>Рафаил</td>\n",
       "      <td>Верещагин</td>\n",
       "      <td>2018-05-25</td>\n",
       "      <td>ultra</td>\n",
       "      <td>1950.000000</td>\n",
       "      <td>Другие регионы</td>\n",
       "    </tr>\n",
       "    <tr>\n",
       "      <th>7</th>\n",
       "      <td>1000</td>\n",
       "      <td>2018-12-01</td>\n",
       "      <td>46.000000</td>\n",
       "      <td>333.000000</td>\n",
       "      <td>70.000000</td>\n",
       "      <td>9817.610000</td>\n",
       "      <td>52</td>\n",
       "      <td>NaT</td>\n",
       "      <td>Краснодар</td>\n",
       "      <td>Рафаил</td>\n",
       "      <td>Верещагин</td>\n",
       "      <td>2018-05-25</td>\n",
       "      <td>ultra</td>\n",
       "      <td>1950.000000</td>\n",
       "      <td>Другие регионы</td>\n",
       "    </tr>\n",
       "    <tr>\n",
       "      <th>8</th>\n",
       "      <td>1001</td>\n",
       "      <td>2018-11-01</td>\n",
       "      <td>59.000000</td>\n",
       "      <td>430.000000</td>\n",
       "      <td>NaN</td>\n",
       "      <td>18429.340000</td>\n",
       "      <td>41</td>\n",
       "      <td>NaT</td>\n",
       "      <td>Москва</td>\n",
       "      <td>Иван</td>\n",
       "      <td>Ежов</td>\n",
       "      <td>2018-11-01</td>\n",
       "      <td>smart</td>\n",
       "      <td>1150.000000</td>\n",
       "      <td>Москва</td>\n",
       "    </tr>\n",
       "    <tr>\n",
       "      <th>9</th>\n",
       "      <td>1001</td>\n",
       "      <td>2018-12-01</td>\n",
       "      <td>63.000000</td>\n",
       "      <td>414.000000</td>\n",
       "      <td>NaN</td>\n",
       "      <td>14036.660000</td>\n",
       "      <td>41</td>\n",
       "      <td>NaT</td>\n",
       "      <td>Москва</td>\n",
       "      <td>Иван</td>\n",
       "      <td>Ежов</td>\n",
       "      <td>2018-11-01</td>\n",
       "      <td>smart</td>\n",
       "      <td>550.000000</td>\n",
       "      <td>Москва</td>\n",
       "    </tr>\n",
       "  </tbody>\n",
       "</table>\n",
       "</div>"
      ],
      "text/plain": [
       "   user_id      month  calls_count  total_min  messages_count  total_mb_used  \\\n",
       "0     1000 2018-05-01    22.000000 159.000000       22.000000    2253.490000   \n",
       "1     1000 2018-06-01    43.000000 172.000000       60.000000   23233.770000   \n",
       "2     1000 2018-07-01    47.000000 340.000000       75.000000   14003.640000   \n",
       "3     1000 2018-08-01    52.000000 408.000000       81.000000   14055.930000   \n",
       "4     1000 2018-09-01    58.000000 466.000000       57.000000   14568.910000   \n",
       "5     1000 2018-10-01    57.000000 350.000000       73.000000   14702.490000   \n",
       "6     1000 2018-11-01    43.000000 338.000000       58.000000   14756.470000   \n",
       "7     1000 2018-12-01    46.000000 333.000000       70.000000    9817.610000   \n",
       "8     1001 2018-11-01    59.000000 430.000000             NaN   18429.340000   \n",
       "9     1001 2018-12-01    63.000000 414.000000             NaN   14036.660000   \n",
       "\n",
       "   age churn_date       city first_name  last_name   reg_date tariff  \\\n",
       "0   52        NaT  Краснодар     Рафаил  Верещагин 2018-05-25  ultra   \n",
       "1   52        NaT  Краснодар     Рафаил  Верещагин 2018-05-25  ultra   \n",
       "2   52        NaT  Краснодар     Рафаил  Верещагин 2018-05-25  ultra   \n",
       "3   52        NaT  Краснодар     Рафаил  Верещагин 2018-05-25  ultra   \n",
       "4   52        NaT  Краснодар     Рафаил  Верещагин 2018-05-25  ultra   \n",
       "5   52        NaT  Краснодар     Рафаил  Верещагин 2018-05-25  ultra   \n",
       "6   52        NaT  Краснодар     Рафаил  Верещагин 2018-05-25  ultra   \n",
       "7   52        NaT  Краснодар     Рафаил  Верещагин 2018-05-25  ultra   \n",
       "8   41        NaT     Москва       Иван       Ежов 2018-11-01  smart   \n",
       "9   41        NaT     Москва       Иван       Ежов 2018-11-01  smart   \n",
       "\n",
       "      revenue      city_group  \n",
       "0 1950.000000  Другие регионы  \n",
       "1 1950.000000  Другие регионы  \n",
       "2 1950.000000  Другие регионы  \n",
       "3 1950.000000  Другие регионы  \n",
       "4 1950.000000  Другие регионы  \n",
       "5 1950.000000  Другие регионы  \n",
       "6 1950.000000  Другие регионы  \n",
       "7 1950.000000  Другие регионы  \n",
       "8 1150.000000          Москва  \n",
       "9  550.000000          Москва  "
      ]
     },
     "execution_count": 42,
     "metadata": {},
     "output_type": "execute_result"
    }
   ],
   "source": [
    "# создадим столбец с местом проживания пользователя -  Москва либо Другие регионы (для остальных городов)\n",
    "data['city_group'] = data['city'].where(data['city'] == 'Москва', 'Другие регионы')\n",
    "data.head(10)"
   ]
  },
  {
   "cell_type": "code",
   "execution_count": 43,
   "metadata": {},
   "outputs": [
    {
     "data": {
      "text/plain": [
       "611"
      ]
     },
     "execution_count": 43,
     "metadata": {},
     "output_type": "execute_result"
    }
   ],
   "source": [
    "data_moscow = data.query('city_group == \"Москва\"')\n",
    "len(data_moscow)"
   ]
  },
  {
   "cell_type": "code",
   "execution_count": 44,
   "metadata": {},
   "outputs": [
    {
     "data": {
      "text/plain": [
       "2603"
      ]
     },
     "execution_count": 44,
     "metadata": {},
     "output_type": "execute_result"
    }
   ],
   "source": [
    "data_regions = data.query('city_group == \"Другие регионы\"')\n",
    "len(data_regions)"
   ]
  },
  {
   "cell_type": "code",
   "execution_count": 45,
   "metadata": {},
   "outputs": [
    {
     "data": {
      "text/plain": [
       "0.014082487123270156"
      ]
     },
     "execution_count": 45,
     "metadata": {},
     "output_type": "execute_result"
    }
   ],
   "source": [
    "# сравним дисперсии выборок до проверки гипотез (для параметра equal_var) c помощью стат.теста Левене\n",
    "stat, p = levene(data_moscow['revenue'], data_regions['revenue']) \n",
    "p"
   ]
  },
  {
   "cell_type": "markdown",
   "metadata": {},
   "source": [
    "Размеры выборок отличаются и значение p-value маленькое, поэтому предположим, что дисперсии выборок оличаются и укажем equal_var = False при вызове метода scipy.stats.ttest_ind().\n",
    "\n",
    "Посчитаем среднее, дисперсию и стандартное отклонение для выборок по региону."
   ]
  },
  {
   "cell_type": "code",
   "execution_count": 46,
   "metadata": {},
   "outputs": [
    {
     "data": {
      "text/html": [
       "<div>\n",
       "<style scoped>\n",
       "    .dataframe tbody tr th:only-of-type {\n",
       "        vertical-align: middle;\n",
       "    }\n",
       "\n",
       "    .dataframe tbody tr th {\n",
       "        vertical-align: top;\n",
       "    }\n",
       "\n",
       "    .dataframe thead tr th {\n",
       "        text-align: left;\n",
       "    }\n",
       "\n",
       "    .dataframe thead tr:last-of-type th {\n",
       "        text-align: right;\n",
       "    }\n",
       "</style>\n",
       "<table border=\"1\" class=\"dataframe\">\n",
       "  <thead>\n",
       "    <tr>\n",
       "      <th></th>\n",
       "      <th>mean</th>\n",
       "      <th>var</th>\n",
       "      <th>std</th>\n",
       "    </tr>\n",
       "    <tr>\n",
       "      <th></th>\n",
       "      <th>revenue</th>\n",
       "      <th>revenue</th>\n",
       "      <th>revenue</th>\n",
       "    </tr>\n",
       "    <tr>\n",
       "      <th>city_group</th>\n",
       "      <th></th>\n",
       "      <th></th>\n",
       "      <th></th>\n",
       "    </tr>\n",
       "  </thead>\n",
       "  <tbody>\n",
       "    <tr>\n",
       "      <th>Другие регионы</th>\n",
       "      <td>1524.936227</td>\n",
       "      <td>654137.628522</td>\n",
       "      <td>808.787752</td>\n",
       "    </tr>\n",
       "    <tr>\n",
       "      <th>Москва</th>\n",
       "      <td>1546.713584</td>\n",
       "      <td>565636.467012</td>\n",
       "      <td>752.088071</td>\n",
       "    </tr>\n",
       "  </tbody>\n",
       "</table>\n",
       "</div>"
      ],
      "text/plain": [
       "                      mean           var        std\n",
       "                   revenue       revenue    revenue\n",
       "city_group                                         \n",
       "Другие регионы 1524.936227 654137.628522 808.787752\n",
       "Москва         1546.713584 565636.467012 752.088071"
      ]
     },
     "execution_count": 46,
     "metadata": {},
     "output_type": "execute_result"
    }
   ],
   "source": [
    "data.pivot_table(index='city_group', values='revenue', aggfunc=['mean', 'var', 'std'])"
   ]
  },
  {
   "cell_type": "code",
   "execution_count": 47,
   "metadata": {},
   "outputs": [
    {
     "name": "stdout",
     "output_type": "stream",
     "text": [
      "p-значение 0.5257376663729298\n",
      "Не получилось отвергнуть нулевую гипотезу\n"
     ]
    }
   ],
   "source": [
    "alpha = .01 # критический уровень статистической значимости\n",
    "\n",
    "results_city = st.ttest_ind(data_moscow['revenue'], data_regions['revenue'], equal_var=False)\n",
    "print('p-значение', results_city.pvalue)\n",
    "\n",
    "if results_city.pvalue <  alpha:\n",
    "    print(\"Отвергаем нулевую гипотезу\")\n",
    "else:\n",
    "    print(\"Не получилось отвергнуть нулевую гипотезу\")"
   ]
  },
  {
   "cell_type": "markdown",
   "metadata": {},
   "source": [
    "Вероятность того, что средняя помесячная выручка по пользователям в Москве  и других регионах равна, почти 53%, поэтому мы не можем отвергнуть нулевую гипотезу. По средним значениям выборки мы видим также, что средние значения выручки очень похожи."
   ]
  },
  {
   "cell_type": "markdown",
   "metadata": {},
   "source": [
    "## Шаг 5. Общий вывод"
   ]
  },
  {
   "cell_type": "markdown",
   "metadata": {},
   "source": [
    "Подготовили данные для анализа двух тарифных планов: «Смарт» и «Ультра», посчитали количество сделанных звонков и израсходованных минут разговора, количество отправленных сообщений, объем израсходованного интернет-трафика по месяцам и помесячную выручку с каждого пользователя. Проанализировали, какой тариф приносит больше денег на выборке из 500 клиентов, проверили гипотезы и выяснили, что средняя выручка пользователей тарифов Ультра и Смарт различаются, и в тарифе Ультра она выше, а средняя выручка пользователей из Москвы и из других регионов похожи. Исходя из этого анализа, можно сделать вывод, что рекламный бюджет лучше направить на продвижение тарифа Ультра, так как он приносит больше выручки и клиенты, особенно у которых часто встречается перерасход, могут рассмотреть этот тариф как более удобную  альтернативу. Выручка по клиентам из Москвы незначительно отличается от других регионов, поэтому в регионах также можно продвигать более дорогой тариф Ультра."
   ]
  }
 ],
 "metadata": {
  "ExecuteTimeLog": [
   {
    "duration": 3,
    "start_time": "2022-03-06T09:37:50.616Z"
   },
   {
    "duration": 860,
    "start_time": "2022-03-06T10:27:53.212Z"
   },
   {
    "duration": 52,
    "start_time": "2022-03-06T10:28:08.232Z"
   },
   {
    "duration": 3,
    "start_time": "2022-03-06T10:32:44.768Z"
   },
   {
    "duration": 44,
    "start_time": "2022-03-06T10:32:55.562Z"
   },
   {
    "duration": 3,
    "start_time": "2022-03-06T10:33:04.606Z"
   },
   {
    "duration": 45,
    "start_time": "2022-03-06T10:33:05.065Z"
   },
   {
    "duration": 44,
    "start_time": "2022-03-06T10:34:05.333Z"
   },
   {
    "duration": 25,
    "start_time": "2022-03-06T10:38:24.486Z"
   },
   {
    "duration": 33,
    "start_time": "2022-03-06T10:38:36.072Z"
   },
   {
    "duration": 19,
    "start_time": "2022-03-06T10:38:41.714Z"
   },
   {
    "duration": 1024,
    "start_time": "2022-03-06T15:47:58.786Z"
   },
   {
    "duration": 4,
    "start_time": "2022-03-06T15:47:59.812Z"
   },
   {
    "duration": 66,
    "start_time": "2022-03-06T15:48:00.091Z"
   },
   {
    "duration": 3,
    "start_time": "2022-03-06T15:48:32.603Z"
   },
   {
    "duration": 49,
    "start_time": "2022-03-06T15:48:33.742Z"
   },
   {
    "duration": 3,
    "start_time": "2022-03-06T15:49:15.831Z"
   },
   {
    "duration": 53,
    "start_time": "2022-03-06T15:49:17.522Z"
   },
   {
    "duration": 50,
    "start_time": "2022-03-06T15:49:33.874Z"
   },
   {
    "duration": 48,
    "start_time": "2022-03-06T15:49:36.390Z"
   },
   {
    "duration": 30,
    "start_time": "2022-03-06T15:50:27.769Z"
   },
   {
    "duration": 69,
    "start_time": "2022-03-06T15:50:55.959Z"
   },
   {
    "duration": 51,
    "start_time": "2022-03-06T15:50:56.858Z"
   },
   {
    "duration": 47,
    "start_time": "2022-03-06T15:51:09.079Z"
   },
   {
    "duration": 30,
    "start_time": "2022-03-06T15:51:28.073Z"
   },
   {
    "duration": 33,
    "start_time": "2022-03-06T15:52:04.735Z"
   },
   {
    "duration": 23,
    "start_time": "2022-03-06T15:53:06.943Z"
   },
   {
    "duration": 3,
    "start_time": "2022-03-06T15:54:09.720Z"
   },
   {
    "duration": 29,
    "start_time": "2022-03-06T15:54:10.464Z"
   },
   {
    "duration": 3,
    "start_time": "2022-03-06T15:54:17.215Z"
   },
   {
    "duration": 27,
    "start_time": "2022-03-06T15:54:18.394Z"
   },
   {
    "duration": 25,
    "start_time": "2022-03-06T15:54:46.060Z"
   },
   {
    "duration": 21,
    "start_time": "2022-03-06T15:54:54.538Z"
   },
   {
    "duration": 13,
    "start_time": "2022-03-06T15:55:01.740Z"
   },
   {
    "duration": 15,
    "start_time": "2022-03-06T15:55:08.712Z"
   },
   {
    "duration": 7,
    "start_time": "2022-03-06T16:10:32.669Z"
   },
   {
    "duration": 9,
    "start_time": "2022-03-06T16:10:42.327Z"
   },
   {
    "duration": 32,
    "start_time": "2022-03-06T16:19:45.625Z"
   },
   {
    "duration": 11,
    "start_time": "2022-03-06T16:19:56.848Z"
   },
   {
    "duration": 14,
    "start_time": "2022-03-06T16:20:14.539Z"
   },
   {
    "duration": 20,
    "start_time": "2022-03-06T16:20:26.735Z"
   },
   {
    "duration": 34,
    "start_time": "2022-03-06T16:22:49.026Z"
   },
   {
    "duration": 28,
    "start_time": "2022-03-06T16:23:30.184Z"
   },
   {
    "duration": 32,
    "start_time": "2022-03-06T16:24:24.755Z"
   },
   {
    "duration": 30,
    "start_time": "2022-03-06T16:24:57.769Z"
   },
   {
    "duration": 27,
    "start_time": "2022-03-06T16:25:03.629Z"
   },
   {
    "duration": 16,
    "start_time": "2022-03-06T16:28:12.056Z"
   },
   {
    "duration": 270,
    "start_time": "2022-03-06T16:29:12.479Z"
   },
   {
    "duration": 6,
    "start_time": "2022-03-06T16:29:21.233Z"
   },
   {
    "duration": 6,
    "start_time": "2022-03-06T16:29:36.267Z"
   },
   {
    "duration": 9,
    "start_time": "2022-03-06T16:30:30.578Z"
   },
   {
    "duration": 5318,
    "start_time": "2022-03-06T16:30:46.876Z"
   },
   {
    "duration": 6,
    "start_time": "2022-03-06T16:30:55.945Z"
   },
   {
    "duration": 11,
    "start_time": "2022-03-06T16:31:54.133Z"
   },
   {
    "duration": 8,
    "start_time": "2022-03-06T16:33:14.027Z"
   },
   {
    "duration": 38,
    "start_time": "2022-03-06T16:51:43.499Z"
   },
   {
    "duration": 41,
    "start_time": "2022-03-06T16:51:52.699Z"
   },
   {
    "duration": 43,
    "start_time": "2022-03-06T16:55:59.854Z"
   },
   {
    "duration": 30,
    "start_time": "2022-03-06T16:56:19.150Z"
   },
   {
    "duration": 55,
    "start_time": "2022-03-06T16:56:48.571Z"
   },
   {
    "duration": 68,
    "start_time": "2022-03-06T16:56:56.898Z"
   },
   {
    "duration": 58,
    "start_time": "2022-03-06T16:57:22.431Z"
   },
   {
    "duration": 67,
    "start_time": "2022-03-06T16:57:26.048Z"
   },
   {
    "duration": 35,
    "start_time": "2022-03-06T17:03:48.067Z"
   },
   {
    "duration": 236,
    "start_time": "2022-03-06T17:12:35.895Z"
   },
   {
    "duration": 293,
    "start_time": "2022-03-06T17:13:04.032Z"
   },
   {
    "duration": 23,
    "start_time": "2022-03-06T17:13:46.549Z"
   },
   {
    "duration": 31,
    "start_time": "2022-03-06T17:13:59.196Z"
   },
   {
    "duration": 29,
    "start_time": "2022-03-06T17:15:37.282Z"
   },
   {
    "duration": 253,
    "start_time": "2022-03-06T17:16:28.576Z"
   },
   {
    "duration": 13,
    "start_time": "2022-03-06T17:17:07.633Z"
   },
   {
    "duration": 5,
    "start_time": "2022-03-06T17:18:03.647Z"
   },
   {
    "duration": 12,
    "start_time": "2022-03-06T17:18:05.524Z"
   },
   {
    "duration": 229,
    "start_time": "2022-03-06T17:18:42.629Z"
   },
   {
    "duration": 438,
    "start_time": "2022-03-06T17:18:58.434Z"
   },
   {
    "duration": 3,
    "start_time": "2022-03-06T17:18:58.874Z"
   },
   {
    "duration": 30,
    "start_time": "2022-03-06T17:18:58.879Z"
   },
   {
    "duration": 29,
    "start_time": "2022-03-06T17:18:58.911Z"
   },
   {
    "duration": 23,
    "start_time": "2022-03-06T17:18:58.942Z"
   },
   {
    "duration": 54,
    "start_time": "2022-03-06T17:18:58.967Z"
   },
   {
    "duration": 21,
    "start_time": "2022-03-06T17:18:59.022Z"
   },
   {
    "duration": 12,
    "start_time": "2022-03-06T17:18:59.045Z"
   },
   {
    "duration": 43,
    "start_time": "2022-03-06T17:18:59.059Z"
   },
   {
    "duration": 15,
    "start_time": "2022-03-06T17:18:59.104Z"
   },
   {
    "duration": 9,
    "start_time": "2022-03-06T17:18:59.121Z"
   },
   {
    "duration": 8,
    "start_time": "2022-03-06T17:18:59.132Z"
   },
   {
    "duration": 68,
    "start_time": "2022-03-06T17:18:59.141Z"
   },
   {
    "duration": 31,
    "start_time": "2022-03-06T17:18:59.211Z"
   },
   {
    "duration": 29,
    "start_time": "2022-03-06T17:18:59.244Z"
   },
   {
    "duration": 35,
    "start_time": "2022-03-06T17:18:59.274Z"
   },
   {
    "duration": 34,
    "start_time": "2022-03-06T17:18:59.312Z"
   },
   {
    "duration": 75,
    "start_time": "2022-03-06T17:18:59.348Z"
   },
   {
    "duration": 22,
    "start_time": "2022-03-06T17:18:59.425Z"
   },
   {
    "duration": 25,
    "start_time": "2022-03-06T17:18:59.448Z"
   },
   {
    "duration": 34,
    "start_time": "2022-03-06T17:18:59.475Z"
   },
   {
    "duration": 24,
    "start_time": "2022-03-06T17:20:00.289Z"
   },
   {
    "duration": 21,
    "start_time": "2022-03-06T17:20:09.609Z"
   },
   {
    "duration": 1094,
    "start_time": "2022-03-06T17:20:30.526Z"
   },
   {
    "duration": 5,
    "start_time": "2022-03-06T17:20:31.623Z"
   },
   {
    "duration": 47,
    "start_time": "2022-03-06T17:20:31.630Z"
   },
   {
    "duration": 34,
    "start_time": "2022-03-06T17:20:31.678Z"
   },
   {
    "duration": 24,
    "start_time": "2022-03-06T17:20:31.714Z"
   },
   {
    "duration": 36,
    "start_time": "2022-03-06T17:20:31.740Z"
   },
   {
    "duration": 36,
    "start_time": "2022-03-06T17:20:31.777Z"
   },
   {
    "duration": 14,
    "start_time": "2022-03-06T17:20:31.816Z"
   },
   {
    "duration": 20,
    "start_time": "2022-03-06T17:20:31.832Z"
   },
   {
    "duration": 32,
    "start_time": "2022-03-06T17:20:31.854Z"
   },
   {
    "duration": 20,
    "start_time": "2022-03-06T17:20:31.888Z"
   },
   {
    "duration": 9,
    "start_time": "2022-03-06T17:20:31.910Z"
   },
   {
    "duration": 47,
    "start_time": "2022-03-06T17:20:31.922Z"
   },
   {
    "duration": 63,
    "start_time": "2022-03-06T17:20:31.971Z"
   },
   {
    "duration": 31,
    "start_time": "2022-03-06T17:20:32.036Z"
   },
   {
    "duration": 34,
    "start_time": "2022-03-06T17:20:32.069Z"
   },
   {
    "duration": 35,
    "start_time": "2022-03-06T17:20:32.106Z"
   },
   {
    "duration": 88,
    "start_time": "2022-03-06T17:20:32.143Z"
   },
   {
    "duration": 22,
    "start_time": "2022-03-06T17:20:32.233Z"
   },
   {
    "duration": 48,
    "start_time": "2022-03-06T17:20:32.257Z"
   },
   {
    "duration": 12,
    "start_time": "2022-03-06T17:20:32.307Z"
   },
   {
    "duration": 25,
    "start_time": "2022-03-06T17:20:32.321Z"
   },
   {
    "duration": 26,
    "start_time": "2022-03-06T17:22:02.128Z"
   },
   {
    "duration": 30,
    "start_time": "2022-03-06T17:22:16.344Z"
   },
   {
    "duration": 14,
    "start_time": "2022-03-06T17:23:32.920Z"
   },
   {
    "duration": 413,
    "start_time": "2022-03-06T17:34:08.174Z"
   },
   {
    "duration": 3,
    "start_time": "2022-03-06T17:34:08.589Z"
   },
   {
    "duration": 32,
    "start_time": "2022-03-06T17:34:08.594Z"
   },
   {
    "duration": 31,
    "start_time": "2022-03-06T17:34:08.628Z"
   },
   {
    "duration": 41,
    "start_time": "2022-03-06T17:34:08.661Z"
   },
   {
    "duration": 32,
    "start_time": "2022-03-06T17:34:08.704Z"
   },
   {
    "duration": 20,
    "start_time": "2022-03-06T17:34:08.738Z"
   },
   {
    "duration": 42,
    "start_time": "2022-03-06T17:34:08.761Z"
   },
   {
    "duration": 14,
    "start_time": "2022-03-06T17:34:08.805Z"
   },
   {
    "duration": 22,
    "start_time": "2022-03-06T17:34:08.821Z"
   },
   {
    "duration": 7,
    "start_time": "2022-03-06T17:34:08.845Z"
   },
   {
    "duration": 15,
    "start_time": "2022-03-06T17:34:08.854Z"
   },
   {
    "duration": 69,
    "start_time": "2022-03-06T17:34:08.871Z"
   },
   {
    "duration": 35,
    "start_time": "2022-03-06T17:34:08.942Z"
   },
   {
    "duration": 42,
    "start_time": "2022-03-06T17:34:08.979Z"
   },
   {
    "duration": 11,
    "start_time": "2022-03-06T17:34:09.023Z"
   },
   {
    "duration": 36,
    "start_time": "2022-03-06T17:34:09.036Z"
   },
   {
    "duration": 92,
    "start_time": "2022-03-06T17:34:09.074Z"
   },
   {
    "duration": 35,
    "start_time": "2022-03-06T17:34:09.167Z"
   },
   {
    "duration": 30,
    "start_time": "2022-03-06T17:34:09.205Z"
   },
   {
    "duration": 16,
    "start_time": "2022-03-06T17:34:28.220Z"
   },
   {
    "duration": 19,
    "start_time": "2022-03-06T17:34:39.404Z"
   },
   {
    "duration": 20,
    "start_time": "2022-03-06T17:35:19.641Z"
   },
   {
    "duration": 20,
    "start_time": "2022-03-06T17:35:24.004Z"
   },
   {
    "duration": 24,
    "start_time": "2022-03-06T17:35:27.140Z"
   },
   {
    "duration": 974,
    "start_time": "2022-03-06T17:35:55.816Z"
   },
   {
    "duration": 3,
    "start_time": "2022-03-06T17:35:56.792Z"
   },
   {
    "duration": 38,
    "start_time": "2022-03-06T17:35:56.797Z"
   },
   {
    "duration": 32,
    "start_time": "2022-03-06T17:35:56.837Z"
   },
   {
    "duration": 42,
    "start_time": "2022-03-06T17:35:56.871Z"
   },
   {
    "duration": 31,
    "start_time": "2022-03-06T17:35:56.915Z"
   },
   {
    "duration": 20,
    "start_time": "2022-03-06T17:35:56.948Z"
   },
   {
    "duration": 40,
    "start_time": "2022-03-06T17:35:56.970Z"
   },
   {
    "duration": 16,
    "start_time": "2022-03-06T17:35:57.012Z"
   },
   {
    "duration": 18,
    "start_time": "2022-03-06T17:35:57.029Z"
   },
   {
    "duration": 8,
    "start_time": "2022-03-06T17:35:57.049Z"
   },
   {
    "duration": 43,
    "start_time": "2022-03-06T17:35:57.059Z"
   },
   {
    "duration": 46,
    "start_time": "2022-03-06T17:35:57.105Z"
   },
   {
    "duration": 52,
    "start_time": "2022-03-06T17:35:57.152Z"
   },
   {
    "duration": 29,
    "start_time": "2022-03-06T17:35:57.206Z"
   },
   {
    "duration": 11,
    "start_time": "2022-03-06T17:35:57.236Z"
   },
   {
    "duration": 59,
    "start_time": "2022-03-06T17:35:57.249Z"
   },
   {
    "duration": 74,
    "start_time": "2022-03-06T17:35:57.310Z"
   },
   {
    "duration": 23,
    "start_time": "2022-03-06T17:35:57.402Z"
   },
   {
    "duration": 32,
    "start_time": "2022-03-06T17:35:57.427Z"
   },
   {
    "duration": 18,
    "start_time": "2022-03-06T17:36:29.254Z"
   },
   {
    "duration": 17,
    "start_time": "2022-03-06T17:36:38.004Z"
   },
   {
    "duration": 18,
    "start_time": "2022-03-06T17:36:46.335Z"
   },
   {
    "duration": 282,
    "start_time": "2022-03-06T17:37:21.528Z"
   },
   {
    "duration": 21,
    "start_time": "2022-03-06T17:37:24.679Z"
   },
   {
    "duration": 277,
    "start_time": "2022-03-06T17:38:40.653Z"
   },
   {
    "duration": 958,
    "start_time": "2022-03-06T17:38:44.647Z"
   },
   {
    "duration": 3,
    "start_time": "2022-03-06T17:38:45.608Z"
   },
   {
    "duration": 38,
    "start_time": "2022-03-06T17:38:45.613Z"
   },
   {
    "duration": 31,
    "start_time": "2022-03-06T17:38:45.653Z"
   },
   {
    "duration": 25,
    "start_time": "2022-03-06T17:38:45.702Z"
   },
   {
    "duration": 28,
    "start_time": "2022-03-06T17:38:45.728Z"
   },
   {
    "duration": 44,
    "start_time": "2022-03-06T17:38:45.758Z"
   },
   {
    "duration": 12,
    "start_time": "2022-03-06T17:38:45.805Z"
   },
   {
    "duration": 19,
    "start_time": "2022-03-06T17:38:45.820Z"
   },
   {
    "duration": 37,
    "start_time": "2022-03-06T17:38:45.841Z"
   },
   {
    "duration": 38,
    "start_time": "2022-03-06T17:38:45.880Z"
   },
   {
    "duration": 12,
    "start_time": "2022-03-06T17:38:45.920Z"
   },
   {
    "duration": 52,
    "start_time": "2022-03-06T17:38:45.934Z"
   },
   {
    "duration": 44,
    "start_time": "2022-03-06T17:38:45.988Z"
   },
   {
    "duration": 31,
    "start_time": "2022-03-06T17:38:46.035Z"
   },
   {
    "duration": 32,
    "start_time": "2022-03-06T17:38:46.069Z"
   },
   {
    "duration": 33,
    "start_time": "2022-03-06T17:38:46.104Z"
   },
   {
    "duration": 100,
    "start_time": "2022-03-06T17:38:46.139Z"
   },
   {
    "duration": 25,
    "start_time": "2022-03-06T17:38:46.241Z"
   },
   {
    "duration": 49,
    "start_time": "2022-03-06T17:38:46.269Z"
   },
   {
    "duration": 18,
    "start_time": "2022-03-06T17:38:46.320Z"
   },
   {
    "duration": 25,
    "start_time": "2022-03-06T17:38:46.340Z"
   },
   {
    "duration": 59,
    "start_time": "2022-03-06T17:38:46.368Z"
   },
   {
    "duration": 19,
    "start_time": "2022-03-06T17:38:46.430Z"
   },
   {
    "duration": 254,
    "start_time": "2022-03-06T17:45:25.364Z"
   },
   {
    "duration": 217,
    "start_time": "2022-03-06T17:45:27.971Z"
   },
   {
    "duration": 221,
    "start_time": "2022-03-06T17:45:56.740Z"
   },
   {
    "duration": 233,
    "start_time": "2022-03-06T17:46:08.701Z"
   },
   {
    "duration": 15,
    "start_time": "2022-03-06T17:46:18.943Z"
   },
   {
    "duration": 245,
    "start_time": "2022-03-06T17:46:31.279Z"
   },
   {
    "duration": 1125,
    "start_time": "2022-03-06T17:46:43.210Z"
   },
   {
    "duration": 3,
    "start_time": "2022-03-06T17:46:44.337Z"
   },
   {
    "duration": 40,
    "start_time": "2022-03-06T17:46:44.342Z"
   },
   {
    "duration": 31,
    "start_time": "2022-03-06T17:46:44.384Z"
   },
   {
    "duration": 24,
    "start_time": "2022-03-06T17:46:44.417Z"
   },
   {
    "duration": 31,
    "start_time": "2022-03-06T17:46:44.442Z"
   },
   {
    "duration": 41,
    "start_time": "2022-03-06T17:46:44.474Z"
   },
   {
    "duration": 12,
    "start_time": "2022-03-06T17:46:44.518Z"
   },
   {
    "duration": 24,
    "start_time": "2022-03-06T17:46:44.532Z"
   },
   {
    "duration": 21,
    "start_time": "2022-03-06T17:46:44.558Z"
   },
   {
    "duration": 7,
    "start_time": "2022-03-06T17:46:44.602Z"
   },
   {
    "duration": 18,
    "start_time": "2022-03-06T17:46:44.610Z"
   },
   {
    "duration": 49,
    "start_time": "2022-03-06T17:46:44.630Z"
   },
   {
    "duration": 52,
    "start_time": "2022-03-06T17:46:44.681Z"
   },
   {
    "duration": 28,
    "start_time": "2022-03-06T17:46:44.735Z"
   },
   {
    "duration": 10,
    "start_time": "2022-03-06T17:46:44.765Z"
   },
   {
    "duration": 51,
    "start_time": "2022-03-06T17:46:44.777Z"
   },
   {
    "duration": 90,
    "start_time": "2022-03-06T17:46:44.830Z"
   },
   {
    "duration": 23,
    "start_time": "2022-03-06T17:46:44.922Z"
   },
   {
    "duration": 32,
    "start_time": "2022-03-06T17:46:44.947Z"
   },
   {
    "duration": 37,
    "start_time": "2022-03-06T17:46:44.981Z"
   },
   {
    "duration": 42,
    "start_time": "2022-03-06T17:46:45.021Z"
   },
   {
    "duration": 47,
    "start_time": "2022-03-06T17:46:45.067Z"
   },
   {
    "duration": 17,
    "start_time": "2022-03-06T17:46:45.116Z"
   },
   {
    "duration": 13,
    "start_time": "2022-03-06T17:46:45.135Z"
   },
   {
    "duration": 20,
    "start_time": "2022-03-06T17:46:51.126Z"
   },
   {
    "duration": 289,
    "start_time": "2022-03-06T17:47:10.736Z"
   },
   {
    "duration": 1005,
    "start_time": "2022-03-06T17:47:23.093Z"
   },
   {
    "duration": 3,
    "start_time": "2022-03-06T17:47:24.100Z"
   },
   {
    "duration": 43,
    "start_time": "2022-03-06T17:47:24.105Z"
   },
   {
    "duration": 30,
    "start_time": "2022-03-06T17:47:24.150Z"
   },
   {
    "duration": 35,
    "start_time": "2022-03-06T17:47:24.182Z"
   },
   {
    "duration": 44,
    "start_time": "2022-03-06T17:47:24.219Z"
   },
   {
    "duration": 20,
    "start_time": "2022-03-06T17:47:24.265Z"
   },
   {
    "duration": 25,
    "start_time": "2022-03-06T17:47:24.286Z"
   },
   {
    "duration": 23,
    "start_time": "2022-03-06T17:47:24.315Z"
   },
   {
    "duration": 16,
    "start_time": "2022-03-06T17:47:24.340Z"
   },
   {
    "duration": 7,
    "start_time": "2022-03-06T17:47:24.358Z"
   },
   {
    "duration": 42,
    "start_time": "2022-03-06T17:47:24.367Z"
   },
   {
    "duration": 50,
    "start_time": "2022-03-06T17:47:24.411Z"
   },
   {
    "duration": 52,
    "start_time": "2022-03-06T17:47:24.463Z"
   },
   {
    "duration": 28,
    "start_time": "2022-03-06T17:47:24.517Z"
   },
   {
    "duration": 11,
    "start_time": "2022-03-06T17:47:24.547Z"
   },
   {
    "duration": 52,
    "start_time": "2022-03-06T17:47:24.560Z"
   },
   {
    "duration": 72,
    "start_time": "2022-03-06T17:47:24.614Z"
   },
   {
    "duration": 32,
    "start_time": "2022-03-06T17:47:24.688Z"
   },
   {
    "duration": 31,
    "start_time": "2022-03-06T17:47:24.722Z"
   },
   {
    "duration": 47,
    "start_time": "2022-03-06T17:47:24.755Z"
   },
   {
    "duration": 29,
    "start_time": "2022-03-06T17:47:24.804Z"
   },
   {
    "duration": 35,
    "start_time": "2022-03-06T17:47:24.835Z"
   },
   {
    "duration": 39,
    "start_time": "2022-03-06T17:47:24.872Z"
   },
   {
    "duration": 5,
    "start_time": "2022-03-06T17:47:24.913Z"
   },
   {
    "duration": 315,
    "start_time": "2022-03-06T17:47:24.920Z"
   },
   {
    "duration": 15,
    "start_time": "2022-03-06T17:47:35.562Z"
   },
   {
    "duration": 214,
    "start_time": "2022-03-06T17:47:48.737Z"
   },
   {
    "duration": 20,
    "start_time": "2022-03-06T18:09:53.285Z"
   },
   {
    "duration": 31,
    "start_time": "2022-03-06T18:10:18.258Z"
   },
   {
    "duration": 983,
    "start_time": "2022-03-06T18:11:07.358Z"
   },
   {
    "duration": 4,
    "start_time": "2022-03-06T18:11:08.343Z"
   },
   {
    "duration": 39,
    "start_time": "2022-03-06T18:11:08.349Z"
   },
   {
    "duration": 34,
    "start_time": "2022-03-06T18:11:08.391Z"
   },
   {
    "duration": 24,
    "start_time": "2022-03-06T18:11:08.427Z"
   },
   {
    "duration": 49,
    "start_time": "2022-03-06T18:11:08.453Z"
   },
   {
    "duration": 21,
    "start_time": "2022-03-06T18:11:08.504Z"
   },
   {
    "duration": 12,
    "start_time": "2022-03-06T18:11:08.528Z"
   },
   {
    "duration": 17,
    "start_time": "2022-03-06T18:11:08.543Z"
   },
   {
    "duration": 49,
    "start_time": "2022-03-06T18:11:08.562Z"
   },
   {
    "duration": 25,
    "start_time": "2022-03-06T18:11:08.613Z"
   },
   {
    "duration": 9,
    "start_time": "2022-03-06T18:11:08.640Z"
   },
   {
    "duration": 55,
    "start_time": "2022-03-06T18:11:08.651Z"
   },
   {
    "duration": 36,
    "start_time": "2022-03-06T18:11:08.709Z"
   },
   {
    "duration": 27,
    "start_time": "2022-03-06T18:11:08.747Z"
   },
   {
    "duration": 34,
    "start_time": "2022-03-06T18:11:08.775Z"
   },
   {
    "duration": 36,
    "start_time": "2022-03-06T18:11:08.810Z"
   },
   {
    "duration": 95,
    "start_time": "2022-03-06T18:11:08.847Z"
   },
   {
    "duration": 23,
    "start_time": "2022-03-06T18:11:08.944Z"
   },
   {
    "duration": 49,
    "start_time": "2022-03-06T18:11:08.969Z"
   },
   {
    "duration": 19,
    "start_time": "2022-03-06T18:11:09.020Z"
   },
   {
    "duration": 25,
    "start_time": "2022-03-06T18:11:09.041Z"
   },
   {
    "duration": 57,
    "start_time": "2022-03-06T18:11:09.070Z"
   },
   {
    "duration": 20,
    "start_time": "2022-03-06T18:11:09.130Z"
   },
   {
    "duration": 6,
    "start_time": "2022-03-06T18:11:09.152Z"
   },
   {
    "duration": 43,
    "start_time": "2022-03-06T18:11:09.160Z"
   },
   {
    "duration": 24,
    "start_time": "2022-03-06T18:11:09.205Z"
   },
   {
    "duration": 11,
    "start_time": "2022-03-06T18:13:29.109Z"
   },
   {
    "duration": 285,
    "start_time": "2022-03-06T18:16:31.442Z"
   },
   {
    "duration": 220,
    "start_time": "2022-03-06T18:16:36.335Z"
   },
   {
    "duration": 10,
    "start_time": "2022-03-06T18:16:39.994Z"
   },
   {
    "duration": 5429,
    "start_time": "2022-03-06T18:20:34.697Z"
   },
   {
    "duration": 5,
    "start_time": "2022-03-06T18:21:54.013Z"
   },
   {
    "duration": 204,
    "start_time": "2022-03-06T18:37:31.802Z"
   },
   {
    "duration": 987,
    "start_time": "2022-03-06T18:38:00.032Z"
   },
   {
    "duration": 3,
    "start_time": "2022-03-06T18:38:01.022Z"
   },
   {
    "duration": 50,
    "start_time": "2022-03-06T18:38:01.028Z"
   },
   {
    "duration": 38,
    "start_time": "2022-03-06T18:38:01.081Z"
   },
   {
    "duration": 25,
    "start_time": "2022-03-06T18:38:01.121Z"
   },
   {
    "duration": 32,
    "start_time": "2022-03-06T18:38:01.148Z"
   },
   {
    "duration": 21,
    "start_time": "2022-03-06T18:38:01.202Z"
   },
   {
    "duration": 18,
    "start_time": "2022-03-06T18:38:01.226Z"
   },
   {
    "duration": 55,
    "start_time": "2022-03-06T18:38:01.246Z"
   },
   {
    "duration": 36,
    "start_time": "2022-03-06T18:38:01.303Z"
   },
   {
    "duration": 20,
    "start_time": "2022-03-06T18:38:01.341Z"
   },
   {
    "duration": 14,
    "start_time": "2022-03-06T18:38:01.363Z"
   },
   {
    "duration": 75,
    "start_time": "2022-03-06T18:38:01.379Z"
   },
   {
    "duration": 35,
    "start_time": "2022-03-06T18:38:01.457Z"
   },
   {
    "duration": 143,
    "start_time": "2022-03-06T18:38:01.495Z"
   },
   {
    "duration": 13,
    "start_time": "2022-03-06T18:38:01.640Z"
   },
   {
    "duration": 86,
    "start_time": "2022-03-06T18:38:01.656Z"
   },
   {
    "duration": 293,
    "start_time": "2022-03-06T18:38:05.998Z"
   },
   {
    "duration": 211,
    "start_time": "2022-03-06T18:40:13.466Z"
   },
   {
    "duration": 572,
    "start_time": "2022-03-06T18:45:50.427Z"
   },
   {
    "duration": 207,
    "start_time": "2022-03-06T18:52:59.805Z"
   },
   {
    "duration": 391,
    "start_time": "2022-03-06T18:53:06.778Z"
   },
   {
    "duration": 11,
    "start_time": "2022-03-06T18:53:17.159Z"
   },
   {
    "duration": 404,
    "start_time": "2022-03-06T18:55:02.448Z"
   },
   {
    "duration": 4,
    "start_time": "2022-03-06T18:55:02.854Z"
   },
   {
    "duration": 40,
    "start_time": "2022-03-06T18:55:02.860Z"
   },
   {
    "duration": 32,
    "start_time": "2022-03-06T18:55:02.902Z"
   },
   {
    "duration": 29,
    "start_time": "2022-03-06T18:55:02.936Z"
   },
   {
    "duration": 63,
    "start_time": "2022-03-06T18:55:02.967Z"
   },
   {
    "duration": 23,
    "start_time": "2022-03-06T18:55:03.033Z"
   },
   {
    "duration": 14,
    "start_time": "2022-03-06T18:55:03.060Z"
   },
   {
    "duration": 17,
    "start_time": "2022-03-06T18:55:03.103Z"
   },
   {
    "duration": 17,
    "start_time": "2022-03-06T18:55:03.123Z"
   },
   {
    "duration": 10,
    "start_time": "2022-03-06T18:55:03.142Z"
   },
   {
    "duration": 50,
    "start_time": "2022-03-06T18:55:03.154Z"
   },
   {
    "duration": 49,
    "start_time": "2022-03-06T18:55:03.206Z"
   },
   {
    "duration": 52,
    "start_time": "2022-03-06T18:55:03.257Z"
   },
   {
    "duration": 30,
    "start_time": "2022-03-06T18:55:03.311Z"
   },
   {
    "duration": 12,
    "start_time": "2022-03-06T18:55:03.343Z"
   },
   {
    "duration": 56,
    "start_time": "2022-03-06T18:55:03.357Z"
   },
   {
    "duration": 14,
    "start_time": "2022-03-06T18:55:03.415Z"
   },
   {
    "duration": 92,
    "start_time": "2022-03-06T18:55:03.431Z"
   },
   {
    "duration": 23,
    "start_time": "2022-03-06T18:55:03.525Z"
   },
   {
    "duration": 53,
    "start_time": "2022-03-06T18:55:03.550Z"
   },
   {
    "duration": 20,
    "start_time": "2022-03-06T18:55:03.604Z"
   },
   {
    "duration": 26,
    "start_time": "2022-03-06T18:55:03.628Z"
   },
   {
    "duration": 59,
    "start_time": "2022-03-06T18:55:03.655Z"
   },
   {
    "duration": 19,
    "start_time": "2022-03-06T18:55:03.716Z"
   },
   {
    "duration": 6,
    "start_time": "2022-03-06T18:55:03.737Z"
   },
   {
    "duration": 20,
    "start_time": "2022-03-06T18:55:03.745Z"
   },
   {
    "duration": 49,
    "start_time": "2022-03-06T18:55:03.767Z"
   },
   {
    "duration": 4,
    "start_time": "2022-03-06T18:56:28.889Z"
   },
   {
    "duration": 9,
    "start_time": "2022-03-06T18:56:38.256Z"
   },
   {
    "duration": 73,
    "start_time": "2022-03-06T19:12:07.065Z"
   },
   {
    "duration": 76,
    "start_time": "2022-03-06T19:12:46.662Z"
   },
   {
    "duration": 72,
    "start_time": "2022-03-06T19:13:14.660Z"
   },
   {
    "duration": 107,
    "start_time": "2022-03-06T19:13:32.703Z"
   },
   {
    "duration": 7,
    "start_time": "2022-03-06T19:13:48.962Z"
   },
   {
    "duration": 2913,
    "start_time": "2022-03-06T19:14:17.358Z"
   },
   {
    "duration": 406,
    "start_time": "2022-03-06T19:17:37.917Z"
   },
   {
    "duration": 16,
    "start_time": "2022-03-06T19:17:45.216Z"
   },
   {
    "duration": 19,
    "start_time": "2022-03-06T19:18:21.559Z"
   },
   {
    "duration": 6,
    "start_time": "2022-03-06T19:26:58.310Z"
   },
   {
    "duration": 419,
    "start_time": "2022-03-06T19:27:11.342Z"
   },
   {
    "duration": 20,
    "start_time": "2022-03-06T19:27:13.472Z"
   },
   {
    "duration": 15,
    "start_time": "2022-03-06T19:28:00.628Z"
   },
   {
    "duration": 18,
    "start_time": "2022-03-06T19:28:07.882Z"
   },
   {
    "duration": 5,
    "start_time": "2022-03-06T20:12:31.904Z"
   },
   {
    "duration": 4,
    "start_time": "2022-03-06T20:14:30.380Z"
   },
   {
    "duration": 244,
    "start_time": "2022-03-06T20:28:00.281Z"
   },
   {
    "duration": 36,
    "start_time": "2022-03-06T20:28:19.594Z"
   },
   {
    "duration": 38,
    "start_time": "2022-03-06T20:28:37.453Z"
   },
   {
    "duration": 36,
    "start_time": "2022-03-06T20:29:43.649Z"
   },
   {
    "duration": 1269,
    "start_time": "2022-03-06T20:32:53.225Z"
   },
   {
    "duration": 2602,
    "start_time": "2022-03-06T20:33:09.816Z"
   },
   {
    "duration": 35,
    "start_time": "2022-03-06T20:33:27.934Z"
   },
   {
    "duration": 35,
    "start_time": "2022-03-06T20:33:39.480Z"
   },
   {
    "duration": 34,
    "start_time": "2022-03-06T21:51:54.113Z"
   },
   {
    "duration": 784,
    "start_time": "2022-03-06T21:55:57.908Z"
   },
   {
    "duration": 241,
    "start_time": "2022-03-06T21:56:58.762Z"
   },
   {
    "duration": 3,
    "start_time": "2022-03-06T21:57:10.653Z"
   },
   {
    "duration": 225,
    "start_time": "2022-03-06T21:57:18.019Z"
   },
   {
    "duration": 230,
    "start_time": "2022-03-06T21:57:28.337Z"
   },
   {
    "duration": 4,
    "start_time": "2022-03-06T21:57:49.132Z"
   },
   {
    "duration": 393,
    "start_time": "2022-03-06T22:07:37.037Z"
   },
   {
    "duration": 428,
    "start_time": "2022-03-06T22:08:59.930Z"
   },
   {
    "duration": 410,
    "start_time": "2022-03-06T22:10:36.934Z"
   },
   {
    "duration": 293,
    "start_time": "2022-03-06T22:10:57.983Z"
   },
   {
    "duration": 5641,
    "start_time": "2022-03-06T22:12:58.083Z"
   },
   {
    "duration": 165,
    "start_time": "2022-03-06T22:13:52.990Z"
   },
   {
    "duration": 33,
    "start_time": "2022-03-06T22:18:15.938Z"
   },
   {
    "duration": 34,
    "start_time": "2022-03-06T22:18:26.717Z"
   },
   {
    "duration": 25,
    "start_time": "2022-03-06T22:18:56.473Z"
   },
   {
    "duration": 15,
    "start_time": "2022-03-06T22:20:22.103Z"
   },
   {
    "duration": 230,
    "start_time": "2022-03-06T22:20:40.783Z"
   },
   {
    "duration": 10,
    "start_time": "2022-03-06T22:21:14.093Z"
   },
   {
    "duration": 234,
    "start_time": "2022-03-06T22:21:34.559Z"
   },
   {
    "duration": 226,
    "start_time": "2022-03-06T22:21:47.412Z"
   },
   {
    "duration": 222,
    "start_time": "2022-03-06T22:22:06.166Z"
   },
   {
    "duration": 16,
    "start_time": "2022-03-06T22:24:18.839Z"
   },
   {
    "duration": 201,
    "start_time": "2022-03-06T22:35:23.945Z"
   },
   {
    "duration": 232,
    "start_time": "2022-03-06T22:37:00.116Z"
   },
   {
    "duration": 196,
    "start_time": "2022-03-06T22:37:03.441Z"
   },
   {
    "duration": 189,
    "start_time": "2022-03-06T22:38:24.958Z"
   },
   {
    "duration": 23,
    "start_time": "2022-03-06T22:40:23.672Z"
   },
   {
    "duration": 14,
    "start_time": "2022-03-06T22:40:24.361Z"
   },
   {
    "duration": 265,
    "start_time": "2022-03-06T22:50:55.225Z"
   },
   {
    "duration": 27,
    "start_time": "2022-03-06T22:51:18.341Z"
   },
   {
    "duration": 36,
    "start_time": "2022-03-06T22:51:24.040Z"
   },
   {
    "duration": 27,
    "start_time": "2022-03-06T22:59:59.087Z"
   },
   {
    "duration": 42,
    "start_time": "2022-03-06T23:00:11.000Z"
   },
   {
    "duration": 25,
    "start_time": "2022-03-06T23:02:14.329Z"
   },
   {
    "duration": 200,
    "start_time": "2022-03-06T23:02:37.763Z"
   },
   {
    "duration": 32,
    "start_time": "2022-03-06T23:23:45.409Z"
   },
   {
    "duration": 5,
    "start_time": "2022-03-07T10:57:02.007Z"
   },
   {
    "duration": 2048,
    "start_time": "2022-03-07T10:57:08.047Z"
   },
   {
    "duration": 5,
    "start_time": "2022-03-07T10:57:10.098Z"
   },
   {
    "duration": 45,
    "start_time": "2022-03-07T10:57:10.106Z"
   },
   {
    "duration": 50,
    "start_time": "2022-03-07T10:57:10.154Z"
   },
   {
    "duration": 32,
    "start_time": "2022-03-07T10:57:10.207Z"
   },
   {
    "duration": 68,
    "start_time": "2022-03-07T10:57:10.242Z"
   },
   {
    "duration": 35,
    "start_time": "2022-03-07T10:57:10.313Z"
   },
   {
    "duration": 22,
    "start_time": "2022-03-07T10:57:10.376Z"
   },
   {
    "duration": 25,
    "start_time": "2022-03-07T10:57:10.401Z"
   },
   {
    "duration": 60,
    "start_time": "2022-03-07T10:57:10.429Z"
   },
   {
    "duration": 12,
    "start_time": "2022-03-07T10:57:10.492Z"
   },
   {
    "duration": 13,
    "start_time": "2022-03-07T10:57:10.506Z"
   },
   {
    "duration": 90,
    "start_time": "2022-03-07T10:57:10.522Z"
   },
   {
    "duration": 45,
    "start_time": "2022-03-07T10:57:10.614Z"
   },
   {
    "duration": 37,
    "start_time": "2022-03-07T10:57:10.674Z"
   },
   {
    "duration": 15,
    "start_time": "2022-03-07T10:57:10.713Z"
   },
   {
    "duration": 70,
    "start_time": "2022-03-07T10:57:10.730Z"
   },
   {
    "duration": 16,
    "start_time": "2022-03-07T10:57:10.802Z"
   },
   {
    "duration": 123,
    "start_time": "2022-03-07T10:57:10.821Z"
   },
   {
    "duration": 41,
    "start_time": "2022-03-07T10:57:10.947Z"
   },
   {
    "duration": 43,
    "start_time": "2022-03-07T10:57:10.991Z"
   },
   {
    "duration": 53,
    "start_time": "2022-03-07T10:57:11.037Z"
   },
   {
    "duration": 34,
    "start_time": "2022-03-07T10:57:11.097Z"
   },
   {
    "duration": 73,
    "start_time": "2022-03-07T10:57:11.135Z"
   },
   {
    "duration": 28,
    "start_time": "2022-03-07T10:57:11.211Z"
   },
   {
    "duration": 36,
    "start_time": "2022-03-07T10:57:11.242Z"
   },
   {
    "duration": 20,
    "start_time": "2022-03-07T10:57:11.280Z"
   },
   {
    "duration": 75,
    "start_time": "2022-03-07T10:57:11.303Z"
   },
   {
    "duration": 9,
    "start_time": "2022-03-07T10:57:11.381Z"
   },
   {
    "duration": 16,
    "start_time": "2022-03-07T10:57:11.393Z"
   },
   {
    "duration": 745,
    "start_time": "2022-03-07T10:57:11.412Z"
   },
   {
    "duration": 26,
    "start_time": "2022-03-07T10:57:12.159Z"
   },
   {
    "duration": 15,
    "start_time": "2022-03-07T10:57:12.188Z"
   },
   {
    "duration": 40,
    "start_time": "2022-03-07T10:58:03.675Z"
   },
   {
    "duration": 337,
    "start_time": "2022-03-07T10:58:42.952Z"
   },
   {
    "duration": 367,
    "start_time": "2022-03-07T11:02:16.972Z"
   },
   {
    "duration": 87,
    "start_time": "2022-03-07T11:04:37.372Z"
   },
   {
    "duration": 518,
    "start_time": "2022-03-07T11:05:26.210Z"
   },
   {
    "duration": 449,
    "start_time": "2022-03-07T11:05:55.114Z"
   },
   {
    "duration": 281,
    "start_time": "2022-03-07T11:06:01.584Z"
   },
   {
    "duration": 253,
    "start_time": "2022-03-07T11:06:21.086Z"
   },
   {
    "duration": 600,
    "start_time": "2022-03-07T11:06:28.930Z"
   },
   {
    "duration": 488,
    "start_time": "2022-03-07T11:07:22.824Z"
   },
   {
    "duration": 4,
    "start_time": "2022-03-07T11:08:10.949Z"
   },
   {
    "duration": 320,
    "start_time": "2022-03-07T11:08:13.843Z"
   },
   {
    "duration": 771,
    "start_time": "2022-03-07T11:10:08.934Z"
   },
   {
    "duration": 5,
    "start_time": "2022-03-07T11:10:09.709Z"
   },
   {
    "duration": 55,
    "start_time": "2022-03-07T11:10:09.718Z"
   },
   {
    "duration": 47,
    "start_time": "2022-03-07T11:10:09.776Z"
   },
   {
    "duration": 63,
    "start_time": "2022-03-07T11:10:09.826Z"
   },
   {
    "duration": 50,
    "start_time": "2022-03-07T11:10:09.892Z"
   },
   {
    "duration": 55,
    "start_time": "2022-03-07T11:10:09.945Z"
   },
   {
    "duration": 26,
    "start_time": "2022-03-07T11:10:10.003Z"
   },
   {
    "duration": 58,
    "start_time": "2022-03-07T11:10:10.034Z"
   },
   {
    "duration": 23,
    "start_time": "2022-03-07T11:10:10.095Z"
   },
   {
    "duration": 15,
    "start_time": "2022-03-07T11:10:10.121Z"
   },
   {
    "duration": 36,
    "start_time": "2022-03-07T11:10:10.140Z"
   },
   {
    "duration": 107,
    "start_time": "2022-03-07T11:10:10.179Z"
   },
   {
    "duration": 45,
    "start_time": "2022-03-07T11:10:10.289Z"
   },
   {
    "duration": 57,
    "start_time": "2022-03-07T11:10:10.337Z"
   },
   {
    "duration": 15,
    "start_time": "2022-03-07T11:10:10.397Z"
   },
   {
    "duration": 70,
    "start_time": "2022-03-07T11:10:10.414Z"
   },
   {
    "duration": 14,
    "start_time": "2022-03-07T11:10:10.487Z"
   },
   {
    "duration": 122,
    "start_time": "2022-03-07T11:10:10.504Z"
   },
   {
    "duration": 45,
    "start_time": "2022-03-07T11:10:10.629Z"
   },
   {
    "duration": 37,
    "start_time": "2022-03-07T11:10:10.677Z"
   },
   {
    "duration": 24,
    "start_time": "2022-03-07T11:10:10.717Z"
   },
   {
    "duration": 63,
    "start_time": "2022-03-07T11:10:10.743Z"
   },
   {
    "duration": 75,
    "start_time": "2022-03-07T11:10:10.809Z"
   },
   {
    "duration": 27,
    "start_time": "2022-03-07T11:10:10.888Z"
   },
   {
    "duration": 6,
    "start_time": "2022-03-07T11:10:10.917Z"
   },
   {
    "duration": 49,
    "start_time": "2022-03-07T11:10:10.928Z"
   },
   {
    "duration": 47,
    "start_time": "2022-03-07T11:10:10.979Z"
   },
   {
    "duration": 12,
    "start_time": "2022-03-07T11:10:11.029Z"
   },
   {
    "duration": 45,
    "start_time": "2022-03-07T11:10:11.044Z"
   },
   {
    "duration": 729,
    "start_time": "2022-03-07T11:10:11.091Z"
   },
   {
    "duration": 22,
    "start_time": "2022-03-07T11:10:11.822Z"
   },
   {
    "duration": 7,
    "start_time": "2022-03-07T11:10:11.847Z"
   },
   {
    "duration": 44,
    "start_time": "2022-03-07T11:10:11.874Z"
   },
   {
    "duration": 4,
    "start_time": "2022-03-07T11:10:11.920Z"
   },
   {
    "duration": 63,
    "start_time": "2022-03-07T11:10:11.927Z"
   },
   {
    "duration": 349,
    "start_time": "2022-03-07T11:10:11.993Z"
   },
   {
    "duration": 259,
    "start_time": "2022-03-07T11:10:12.345Z"
   },
   {
    "duration": -1719,
    "start_time": "2022-03-07T11:10:14.325Z"
   },
   {
    "duration": -1722,
    "start_time": "2022-03-07T11:10:14.330Z"
   },
   {
    "duration": 4,
    "start_time": "2022-03-07T11:10:28.378Z"
   },
   {
    "duration": 361,
    "start_time": "2022-03-07T11:10:31.436Z"
   },
   {
    "duration": 4,
    "start_time": "2022-03-07T11:11:07.672Z"
   },
   {
    "duration": 308,
    "start_time": "2022-03-07T11:12:41.652Z"
   },
   {
    "duration": 5,
    "start_time": "2022-03-07T11:12:56.756Z"
   },
   {
    "duration": 50,
    "start_time": "2022-03-07T11:13:05.623Z"
   },
   {
    "duration": 308,
    "start_time": "2022-03-07T11:13:11.045Z"
   },
   {
    "duration": 49,
    "start_time": "2022-03-07T11:14:25.487Z"
   },
   {
    "duration": 49,
    "start_time": "2022-03-07T11:14:34.993Z"
   },
   {
    "duration": 5,
    "start_time": "2022-03-07T11:15:14.202Z"
   },
   {
    "duration": 872,
    "start_time": "2022-03-07T11:15:15.701Z"
   },
   {
    "duration": 5,
    "start_time": "2022-03-07T11:25:02.356Z"
   },
   {
    "duration": 333,
    "start_time": "2022-03-07T11:25:03.104Z"
   },
   {
    "duration": 4,
    "start_time": "2022-03-07T11:25:44.891Z"
   },
   {
    "duration": 336,
    "start_time": "2022-03-07T11:25:45.617Z"
   },
   {
    "duration": 4,
    "start_time": "2022-03-07T11:27:20.166Z"
   },
   {
    "duration": 327,
    "start_time": "2022-03-07T11:27:21.094Z"
   },
   {
    "duration": 349,
    "start_time": "2022-03-07T11:27:38.102Z"
   },
   {
    "duration": 317,
    "start_time": "2022-03-07T11:27:55.653Z"
   },
   {
    "duration": 38,
    "start_time": "2022-03-07T11:28:02.257Z"
   },
   {
    "duration": 115,
    "start_time": "2022-03-07T11:41:05.997Z"
   },
   {
    "duration": 324,
    "start_time": "2022-03-07T13:07:00.221Z"
   },
   {
    "duration": 45,
    "start_time": "2022-03-07T13:22:24.611Z"
   },
   {
    "duration": 15,
    "start_time": "2022-03-07T13:29:23.803Z"
   },
   {
    "duration": 14,
    "start_time": "2022-03-07T13:29:45.307Z"
   },
   {
    "duration": 23,
    "start_time": "2022-03-07T13:36:10.357Z"
   },
   {
    "duration": 27,
    "start_time": "2022-03-07T13:36:26.509Z"
   },
   {
    "duration": 25,
    "start_time": "2022-03-07T13:36:36.823Z"
   },
   {
    "duration": 16,
    "start_time": "2022-03-07T13:45:58.637Z"
   },
   {
    "duration": 11,
    "start_time": "2022-03-07T13:46:18.006Z"
   },
   {
    "duration": 10,
    "start_time": "2022-03-07T13:46:25.022Z"
   },
   {
    "duration": 40,
    "start_time": "2022-03-07T13:47:36.339Z"
   },
   {
    "duration": 7,
    "start_time": "2022-03-07T13:49:16.572Z"
   },
   {
    "duration": 4,
    "start_time": "2022-03-07T14:59:39.339Z"
   },
   {
    "duration": 69,
    "start_time": "2022-03-07T14:59:40.261Z"
   },
   {
    "duration": 4,
    "start_time": "2022-03-07T15:00:15.837Z"
   },
   {
    "duration": 66,
    "start_time": "2022-03-07T15:00:16.959Z"
   },
   {
    "duration": 118,
    "start_time": "2022-03-07T15:00:27.135Z"
   },
   {
    "duration": 61,
    "start_time": "2022-03-07T15:00:27.886Z"
   },
   {
    "duration": 110,
    "start_time": "2022-03-07T15:01:04.745Z"
   },
   {
    "duration": 67,
    "start_time": "2022-03-07T15:01:05.691Z"
   },
   {
    "duration": 4,
    "start_time": "2022-03-07T15:01:26.367Z"
   },
   {
    "duration": 62,
    "start_time": "2022-03-07T15:01:27.375Z"
   },
   {
    "duration": 90,
    "start_time": "2022-03-07T15:01:41.549Z"
   },
   {
    "duration": 65,
    "start_time": "2022-03-07T15:01:46.014Z"
   },
   {
    "duration": 4,
    "start_time": "2022-03-07T15:01:58.817Z"
   },
   {
    "duration": 65,
    "start_time": "2022-03-07T15:01:59.876Z"
   },
   {
    "duration": 4,
    "start_time": "2022-03-07T15:02:35.560Z"
   },
   {
    "duration": 98,
    "start_time": "2022-03-07T15:02:36.224Z"
   },
   {
    "duration": 5,
    "start_time": "2022-03-07T15:02:52.223Z"
   },
   {
    "duration": 4,
    "start_time": "2022-03-07T15:03:21.267Z"
   },
   {
    "duration": 69,
    "start_time": "2022-03-07T15:03:25.137Z"
   },
   {
    "duration": 4,
    "start_time": "2022-03-07T15:03:32.820Z"
   },
   {
    "duration": 66,
    "start_time": "2022-03-07T15:04:13.607Z"
   },
   {
    "duration": 43,
    "start_time": "2022-03-07T15:04:41.668Z"
   },
   {
    "duration": 60,
    "start_time": "2022-03-07T15:04:48.918Z"
   },
   {
    "duration": 44,
    "start_time": "2022-03-07T15:05:47.570Z"
   },
   {
    "duration": 1885,
    "start_time": "2022-03-07T15:06:08.778Z"
   },
   {
    "duration": 4,
    "start_time": "2022-03-07T15:06:10.666Z"
   },
   {
    "duration": 75,
    "start_time": "2022-03-07T15:06:10.673Z"
   },
   {
    "duration": 82,
    "start_time": "2022-03-07T15:06:10.751Z"
   },
   {
    "duration": 61,
    "start_time": "2022-03-07T15:06:10.835Z"
   },
   {
    "duration": 79,
    "start_time": "2022-03-07T15:06:10.899Z"
   },
   {
    "duration": 38,
    "start_time": "2022-03-07T15:06:10.981Z"
   },
   {
    "duration": 21,
    "start_time": "2022-03-07T15:06:11.022Z"
   },
   {
    "duration": 11,
    "start_time": "2022-03-07T15:06:11.076Z"
   },
   {
    "duration": 13,
    "start_time": "2022-03-07T15:06:11.090Z"
   },
   {
    "duration": 89,
    "start_time": "2022-03-07T15:06:11.105Z"
   },
   {
    "duration": 48,
    "start_time": "2022-03-07T15:06:11.196Z"
   },
   {
    "duration": 58,
    "start_time": "2022-03-07T15:06:11.246Z"
   },
   {
    "duration": 15,
    "start_time": "2022-03-07T15:06:11.307Z"
   },
   {
    "duration": 73,
    "start_time": "2022-03-07T15:06:11.325Z"
   },
   {
    "duration": 17,
    "start_time": "2022-03-07T15:06:11.400Z"
   },
   {
    "duration": 142,
    "start_time": "2022-03-07T15:06:11.419Z"
   },
   {
    "duration": 35,
    "start_time": "2022-03-07T15:06:11.563Z"
   },
   {
    "duration": 44,
    "start_time": "2022-03-07T15:06:11.601Z"
   },
   {
    "duration": 46,
    "start_time": "2022-03-07T15:06:11.648Z"
   },
   {
    "duration": 32,
    "start_time": "2022-03-07T15:06:11.696Z"
   },
   {
    "duration": 70,
    "start_time": "2022-03-07T15:06:11.730Z"
   },
   {
    "duration": 24,
    "start_time": "2022-03-07T15:06:11.802Z"
   },
   {
    "duration": 6,
    "start_time": "2022-03-07T15:06:11.828Z"
   },
   {
    "duration": 46,
    "start_time": "2022-03-07T15:06:11.837Z"
   },
   {
    "duration": 30,
    "start_time": "2022-03-07T15:06:11.885Z"
   },
   {
    "duration": 9,
    "start_time": "2022-03-07T15:06:11.920Z"
   },
   {
    "duration": 42,
    "start_time": "2022-03-07T15:06:11.932Z"
   },
   {
    "duration": 766,
    "start_time": "2022-03-07T15:06:11.977Z"
   },
   {
    "duration": 30,
    "start_time": "2022-03-07T15:06:12.745Z"
   },
   {
    "duration": 45,
    "start_time": "2022-03-07T15:06:12.777Z"
   },
   {
    "duration": 4,
    "start_time": "2022-03-07T15:06:12.825Z"
   },
   {
    "duration": 395,
    "start_time": "2022-03-07T15:06:12.831Z"
   },
   {
    "duration": 366,
    "start_time": "2022-03-07T15:06:13.229Z"
   },
   {
    "duration": 352,
    "start_time": "2022-03-07T15:06:13.597Z"
   },
   {
    "duration": 356,
    "start_time": "2022-03-07T15:06:13.951Z"
   },
   {
    "duration": 37,
    "start_time": "2022-03-07T15:06:14.310Z"
   },
   {
    "duration": 36,
    "start_time": "2022-03-07T15:06:14.349Z"
   },
   {
    "duration": 27,
    "start_time": "2022-03-07T15:06:14.388Z"
   },
   {
    "duration": 11,
    "start_time": "2022-03-07T15:06:14.417Z"
   },
   {
    "duration": 44,
    "start_time": "2022-03-07T15:06:14.431Z"
   },
   {
    "duration": 37,
    "start_time": "2022-03-07T15:06:14.477Z"
   },
   {
    "duration": 7,
    "start_time": "2022-03-07T15:06:14.517Z"
   },
   {
    "duration": 30,
    "start_time": "2022-03-07T15:15:39.538Z"
   },
   {
    "duration": 29,
    "start_time": "2022-03-07T15:16:00.560Z"
   },
   {
    "duration": 1899,
    "start_time": "2022-03-07T15:17:26.606Z"
   },
   {
    "duration": 5,
    "start_time": "2022-03-07T15:17:28.508Z"
   },
   {
    "duration": 96,
    "start_time": "2022-03-07T15:17:28.516Z"
   },
   {
    "duration": 85,
    "start_time": "2022-03-07T15:17:28.615Z"
   },
   {
    "duration": 40,
    "start_time": "2022-03-07T15:17:28.703Z"
   },
   {
    "duration": 78,
    "start_time": "2022-03-07T15:17:28.745Z"
   },
   {
    "duration": 63,
    "start_time": "2022-03-07T15:17:28.826Z"
   },
   {
    "duration": 9,
    "start_time": "2022-03-07T15:17:28.893Z"
   },
   {
    "duration": 14,
    "start_time": "2022-03-07T15:17:28.905Z"
   },
   {
    "duration": 12,
    "start_time": "2022-03-07T15:17:28.921Z"
   },
   {
    "duration": 4,
    "start_time": "2022-03-07T15:17:34.586Z"
   },
   {
    "duration": 63,
    "start_time": "2022-03-07T15:18:04.810Z"
   },
   {
    "duration": 46,
    "start_time": "2022-03-07T15:18:54.906Z"
   },
   {
    "duration": 37,
    "start_time": "2022-03-07T15:19:16.337Z"
   },
   {
    "duration": 649,
    "start_time": "2022-03-07T15:20:08.188Z"
   },
   {
    "duration": 11,
    "start_time": "2022-03-07T15:20:17.238Z"
   },
   {
    "duration": 19,
    "start_time": "2022-03-07T15:20:39.463Z"
   },
   {
    "duration": 11,
    "start_time": "2022-03-07T15:21:09.838Z"
   },
   {
    "duration": 11,
    "start_time": "2022-03-07T15:21:15.664Z"
   },
   {
    "duration": 42,
    "start_time": "2022-03-07T15:25:34.475Z"
   },
   {
    "duration": 16,
    "start_time": "2022-03-07T15:26:55.491Z"
   },
   {
    "duration": 97,
    "start_time": "2022-03-07T16:17:49.226Z"
   },
   {
    "duration": 88,
    "start_time": "2022-03-07T16:18:05.268Z"
   },
   {
    "duration": 87,
    "start_time": "2022-03-07T16:18:10.010Z"
   },
   {
    "duration": 29,
    "start_time": "2022-03-07T16:19:27.849Z"
   },
   {
    "duration": 31,
    "start_time": "2022-03-07T16:19:32.148Z"
   },
   {
    "duration": 42,
    "start_time": "2022-03-07T16:21:22.033Z"
   },
   {
    "duration": 34,
    "start_time": "2022-03-07T16:21:34.689Z"
   },
   {
    "duration": 25,
    "start_time": "2022-03-07T16:23:12.037Z"
   },
   {
    "duration": 20,
    "start_time": "2022-03-07T16:24:06.061Z"
   },
   {
    "duration": 27,
    "start_time": "2022-03-07T16:24:10.841Z"
   },
   {
    "duration": 1931,
    "start_time": "2022-03-07T16:24:40.651Z"
   },
   {
    "duration": 5,
    "start_time": "2022-03-07T16:24:42.585Z"
   },
   {
    "duration": 89,
    "start_time": "2022-03-07T16:24:42.593Z"
   },
   {
    "duration": 90,
    "start_time": "2022-03-07T16:24:42.685Z"
   },
   {
    "duration": 41,
    "start_time": "2022-03-07T16:24:42.777Z"
   },
   {
    "duration": 91,
    "start_time": "2022-03-07T16:24:42.821Z"
   },
   {
    "duration": 67,
    "start_time": "2022-03-07T16:24:42.914Z"
   },
   {
    "duration": 11,
    "start_time": "2022-03-07T16:24:42.984Z"
   },
   {
    "duration": 101,
    "start_time": "2022-03-07T16:24:42.998Z"
   },
   {
    "duration": 309,
    "start_time": "2022-03-07T16:24:43.102Z"
   },
   {
    "duration": 170,
    "start_time": "2022-03-07T16:24:43.414Z"
   },
   {
    "duration": 72,
    "start_time": "2022-03-07T16:24:43.587Z"
   },
   {
    "duration": 65,
    "start_time": "2022-03-07T16:24:43.662Z"
   },
   {
    "duration": 14,
    "start_time": "2022-03-07T16:24:43.729Z"
   },
   {
    "duration": 35,
    "start_time": "2022-03-07T16:24:43.745Z"
   },
   {
    "duration": 66,
    "start_time": "2022-03-07T16:24:43.782Z"
   },
   {
    "duration": 15,
    "start_time": "2022-03-07T16:24:43.850Z"
   },
   {
    "duration": 97,
    "start_time": "2022-03-07T16:24:43.868Z"
   },
   {
    "duration": 29,
    "start_time": "2022-03-07T16:24:43.968Z"
   },
   {
    "duration": 43,
    "start_time": "2022-03-07T16:24:44.000Z"
   },
   {
    "duration": 25,
    "start_time": "2022-03-07T16:25:15.074Z"
   },
   {
    "duration": 32,
    "start_time": "2022-03-07T16:26:23.262Z"
   },
   {
    "duration": 44,
    "start_time": "2022-03-07T16:27:31.677Z"
   },
   {
    "duration": 25,
    "start_time": "2022-03-07T16:29:04.347Z"
   },
   {
    "duration": 15,
    "start_time": "2022-03-07T16:30:07.256Z"
   },
   {
    "duration": 21,
    "start_time": "2022-03-07T16:30:12.257Z"
   },
   {
    "duration": 31,
    "start_time": "2022-03-07T16:32:31.834Z"
   },
   {
    "duration": 9,
    "start_time": "2022-03-07T16:36:50.189Z"
   },
   {
    "duration": 730,
    "start_time": "2022-03-07T16:36:53.843Z"
   },
   {
    "duration": 22,
    "start_time": "2022-03-07T16:36:57.571Z"
   },
   {
    "duration": 12,
    "start_time": "2022-03-07T16:37:30.688Z"
   },
   {
    "duration": 9,
    "start_time": "2022-03-07T16:37:45.639Z"
   },
   {
    "duration": 23,
    "start_time": "2022-03-07T16:37:49.877Z"
   },
   {
    "duration": 4,
    "start_time": "2022-03-07T16:38:36.132Z"
   },
   {
    "duration": 45,
    "start_time": "2022-03-07T16:51:35.812Z"
   },
   {
    "duration": 5,
    "start_time": "2022-03-07T16:51:47.601Z"
   },
   {
    "duration": 341,
    "start_time": "2022-03-07T16:51:49.856Z"
   },
   {
    "duration": 5,
    "start_time": "2022-03-07T16:53:36.999Z"
   },
   {
    "duration": 1057,
    "start_time": "2022-03-07T16:53:37.849Z"
   },
   {
    "duration": 4,
    "start_time": "2022-03-07T16:54:44.654Z"
   },
   {
    "duration": 348,
    "start_time": "2022-03-07T16:54:47.467Z"
   },
   {
    "duration": 325,
    "start_time": "2022-03-07T17:06:34.756Z"
   },
   {
    "duration": 58,
    "start_time": "2022-03-07T17:12:32.786Z"
   },
   {
    "duration": 53,
    "start_time": "2022-03-07T17:12:55.756Z"
   },
   {
    "duration": 4,
    "start_time": "2022-03-07T17:12:56.556Z"
   },
   {
    "duration": 346,
    "start_time": "2022-03-07T17:13:01.584Z"
   },
   {
    "duration": 408,
    "start_time": "2022-03-07T18:44:43.310Z"
   },
   {
    "duration": 424,
    "start_time": "2022-03-07T18:49:35.169Z"
   },
   {
    "duration": 364,
    "start_time": "2022-03-07T18:51:31.065Z"
   },
   {
    "duration": 38,
    "start_time": "2022-03-07T18:51:48.070Z"
   },
   {
    "duration": 55,
    "start_time": "2022-03-07T20:50:49.224Z"
   },
   {
    "duration": 129,
    "start_time": "2022-03-07T20:51:34.859Z"
   },
   {
    "duration": 5,
    "start_time": "2022-03-07T20:51:35.714Z"
   },
   {
    "duration": 10,
    "start_time": "2022-03-07T21:02:26.307Z"
   },
   {
    "duration": 9,
    "start_time": "2022-03-07T21:02:47.839Z"
   },
   {
    "duration": 1523,
    "start_time": "2022-03-08T09:35:36.380Z"
   },
   {
    "duration": 3,
    "start_time": "2022-03-08T09:35:37.905Z"
   },
   {
    "duration": 64,
    "start_time": "2022-03-08T09:35:37.911Z"
   },
   {
    "duration": 88,
    "start_time": "2022-03-08T09:35:37.978Z"
   },
   {
    "duration": 60,
    "start_time": "2022-03-08T09:35:38.068Z"
   },
   {
    "duration": 75,
    "start_time": "2022-03-08T09:35:38.131Z"
   },
   {
    "duration": 38,
    "start_time": "2022-03-08T09:35:38.210Z"
   },
   {
    "duration": 10,
    "start_time": "2022-03-08T09:35:38.252Z"
   },
   {
    "duration": 43,
    "start_time": "2022-03-08T09:35:38.265Z"
   },
   {
    "duration": 9,
    "start_time": "2022-03-08T09:35:38.310Z"
   },
   {
    "duration": 79,
    "start_time": "2022-03-08T09:35:38.322Z"
   },
   {
    "duration": 34,
    "start_time": "2022-03-08T09:35:38.403Z"
   },
   {
    "duration": 29,
    "start_time": "2022-03-08T09:35:38.438Z"
   },
   {
    "duration": 35,
    "start_time": "2022-03-08T09:35:38.468Z"
   },
   {
    "duration": 12,
    "start_time": "2022-03-08T09:35:38.505Z"
   },
   {
    "duration": 36,
    "start_time": "2022-03-08T09:35:38.519Z"
   },
   {
    "duration": 11,
    "start_time": "2022-03-08T09:35:38.557Z"
   },
   {
    "duration": 87,
    "start_time": "2022-03-08T09:35:38.570Z"
   },
   {
    "duration": 22,
    "start_time": "2022-03-08T09:35:38.659Z"
   },
   {
    "duration": 47,
    "start_time": "2022-03-08T09:35:38.683Z"
   },
   {
    "duration": 18,
    "start_time": "2022-03-08T09:35:38.732Z"
   },
   {
    "duration": 49,
    "start_time": "2022-03-08T09:35:38.752Z"
   },
   {
    "duration": 33,
    "start_time": "2022-03-08T09:35:38.805Z"
   },
   {
    "duration": 18,
    "start_time": "2022-03-08T09:35:38.840Z"
   },
   {
    "duration": 12,
    "start_time": "2022-03-08T09:35:38.860Z"
   },
   {
    "duration": 21,
    "start_time": "2022-03-08T09:35:38.902Z"
   },
   {
    "duration": 12,
    "start_time": "2022-03-08T09:35:38.925Z"
   },
   {
    "duration": 439,
    "start_time": "2022-03-08T09:35:38.939Z"
   },
   {
    "duration": 22,
    "start_time": "2022-03-08T09:35:39.380Z"
   },
   {
    "duration": 5,
    "start_time": "2022-03-08T09:35:39.404Z"
   },
   {
    "duration": 19,
    "start_time": "2022-03-08T09:35:39.411Z"
   },
   {
    "duration": 8,
    "start_time": "2022-03-08T09:35:39.433Z"
   },
   {
    "duration": 30,
    "start_time": "2022-03-08T09:35:39.443Z"
   },
   {
    "duration": 29,
    "start_time": "2022-03-08T09:35:39.475Z"
   },
   {
    "duration": 241,
    "start_time": "2022-03-08T09:35:39.506Z"
   },
   {
    "duration": 225,
    "start_time": "2022-03-08T09:35:39.749Z"
   },
   {
    "duration": 225,
    "start_time": "2022-03-08T09:35:39.976Z"
   },
   {
    "duration": 231,
    "start_time": "2022-03-08T09:35:40.203Z"
   },
   {
    "duration": 28,
    "start_time": "2022-03-08T09:35:40.437Z"
   },
   {
    "duration": 1799,
    "start_time": "2022-03-08T12:54:19.309Z"
   },
   {
    "duration": 4,
    "start_time": "2022-03-08T12:54:21.111Z"
   },
   {
    "duration": 78,
    "start_time": "2022-03-08T12:54:21.118Z"
   },
   {
    "duration": 83,
    "start_time": "2022-03-08T12:54:21.199Z"
   },
   {
    "duration": 38,
    "start_time": "2022-03-08T12:54:21.284Z"
   },
   {
    "duration": 80,
    "start_time": "2022-03-08T12:54:21.324Z"
   },
   {
    "duration": 37,
    "start_time": "2022-03-08T12:54:21.407Z"
   },
   {
    "duration": 12,
    "start_time": "2022-03-08T12:54:21.482Z"
   },
   {
    "duration": 15,
    "start_time": "2022-03-08T12:54:21.500Z"
   },
   {
    "duration": 5,
    "start_time": "2022-03-08T12:54:21.519Z"
   },
   {
    "duration": 89,
    "start_time": "2022-03-08T12:54:21.526Z"
   },
   {
    "duration": 43,
    "start_time": "2022-03-08T12:54:21.617Z"
   },
   {
    "duration": 53,
    "start_time": "2022-03-08T12:54:21.662Z"
   },
   {
    "duration": 11,
    "start_time": "2022-03-08T12:54:21.717Z"
   },
   {
    "duration": 15,
    "start_time": "2022-03-08T12:54:21.730Z"
   },
   {
    "duration": 71,
    "start_time": "2022-03-08T12:54:21.748Z"
   },
   {
    "duration": 13,
    "start_time": "2022-03-08T12:54:21.822Z"
   },
   {
    "duration": 104,
    "start_time": "2022-03-08T12:54:21.838Z"
   },
   {
    "duration": 40,
    "start_time": "2022-03-08T12:54:21.944Z"
   },
   {
    "duration": 34,
    "start_time": "2022-03-08T12:54:21.986Z"
   },
   {
    "duration": 23,
    "start_time": "2022-03-08T12:54:22.022Z"
   },
   {
    "duration": 56,
    "start_time": "2022-03-08T12:54:22.047Z"
   },
   {
    "duration": 40,
    "start_time": "2022-03-08T12:54:22.105Z"
   },
   {
    "duration": 52,
    "start_time": "2022-03-08T12:54:22.148Z"
   },
   {
    "duration": 19,
    "start_time": "2022-03-08T12:54:22.203Z"
   },
   {
    "duration": 31,
    "start_time": "2022-03-08T12:54:22.224Z"
   },
   {
    "duration": 28,
    "start_time": "2022-03-08T12:54:22.259Z"
   },
   {
    "duration": 716,
    "start_time": "2022-03-08T12:54:22.289Z"
   },
   {
    "duration": 19,
    "start_time": "2022-03-08T12:54:23.007Z"
   },
   {
    "duration": 8,
    "start_time": "2022-03-08T12:54:23.029Z"
   },
   {
    "duration": 489,
    "start_time": "2022-03-08T12:55:55.042Z"
   },
   {
    "duration": 4,
    "start_time": "2022-03-08T12:55:55.533Z"
   },
   {
    "duration": 67,
    "start_time": "2022-03-08T12:55:55.540Z"
   },
   {
    "duration": 81,
    "start_time": "2022-03-08T12:55:55.610Z"
   },
   {
    "duration": 37,
    "start_time": "2022-03-08T12:55:55.694Z"
   },
   {
    "duration": 77,
    "start_time": "2022-03-08T12:55:55.734Z"
   },
   {
    "duration": 37,
    "start_time": "2022-03-08T12:55:55.813Z"
   },
   {
    "duration": 9,
    "start_time": "2022-03-08T12:55:55.884Z"
   },
   {
    "duration": 13,
    "start_time": "2022-03-08T12:55:55.897Z"
   },
   {
    "duration": 5,
    "start_time": "2022-03-08T12:55:55.913Z"
   },
   {
    "duration": 78,
    "start_time": "2022-03-08T12:55:55.920Z"
   },
   {
    "duration": 44,
    "start_time": "2022-03-08T12:55:56.000Z"
   },
   {
    "duration": 55,
    "start_time": "2022-03-08T12:55:56.047Z"
   },
   {
    "duration": 11,
    "start_time": "2022-03-08T12:55:56.104Z"
   },
   {
    "duration": 13,
    "start_time": "2022-03-08T12:55:56.118Z"
   },
   {
    "duration": 73,
    "start_time": "2022-03-08T12:55:56.133Z"
   },
   {
    "duration": 14,
    "start_time": "2022-03-08T12:55:56.209Z"
   },
   {
    "duration": 104,
    "start_time": "2022-03-08T12:55:56.226Z"
   },
   {
    "duration": 28,
    "start_time": "2022-03-08T12:55:56.334Z"
   },
   {
    "duration": 31,
    "start_time": "2022-03-08T12:55:56.383Z"
   },
   {
    "duration": 22,
    "start_time": "2022-03-08T12:55:56.417Z"
   },
   {
    "duration": 61,
    "start_time": "2022-03-08T12:55:56.441Z"
   },
   {
    "duration": 37,
    "start_time": "2022-03-08T12:55:56.507Z"
   },
   {
    "duration": 44,
    "start_time": "2022-03-08T12:55:56.547Z"
   },
   {
    "duration": 15,
    "start_time": "2022-03-08T12:55:56.594Z"
   },
   {
    "duration": 30,
    "start_time": "2022-03-08T12:55:56.612Z"
   },
   {
    "duration": 39,
    "start_time": "2022-03-08T12:55:56.644Z"
   },
   {
    "duration": 715,
    "start_time": "2022-03-08T12:55:56.686Z"
   },
   {
    "duration": 21,
    "start_time": "2022-03-08T12:55:57.404Z"
   },
   {
    "duration": 13,
    "start_time": "2022-03-08T12:55:57.427Z"
   },
   {
    "duration": 18,
    "start_time": "2022-03-08T12:55:57.442Z"
   },
   {
    "duration": 24,
    "start_time": "2022-03-08T12:55:57.463Z"
   },
   {
    "duration": 40,
    "start_time": "2022-03-08T12:55:57.490Z"
   },
   {
    "duration": 4,
    "start_time": "2022-03-08T12:55:57.533Z"
   },
   {
    "duration": 359,
    "start_time": "2022-03-08T12:55:57.539Z"
   },
   {
    "duration": 336,
    "start_time": "2022-03-08T12:55:57.900Z"
   },
   {
    "duration": 327,
    "start_time": "2022-03-08T12:55:58.238Z"
   },
   {
    "duration": 372,
    "start_time": "2022-03-08T12:55:58.569Z"
   },
   {
    "duration": 50,
    "start_time": "2022-03-08T12:55:58.943Z"
   },
   {
    "duration": 312,
    "start_time": "2022-03-08T13:02:25.829Z"
   },
   {
    "duration": 563,
    "start_time": "2022-03-08T13:03:21.544Z"
   },
   {
    "duration": 399,
    "start_time": "2022-03-08T13:03:27.227Z"
   },
   {
    "duration": 14,
    "start_time": "2022-03-08T13:19:23.591Z"
   },
   {
    "duration": 14,
    "start_time": "2022-03-08T13:19:31.776Z"
   },
   {
    "duration": 25,
    "start_time": "2022-03-08T13:28:48.317Z"
   },
   {
    "duration": 11,
    "start_time": "2022-03-08T13:30:16.625Z"
   },
   {
    "duration": 10,
    "start_time": "2022-03-08T13:30:18.480Z"
   },
   {
    "duration": 38,
    "start_time": "2022-03-08T13:31:11.223Z"
   },
   {
    "duration": 7,
    "start_time": "2022-03-08T13:33:27.264Z"
   },
   {
    "duration": 45,
    "start_time": "2022-03-08T13:40:36.225Z"
   },
   {
    "duration": 1361,
    "start_time": "2022-03-15T19:02:02.388Z"
   },
   {
    "duration": 4,
    "start_time": "2022-03-15T19:02:03.751Z"
   },
   {
    "duration": 58,
    "start_time": "2022-03-15T19:02:03.757Z"
   },
   {
    "duration": 56,
    "start_time": "2022-03-15T19:02:03.817Z"
   },
   {
    "duration": 29,
    "start_time": "2022-03-15T19:02:03.875Z"
   },
   {
    "duration": 57,
    "start_time": "2022-03-15T19:02:03.906Z"
   },
   {
    "duration": 23,
    "start_time": "2022-03-15T19:02:03.964Z"
   },
   {
    "duration": 10,
    "start_time": "2022-03-15T19:02:03.989Z"
   },
   {
    "duration": 17,
    "start_time": "2022-03-15T19:02:04.002Z"
   },
   {
    "duration": 3,
    "start_time": "2022-03-15T19:02:04.037Z"
   },
   {
    "duration": 59,
    "start_time": "2022-03-15T19:02:04.042Z"
   },
   {
    "duration": 31,
    "start_time": "2022-03-15T19:02:04.103Z"
   },
   {
    "duration": 30,
    "start_time": "2022-03-15T19:02:04.138Z"
   },
   {
    "duration": 9,
    "start_time": "2022-03-15T19:02:04.170Z"
   },
   {
    "duration": 30,
    "start_time": "2022-03-15T19:02:04.181Z"
   },
   {
    "duration": 48,
    "start_time": "2022-03-15T19:02:04.213Z"
   },
   {
    "duration": 11,
    "start_time": "2022-03-15T19:02:04.263Z"
   },
   {
    "duration": 75,
    "start_time": "2022-03-15T19:02:04.276Z"
   },
   {
    "duration": 20,
    "start_time": "2022-03-15T19:02:04.353Z"
   },
   {
    "duration": 25,
    "start_time": "2022-03-15T19:02:04.374Z"
   },
   {
    "duration": 39,
    "start_time": "2022-03-15T19:02:04.400Z"
   },
   {
    "duration": 23,
    "start_time": "2022-03-15T19:02:04.441Z"
   },
   {
    "duration": 30,
    "start_time": "2022-03-15T19:02:04.467Z"
   },
   {
    "duration": 14,
    "start_time": "2022-03-15T19:02:04.499Z"
   },
   {
    "duration": 31,
    "start_time": "2022-03-15T19:02:04.515Z"
   },
   {
    "duration": 29,
    "start_time": "2022-03-15T19:02:04.548Z"
   },
   {
    "duration": 7,
    "start_time": "2022-03-15T19:02:04.579Z"
   },
   {
    "duration": 424,
    "start_time": "2022-03-15T19:02:04.587Z"
   },
   {
    "duration": 14,
    "start_time": "2022-03-15T19:02:05.013Z"
   },
   {
    "duration": 12,
    "start_time": "2022-03-15T19:02:05.029Z"
   },
   {
    "duration": 17,
    "start_time": "2022-03-15T19:02:05.042Z"
   },
   {
    "duration": 19,
    "start_time": "2022-03-15T19:02:05.061Z"
   },
   {
    "duration": 34,
    "start_time": "2022-03-15T19:02:05.081Z"
   },
   {
    "duration": 2,
    "start_time": "2022-03-15T19:02:05.117Z"
   },
   {
    "duration": 226,
    "start_time": "2022-03-15T19:02:05.121Z"
   },
   {
    "duration": 212,
    "start_time": "2022-03-15T19:02:05.349Z"
   },
   {
    "duration": 226,
    "start_time": "2022-03-15T19:02:05.563Z"
   },
   {
    "duration": 205,
    "start_time": "2022-03-15T19:02:05.790Z"
   },
   {
    "duration": 42,
    "start_time": "2022-03-15T19:02:05.996Z"
   },
   {
    "duration": 10,
    "start_time": "2022-03-15T19:02:06.040Z"
   },
   {
    "duration": 19,
    "start_time": "2022-03-15T19:02:06.052Z"
   },
   {
    "duration": 7,
    "start_time": "2022-03-15T19:02:06.073Z"
   },
   {
    "duration": 45,
    "start_time": "2022-03-15T19:02:06.082Z"
   },
   {
    "duration": 31,
    "start_time": "2022-03-15T19:02:06.129Z"
   },
   {
    "duration": 4,
    "start_time": "2022-03-15T19:02:06.162Z"
   },
   {
    "duration": 14,
    "start_time": "2022-03-15T19:06:29.664Z"
   },
   {
    "duration": 1619,
    "start_time": "2022-03-15T20:57:00.677Z"
   },
   {
    "duration": 5,
    "start_time": "2022-03-15T20:57:02.298Z"
   },
   {
    "duration": 101,
    "start_time": "2022-03-15T20:57:02.306Z"
   },
   {
    "duration": 53,
    "start_time": "2022-03-15T20:57:02.409Z"
   },
   {
    "duration": 52,
    "start_time": "2022-03-15T20:57:02.463Z"
   },
   {
    "duration": 53,
    "start_time": "2022-03-15T20:57:02.517Z"
   },
   {
    "duration": 37,
    "start_time": "2022-03-15T20:57:02.572Z"
   },
   {
    "duration": 48,
    "start_time": "2022-03-15T20:57:02.611Z"
   },
   {
    "duration": 65,
    "start_time": "2022-03-15T20:57:02.662Z"
   },
   {
    "duration": 45,
    "start_time": "2022-03-15T20:57:02.729Z"
   },
   {
    "duration": 106,
    "start_time": "2022-03-15T20:57:02.776Z"
   },
   {
    "duration": 48,
    "start_time": "2022-03-15T20:57:02.884Z"
   },
   {
    "duration": 60,
    "start_time": "2022-03-15T20:57:02.934Z"
   },
   {
    "duration": 12,
    "start_time": "2022-03-15T20:57:02.996Z"
   },
   {
    "duration": 35,
    "start_time": "2022-03-15T20:57:03.010Z"
   },
   {
    "duration": 50,
    "start_time": "2022-03-15T20:57:03.047Z"
   },
   {
    "duration": 12,
    "start_time": "2022-03-15T20:57:03.099Z"
   },
   {
    "duration": 76,
    "start_time": "2022-03-15T20:57:03.113Z"
   },
   {
    "duration": 23,
    "start_time": "2022-03-15T20:57:03.191Z"
   },
   {
    "duration": 27,
    "start_time": "2022-03-15T20:57:03.216Z"
   },
   {
    "duration": 18,
    "start_time": "2022-03-15T20:57:03.245Z"
   },
   {
    "duration": 53,
    "start_time": "2022-03-15T20:57:03.265Z"
   },
   {
    "duration": 34,
    "start_time": "2022-03-15T20:57:03.320Z"
   },
   {
    "duration": 18,
    "start_time": "2022-03-15T20:57:03.356Z"
   },
   {
    "duration": 42,
    "start_time": "2022-03-15T20:57:03.376Z"
   },
   {
    "duration": 27,
    "start_time": "2022-03-15T20:57:03.420Z"
   },
   {
    "duration": 6,
    "start_time": "2022-03-15T20:57:03.451Z"
   },
   {
    "duration": 447,
    "start_time": "2022-03-15T20:57:03.459Z"
   },
   {
    "duration": 16,
    "start_time": "2022-03-15T20:57:03.908Z"
   },
   {
    "duration": 39,
    "start_time": "2022-03-15T20:57:03.926Z"
   },
   {
    "duration": 36,
    "start_time": "2022-03-15T20:57:03.967Z"
   },
   {
    "duration": 24,
    "start_time": "2022-03-15T20:57:04.006Z"
   },
   {
    "duration": 45,
    "start_time": "2022-03-15T20:57:04.033Z"
   },
   {
    "duration": 684,
    "start_time": "2022-03-15T21:01:03.714Z"
   },
   {
    "duration": 498,
    "start_time": "2022-03-15T21:01:16.001Z"
   },
   {
    "duration": 399,
    "start_time": "2022-03-15T21:01:25.231Z"
   },
   {
    "duration": 3,
    "start_time": "2022-03-15T21:01:25.632Z"
   },
   {
    "duration": 62,
    "start_time": "2022-03-15T21:01:25.637Z"
   },
   {
    "duration": 50,
    "start_time": "2022-03-15T21:01:25.701Z"
   },
   {
    "duration": 53,
    "start_time": "2022-03-15T21:01:25.753Z"
   },
   {
    "duration": 39,
    "start_time": "2022-03-15T21:01:25.808Z"
   },
   {
    "duration": 62,
    "start_time": "2022-03-15T21:01:25.849Z"
   },
   {
    "duration": 7,
    "start_time": "2022-03-15T21:01:25.914Z"
   },
   {
    "duration": 15,
    "start_time": "2022-03-15T21:01:25.924Z"
   },
   {
    "duration": 22,
    "start_time": "2022-03-15T21:01:25.941Z"
   },
   {
    "duration": 51,
    "start_time": "2022-03-15T21:01:25.965Z"
   },
   {
    "duration": 32,
    "start_time": "2022-03-15T21:01:26.018Z"
   },
   {
    "duration": 27,
    "start_time": "2022-03-15T21:01:26.053Z"
   },
   {
    "duration": 9,
    "start_time": "2022-03-15T21:01:26.101Z"
   },
   {
    "duration": 16,
    "start_time": "2022-03-15T21:01:26.113Z"
   },
   {
    "duration": 43,
    "start_time": "2022-03-15T21:01:26.131Z"
   },
   {
    "duration": 32,
    "start_time": "2022-03-15T21:01:26.176Z"
   },
   {
    "duration": 61,
    "start_time": "2022-03-15T21:01:26.210Z"
   },
   {
    "duration": 39,
    "start_time": "2022-03-15T21:01:26.273Z"
   },
   {
    "duration": 24,
    "start_time": "2022-03-15T21:01:26.314Z"
   },
   {
    "duration": 19,
    "start_time": "2022-03-15T21:01:26.340Z"
   },
   {
    "duration": 53,
    "start_time": "2022-03-15T21:01:26.361Z"
   },
   {
    "duration": 29,
    "start_time": "2022-03-15T21:01:26.418Z"
   },
   {
    "duration": 21,
    "start_time": "2022-03-15T21:01:26.449Z"
   },
   {
    "duration": 36,
    "start_time": "2022-03-15T21:01:26.472Z"
   },
   {
    "duration": 23,
    "start_time": "2022-03-15T21:01:26.510Z"
   },
   {
    "duration": 7,
    "start_time": "2022-03-15T21:01:26.536Z"
   },
   {
    "duration": 463,
    "start_time": "2022-03-15T21:01:26.545Z"
   },
   {
    "duration": 15,
    "start_time": "2022-03-15T21:01:27.010Z"
   },
   {
    "duration": 7,
    "start_time": "2022-03-15T21:01:27.027Z"
   },
   {
    "duration": 9,
    "start_time": "2022-03-15T21:01:27.036Z"
   },
   {
    "duration": 18,
    "start_time": "2022-03-15T21:01:27.047Z"
   },
   {
    "duration": 57,
    "start_time": "2022-03-15T21:01:27.066Z"
   },
   {
    "duration": 583,
    "start_time": "2022-03-15T21:01:30.638Z"
   },
   {
    "duration": 612,
    "start_time": "2022-03-15T21:02:36.089Z"
   },
   {
    "duration": 559,
    "start_time": "2022-03-15T21:20:38.127Z"
   },
   {
    "duration": 402,
    "start_time": "2022-03-15T21:37:38.790Z"
   },
   {
    "duration": 3,
    "start_time": "2022-03-15T21:37:39.195Z"
   },
   {
    "duration": 142,
    "start_time": "2022-03-15T21:37:39.200Z"
   },
   {
    "duration": 66,
    "start_time": "2022-03-15T21:37:39.343Z"
   },
   {
    "duration": 34,
    "start_time": "2022-03-15T21:37:39.412Z"
   },
   {
    "duration": 164,
    "start_time": "2022-03-15T21:37:39.449Z"
   },
   {
    "duration": 28,
    "start_time": "2022-03-15T21:37:39.615Z"
   },
   {
    "duration": 142,
    "start_time": "2022-03-15T21:38:52.808Z"
   },
   {
    "duration": 10,
    "start_time": "2022-03-15T21:38:57.183Z"
   },
   {
    "duration": 421,
    "start_time": "2022-03-15T21:45:07.909Z"
   },
   {
    "duration": 3,
    "start_time": "2022-03-15T21:45:08.333Z"
   },
   {
    "duration": 68,
    "start_time": "2022-03-15T21:45:08.338Z"
   },
   {
    "duration": 55,
    "start_time": "2022-03-15T21:45:08.408Z"
   },
   {
    "duration": 56,
    "start_time": "2022-03-15T21:45:08.465Z"
   },
   {
    "duration": 41,
    "start_time": "2022-03-15T21:45:08.524Z"
   },
   {
    "duration": 63,
    "start_time": "2022-03-15T21:45:08.568Z"
   },
   {
    "duration": 175,
    "start_time": "2022-03-15T21:45:08.635Z"
   },
   {
    "duration": 9,
    "start_time": "2022-03-15T21:45:08.813Z"
   },
   {
    "duration": 6,
    "start_time": "2022-03-15T21:45:08.824Z"
   },
   {
    "duration": 49,
    "start_time": "2022-03-15T21:45:08.831Z"
   },
   {
    "duration": 33,
    "start_time": "2022-03-15T21:45:08.901Z"
   },
   {
    "duration": 28,
    "start_time": "2022-03-15T21:45:08.936Z"
   },
   {
    "duration": 8,
    "start_time": "2022-03-15T21:45:08.966Z"
   },
   {
    "duration": 23,
    "start_time": "2022-03-15T21:45:09.002Z"
   },
   {
    "duration": 33,
    "start_time": "2022-03-15T21:45:57.450Z"
   },
   {
    "duration": 13,
    "start_time": "2022-03-15T21:47:00.974Z"
   },
   {
    "duration": 76,
    "start_time": "2022-03-15T21:47:24.996Z"
   },
   {
    "duration": 23,
    "start_time": "2022-03-15T21:47:27.951Z"
   },
   {
    "duration": 22,
    "start_time": "2022-03-15T21:48:09.448Z"
   },
   {
    "duration": 32,
    "start_time": "2022-03-15T21:48:16.635Z"
   },
   {
    "duration": 18,
    "start_time": "2022-03-15T21:48:22.804Z"
   },
   {
    "duration": 25,
    "start_time": "2022-03-15T21:48:40.163Z"
   },
   {
    "duration": 37,
    "start_time": "2022-03-15T21:48:44.504Z"
   },
   {
    "duration": 20,
    "start_time": "2022-03-15T21:49:06.301Z"
   },
   {
    "duration": 15,
    "start_time": "2022-03-15T21:50:00.841Z"
   },
   {
    "duration": 23,
    "start_time": "2022-03-15T21:50:03.807Z"
   },
   {
    "duration": 6,
    "start_time": "2022-03-15T21:50:09.122Z"
   },
   {
    "duration": 440,
    "start_time": "2022-03-15T21:50:15.069Z"
   },
   {
    "duration": 16,
    "start_time": "2022-03-15T21:50:17.926Z"
   },
   {
    "duration": 4,
    "start_time": "2022-03-15T21:55:48.009Z"
   },
   {
    "duration": 8,
    "start_time": "2022-03-15T21:55:51.071Z"
   },
   {
    "duration": 8,
    "start_time": "2022-03-15T21:55:51.705Z"
   },
   {
    "duration": 32,
    "start_time": "2022-03-15T21:55:52.555Z"
   },
   {
    "duration": 619,
    "start_time": "2022-03-15T21:56:02.911Z"
   },
   {
    "duration": 6,
    "start_time": "2022-03-15T21:58:32.979Z"
   },
   {
    "duration": 260,
    "start_time": "2022-03-15T22:00:01.172Z"
   },
   {
    "duration": 4,
    "start_time": "2022-03-15T22:00:57.626Z"
   },
   {
    "duration": 263,
    "start_time": "2022-03-15T22:00:58.597Z"
   },
   {
    "duration": 4,
    "start_time": "2022-03-15T22:04:02.870Z"
   },
   {
    "duration": 5,
    "start_time": "2022-03-15T22:04:17.385Z"
   },
   {
    "duration": 247,
    "start_time": "2022-03-15T22:04:18.171Z"
   },
   {
    "duration": 4,
    "start_time": "2022-03-15T22:04:28.270Z"
   },
   {
    "duration": 244,
    "start_time": "2022-03-15T22:04:30.456Z"
   },
   {
    "duration": 262,
    "start_time": "2022-03-15T22:05:44.985Z"
   },
   {
    "duration": 360,
    "start_time": "2022-03-15T22:06:55.361Z"
   },
   {
    "duration": 252,
    "start_time": "2022-03-15T22:07:52.304Z"
   },
   {
    "duration": 255,
    "start_time": "2022-03-15T22:08:37.749Z"
   },
   {
    "duration": 46,
    "start_time": "2022-03-15T22:10:28.739Z"
   },
   {
    "duration": 12,
    "start_time": "2022-03-15T22:14:05.632Z"
   },
   {
    "duration": 22,
    "start_time": "2022-03-15T22:14:07.429Z"
   },
   {
    "duration": 9,
    "start_time": "2022-03-15T22:14:08.250Z"
   },
   {
    "duration": 8,
    "start_time": "2022-03-15T22:14:09.093Z"
   },
   {
    "duration": 26,
    "start_time": "2022-03-15T22:14:10.688Z"
   },
   {
    "duration": 6,
    "start_time": "2022-03-15T22:14:11.534Z"
   },
   {
    "duration": 271,
    "start_time": "2022-03-15T22:23:06.009Z"
   },
   {
    "duration": 12,
    "start_time": "2022-03-15T22:24:13.221Z"
   },
   {
    "duration": 7,
    "start_time": "2022-03-15T22:30:11.480Z"
   },
   {
    "duration": 7,
    "start_time": "2022-03-15T22:32:13.869Z"
   },
   {
    "duration": 1485,
    "start_time": "2022-03-16T08:47:07.664Z"
   },
   {
    "duration": 3,
    "start_time": "2022-03-16T08:47:09.151Z"
   },
   {
    "duration": 89,
    "start_time": "2022-03-16T08:47:09.155Z"
   },
   {
    "duration": 51,
    "start_time": "2022-03-16T08:47:09.247Z"
   },
   {
    "duration": 34,
    "start_time": "2022-03-16T08:47:09.300Z"
   },
   {
    "duration": 72,
    "start_time": "2022-03-16T08:47:09.336Z"
   },
   {
    "duration": 24,
    "start_time": "2022-03-16T08:47:09.409Z"
   },
   {
    "duration": 160,
    "start_time": "2022-03-16T08:47:09.434Z"
   },
   {
    "duration": 8,
    "start_time": "2022-03-16T08:47:09.597Z"
   },
   {
    "duration": 44,
    "start_time": "2022-03-16T08:47:09.607Z"
   },
   {
    "duration": 68,
    "start_time": "2022-03-16T08:47:09.653Z"
   },
   {
    "duration": 62,
    "start_time": "2022-03-16T08:47:09.723Z"
   },
   {
    "duration": 38,
    "start_time": "2022-03-16T08:47:09.787Z"
   },
   {
    "duration": 40,
    "start_time": "2022-03-16T08:47:09.827Z"
   },
   {
    "duration": 66,
    "start_time": "2022-03-16T08:47:09.868Z"
   },
   {
    "duration": 70,
    "start_time": "2022-03-16T08:47:09.936Z"
   },
   {
    "duration": 54,
    "start_time": "2022-03-16T08:47:10.008Z"
   },
   {
    "duration": 82,
    "start_time": "2022-03-16T08:47:10.064Z"
   },
   {
    "duration": 72,
    "start_time": "2022-03-16T08:47:10.148Z"
   },
   {
    "duration": 49,
    "start_time": "2022-03-16T08:47:10.222Z"
   },
   {
    "duration": 59,
    "start_time": "2022-03-16T08:47:10.273Z"
   },
   {
    "duration": 67,
    "start_time": "2022-03-16T08:47:10.335Z"
   },
   {
    "duration": 37,
    "start_time": "2022-03-16T08:47:10.404Z"
   },
   {
    "duration": 55,
    "start_time": "2022-03-16T08:47:10.443Z"
   },
   {
    "duration": 53,
    "start_time": "2022-03-16T08:47:10.500Z"
   },
   {
    "duration": 44,
    "start_time": "2022-03-16T08:47:10.555Z"
   },
   {
    "duration": 6,
    "start_time": "2022-03-16T08:47:10.603Z"
   },
   {
    "duration": 443,
    "start_time": "2022-03-16T08:47:10.611Z"
   },
   {
    "duration": 17,
    "start_time": "2022-03-16T08:47:11.056Z"
   },
   {
    "duration": 33,
    "start_time": "2022-03-16T08:47:11.075Z"
   },
   {
    "duration": 55,
    "start_time": "2022-03-16T08:47:11.110Z"
   },
   {
    "duration": 18,
    "start_time": "2022-03-16T08:47:11.167Z"
   },
   {
    "duration": 53,
    "start_time": "2022-03-16T08:47:11.187Z"
   },
   {
    "duration": 386,
    "start_time": "2022-03-16T08:47:13.769Z"
   },
   {
    "duration": 628,
    "start_time": "2022-03-16T08:47:28.500Z"
   },
   {
    "duration": 602,
    "start_time": "2022-03-16T08:47:48.741Z"
   },
   {
    "duration": 5,
    "start_time": "2022-03-16T08:48:49.871Z"
   },
   {
    "duration": 434,
    "start_time": "2022-03-16T08:49:41.005Z"
   },
   {
    "duration": 677,
    "start_time": "2022-03-16T08:50:04.086Z"
   },
   {
    "duration": 376,
    "start_time": "2022-03-16T08:50:21.651Z"
   },
   {
    "duration": 550,
    "start_time": "2022-03-16T08:53:00.175Z"
   },
   {
    "duration": 685,
    "start_time": "2022-03-16T08:54:33.454Z"
   },
   {
    "duration": 370,
    "start_time": "2022-03-16T08:54:42.068Z"
   },
   {
    "duration": 360,
    "start_time": "2022-03-16T09:22:12.723Z"
   },
   {
    "duration": 356,
    "start_time": "2022-03-16T09:22:19.781Z"
   },
   {
    "duration": 434,
    "start_time": "2022-03-16T09:22:50.559Z"
   },
   {
    "duration": 346,
    "start_time": "2022-03-16T09:23:27.350Z"
   },
   {
    "duration": 365,
    "start_time": "2022-03-16T09:23:53.139Z"
   },
   {
    "duration": 508,
    "start_time": "2022-03-16T09:25:17.776Z"
   },
   {
    "duration": 356,
    "start_time": "2022-03-16T09:25:27.063Z"
   },
   {
    "duration": 354,
    "start_time": "2022-03-16T09:26:00.269Z"
   },
   {
    "duration": 714,
    "start_time": "2022-03-16T09:27:13.966Z"
   },
   {
    "duration": 702,
    "start_time": "2022-03-16T09:29:51.011Z"
   },
   {
    "duration": 505,
    "start_time": "2022-03-16T09:32:54.702Z"
   },
   {
    "duration": 554,
    "start_time": "2022-03-16T09:33:06.243Z"
   },
   {
    "duration": 382,
    "start_time": "2022-03-16T09:33:19.519Z"
   },
   {
    "duration": 698,
    "start_time": "2022-03-16T09:36:21.466Z"
   },
   {
    "duration": 721,
    "start_time": "2022-03-16T09:36:46.644Z"
   },
   {
    "duration": 812,
    "start_time": "2022-03-16T09:38:54.281Z"
   },
   {
    "duration": 604,
    "start_time": "2022-03-16T09:39:32.868Z"
   },
   {
    "duration": 6,
    "start_time": "2022-03-16T09:41:23.425Z"
   },
   {
    "duration": 1148,
    "start_time": "2022-03-16T09:41:24.639Z"
   },
   {
    "duration": 6,
    "start_time": "2022-03-16T09:41:40.235Z"
   },
   {
    "duration": 827,
    "start_time": "2022-03-16T09:41:41.285Z"
   },
   {
    "duration": 7,
    "start_time": "2022-03-16T09:42:09.481Z"
   },
   {
    "duration": 870,
    "start_time": "2022-03-16T09:42:10.281Z"
   },
   {
    "duration": 6,
    "start_time": "2022-03-16T09:43:02.954Z"
   },
   {
    "duration": 802,
    "start_time": "2022-03-16T09:43:03.550Z"
   },
   {
    "duration": 179,
    "start_time": "2022-03-16T09:43:17.598Z"
   },
   {
    "duration": 836,
    "start_time": "2022-03-16T09:43:18.131Z"
   },
   {
    "duration": 7,
    "start_time": "2022-03-16T09:43:28.423Z"
   },
   {
    "duration": 795,
    "start_time": "2022-03-16T09:43:29.036Z"
   },
   {
    "duration": 8,
    "start_time": "2022-03-16T09:43:48.806Z"
   },
   {
    "duration": 1142,
    "start_time": "2022-03-16T09:43:49.311Z"
   },
   {
    "duration": 6,
    "start_time": "2022-03-16T09:44:01.107Z"
   },
   {
    "duration": 958,
    "start_time": "2022-03-16T09:44:01.795Z"
   },
   {
    "duration": 6,
    "start_time": "2022-03-16T09:44:19.205Z"
   },
   {
    "duration": 6,
    "start_time": "2022-03-16T09:44:23.396Z"
   },
   {
    "duration": 919,
    "start_time": "2022-03-16T09:44:23.923Z"
   },
   {
    "duration": 6,
    "start_time": "2022-03-16T09:44:35.236Z"
   },
   {
    "duration": 908,
    "start_time": "2022-03-16T09:44:36.372Z"
   },
   {
    "duration": 7,
    "start_time": "2022-03-16T09:45:19.329Z"
   },
   {
    "duration": 1027,
    "start_time": "2022-03-16T09:45:20.026Z"
   },
   {
    "duration": 1115,
    "start_time": "2022-03-16T09:47:45.883Z"
   },
   {
    "duration": 33,
    "start_time": "2022-03-16T09:51:29.707Z"
   },
   {
    "duration": 917,
    "start_time": "2022-03-16T09:53:45.612Z"
   },
   {
    "duration": 931,
    "start_time": "2022-03-16T09:54:29.970Z"
   },
   {
    "duration": 1425,
    "start_time": "2022-03-16T09:56:47.314Z"
   },
   {
    "duration": 3,
    "start_time": "2022-03-16T09:56:48.741Z"
   },
   {
    "duration": 54,
    "start_time": "2022-03-16T09:56:48.747Z"
   },
   {
    "duration": 61,
    "start_time": "2022-03-16T09:56:48.803Z"
   },
   {
    "duration": 28,
    "start_time": "2022-03-16T09:56:48.866Z"
   },
   {
    "duration": 31,
    "start_time": "2022-03-16T09:56:48.895Z"
   },
   {
    "duration": 49,
    "start_time": "2022-03-16T09:56:48.928Z"
   },
   {
    "duration": 146,
    "start_time": "2022-03-16T09:56:48.980Z"
   },
   {
    "duration": 8,
    "start_time": "2022-03-16T09:56:49.128Z"
   },
   {
    "duration": 5,
    "start_time": "2022-03-16T09:56:49.137Z"
   },
   {
    "duration": 47,
    "start_time": "2022-03-16T09:56:49.152Z"
   },
   {
    "duration": 30,
    "start_time": "2022-03-16T09:56:49.201Z"
   },
   {
    "duration": 40,
    "start_time": "2022-03-16T09:56:49.233Z"
   },
   {
    "duration": 8,
    "start_time": "2022-03-16T09:56:49.274Z"
   },
   {
    "duration": 16,
    "start_time": "2022-03-16T09:56:49.283Z"
   },
   {
    "duration": 32,
    "start_time": "2022-03-16T09:56:49.301Z"
   },
   {
    "duration": 28,
    "start_time": "2022-03-16T09:56:49.335Z"
   },
   {
    "duration": 72,
    "start_time": "2022-03-16T09:56:49.364Z"
   },
   {
    "duration": 33,
    "start_time": "2022-03-16T09:56:49.438Z"
   },
   {
    "duration": 31,
    "start_time": "2022-03-16T09:56:49.473Z"
   },
   {
    "duration": 17,
    "start_time": "2022-03-16T09:56:49.505Z"
   },
   {
    "duration": 48,
    "start_time": "2022-03-16T09:56:49.523Z"
   },
   {
    "duration": 35,
    "start_time": "2022-03-16T09:56:49.575Z"
   },
   {
    "duration": 17,
    "start_time": "2022-03-16T09:56:49.613Z"
   },
   {
    "duration": 36,
    "start_time": "2022-03-16T09:56:49.632Z"
   },
   {
    "duration": 20,
    "start_time": "2022-03-16T09:56:49.670Z"
   },
   {
    "duration": 6,
    "start_time": "2022-03-16T09:56:49.691Z"
   },
   {
    "duration": 421,
    "start_time": "2022-03-16T09:56:49.699Z"
   },
   {
    "duration": 15,
    "start_time": "2022-03-16T09:56:50.122Z"
   },
   {
    "duration": 7,
    "start_time": "2022-03-16T09:56:50.139Z"
   },
   {
    "duration": 24,
    "start_time": "2022-03-16T09:56:50.148Z"
   },
   {
    "duration": 7,
    "start_time": "2022-03-16T09:56:50.174Z"
   },
   {
    "duration": 43,
    "start_time": "2022-03-16T09:56:50.182Z"
   },
   {
    "duration": 7,
    "start_time": "2022-03-16T09:56:50.226Z"
   },
   {
    "duration": 978,
    "start_time": "2022-03-16T09:56:50.234Z"
   },
   {
    "duration": 998,
    "start_time": "2022-03-16T09:56:51.214Z"
   },
   {
    "duration": 962,
    "start_time": "2022-03-16T09:56:52.214Z"
   },
   {
    "duration": 1045,
    "start_time": "2022-03-16T09:56:53.178Z"
   },
   {
    "duration": 43,
    "start_time": "2022-03-16T09:56:54.224Z"
   },
   {
    "duration": 10,
    "start_time": "2022-03-16T09:56:54.269Z"
   },
   {
    "duration": 5,
    "start_time": "2022-03-16T09:56:54.281Z"
   },
   {
    "duration": 22,
    "start_time": "2022-03-16T09:56:54.287Z"
   },
   {
    "duration": 9,
    "start_time": "2022-03-16T09:56:54.311Z"
   },
   {
    "duration": 8,
    "start_time": "2022-03-16T09:56:54.322Z"
   },
   {
    "duration": 33,
    "start_time": "2022-03-16T09:56:54.331Z"
   },
   {
    "duration": 26,
    "start_time": "2022-03-16T09:56:54.365Z"
   },
   {
    "duration": 5,
    "start_time": "2022-03-16T09:56:54.393Z"
   }
  ],
  "kernelspec": {
   "display_name": "Python 3 (ipykernel)",
   "language": "python",
   "name": "python3"
  },
  "language_info": {
   "codemirror_mode": {
    "name": "ipython",
    "version": 3
   },
   "file_extension": ".py",
   "mimetype": "text/x-python",
   "name": "python",
   "nbconvert_exporter": "python",
   "pygments_lexer": "ipython3",
   "version": "3.9.12"
  },
  "toc": {
   "base_numbering": 1,
   "nav_menu": {},
   "number_sections": true,
   "sideBar": true,
   "skip_h1_title": true,
   "title_cell": "Содержание",
   "title_sidebar": "Содержание",
   "toc_cell": true,
   "toc_position": {
    "height": "calc(100% - 180px)",
    "left": "10px",
    "top": "150px",
    "width": "255.594px"
   },
   "toc_section_display": true,
   "toc_window_display": true
  }
 },
 "nbformat": 4,
 "nbformat_minor": 2
}
